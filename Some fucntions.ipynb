{
 "cells": [
  {
   "cell_type": "code",
   "execution_count": 2,
   "metadata": {},
   "outputs": [],
   "source": [
    "import pandas as pd\n",
    "import os\n",
    "import pickle\n",
    "import matplotlib.pyplot as plt\n",
    "import seaborn as sns\n",
    "import numpy as np\n",
    "import statsmodels.formula.api as sm\n",
    "from sklearn import linear_model, preprocessing\n",
    "from sklearn.metrics import mean_squared_error, r2_score, accuracy_score, mean_absolute_error\n",
    "import time"
   ]
  },
  {
   "cell_type": "code",
   "execution_count": 88,
   "metadata": {},
   "outputs": [],
   "source": [
    "pd.set_option('display.max_columns', 500)"
   ]
  },
  {
   "cell_type": "code",
   "execution_count": 1,
   "metadata": {},
   "outputs": [],
   "source": [
    "import time\n",
    "def timeit(method):\n",
    "    '''A time decorator to time other functions.'''\n",
    "    def timed(*args, **kw):\n",
    "        ts = time.time()\n",
    "        result = method(*args, **kw)\n",
    "        te = time.time()\n",
    "        if 'log_time' in kw:\n",
    "            name = kw.get('log_name', method.__name__.upper())\n",
    "            kw['log_time'][name] = int((te - ts) * 1000)\n",
    "        else:\n",
    "            print ('%r  %2.2f ms' %(method.__name__, (te - ts) * 1000))\n",
    "        return result\n",
    "    return timed"
   ]
  },
  {
   "cell_type": "code",
   "execution_count": 2,
   "metadata": {},
   "outputs": [],
   "source": [
    "import pickle\n",
    "def save_obj(obj, name ):\n",
    "    with open('obj/'+ name + '.pkl', 'wb') as f:\n",
    "        pickle.dump(obj, f, pickle.HIGHEST_PROTOCOL)\n",
    "        \n",
    "def append_obj(obj,name):\n",
    "    with open('obj/'+ name + '.pkl', 'ab') as f:\n",
    "        pickle.dump(obj, f, pickle.HIGHEST_PROTOCOL)\n",
    "        \n",
    "def load_obj(name ):\n",
    "    if name.endswith('.pkl'):\n",
    "        with open('obj/' + name, 'rb') as f:\n",
    "            return pickle.load(f)\n",
    "    with open('obj/' + name + '.pkl', 'rb') as f:\n",
    "        return pickle.load(f)"
   ]
  },
  {
   "cell_type": "markdown",
   "metadata": {},
   "source": [
    "### Train&Predict Class\n",
    "\n",
    "Class that reads in a cleaned df a set of xCols and a target feature. Has methods for MSE, MAE and Variance"
   ]
  },
  {
   "cell_type": "code",
   "execution_count": 1,
   "metadata": {},
   "outputs": [],
   "source": [
    "class LinearTrainPredict:\n",
    "    \n",
    "    def __init__ (self, df, xCol, y, name=\"\"):\n",
    "        self.df = df\n",
    "        self.xCol = xCol\n",
    "        self.y = y\n",
    "        self.__split = int(self.df.shape[0]*0.7)\n",
    "        self.__X = pd.get_dummies(self.df[self.Xcol],drop_first=True)\n",
    "        self.__xTrain, self.__xTest = self.__X[:self.__split], self.__X[self.__split:]\n",
    "        self.__yTrain, self.__yTest = self.df[self.y][:self.__split], self.df[self.y][self.__split:]\n",
    "        self.__regr = linear_model.LinearRegression()\n",
    "        if name == \"\"\n",
    "            pass\n",
    "        else:\n",
    "            with open('obj/'+ name + '.pkl', 'wb') as f:\n",
    "                pickle.dump(self.__regr, f, pickle.HIGHEST_PROTOCOL)\n",
    "        self.__regr.fit(self.__xTrain, self.__yTrain)\n",
    "        self.yPred = self.__regr.predict(self.__xTest)\n",
    "        \n",
    "    def mSqErr(self):\n",
    "        return mean_squared_error(self.__yTest,self.yPred)\n",
    "        \n",
    "    def mAbsErr(self):\n",
    "        return mean_absolute_error(self.__yTest,self.yPred)\n",
    "    \n",
    "    def varScore(self):\n",
    "        return r2_score(self.__yTest,self.yPred)"
   ]
  },
  {
   "cell_type": "markdown",
   "metadata": {},
   "source": [
    "## Cleaning Dfs\n",
    "\n",
    "Some fucntions that clean dfs and adds features such as weekday and month integers"
   ]
  },
  {
   "cell_type": "code",
   "execution_count": 3,
   "metadata": {},
   "outputs": [],
   "source": [
    "#def dateManipulations(df, dateCol, arrCol, m=False, d=False, weekendSplit=False):\n",
    "def dateManipulations(df, d=False, weekendSplit=False):\n",
    "    \n",
    "    \n",
    "    # ? Duplicate with the weatherInfo function here...\n",
    "    #df.dateCol = df.dateCol.astype('datetime64[ns]')\n",
    "    #df['datetime'] = df.dateCol + pd.to_timedelta(df.arrCol, unit = 's')\n",
    "    # ?\n",
    "    \n",
    "    '''\n",
    "    #We don't use month as a feature anymore, this block can be deleted.\n",
    "    \n",
    "    #if m == False:\n",
    "    #Suggest change to:\n",
    "    if not m:\n",
    "        pass\n",
    "    \n",
    "    #Suggest change to:\n",
    "    elif m:\n",
    "    #elif m == True:\n",
    "        df['month'] = df.dateCol.map(lambda x: x.month)\n",
    "    else:\n",
    "        return 'Error in month input, must be True or False!'\n",
    "    \n",
    "    \n",
    "    #same as above.\n",
    "    #if d == False:\n",
    "    if not d:\n",
    "        pass\n",
    "    \n",
    "    #elif d == True:\n",
    "    elif d:\n",
    "        df['weekday'] = df.dateCol.dt.dayofweek\n",
    "    else:\n",
    "        return 'Error in day input, must be True or False!'\n",
    "    '''\n",
    "    #suggest change to:\n",
    "    if weekendSplit and d:\n",
    "    #if weekendSplit == True && d == True:\n",
    "        \n",
    "        #df['m2f'] = np.where((df.weekday ==0) & (df.weekday ==1) & (df.weekday ==2) & (df.weekday ==3) & (df.weekday ==4),1,0)\n",
    "        #Suggest change to:\n",
    "        df['m2f'] = np.where(df.weekday <= 4, 1,0)\n",
    "        df['sat'] = np.where((df.weekday == 5),1,0)\n",
    "        \n",
    "    #same above\n",
    "    elif not weekendSplit:\n",
    "    #elif weekendSplit == False:\n",
    "        pass\n",
    "    #elif weekendSplit == True && d == False:\n",
    "    elif weekendSplit and not d:\n",
    "        return 'Error, must have weekday column for weekend split'\n",
    "    else:\n",
    "        return 'Error in weekend split input, must be True or False!'\n",
    "    return df"
   ]
  },
  {
   "cell_type": "code",
   "execution_count": 4,
   "metadata": {},
   "outputs": [],
   "source": [
    "def addPeakHours(df, timeOfDayCol):\n",
    "    df['em'] = np.where((df[timeOfDayCol] > 14400) & (df[timeOfDayCol] <=  25200),1,0)\n",
    "    df['mp'] = np.where((df[timeOfDayCol] > 25200) & (df[timeOfDayCol] <=  36000),1,0)\n",
    "    df['lm'] = np.where((df[timeOfDayCol] > 36000) & (df[timeOfDayCol] <=  46800),1,0)\n",
    "    df['md'] = np.where((df[timeOfDayCol] > 46800) & (df[timeOfDayCol] <=  47600),1,0)\n",
    "    df['ap'] = np.where((df[timeOfDayCol] > 47600) & (df[timeOfDayCol] <=  68400),1,0)\n",
    "    df['ev'] = np.where((df[timeOfDayCol] > 68400) & (df[timeOfDayCol] <=  79200),1,0)\n",
    "    df['ln'] = np.where((df[timeOfDayCol] > 79200) & (df[timeOfDayCol] <=  90000),1,0)\n",
    "    return df"
   ]
  },
  {
   "cell_type": "code",
   "execution_count": 49,
   "metadata": {},
   "outputs": [],
   "source": [
    "def addStartTime(df):\n",
    "    '''This function will take a dataframe, extract the start time of each trip then append it to  each row.'''\n",
    "    \n",
    "    startTime = df.loc[df.progrnumber == 1]\n",
    "    startTime = startTime.drop(['progrnumber', 'stopid', 'plannedtime','actual_arr', 'datetime', 'weekday', 'rain', 'temp'],1)\n",
    "    startTime.columns = ['dayofservice','tripid','tripStart']\n",
    "    result = pd.merge(df,startTime,on=['dayofservice','tripid'])\n",
    "    #print(\"result columns:\",result.columns)\n",
    "    result['tripTravelTime'] = result.actual_arr - result.tripStart\n",
    "    result = result.loc[result.tripTravelTime > 0]\n",
    "    return result"
   ]
  },
  {
   "cell_type": "markdown",
   "metadata": {},
   "source": [
    "### Weather Function\n",
    "Basic function that reads in the weather csv, formats it and merges it with supplied data, returning the merged datframe"
   ]
  },
  {
   "cell_type": "markdown",
   "metadata": {},
   "source": [
    "### I cleaned this function a little bit. -Wang"
   ]
  },
  {
   "cell_type": "code",
   "execution_count": 63,
   "metadata": {},
   "outputs": [
    {
     "data": {
      "text/html": [
       "<div>\n",
       "<style scoped>\n",
       "    .dataframe tbody tr th:only-of-type {\n",
       "        vertical-align: middle;\n",
       "    }\n",
       "\n",
       "    .dataframe tbody tr th {\n",
       "        vertical-align: top;\n",
       "    }\n",
       "\n",
       "    .dataframe thead th {\n",
       "        text-align: right;\n",
       "    }\n",
       "</style>\n",
       "<table border=\"1\" class=\"dataframe\">\n",
       "  <thead>\n",
       "    <tr style=\"text-align: right;\">\n",
       "      <th></th>\n",
       "      <th>datetime</th>\n",
       "      <th>rain</th>\n",
       "      <th>temp</th>\n",
       "    </tr>\n",
       "  </thead>\n",
       "  <tbody>\n",
       "    <tr>\n",
       "      <th>0</th>\n",
       "      <td>2016-01-01 00:00:00</td>\n",
       "      <td>0.0</td>\n",
       "      <td>1.2</td>\n",
       "    </tr>\n",
       "    <tr>\n",
       "      <th>1</th>\n",
       "      <td>2016-01-01 01:00:00</td>\n",
       "      <td>0.0</td>\n",
       "      <td>1.5</td>\n",
       "    </tr>\n",
       "    <tr>\n",
       "      <th>2</th>\n",
       "      <td>2016-01-01 02:00:00</td>\n",
       "      <td>0.0</td>\n",
       "      <td>-0.2</td>\n",
       "    </tr>\n",
       "    <tr>\n",
       "      <th>3</th>\n",
       "      <td>2016-01-01 03:00:00</td>\n",
       "      <td>0.0</td>\n",
       "      <td>-0.7</td>\n",
       "    </tr>\n",
       "    <tr>\n",
       "      <th>4</th>\n",
       "      <td>2016-01-01 04:00:00</td>\n",
       "      <td>0.0</td>\n",
       "      <td>-0.3</td>\n",
       "    </tr>\n",
       "  </tbody>\n",
       "</table>\n",
       "</div>"
      ],
      "text/plain": [
       "              datetime  rain  temp\n",
       "0  2016-01-01 00:00:00   0.0   1.2\n",
       "1  2016-01-01 01:00:00   0.0   1.5\n",
       "2  2016-01-01 02:00:00   0.0  -0.2\n",
       "3  2016-01-01 03:00:00   0.0  -0.7\n",
       "4  2016-01-01 04:00:00   0.0  -0.3"
      ]
     },
     "execution_count": 63,
     "metadata": {},
     "output_type": "execute_result"
    }
   ],
   "source": [
    "weather = pd.read_csv('CleanedWeather2016_17C.csv')\n",
    "weather.head()"
   ]
  },
  {
   "cell_type": "code",
   "execution_count": 64,
   "metadata": {},
   "outputs": [
    {
     "data": {
      "text/plain": [
       "dtype('O')"
      ]
     },
     "execution_count": 64,
     "metadata": {},
     "output_type": "execute_result"
    }
   ],
   "source": [
    "weather.datetime.dtype"
   ]
  },
  {
   "cell_type": "code",
   "execution_count": 6,
   "metadata": {},
   "outputs": [],
   "source": [
    "def weatherInfo(data):\n",
    "    '''Add weather information (temp, precipitation) to the dataframe.'''\n",
    "    \n",
    "    weather = pd.read_csv('CleanedWeather2016_17C.csv')#,index_col=0)\n",
    "    weather.datetime = weather.datetime.astype('datetime64[ns]')\n",
    "    \n",
    "    data.dayofservice = data.dayofservice.astype('datetime64[ns]')\n",
    "    data['datetime'] = data.dayofservice + pd.to_timedelta(data.actual_arr,unit='s')\n",
    "    data['weekday'] = data.dayofservice.dt.dayofweek\n",
    "    data = data.sort_values('datetime')\n",
    "    #data = data.reset_index()\n",
    "    data[['tripid','progrnumber']] = data[['tripid','progrnumber']].astype('int')\n",
    "    df = pd.merge_asof(data,weather,on='datetime',tolerance=pd.Timedelta('1h'))\n",
    "    \n",
    "    return df"
   ]
  },
  {
   "cell_type": "code",
   "execution_count": 7,
   "metadata": {},
   "outputs": [],
   "source": [
    "def addUCDTerm(df):\n",
    "    '''Add historical UCD Term for first half years of 2016 and 2017.'''\n",
    "    df['ucdSchoolTerm'] = np.where(((df['dayofservice'] >= '2016-01-25') & (df['dayofservice'] <= '2016-04-29'))\n",
    "                                     | ((df['dayofservice'] >= '2016-05-09') & (df['dayofservice'] <= '2016-05-21'))\n",
    "                                     | ((df['dayofservice'] >= '2017-01-23') & (df['dayofservice'] <= '2016-04-28'))\n",
    "                                     | ((df['dayofservice'] >= '2016-05-08') & (df['dayofservice'] <= '2016-05-19'))\n",
    "                                     ,1,0)\n",
    "    return df"
   ]
  },
  {
   "cell_type": "code",
   "execution_count": 46,
   "metadata": {},
   "outputs": [
    {
     "data": {
      "text/plain": [
       "['102', '10l']"
      ]
     },
     "execution_count": 46,
     "metadata": {},
     "output_type": "execute_result"
    }
   ],
   "source": [
    "'102_10l'.split('_')"
   ]
  },
  {
   "cell_type": "code",
   "execution_count": 53,
   "metadata": {},
   "outputs": [
    {
     "name": "stdout",
     "output_type": "stream",
     "text": [
      "39A_767_7162_Ongar.pkl\n"
     ]
    }
   ],
   "source": [
    "import fnmatch, os\n",
    "for file in os.listdir('obj/stopDicts/'):\n",
    "    #print(file)\n",
    "    if fnmatch.fnmatch(file, '39A_767_7162_*'):\n",
    "        print(file)"
   ]
  },
  {
   "cell_type": "code",
   "execution_count": 77,
   "metadata": {},
   "outputs": [],
   "source": [
    "import fnmatch, os\n",
    "import numpy as np\n",
    "import pandas as pd\n",
    "@timeit\n",
    "def dataPreparation(file):\n",
    "    '''\n",
    "    Prepare the data and return the prepared dataframe.\n",
    "    Will have columns:\n",
    "    ['progrnumber','plannedtime','rain','weekday','shape_dist_traveled','em','mp','lm','md','ap','ev','ln','temp','m2f','sat',\n",
    "    'ucdSchoolTerm']\n",
    "    '''\n",
    "    try:\n",
    "        df = pd.read_csv(file,names=['dayofservice','tripid','progrnumber','stopid','plannedtime','actual_arr','actual_dep'])\n",
    "        \n",
    "    except ParserError:\n",
    "        df = pd.read_csv(file,names=['dayofservice','tripid','progrnumber','stopid','plannedtime','actual_arr','actual_dep'],\n",
    "                         engine='python')\n",
    "        \n",
    "    #print(\"Read in:\",df.columns)\n",
    "    \n",
    "    line = str(file.split('/')[-1].split('_')[0])\n",
    "    #print(\"Line:\",line)\n",
    "    if not df.loc[df.progrnumber == 1].empty:\n",
    "        startStop = str(df.loc[df.progrnumber == 1,'stopid'].values[0])\n",
    "        #print(\"startStop:\",startStop)\n",
    "        \n",
    "        #dfMerged.loc[dfMerged.progrnumber.idxmax(),'stopid']\n",
    "        endStop = str(df.loc[df.progrnumber.idxmax(),'stopid'])\n",
    "        #print(\"endStop:\",endStop)\n",
    "        \n",
    "        identifier = (line, startStop, endStop)\n",
    "        \n",
    "        if not os.path.isfile('obj/scalers/'+identifier[0]+'_'+identifier[1]+'_'+identifier[2]+'_scaler.pkl') or \\\n",
    "        not os.path.isfile('obj/models/'+identifier[0]+'_'+identifier[1]+'_'+identifier[2]+'_model.pkl'): \n",
    "\n",
    "            #add weather and initial cleaning.\n",
    "            df = weatherInfo(df)\n",
    "\n",
    "            #print(\"After weatherInfo:\",df.columns)\n",
    "            #add start time\n",
    "            df = addStartTime(df)\n",
    "\n",
    "            #add distance\n",
    "            #read in specific pkl in\n",
    "            for file in os.listdir('obj/stopDicts/'):\n",
    "            #print(file)\n",
    "                if fnmatch.fnmatch(file, line+'_'+startStop+'_'+ endStop+ '_*'):\n",
    "                    disDict = load_obj('stopDicts/'+file)\n",
    "                    disdf = pd.DataFrame.from_dict(disDict,orient='index',columns=['distance'])\n",
    "                    df = pd.merge(df,disdf,left_on=['stopid'],right_index=True)\n",
    "\n",
    "\n",
    "                    #add period\n",
    "                    df = addPeakHours(df,'actual_arr')\n",
    "\n",
    "                    #add weekday\n",
    "                    df = dateManipulations(df,True,True)\n",
    "\n",
    "                    #add UCD Term\n",
    "                    df = addUCDTerm(df)\n",
    "\n",
    "                    return df, identifier"
   ]
  },
  {
   "cell_type": "code",
   "execution_count": 87,
   "metadata": {
    "scrolled": true
   },
   "outputs": [
    {
     "name": "stdout",
     "output_type": "stream",
     "text": [
      "'dataPreparation'  1240.78 ms\n"
     ]
    },
    {
     "data": {
      "text/html": [
       "<div>\n",
       "<style scoped>\n",
       "    .dataframe tbody tr th:only-of-type {\n",
       "        vertical-align: middle;\n",
       "    }\n",
       "\n",
       "    .dataframe tbody tr th {\n",
       "        vertical-align: top;\n",
       "    }\n",
       "\n",
       "    .dataframe thead th {\n",
       "        text-align: right;\n",
       "    }\n",
       "</style>\n",
       "<table border=\"1\" class=\"dataframe\">\n",
       "  <thead>\n",
       "    <tr style=\"text-align: right;\">\n",
       "      <th></th>\n",
       "      <th>dayofservice</th>\n",
       "      <th>tripid</th>\n",
       "      <th>progrnumber</th>\n",
       "      <th>stopid</th>\n",
       "      <th>plannedtime</th>\n",
       "      <th>actual_arr</th>\n",
       "      <th>actual_dep</th>\n",
       "      <th>datetime</th>\n",
       "      <th>weekday</th>\n",
       "      <th>rain</th>\n",
       "      <th>...</th>\n",
       "      <th>em</th>\n",
       "      <th>mp</th>\n",
       "      <th>lm</th>\n",
       "      <th>md</th>\n",
       "      <th>ap</th>\n",
       "      <th>ev</th>\n",
       "      <th>ln</th>\n",
       "      <th>m2f</th>\n",
       "      <th>sat</th>\n",
       "      <th>ucdSchoolTerm</th>\n",
       "    </tr>\n",
       "  </thead>\n",
       "  <tbody>\n",
       "    <tr>\n",
       "      <th>0</th>\n",
       "      <td>2016-01-09</td>\n",
       "      <td>2784381</td>\n",
       "      <td>1</td>\n",
       "      <td>767</td>\n",
       "      <td>83700</td>\n",
       "      <td>83586</td>\n",
       "      <td>83586</td>\n",
       "      <td>2016-01-09 23:13:06</td>\n",
       "      <td>5</td>\n",
       "      <td>4.4</td>\n",
       "      <td>...</td>\n",
       "      <td>0</td>\n",
       "      <td>0</td>\n",
       "      <td>0</td>\n",
       "      <td>0</td>\n",
       "      <td>0</td>\n",
       "      <td>0</td>\n",
       "      <td>1</td>\n",
       "      <td>0</td>\n",
       "      <td>1</td>\n",
       "      <td>0</td>\n",
       "    </tr>\n",
       "    <tr>\n",
       "      <th>25</th>\n",
       "      <td>2016-01-09</td>\n",
       "      <td>2784382</td>\n",
       "      <td>1</td>\n",
       "      <td>767</td>\n",
       "      <td>84600</td>\n",
       "      <td>84561</td>\n",
       "      <td>84561</td>\n",
       "      <td>2016-01-09 23:29:21</td>\n",
       "      <td>5</td>\n",
       "      <td>4.4</td>\n",
       "      <td>...</td>\n",
       "      <td>0</td>\n",
       "      <td>0</td>\n",
       "      <td>0</td>\n",
       "      <td>0</td>\n",
       "      <td>0</td>\n",
       "      <td>0</td>\n",
       "      <td>1</td>\n",
       "      <td>0</td>\n",
       "      <td>1</td>\n",
       "      <td>0</td>\n",
       "    </tr>\n",
       "    <tr>\n",
       "      <th>49</th>\n",
       "      <td>2016-01-16</td>\n",
       "      <td>2784381</td>\n",
       "      <td>1</td>\n",
       "      <td>767</td>\n",
       "      <td>83700</td>\n",
       "      <td>83392</td>\n",
       "      <td>83392</td>\n",
       "      <td>2016-01-16 23:09:52</td>\n",
       "      <td>5</td>\n",
       "      <td>0.1</td>\n",
       "      <td>...</td>\n",
       "      <td>0</td>\n",
       "      <td>0</td>\n",
       "      <td>0</td>\n",
       "      <td>0</td>\n",
       "      <td>0</td>\n",
       "      <td>0</td>\n",
       "      <td>1</td>\n",
       "      <td>0</td>\n",
       "      <td>1</td>\n",
       "      <td>0</td>\n",
       "    </tr>\n",
       "    <tr>\n",
       "      <th>50</th>\n",
       "      <td>2016-01-16</td>\n",
       "      <td>2784382</td>\n",
       "      <td>1</td>\n",
       "      <td>767</td>\n",
       "      <td>84600</td>\n",
       "      <td>84570</td>\n",
       "      <td>84570</td>\n",
       "      <td>2016-01-16 23:29:30</td>\n",
       "      <td>5</td>\n",
       "      <td>0.1</td>\n",
       "      <td>...</td>\n",
       "      <td>0</td>\n",
       "      <td>0</td>\n",
       "      <td>0</td>\n",
       "      <td>0</td>\n",
       "      <td>0</td>\n",
       "      <td>0</td>\n",
       "      <td>1</td>\n",
       "      <td>0</td>\n",
       "      <td>1</td>\n",
       "      <td>0</td>\n",
       "    </tr>\n",
       "    <tr>\n",
       "      <th>75</th>\n",
       "      <td>2016-01-23</td>\n",
       "      <td>2784381</td>\n",
       "      <td>1</td>\n",
       "      <td>767</td>\n",
       "      <td>83700</td>\n",
       "      <td>83685</td>\n",
       "      <td>83685</td>\n",
       "      <td>2016-01-23 23:14:45</td>\n",
       "      <td>5</td>\n",
       "      <td>0.0</td>\n",
       "      <td>...</td>\n",
       "      <td>0</td>\n",
       "      <td>0</td>\n",
       "      <td>0</td>\n",
       "      <td>0</td>\n",
       "      <td>0</td>\n",
       "      <td>0</td>\n",
       "      <td>1</td>\n",
       "      <td>0</td>\n",
       "      <td>1</td>\n",
       "      <td>0</td>\n",
       "    </tr>\n",
       "  </tbody>\n",
       "</table>\n",
       "<p>5 rows × 24 columns</p>\n",
       "</div>"
      ],
      "text/plain": [
       "   dayofservice   tripid  progrnumber  stopid  plannedtime  actual_arr  \\\n",
       "0    2016-01-09  2784381            1     767        83700       83586   \n",
       "25   2016-01-09  2784382            1     767        84600       84561   \n",
       "49   2016-01-16  2784381            1     767        83700       83392   \n",
       "50   2016-01-16  2784382            1     767        84600       84570   \n",
       "75   2016-01-23  2784381            1     767        83700       83685   \n",
       "\n",
       "    actual_dep            datetime  weekday  rain      ...        em  mp  lm  \\\n",
       "0        83586 2016-01-09 23:13:06        5   4.4      ...         0   0   0   \n",
       "25       84561 2016-01-09 23:29:21        5   4.4      ...         0   0   0   \n",
       "49       83392 2016-01-16 23:09:52        5   0.1      ...         0   0   0   \n",
       "50       84570 2016-01-16 23:29:30        5   0.1      ...         0   0   0   \n",
       "75       83685 2016-01-23 23:14:45        5   0.0      ...         0   0   0   \n",
       "\n",
       "    md  ap  ev  ln  m2f  sat  ucdSchoolTerm  \n",
       "0    0   0   0   1    0    1              0  \n",
       "25   0   0   0   1    0    1              0  \n",
       "49   0   0   0   1    0    1              0  \n",
       "50   0   0   0   1    0    1              0  \n",
       "75   0   0   0   1    0    1              0  \n",
       "\n",
       "[5 rows x 24 columns]"
      ]
     },
     "execution_count": 87,
     "metadata": {},
     "output_type": "execute_result"
    }
   ],
   "source": [
    "testdf = dataPreparation('Test/leavetimes/39A_41l')\n",
    "testdf.head()"
   ]
  },
  {
   "cell_type": "code",
   "execution_count": 51,
   "metadata": {
    "scrolled": true
   },
   "outputs": [
    {
     "data": {
      "text/plain": [
       "{767: 0.0,\n",
       " 768: 657.287066064875,\n",
       " 769: 985.330520927881,\n",
       " 770: 1429.24894221461,\n",
       " 771: 1620.44696377974,\n",
       " 772: 2127.48709498295,\n",
       " 773: 3434.8578642479997,\n",
       " 774: 3677.18821727873,\n",
       " 775: 4001.74363072419,\n",
       " 776: 4285.13185337461,\n",
       " 777: 4493.83259606615,\n",
       " 779: 4740.48732233394,\n",
       " 780: 5009.04830237385,\n",
       " 781: 5193.6587029476,\n",
       " 782: 5357.09815442135,\n",
       " 783: 5606.069766801032,\n",
       " 784: 5776.637949866071,\n",
       " 785: 6055.606335357479,\n",
       " 786: 6545.589502681712,\n",
       " 793: 7269.64182312836,\n",
       " 7586: 7835.15763393275,\n",
       " 7587: 8467.10980025078,\n",
       " 7588: 8530.04627616102,\n",
       " 328: 9243.322928124291}"
      ]
     },
     "execution_count": 51,
     "metadata": {},
     "output_type": "execute_result"
    }
   ],
   "source": [
    "testDict = load_obj('stopDicts/39A_767_328_Aston Quay')\n",
    "testDict"
   ]
  },
  {
   "cell_type": "code",
   "execution_count": 90,
   "metadata": {},
   "outputs": [
    {
     "data": {
      "text/html": [
       "<div>\n",
       "<style scoped>\n",
       "    .dataframe tbody tr th:only-of-type {\n",
       "        vertical-align: middle;\n",
       "    }\n",
       "\n",
       "    .dataframe tbody tr th {\n",
       "        vertical-align: top;\n",
       "    }\n",
       "\n",
       "    .dataframe thead th {\n",
       "        text-align: right;\n",
       "    }\n",
       "</style>\n",
       "<table border=\"1\" class=\"dataframe\">\n",
       "  <thead>\n",
       "    <tr style=\"text-align: right;\">\n",
       "      <th></th>\n",
       "      <th>dayofservice</th>\n",
       "      <th>tripid</th>\n",
       "      <th>progrnumber</th>\n",
       "      <th>stopid</th>\n",
       "      <th>plannedtime</th>\n",
       "      <th>actual_arr</th>\n",
       "      <th>actual_dep</th>\n",
       "      <th>datetime</th>\n",
       "      <th>weekday</th>\n",
       "      <th>rain</th>\n",
       "      <th>temp</th>\n",
       "      <th>tripStart</th>\n",
       "      <th>tripTravelTime</th>\n",
       "      <th>distance</th>\n",
       "      <th>em</th>\n",
       "      <th>mp</th>\n",
       "      <th>lm</th>\n",
       "      <th>md</th>\n",
       "      <th>ap</th>\n",
       "      <th>ev</th>\n",
       "      <th>ln</th>\n",
       "      <th>m2f</th>\n",
       "      <th>sat</th>\n",
       "      <th>ucdSchoolTerm</th>\n",
       "    </tr>\n",
       "  </thead>\n",
       "  <tbody>\n",
       "    <tr>\n",
       "      <th>0</th>\n",
       "      <td>2016-01-09</td>\n",
       "      <td>2784381</td>\n",
       "      <td>1</td>\n",
       "      <td>767</td>\n",
       "      <td>83700</td>\n",
       "      <td>83586</td>\n",
       "      <td>83586</td>\n",
       "      <td>2016-01-09 23:13:06</td>\n",
       "      <td>5</td>\n",
       "      <td>4.4</td>\n",
       "      <td>3.0</td>\n",
       "      <td>83586</td>\n",
       "      <td>0</td>\n",
       "      <td>0.000000</td>\n",
       "      <td>0</td>\n",
       "      <td>0</td>\n",
       "      <td>0</td>\n",
       "      <td>0</td>\n",
       "      <td>0</td>\n",
       "      <td>0</td>\n",
       "      <td>1</td>\n",
       "      <td>0</td>\n",
       "      <td>1</td>\n",
       "      <td>0</td>\n",
       "    </tr>\n",
       "    <tr>\n",
       "      <th>25</th>\n",
       "      <td>2016-01-09</td>\n",
       "      <td>2784382</td>\n",
       "      <td>1</td>\n",
       "      <td>767</td>\n",
       "      <td>84600</td>\n",
       "      <td>84561</td>\n",
       "      <td>84561</td>\n",
       "      <td>2016-01-09 23:29:21</td>\n",
       "      <td>5</td>\n",
       "      <td>4.4</td>\n",
       "      <td>3.0</td>\n",
       "      <td>84561</td>\n",
       "      <td>0</td>\n",
       "      <td>0.000000</td>\n",
       "      <td>0</td>\n",
       "      <td>0</td>\n",
       "      <td>0</td>\n",
       "      <td>0</td>\n",
       "      <td>0</td>\n",
       "      <td>0</td>\n",
       "      <td>1</td>\n",
       "      <td>0</td>\n",
       "      <td>1</td>\n",
       "      <td>0</td>\n",
       "    </tr>\n",
       "    <tr>\n",
       "      <th>49</th>\n",
       "      <td>2016-01-16</td>\n",
       "      <td>2784381</td>\n",
       "      <td>1</td>\n",
       "      <td>767</td>\n",
       "      <td>83700</td>\n",
       "      <td>83392</td>\n",
       "      <td>83392</td>\n",
       "      <td>2016-01-16 23:09:52</td>\n",
       "      <td>5</td>\n",
       "      <td>0.1</td>\n",
       "      <td>4.8</td>\n",
       "      <td>83392</td>\n",
       "      <td>0</td>\n",
       "      <td>0.000000</td>\n",
       "      <td>0</td>\n",
       "      <td>0</td>\n",
       "      <td>0</td>\n",
       "      <td>0</td>\n",
       "      <td>0</td>\n",
       "      <td>0</td>\n",
       "      <td>1</td>\n",
       "      <td>0</td>\n",
       "      <td>1</td>\n",
       "      <td>0</td>\n",
       "    </tr>\n",
       "    <tr>\n",
       "      <th>50</th>\n",
       "      <td>2016-01-16</td>\n",
       "      <td>2784382</td>\n",
       "      <td>1</td>\n",
       "      <td>767</td>\n",
       "      <td>84600</td>\n",
       "      <td>84570</td>\n",
       "      <td>84570</td>\n",
       "      <td>2016-01-16 23:29:30</td>\n",
       "      <td>5</td>\n",
       "      <td>0.1</td>\n",
       "      <td>4.8</td>\n",
       "      <td>84570</td>\n",
       "      <td>0</td>\n",
       "      <td>0.000000</td>\n",
       "      <td>0</td>\n",
       "      <td>0</td>\n",
       "      <td>0</td>\n",
       "      <td>0</td>\n",
       "      <td>0</td>\n",
       "      <td>0</td>\n",
       "      <td>1</td>\n",
       "      <td>0</td>\n",
       "      <td>1</td>\n",
       "      <td>0</td>\n",
       "    </tr>\n",
       "    <tr>\n",
       "      <th>75</th>\n",
       "      <td>2016-01-23</td>\n",
       "      <td>2784381</td>\n",
       "      <td>1</td>\n",
       "      <td>767</td>\n",
       "      <td>83700</td>\n",
       "      <td>83685</td>\n",
       "      <td>83685</td>\n",
       "      <td>2016-01-23 23:14:45</td>\n",
       "      <td>5</td>\n",
       "      <td>0.0</td>\n",
       "      <td>12.4</td>\n",
       "      <td>83685</td>\n",
       "      <td>0</td>\n",
       "      <td>0.000000</td>\n",
       "      <td>0</td>\n",
       "      <td>0</td>\n",
       "      <td>0</td>\n",
       "      <td>0</td>\n",
       "      <td>0</td>\n",
       "      <td>0</td>\n",
       "      <td>1</td>\n",
       "      <td>0</td>\n",
       "      <td>1</td>\n",
       "      <td>0</td>\n",
       "    </tr>\n",
       "    <tr>\n",
       "      <th>100</th>\n",
       "      <td>2016-01-30</td>\n",
       "      <td>2784381</td>\n",
       "      <td>1</td>\n",
       "      <td>767</td>\n",
       "      <td>83700</td>\n",
       "      <td>83635</td>\n",
       "      <td>83635</td>\n",
       "      <td>2016-01-30 23:13:55</td>\n",
       "      <td>5</td>\n",
       "      <td>0.0</td>\n",
       "      <td>2.8</td>\n",
       "      <td>83635</td>\n",
       "      <td>0</td>\n",
       "      <td>0.000000</td>\n",
       "      <td>0</td>\n",
       "      <td>0</td>\n",
       "      <td>0</td>\n",
       "      <td>0</td>\n",
       "      <td>0</td>\n",
       "      <td>0</td>\n",
       "      <td>1</td>\n",
       "      <td>0</td>\n",
       "      <td>1</td>\n",
       "      <td>1</td>\n",
       "    </tr>\n",
       "    <tr>\n",
       "      <th>125</th>\n",
       "      <td>2016-01-30</td>\n",
       "      <td>2784382</td>\n",
       "      <td>1</td>\n",
       "      <td>767</td>\n",
       "      <td>84600</td>\n",
       "      <td>84553</td>\n",
       "      <td>84553</td>\n",
       "      <td>2016-01-30 23:29:13</td>\n",
       "      <td>5</td>\n",
       "      <td>0.0</td>\n",
       "      <td>2.8</td>\n",
       "      <td>84553</td>\n",
       "      <td>0</td>\n",
       "      <td>0.000000</td>\n",
       "      <td>0</td>\n",
       "      <td>0</td>\n",
       "      <td>0</td>\n",
       "      <td>0</td>\n",
       "      <td>0</td>\n",
       "      <td>0</td>\n",
       "      <td>1</td>\n",
       "      <td>0</td>\n",
       "      <td>1</td>\n",
       "      <td>1</td>\n",
       "    </tr>\n",
       "    <tr>\n",
       "      <th>149</th>\n",
       "      <td>2016-02-02</td>\n",
       "      <td>2818069</td>\n",
       "      <td>1</td>\n",
       "      <td>767</td>\n",
       "      <td>84600</td>\n",
       "      <td>84613</td>\n",
       "      <td>84613</td>\n",
       "      <td>2016-02-02 23:30:13</td>\n",
       "      <td>1</td>\n",
       "      <td>0.0</td>\n",
       "      <td>1.9</td>\n",
       "      <td>84613</td>\n",
       "      <td>0</td>\n",
       "      <td>0.000000</td>\n",
       "      <td>0</td>\n",
       "      <td>0</td>\n",
       "      <td>0</td>\n",
       "      <td>0</td>\n",
       "      <td>0</td>\n",
       "      <td>0</td>\n",
       "      <td>1</td>\n",
       "      <td>1</td>\n",
       "      <td>0</td>\n",
       "      <td>1</td>\n",
       "    </tr>\n",
       "    <tr>\n",
       "      <th>170</th>\n",
       "      <td>2016-02-05</td>\n",
       "      <td>2818069</td>\n",
       "      <td>1</td>\n",
       "      <td>767</td>\n",
       "      <td>84600</td>\n",
       "      <td>84616</td>\n",
       "      <td>84616</td>\n",
       "      <td>2016-02-05 23:30:16</td>\n",
       "      <td>4</td>\n",
       "      <td>0.0</td>\n",
       "      <td>3.4</td>\n",
       "      <td>84616</td>\n",
       "      <td>0</td>\n",
       "      <td>0.000000</td>\n",
       "      <td>0</td>\n",
       "      <td>0</td>\n",
       "      <td>0</td>\n",
       "      <td>0</td>\n",
       "      <td>0</td>\n",
       "      <td>0</td>\n",
       "      <td>1</td>\n",
       "      <td>1</td>\n",
       "      <td>0</td>\n",
       "      <td>1</td>\n",
       "    </tr>\n",
       "    <tr>\n",
       "      <th>192</th>\n",
       "      <td>2016-02-06</td>\n",
       "      <td>2822742</td>\n",
       "      <td>1</td>\n",
       "      <td>767</td>\n",
       "      <td>83700</td>\n",
       "      <td>83683</td>\n",
       "      <td>83683</td>\n",
       "      <td>2016-02-06 23:14:43</td>\n",
       "      <td>5</td>\n",
       "      <td>0.0</td>\n",
       "      <td>3.7</td>\n",
       "      <td>83683</td>\n",
       "      <td>0</td>\n",
       "      <td>0.000000</td>\n",
       "      <td>0</td>\n",
       "      <td>0</td>\n",
       "      <td>0</td>\n",
       "      <td>0</td>\n",
       "      <td>0</td>\n",
       "      <td>0</td>\n",
       "      <td>1</td>\n",
       "      <td>0</td>\n",
       "      <td>1</td>\n",
       "      <td>1</td>\n",
       "    </tr>\n",
       "    <tr>\n",
       "      <th>217</th>\n",
       "      <td>2016-02-06</td>\n",
       "      <td>2812519</td>\n",
       "      <td>1</td>\n",
       "      <td>767</td>\n",
       "      <td>84600</td>\n",
       "      <td>84561</td>\n",
       "      <td>84561</td>\n",
       "      <td>2016-02-06 23:29:21</td>\n",
       "      <td>5</td>\n",
       "      <td>0.0</td>\n",
       "      <td>3.7</td>\n",
       "      <td>84561</td>\n",
       "      <td>0</td>\n",
       "      <td>0.000000</td>\n",
       "      <td>0</td>\n",
       "      <td>0</td>\n",
       "      <td>0</td>\n",
       "      <td>0</td>\n",
       "      <td>0</td>\n",
       "      <td>0</td>\n",
       "      <td>1</td>\n",
       "      <td>0</td>\n",
       "      <td>1</td>\n",
       "      <td>1</td>\n",
       "    </tr>\n",
       "    <tr>\n",
       "      <th>242</th>\n",
       "      <td>2016-02-08</td>\n",
       "      <td>2818069</td>\n",
       "      <td>1</td>\n",
       "      <td>767</td>\n",
       "      <td>84600</td>\n",
       "      <td>84616</td>\n",
       "      <td>84616</td>\n",
       "      <td>2016-02-08 23:30:16</td>\n",
       "      <td>0</td>\n",
       "      <td>0.0</td>\n",
       "      <td>3.8</td>\n",
       "      <td>84616</td>\n",
       "      <td>0</td>\n",
       "      <td>0.000000</td>\n",
       "      <td>0</td>\n",
       "      <td>0</td>\n",
       "      <td>0</td>\n",
       "      <td>0</td>\n",
       "      <td>0</td>\n",
       "      <td>0</td>\n",
       "      <td>1</td>\n",
       "      <td>1</td>\n",
       "      <td>0</td>\n",
       "      <td>1</td>\n",
       "    </tr>\n",
       "    <tr>\n",
       "      <th>263</th>\n",
       "      <td>2016-02-09</td>\n",
       "      <td>2818069</td>\n",
       "      <td>1</td>\n",
       "      <td>767</td>\n",
       "      <td>84600</td>\n",
       "      <td>84452</td>\n",
       "      <td>84452</td>\n",
       "      <td>2016-02-09 23:27:32</td>\n",
       "      <td>1</td>\n",
       "      <td>0.0</td>\n",
       "      <td>3.2</td>\n",
       "      <td>84452</td>\n",
       "      <td>0</td>\n",
       "      <td>0.000000</td>\n",
       "      <td>0</td>\n",
       "      <td>0</td>\n",
       "      <td>0</td>\n",
       "      <td>0</td>\n",
       "      <td>0</td>\n",
       "      <td>0</td>\n",
       "      <td>1</td>\n",
       "      <td>1</td>\n",
       "      <td>0</td>\n",
       "      <td>1</td>\n",
       "    </tr>\n",
       "    <tr>\n",
       "      <th>288</th>\n",
       "      <td>2016-02-10</td>\n",
       "      <td>2818069</td>\n",
       "      <td>1</td>\n",
       "      <td>767</td>\n",
       "      <td>84600</td>\n",
       "      <td>84527</td>\n",
       "      <td>84527</td>\n",
       "      <td>2016-02-10 23:28:47</td>\n",
       "      <td>2</td>\n",
       "      <td>0.0</td>\n",
       "      <td>-0.3</td>\n",
       "      <td>84527</td>\n",
       "      <td>0</td>\n",
       "      <td>0.000000</td>\n",
       "      <td>0</td>\n",
       "      <td>0</td>\n",
       "      <td>0</td>\n",
       "      <td>0</td>\n",
       "      <td>0</td>\n",
       "      <td>0</td>\n",
       "      <td>1</td>\n",
       "      <td>1</td>\n",
       "      <td>0</td>\n",
       "      <td>1</td>\n",
       "    </tr>\n",
       "    <tr>\n",
       "      <th>313</th>\n",
       "      <td>2016-02-11</td>\n",
       "      <td>2818069</td>\n",
       "      <td>1</td>\n",
       "      <td>767</td>\n",
       "      <td>84600</td>\n",
       "      <td>84486</td>\n",
       "      <td>84486</td>\n",
       "      <td>2016-02-11 23:28:06</td>\n",
       "      <td>3</td>\n",
       "      <td>0.0</td>\n",
       "      <td>3.4</td>\n",
       "      <td>84486</td>\n",
       "      <td>0</td>\n",
       "      <td>0.000000</td>\n",
       "      <td>0</td>\n",
       "      <td>0</td>\n",
       "      <td>0</td>\n",
       "      <td>0</td>\n",
       "      <td>0</td>\n",
       "      <td>0</td>\n",
       "      <td>1</td>\n",
       "      <td>1</td>\n",
       "      <td>0</td>\n",
       "      <td>1</td>\n",
       "    </tr>\n",
       "    <tr>\n",
       "      <th>338</th>\n",
       "      <td>2016-02-12</td>\n",
       "      <td>2818069</td>\n",
       "      <td>1</td>\n",
       "      <td>767</td>\n",
       "      <td>84600</td>\n",
       "      <td>84517</td>\n",
       "      <td>84517</td>\n",
       "      <td>2016-02-12 23:28:37</td>\n",
       "      <td>4</td>\n",
       "      <td>0.0</td>\n",
       "      <td>6.7</td>\n",
       "      <td>84517</td>\n",
       "      <td>0</td>\n",
       "      <td>0.000000</td>\n",
       "      <td>0</td>\n",
       "      <td>0</td>\n",
       "      <td>0</td>\n",
       "      <td>0</td>\n",
       "      <td>0</td>\n",
       "      <td>0</td>\n",
       "      <td>1</td>\n",
       "      <td>1</td>\n",
       "      <td>0</td>\n",
       "      <td>1</td>\n",
       "    </tr>\n",
       "    <tr>\n",
       "      <th>363</th>\n",
       "      <td>2016-02-13</td>\n",
       "      <td>2822742</td>\n",
       "      <td>1</td>\n",
       "      <td>767</td>\n",
       "      <td>83700</td>\n",
       "      <td>83760</td>\n",
       "      <td>83760</td>\n",
       "      <td>2016-02-13 23:16:00</td>\n",
       "      <td>5</td>\n",
       "      <td>0.0</td>\n",
       "      <td>5.7</td>\n",
       "      <td>83760</td>\n",
       "      <td>0</td>\n",
       "      <td>0.000000</td>\n",
       "      <td>0</td>\n",
       "      <td>0</td>\n",
       "      <td>0</td>\n",
       "      <td>0</td>\n",
       "      <td>0</td>\n",
       "      <td>0</td>\n",
       "      <td>1</td>\n",
       "      <td>0</td>\n",
       "      <td>1</td>\n",
       "      <td>1</td>\n",
       "    </tr>\n",
       "    <tr>\n",
       "      <th>387</th>\n",
       "      <td>2016-02-13</td>\n",
       "      <td>2812519</td>\n",
       "      <td>1</td>\n",
       "      <td>767</td>\n",
       "      <td>84600</td>\n",
       "      <td>84609</td>\n",
       "      <td>84609</td>\n",
       "      <td>2016-02-13 23:30:09</td>\n",
       "      <td>5</td>\n",
       "      <td>0.0</td>\n",
       "      <td>5.7</td>\n",
       "      <td>84609</td>\n",
       "      <td>0</td>\n",
       "      <td>0.000000</td>\n",
       "      <td>0</td>\n",
       "      <td>0</td>\n",
       "      <td>0</td>\n",
       "      <td>0</td>\n",
       "      <td>0</td>\n",
       "      <td>0</td>\n",
       "      <td>1</td>\n",
       "      <td>0</td>\n",
       "      <td>1</td>\n",
       "      <td>1</td>\n",
       "    </tr>\n",
       "    <tr>\n",
       "      <th>412</th>\n",
       "      <td>2016-02-15</td>\n",
       "      <td>2854078</td>\n",
       "      <td>1</td>\n",
       "      <td>767</td>\n",
       "      <td>84600</td>\n",
       "      <td>84595</td>\n",
       "      <td>84595</td>\n",
       "      <td>2016-02-15 23:29:55</td>\n",
       "      <td>0</td>\n",
       "      <td>0.0</td>\n",
       "      <td>1.1</td>\n",
       "      <td>84595</td>\n",
       "      <td>0</td>\n",
       "      <td>0.000000</td>\n",
       "      <td>0</td>\n",
       "      <td>0</td>\n",
       "      <td>0</td>\n",
       "      <td>0</td>\n",
       "      <td>0</td>\n",
       "      <td>0</td>\n",
       "      <td>1</td>\n",
       "      <td>1</td>\n",
       "      <td>0</td>\n",
       "      <td>1</td>\n",
       "    </tr>\n",
       "    <tr>\n",
       "      <th>434</th>\n",
       "      <td>2016-02-16</td>\n",
       "      <td>2854078</td>\n",
       "      <td>1</td>\n",
       "      <td>767</td>\n",
       "      <td>84600</td>\n",
       "      <td>84591</td>\n",
       "      <td>84591</td>\n",
       "      <td>2016-02-16 23:29:51</td>\n",
       "      <td>1</td>\n",
       "      <td>3.2</td>\n",
       "      <td>6.8</td>\n",
       "      <td>84591</td>\n",
       "      <td>0</td>\n",
       "      <td>0.000000</td>\n",
       "      <td>0</td>\n",
       "      <td>0</td>\n",
       "      <td>0</td>\n",
       "      <td>0</td>\n",
       "      <td>0</td>\n",
       "      <td>0</td>\n",
       "      <td>1</td>\n",
       "      <td>1</td>\n",
       "      <td>0</td>\n",
       "      <td>1</td>\n",
       "    </tr>\n",
       "    <tr>\n",
       "      <th>455</th>\n",
       "      <td>2016-02-19</td>\n",
       "      <td>2854078</td>\n",
       "      <td>1</td>\n",
       "      <td>767</td>\n",
       "      <td>84600</td>\n",
       "      <td>84584</td>\n",
       "      <td>84584</td>\n",
       "      <td>2016-02-19 23:29:44</td>\n",
       "      <td>4</td>\n",
       "      <td>0.0</td>\n",
       "      <td>7.8</td>\n",
       "      <td>84584</td>\n",
       "      <td>0</td>\n",
       "      <td>0.000000</td>\n",
       "      <td>0</td>\n",
       "      <td>0</td>\n",
       "      <td>0</td>\n",
       "      <td>0</td>\n",
       "      <td>0</td>\n",
       "      <td>0</td>\n",
       "      <td>1</td>\n",
       "      <td>1</td>\n",
       "      <td>0</td>\n",
       "      <td>1</td>\n",
       "    </tr>\n",
       "    <tr>\n",
       "      <th>475</th>\n",
       "      <td>2016-02-20</td>\n",
       "      <td>2856433</td>\n",
       "      <td>1</td>\n",
       "      <td>767</td>\n",
       "      <td>83700</td>\n",
       "      <td>83712</td>\n",
       "      <td>83712</td>\n",
       "      <td>2016-02-20 23:15:12</td>\n",
       "      <td>5</td>\n",
       "      <td>0.0</td>\n",
       "      <td>8.6</td>\n",
       "      <td>83712</td>\n",
       "      <td>0</td>\n",
       "      <td>0.000000</td>\n",
       "      <td>0</td>\n",
       "      <td>0</td>\n",
       "      <td>0</td>\n",
       "      <td>0</td>\n",
       "      <td>0</td>\n",
       "      <td>0</td>\n",
       "      <td>1</td>\n",
       "      <td>0</td>\n",
       "      <td>1</td>\n",
       "      <td>1</td>\n",
       "    </tr>\n",
       "    <tr>\n",
       "      <th>500</th>\n",
       "      <td>2016-02-22</td>\n",
       "      <td>2869742</td>\n",
       "      <td>1</td>\n",
       "      <td>767</td>\n",
       "      <td>84600</td>\n",
       "      <td>84609</td>\n",
       "      <td>84609</td>\n",
       "      <td>2016-02-22 23:30:09</td>\n",
       "      <td>0</td>\n",
       "      <td>0.0</td>\n",
       "      <td>2.3</td>\n",
       "      <td>84609</td>\n",
       "      <td>0</td>\n",
       "      <td>0.000000</td>\n",
       "      <td>0</td>\n",
       "      <td>0</td>\n",
       "      <td>0</td>\n",
       "      <td>0</td>\n",
       "      <td>0</td>\n",
       "      <td>0</td>\n",
       "      <td>1</td>\n",
       "      <td>1</td>\n",
       "      <td>0</td>\n",
       "      <td>1</td>\n",
       "    </tr>\n",
       "    <tr>\n",
       "      <th>521</th>\n",
       "      <td>2016-02-23</td>\n",
       "      <td>2869742</td>\n",
       "      <td>1</td>\n",
       "      <td>767</td>\n",
       "      <td>84600</td>\n",
       "      <td>84616</td>\n",
       "      <td>84616</td>\n",
       "      <td>2016-02-23 23:30:16</td>\n",
       "      <td>1</td>\n",
       "      <td>0.0</td>\n",
       "      <td>-1.7</td>\n",
       "      <td>84616</td>\n",
       "      <td>0</td>\n",
       "      <td>0.000000</td>\n",
       "      <td>0</td>\n",
       "      <td>0</td>\n",
       "      <td>0</td>\n",
       "      <td>0</td>\n",
       "      <td>0</td>\n",
       "      <td>0</td>\n",
       "      <td>1</td>\n",
       "      <td>1</td>\n",
       "      <td>0</td>\n",
       "      <td>1</td>\n",
       "    </tr>\n",
       "    <tr>\n",
       "      <th>546</th>\n",
       "      <td>2016-02-24</td>\n",
       "      <td>2869742</td>\n",
       "      <td>1</td>\n",
       "      <td>767</td>\n",
       "      <td>84600</td>\n",
       "      <td>84625</td>\n",
       "      <td>84625</td>\n",
       "      <td>2016-02-24 23:30:25</td>\n",
       "      <td>2</td>\n",
       "      <td>0.0</td>\n",
       "      <td>-1.3</td>\n",
       "      <td>84625</td>\n",
       "      <td>0</td>\n",
       "      <td>0.000000</td>\n",
       "      <td>0</td>\n",
       "      <td>0</td>\n",
       "      <td>0</td>\n",
       "      <td>0</td>\n",
       "      <td>0</td>\n",
       "      <td>0</td>\n",
       "      <td>1</td>\n",
       "      <td>1</td>\n",
       "      <td>0</td>\n",
       "      <td>1</td>\n",
       "    </tr>\n",
       "    <tr>\n",
       "      <th>571</th>\n",
       "      <td>2016-02-25</td>\n",
       "      <td>2869742</td>\n",
       "      <td>1</td>\n",
       "      <td>767</td>\n",
       "      <td>84600</td>\n",
       "      <td>84564</td>\n",
       "      <td>84564</td>\n",
       "      <td>2016-02-25 23:29:24</td>\n",
       "      <td>3</td>\n",
       "      <td>0.0</td>\n",
       "      <td>1.5</td>\n",
       "      <td>84564</td>\n",
       "      <td>0</td>\n",
       "      <td>0.000000</td>\n",
       "      <td>0</td>\n",
       "      <td>0</td>\n",
       "      <td>0</td>\n",
       "      <td>0</td>\n",
       "      <td>0</td>\n",
       "      <td>0</td>\n",
       "      <td>1</td>\n",
       "      <td>1</td>\n",
       "      <td>0</td>\n",
       "      <td>1</td>\n",
       "    </tr>\n",
       "    <tr>\n",
       "      <th>596</th>\n",
       "      <td>2016-02-26</td>\n",
       "      <td>2869742</td>\n",
       "      <td>1</td>\n",
       "      <td>767</td>\n",
       "      <td>84600</td>\n",
       "      <td>84541</td>\n",
       "      <td>84541</td>\n",
       "      <td>2016-02-26 23:29:01</td>\n",
       "      <td>4</td>\n",
       "      <td>0.0</td>\n",
       "      <td>6.1</td>\n",
       "      <td>84541</td>\n",
       "      <td>0</td>\n",
       "      <td>0.000000</td>\n",
       "      <td>0</td>\n",
       "      <td>0</td>\n",
       "      <td>0</td>\n",
       "      <td>0</td>\n",
       "      <td>0</td>\n",
       "      <td>0</td>\n",
       "      <td>1</td>\n",
       "      <td>1</td>\n",
       "      <td>0</td>\n",
       "      <td>1</td>\n",
       "    </tr>\n",
       "    <tr>\n",
       "      <th>620</th>\n",
       "      <td>2016-02-27</td>\n",
       "      <td>2868835</td>\n",
       "      <td>1</td>\n",
       "      <td>767</td>\n",
       "      <td>83700</td>\n",
       "      <td>83711</td>\n",
       "      <td>83711</td>\n",
       "      <td>2016-02-27 23:15:11</td>\n",
       "      <td>5</td>\n",
       "      <td>0.0</td>\n",
       "      <td>3.2</td>\n",
       "      <td>83711</td>\n",
       "      <td>0</td>\n",
       "      <td>0.000000</td>\n",
       "      <td>0</td>\n",
       "      <td>0</td>\n",
       "      <td>0</td>\n",
       "      <td>0</td>\n",
       "      <td>0</td>\n",
       "      <td>0</td>\n",
       "      <td>1</td>\n",
       "      <td>0</td>\n",
       "      <td>1</td>\n",
       "      <td>1</td>\n",
       "    </tr>\n",
       "    <tr>\n",
       "      <th>645</th>\n",
       "      <td>2016-02-27</td>\n",
       "      <td>2870301</td>\n",
       "      <td>1</td>\n",
       "      <td>767</td>\n",
       "      <td>84600</td>\n",
       "      <td>84682</td>\n",
       "      <td>84682</td>\n",
       "      <td>2016-02-27 23:31:22</td>\n",
       "      <td>5</td>\n",
       "      <td>0.0</td>\n",
       "      <td>3.2</td>\n",
       "      <td>84682</td>\n",
       "      <td>0</td>\n",
       "      <td>0.000000</td>\n",
       "      <td>0</td>\n",
       "      <td>0</td>\n",
       "      <td>0</td>\n",
       "      <td>0</td>\n",
       "      <td>0</td>\n",
       "      <td>0</td>\n",
       "      <td>1</td>\n",
       "      <td>0</td>\n",
       "      <td>1</td>\n",
       "      <td>1</td>\n",
       "    </tr>\n",
       "    <tr>\n",
       "      <th>670</th>\n",
       "      <td>2016-03-01</td>\n",
       "      <td>2893291</td>\n",
       "      <td>1</td>\n",
       "      <td>767</td>\n",
       "      <td>84600</td>\n",
       "      <td>84569</td>\n",
       "      <td>84569</td>\n",
       "      <td>2016-03-01 23:29:29</td>\n",
       "      <td>1</td>\n",
       "      <td>0.0</td>\n",
       "      <td>2.5</td>\n",
       "      <td>84569</td>\n",
       "      <td>0</td>\n",
       "      <td>0.000000</td>\n",
       "      <td>0</td>\n",
       "      <td>0</td>\n",
       "      <td>0</td>\n",
       "      <td>0</td>\n",
       "      <td>0</td>\n",
       "      <td>0</td>\n",
       "      <td>1</td>\n",
       "      <td>1</td>\n",
       "      <td>0</td>\n",
       "      <td>1</td>\n",
       "    </tr>\n",
       "    <tr>\n",
       "      <th>...</th>\n",
       "      <td>...</td>\n",
       "      <td>...</td>\n",
       "      <td>...</td>\n",
       "      <td>...</td>\n",
       "      <td>...</td>\n",
       "      <td>...</td>\n",
       "      <td>...</td>\n",
       "      <td>...</td>\n",
       "      <td>...</td>\n",
       "      <td>...</td>\n",
       "      <td>...</td>\n",
       "      <td>...</td>\n",
       "      <td>...</td>\n",
       "      <td>...</td>\n",
       "      <td>...</td>\n",
       "      <td>...</td>\n",
       "      <td>...</td>\n",
       "      <td>...</td>\n",
       "      <td>...</td>\n",
       "      <td>...</td>\n",
       "      <td>...</td>\n",
       "      <td>...</td>\n",
       "      <td>...</td>\n",
       "      <td>...</td>\n",
       "    </tr>\n",
       "    <tr>\n",
       "      <th>3875</th>\n",
       "      <td>2017-03-31</td>\n",
       "      <td>4519841</td>\n",
       "      <td>25</td>\n",
       "      <td>328</td>\n",
       "      <td>85811</td>\n",
       "      <td>85963</td>\n",
       "      <td>85963</td>\n",
       "      <td>2017-03-31 23:52:43</td>\n",
       "      <td>4</td>\n",
       "      <td>0.0</td>\n",
       "      <td>7.1</td>\n",
       "      <td>84482</td>\n",
       "      <td>1481</td>\n",
       "      <td>9243.322928</td>\n",
       "      <td>0</td>\n",
       "      <td>0</td>\n",
       "      <td>0</td>\n",
       "      <td>0</td>\n",
       "      <td>0</td>\n",
       "      <td>0</td>\n",
       "      <td>1</td>\n",
       "      <td>1</td>\n",
       "      <td>0</td>\n",
       "      <td>0</td>\n",
       "    </tr>\n",
       "    <tr>\n",
       "      <th>3900</th>\n",
       "      <td>2017-04-03</td>\n",
       "      <td>4519841</td>\n",
       "      <td>25</td>\n",
       "      <td>328</td>\n",
       "      <td>85811</td>\n",
       "      <td>85661</td>\n",
       "      <td>85661</td>\n",
       "      <td>2017-04-03 23:47:41</td>\n",
       "      <td>0</td>\n",
       "      <td>0.0</td>\n",
       "      <td>9.9</td>\n",
       "      <td>84622</td>\n",
       "      <td>1039</td>\n",
       "      <td>9243.322928</td>\n",
       "      <td>0</td>\n",
       "      <td>0</td>\n",
       "      <td>0</td>\n",
       "      <td>0</td>\n",
       "      <td>0</td>\n",
       "      <td>0</td>\n",
       "      <td>1</td>\n",
       "      <td>1</td>\n",
       "      <td>0</td>\n",
       "      <td>0</td>\n",
       "    </tr>\n",
       "    <tr>\n",
       "      <th>3923</th>\n",
       "      <td>2017-04-04</td>\n",
       "      <td>4519841</td>\n",
       "      <td>25</td>\n",
       "      <td>328</td>\n",
       "      <td>85811</td>\n",
       "      <td>85860</td>\n",
       "      <td>85860</td>\n",
       "      <td>2017-04-04 23:51:00</td>\n",
       "      <td>1</td>\n",
       "      <td>0.0</td>\n",
       "      <td>8.9</td>\n",
       "      <td>84471</td>\n",
       "      <td>1389</td>\n",
       "      <td>9243.322928</td>\n",
       "      <td>0</td>\n",
       "      <td>0</td>\n",
       "      <td>0</td>\n",
       "      <td>0</td>\n",
       "      <td>0</td>\n",
       "      <td>0</td>\n",
       "      <td>1</td>\n",
       "      <td>1</td>\n",
       "      <td>0</td>\n",
       "      <td>0</td>\n",
       "    </tr>\n",
       "    <tr>\n",
       "      <th>3942</th>\n",
       "      <td>2017-04-05</td>\n",
       "      <td>4519841</td>\n",
       "      <td>25</td>\n",
       "      <td>328</td>\n",
       "      <td>85811</td>\n",
       "      <td>85690</td>\n",
       "      <td>85690</td>\n",
       "      <td>2017-04-05 23:48:10</td>\n",
       "      <td>2</td>\n",
       "      <td>0.0</td>\n",
       "      <td>9.3</td>\n",
       "      <td>84599</td>\n",
       "      <td>1091</td>\n",
       "      <td>9243.322928</td>\n",
       "      <td>0</td>\n",
       "      <td>0</td>\n",
       "      <td>0</td>\n",
       "      <td>0</td>\n",
       "      <td>0</td>\n",
       "      <td>0</td>\n",
       "      <td>1</td>\n",
       "      <td>1</td>\n",
       "      <td>0</td>\n",
       "      <td>0</td>\n",
       "    </tr>\n",
       "    <tr>\n",
       "      <th>3961</th>\n",
       "      <td>2017-04-06</td>\n",
       "      <td>4519841</td>\n",
       "      <td>25</td>\n",
       "      <td>328</td>\n",
       "      <td>85811</td>\n",
       "      <td>85696</td>\n",
       "      <td>85696</td>\n",
       "      <td>2017-04-06 23:48:16</td>\n",
       "      <td>3</td>\n",
       "      <td>0.0</td>\n",
       "      <td>8.3</td>\n",
       "      <td>84276</td>\n",
       "      <td>1420</td>\n",
       "      <td>9243.322928</td>\n",
       "      <td>0</td>\n",
       "      <td>0</td>\n",
       "      <td>0</td>\n",
       "      <td>0</td>\n",
       "      <td>0</td>\n",
       "      <td>0</td>\n",
       "      <td>1</td>\n",
       "      <td>1</td>\n",
       "      <td>0</td>\n",
       "      <td>0</td>\n",
       "    </tr>\n",
       "    <tr>\n",
       "      <th>3982</th>\n",
       "      <td>2017-04-07</td>\n",
       "      <td>4519841</td>\n",
       "      <td>25</td>\n",
       "      <td>328</td>\n",
       "      <td>85811</td>\n",
       "      <td>86491</td>\n",
       "      <td>86491</td>\n",
       "      <td>2017-04-08 00:01:31</td>\n",
       "      <td>4</td>\n",
       "      <td>0.0</td>\n",
       "      <td>4.0</td>\n",
       "      <td>85378</td>\n",
       "      <td>1113</td>\n",
       "      <td>9243.322928</td>\n",
       "      <td>0</td>\n",
       "      <td>0</td>\n",
       "      <td>0</td>\n",
       "      <td>0</td>\n",
       "      <td>0</td>\n",
       "      <td>0</td>\n",
       "      <td>1</td>\n",
       "      <td>1</td>\n",
       "      <td>0</td>\n",
       "      <td>0</td>\n",
       "    </tr>\n",
       "    <tr>\n",
       "      <th>4005</th>\n",
       "      <td>2017-04-08</td>\n",
       "      <td>4525869</td>\n",
       "      <td>25</td>\n",
       "      <td>328</td>\n",
       "      <td>84905</td>\n",
       "      <td>84781</td>\n",
       "      <td>84781</td>\n",
       "      <td>2017-04-08 23:33:01</td>\n",
       "      <td>5</td>\n",
       "      <td>0.0</td>\n",
       "      <td>7.9</td>\n",
       "      <td>83708</td>\n",
       "      <td>1073</td>\n",
       "      <td>9243.322928</td>\n",
       "      <td>0</td>\n",
       "      <td>0</td>\n",
       "      <td>0</td>\n",
       "      <td>0</td>\n",
       "      <td>0</td>\n",
       "      <td>0</td>\n",
       "      <td>1</td>\n",
       "      <td>0</td>\n",
       "      <td>1</td>\n",
       "      <td>0</td>\n",
       "    </tr>\n",
       "    <tr>\n",
       "      <th>4047</th>\n",
       "      <td>2017-04-10</td>\n",
       "      <td>4575166</td>\n",
       "      <td>25</td>\n",
       "      <td>328</td>\n",
       "      <td>85811</td>\n",
       "      <td>85601</td>\n",
       "      <td>85601</td>\n",
       "      <td>2017-04-10 23:46:41</td>\n",
       "      <td>0</td>\n",
       "      <td>0.0</td>\n",
       "      <td>5.3</td>\n",
       "      <td>84614</td>\n",
       "      <td>987</td>\n",
       "      <td>9243.322928</td>\n",
       "      <td>0</td>\n",
       "      <td>0</td>\n",
       "      <td>0</td>\n",
       "      <td>0</td>\n",
       "      <td>0</td>\n",
       "      <td>0</td>\n",
       "      <td>1</td>\n",
       "      <td>1</td>\n",
       "      <td>0</td>\n",
       "      <td>0</td>\n",
       "    </tr>\n",
       "    <tr>\n",
       "      <th>4072</th>\n",
       "      <td>2017-04-11</td>\n",
       "      <td>4575166</td>\n",
       "      <td>25</td>\n",
       "      <td>328</td>\n",
       "      <td>85811</td>\n",
       "      <td>85817</td>\n",
       "      <td>85817</td>\n",
       "      <td>2017-04-11 23:50:17</td>\n",
       "      <td>1</td>\n",
       "      <td>0.0</td>\n",
       "      <td>8.7</td>\n",
       "      <td>84609</td>\n",
       "      <td>1208</td>\n",
       "      <td>9243.322928</td>\n",
       "      <td>0</td>\n",
       "      <td>0</td>\n",
       "      <td>0</td>\n",
       "      <td>0</td>\n",
       "      <td>0</td>\n",
       "      <td>0</td>\n",
       "      <td>1</td>\n",
       "      <td>1</td>\n",
       "      <td>0</td>\n",
       "      <td>0</td>\n",
       "    </tr>\n",
       "    <tr>\n",
       "      <th>4096</th>\n",
       "      <td>2017-04-15</td>\n",
       "      <td>4577131</td>\n",
       "      <td>25</td>\n",
       "      <td>328</td>\n",
       "      <td>84905</td>\n",
       "      <td>84659</td>\n",
       "      <td>84659</td>\n",
       "      <td>2017-04-15 23:30:59</td>\n",
       "      <td>5</td>\n",
       "      <td>0.0</td>\n",
       "      <td>6.5</td>\n",
       "      <td>83576</td>\n",
       "      <td>1083</td>\n",
       "      <td>9243.322928</td>\n",
       "      <td>0</td>\n",
       "      <td>0</td>\n",
       "      <td>0</td>\n",
       "      <td>0</td>\n",
       "      <td>0</td>\n",
       "      <td>0</td>\n",
       "      <td>1</td>\n",
       "      <td>0</td>\n",
       "      <td>1</td>\n",
       "      <td>0</td>\n",
       "    </tr>\n",
       "    <tr>\n",
       "      <th>4120</th>\n",
       "      <td>2017-04-18</td>\n",
       "      <td>4575166</td>\n",
       "      <td>25</td>\n",
       "      <td>328</td>\n",
       "      <td>85811</td>\n",
       "      <td>85881</td>\n",
       "      <td>85881</td>\n",
       "      <td>2017-04-18 23:51:21</td>\n",
       "      <td>1</td>\n",
       "      <td>0.0</td>\n",
       "      <td>8.6</td>\n",
       "      <td>84278</td>\n",
       "      <td>1603</td>\n",
       "      <td>9243.322928</td>\n",
       "      <td>0</td>\n",
       "      <td>0</td>\n",
       "      <td>0</td>\n",
       "      <td>0</td>\n",
       "      <td>0</td>\n",
       "      <td>0</td>\n",
       "      <td>1</td>\n",
       "      <td>1</td>\n",
       "      <td>0</td>\n",
       "      <td>0</td>\n",
       "    </tr>\n",
       "    <tr>\n",
       "      <th>4144</th>\n",
       "      <td>2017-04-19</td>\n",
       "      <td>4575166</td>\n",
       "      <td>25</td>\n",
       "      <td>328</td>\n",
       "      <td>85811</td>\n",
       "      <td>85636</td>\n",
       "      <td>85636</td>\n",
       "      <td>2017-04-19 23:47:16</td>\n",
       "      <td>2</td>\n",
       "      <td>0.0</td>\n",
       "      <td>11.1</td>\n",
       "      <td>84413</td>\n",
       "      <td>1223</td>\n",
       "      <td>9243.322928</td>\n",
       "      <td>0</td>\n",
       "      <td>0</td>\n",
       "      <td>0</td>\n",
       "      <td>0</td>\n",
       "      <td>0</td>\n",
       "      <td>0</td>\n",
       "      <td>1</td>\n",
       "      <td>1</td>\n",
       "      <td>0</td>\n",
       "      <td>0</td>\n",
       "    </tr>\n",
       "    <tr>\n",
       "      <th>4168</th>\n",
       "      <td>2017-04-20</td>\n",
       "      <td>4575166</td>\n",
       "      <td>25</td>\n",
       "      <td>328</td>\n",
       "      <td>85811</td>\n",
       "      <td>85868</td>\n",
       "      <td>85868</td>\n",
       "      <td>2017-04-20 23:51:08</td>\n",
       "      <td>3</td>\n",
       "      <td>0.0</td>\n",
       "      <td>10.8</td>\n",
       "      <td>84277</td>\n",
       "      <td>1591</td>\n",
       "      <td>9243.322928</td>\n",
       "      <td>0</td>\n",
       "      <td>0</td>\n",
       "      <td>0</td>\n",
       "      <td>0</td>\n",
       "      <td>0</td>\n",
       "      <td>0</td>\n",
       "      <td>1</td>\n",
       "      <td>1</td>\n",
       "      <td>0</td>\n",
       "      <td>0</td>\n",
       "    </tr>\n",
       "    <tr>\n",
       "      <th>4188</th>\n",
       "      <td>2017-04-26</td>\n",
       "      <td>4594936</td>\n",
       "      <td>25</td>\n",
       "      <td>328</td>\n",
       "      <td>85811</td>\n",
       "      <td>85493</td>\n",
       "      <td>85493</td>\n",
       "      <td>2017-04-26 23:44:53</td>\n",
       "      <td>2</td>\n",
       "      <td>0.0</td>\n",
       "      <td>6.0</td>\n",
       "      <td>84602</td>\n",
       "      <td>891</td>\n",
       "      <td>9243.322928</td>\n",
       "      <td>0</td>\n",
       "      <td>0</td>\n",
       "      <td>0</td>\n",
       "      <td>0</td>\n",
       "      <td>0</td>\n",
       "      <td>0</td>\n",
       "      <td>1</td>\n",
       "      <td>1</td>\n",
       "      <td>0</td>\n",
       "      <td>0</td>\n",
       "    </tr>\n",
       "    <tr>\n",
       "      <th>4230</th>\n",
       "      <td>2017-05-08</td>\n",
       "      <td>4594936</td>\n",
       "      <td>25</td>\n",
       "      <td>328</td>\n",
       "      <td>85811</td>\n",
       "      <td>85738</td>\n",
       "      <td>85738</td>\n",
       "      <td>2017-05-08 23:48:58</td>\n",
       "      <td>0</td>\n",
       "      <td>0.0</td>\n",
       "      <td>5.1</td>\n",
       "      <td>84566</td>\n",
       "      <td>1172</td>\n",
       "      <td>9243.322928</td>\n",
       "      <td>0</td>\n",
       "      <td>0</td>\n",
       "      <td>0</td>\n",
       "      <td>0</td>\n",
       "      <td>0</td>\n",
       "      <td>0</td>\n",
       "      <td>1</td>\n",
       "      <td>1</td>\n",
       "      <td>0</td>\n",
       "      <td>0</td>\n",
       "    </tr>\n",
       "    <tr>\n",
       "      <th>4253</th>\n",
       "      <td>2017-05-11</td>\n",
       "      <td>4594936</td>\n",
       "      <td>25</td>\n",
       "      <td>328</td>\n",
       "      <td>85811</td>\n",
       "      <td>85655</td>\n",
       "      <td>85655</td>\n",
       "      <td>2017-05-11 23:47:35</td>\n",
       "      <td>3</td>\n",
       "      <td>0.0</td>\n",
       "      <td>11.7</td>\n",
       "      <td>84570</td>\n",
       "      <td>1085</td>\n",
       "      <td>9243.322928</td>\n",
       "      <td>0</td>\n",
       "      <td>0</td>\n",
       "      <td>0</td>\n",
       "      <td>0</td>\n",
       "      <td>0</td>\n",
       "      <td>0</td>\n",
       "      <td>1</td>\n",
       "      <td>1</td>\n",
       "      <td>0</td>\n",
       "      <td>0</td>\n",
       "    </tr>\n",
       "    <tr>\n",
       "      <th>4276</th>\n",
       "      <td>2017-05-12</td>\n",
       "      <td>4594936</td>\n",
       "      <td>25</td>\n",
       "      <td>328</td>\n",
       "      <td>85811</td>\n",
       "      <td>85751</td>\n",
       "      <td>85751</td>\n",
       "      <td>2017-05-12 23:49:11</td>\n",
       "      <td>4</td>\n",
       "      <td>0.0</td>\n",
       "      <td>11.4</td>\n",
       "      <td>84573</td>\n",
       "      <td>1178</td>\n",
       "      <td>9243.322928</td>\n",
       "      <td>0</td>\n",
       "      <td>0</td>\n",
       "      <td>0</td>\n",
       "      <td>0</td>\n",
       "      <td>0</td>\n",
       "      <td>0</td>\n",
       "      <td>1</td>\n",
       "      <td>1</td>\n",
       "      <td>0</td>\n",
       "      <td>0</td>\n",
       "    </tr>\n",
       "    <tr>\n",
       "      <th>4298</th>\n",
       "      <td>2017-05-13</td>\n",
       "      <td>4601067</td>\n",
       "      <td>25</td>\n",
       "      <td>328</td>\n",
       "      <td>85805</td>\n",
       "      <td>85824</td>\n",
       "      <td>85824</td>\n",
       "      <td>2017-05-13 23:50:24</td>\n",
       "      <td>5</td>\n",
       "      <td>0.0</td>\n",
       "      <td>8.8</td>\n",
       "      <td>84402</td>\n",
       "      <td>1422</td>\n",
       "      <td>9243.322928</td>\n",
       "      <td>0</td>\n",
       "      <td>0</td>\n",
       "      <td>0</td>\n",
       "      <td>0</td>\n",
       "      <td>0</td>\n",
       "      <td>0</td>\n",
       "      <td>1</td>\n",
       "      <td>0</td>\n",
       "      <td>1</td>\n",
       "      <td>0</td>\n",
       "    </tr>\n",
       "    <tr>\n",
       "      <th>4321</th>\n",
       "      <td>2017-05-23</td>\n",
       "      <td>4892418</td>\n",
       "      <td>25</td>\n",
       "      <td>328</td>\n",
       "      <td>85980</td>\n",
       "      <td>85653</td>\n",
       "      <td>85653</td>\n",
       "      <td>2017-05-23 23:47:33</td>\n",
       "      <td>1</td>\n",
       "      <td>0.0</td>\n",
       "      <td>14.2</td>\n",
       "      <td>84605</td>\n",
       "      <td>1048</td>\n",
       "      <td>9243.322928</td>\n",
       "      <td>0</td>\n",
       "      <td>0</td>\n",
       "      <td>0</td>\n",
       "      <td>0</td>\n",
       "      <td>0</td>\n",
       "      <td>0</td>\n",
       "      <td>1</td>\n",
       "      <td>1</td>\n",
       "      <td>0</td>\n",
       "      <td>0</td>\n",
       "    </tr>\n",
       "    <tr>\n",
       "      <th>4345</th>\n",
       "      <td>2017-05-30</td>\n",
       "      <td>5012702</td>\n",
       "      <td>25</td>\n",
       "      <td>328</td>\n",
       "      <td>85980</td>\n",
       "      <td>85481</td>\n",
       "      <td>85481</td>\n",
       "      <td>2017-05-30 23:44:41</td>\n",
       "      <td>1</td>\n",
       "      <td>0.0</td>\n",
       "      <td>10.6</td>\n",
       "      <td>84377</td>\n",
       "      <td>1104</td>\n",
       "      <td>9243.322928</td>\n",
       "      <td>0</td>\n",
       "      <td>0</td>\n",
       "      <td>0</td>\n",
       "      <td>0</td>\n",
       "      <td>0</td>\n",
       "      <td>0</td>\n",
       "      <td>1</td>\n",
       "      <td>1</td>\n",
       "      <td>0</td>\n",
       "      <td>0</td>\n",
       "    </tr>\n",
       "    <tr>\n",
       "      <th>4367</th>\n",
       "      <td>2017-05-31</td>\n",
       "      <td>5012702</td>\n",
       "      <td>25</td>\n",
       "      <td>328</td>\n",
       "      <td>85980</td>\n",
       "      <td>85627</td>\n",
       "      <td>85627</td>\n",
       "      <td>2017-05-31 23:47:07</td>\n",
       "      <td>2</td>\n",
       "      <td>0.0</td>\n",
       "      <td>14.6</td>\n",
       "      <td>84626</td>\n",
       "      <td>1001</td>\n",
       "      <td>9243.322928</td>\n",
       "      <td>0</td>\n",
       "      <td>0</td>\n",
       "      <td>0</td>\n",
       "      <td>0</td>\n",
       "      <td>0</td>\n",
       "      <td>0</td>\n",
       "      <td>1</td>\n",
       "      <td>1</td>\n",
       "      <td>0</td>\n",
       "      <td>0</td>\n",
       "    </tr>\n",
       "    <tr>\n",
       "      <th>4390</th>\n",
       "      <td>2017-06-01</td>\n",
       "      <td>5012702</td>\n",
       "      <td>25</td>\n",
       "      <td>328</td>\n",
       "      <td>85980</td>\n",
       "      <td>85531</td>\n",
       "      <td>85531</td>\n",
       "      <td>2017-06-01 23:45:31</td>\n",
       "      <td>3</td>\n",
       "      <td>0.0</td>\n",
       "      <td>11.9</td>\n",
       "      <td>84271</td>\n",
       "      <td>1260</td>\n",
       "      <td>9243.322928</td>\n",
       "      <td>0</td>\n",
       "      <td>0</td>\n",
       "      <td>0</td>\n",
       "      <td>0</td>\n",
       "      <td>0</td>\n",
       "      <td>0</td>\n",
       "      <td>1</td>\n",
       "      <td>1</td>\n",
       "      <td>0</td>\n",
       "      <td>0</td>\n",
       "    </tr>\n",
       "    <tr>\n",
       "      <th>4428</th>\n",
       "      <td>2017-06-07</td>\n",
       "      <td>5012702</td>\n",
       "      <td>25</td>\n",
       "      <td>328</td>\n",
       "      <td>85980</td>\n",
       "      <td>85536</td>\n",
       "      <td>85536</td>\n",
       "      <td>2017-06-07 23:45:36</td>\n",
       "      <td>2</td>\n",
       "      <td>0.0</td>\n",
       "      <td>14.1</td>\n",
       "      <td>84603</td>\n",
       "      <td>933</td>\n",
       "      <td>9243.322928</td>\n",
       "      <td>0</td>\n",
       "      <td>0</td>\n",
       "      <td>0</td>\n",
       "      <td>0</td>\n",
       "      <td>0</td>\n",
       "      <td>0</td>\n",
       "      <td>1</td>\n",
       "      <td>1</td>\n",
       "      <td>0</td>\n",
       "      <td>0</td>\n",
       "    </tr>\n",
       "    <tr>\n",
       "      <th>4452</th>\n",
       "      <td>2017-06-08</td>\n",
       "      <td>5012702</td>\n",
       "      <td>25</td>\n",
       "      <td>328</td>\n",
       "      <td>85980</td>\n",
       "      <td>86299</td>\n",
       "      <td>86299</td>\n",
       "      <td>2017-06-08 23:58:19</td>\n",
       "      <td>3</td>\n",
       "      <td>0.0</td>\n",
       "      <td>10.5</td>\n",
       "      <td>84613</td>\n",
       "      <td>1686</td>\n",
       "      <td>9243.322928</td>\n",
       "      <td>0</td>\n",
       "      <td>0</td>\n",
       "      <td>0</td>\n",
       "      <td>0</td>\n",
       "      <td>0</td>\n",
       "      <td>0</td>\n",
       "      <td>1</td>\n",
       "      <td>1</td>\n",
       "      <td>0</td>\n",
       "      <td>0</td>\n",
       "    </tr>\n",
       "    <tr>\n",
       "      <th>4476</th>\n",
       "      <td>2017-06-09</td>\n",
       "      <td>5012702</td>\n",
       "      <td>25</td>\n",
       "      <td>328</td>\n",
       "      <td>85980</td>\n",
       "      <td>85902</td>\n",
       "      <td>85902</td>\n",
       "      <td>2017-06-09 23:51:42</td>\n",
       "      <td>4</td>\n",
       "      <td>1.7</td>\n",
       "      <td>12.2</td>\n",
       "      <td>84275</td>\n",
       "      <td>1627</td>\n",
       "      <td>9243.322928</td>\n",
       "      <td>0</td>\n",
       "      <td>0</td>\n",
       "      <td>0</td>\n",
       "      <td>0</td>\n",
       "      <td>0</td>\n",
       "      <td>0</td>\n",
       "      <td>1</td>\n",
       "      <td>1</td>\n",
       "      <td>0</td>\n",
       "      <td>0</td>\n",
       "    </tr>\n",
       "    <tr>\n",
       "      <th>4501</th>\n",
       "      <td>2017-06-19</td>\n",
       "      <td>5093994</td>\n",
       "      <td>25</td>\n",
       "      <td>328</td>\n",
       "      <td>85980</td>\n",
       "      <td>85640</td>\n",
       "      <td>85640</td>\n",
       "      <td>2017-06-19 23:47:20</td>\n",
       "      <td>0</td>\n",
       "      <td>0.0</td>\n",
       "      <td>15.5</td>\n",
       "      <td>84637</td>\n",
       "      <td>1003</td>\n",
       "      <td>9243.322928</td>\n",
       "      <td>0</td>\n",
       "      <td>0</td>\n",
       "      <td>0</td>\n",
       "      <td>0</td>\n",
       "      <td>0</td>\n",
       "      <td>0</td>\n",
       "      <td>1</td>\n",
       "      <td>1</td>\n",
       "      <td>0</td>\n",
       "      <td>0</td>\n",
       "    </tr>\n",
       "    <tr>\n",
       "      <th>4524</th>\n",
       "      <td>2017-06-20</td>\n",
       "      <td>5093994</td>\n",
       "      <td>25</td>\n",
       "      <td>328</td>\n",
       "      <td>85980</td>\n",
       "      <td>85784</td>\n",
       "      <td>85784</td>\n",
       "      <td>2017-06-20 23:49:44</td>\n",
       "      <td>1</td>\n",
       "      <td>0.0</td>\n",
       "      <td>15.1</td>\n",
       "      <td>84583</td>\n",
       "      <td>1201</td>\n",
       "      <td>9243.322928</td>\n",
       "      <td>0</td>\n",
       "      <td>0</td>\n",
       "      <td>0</td>\n",
       "      <td>0</td>\n",
       "      <td>0</td>\n",
       "      <td>0</td>\n",
       "      <td>1</td>\n",
       "      <td>1</td>\n",
       "      <td>0</td>\n",
       "      <td>0</td>\n",
       "    </tr>\n",
       "    <tr>\n",
       "      <th>4549</th>\n",
       "      <td>2017-06-21</td>\n",
       "      <td>5093994</td>\n",
       "      <td>25</td>\n",
       "      <td>328</td>\n",
       "      <td>85980</td>\n",
       "      <td>85875</td>\n",
       "      <td>85875</td>\n",
       "      <td>2017-06-21 23:51:15</td>\n",
       "      <td>2</td>\n",
       "      <td>0.0</td>\n",
       "      <td>18.4</td>\n",
       "      <td>84275</td>\n",
       "      <td>1600</td>\n",
       "      <td>9243.322928</td>\n",
       "      <td>0</td>\n",
       "      <td>0</td>\n",
       "      <td>0</td>\n",
       "      <td>0</td>\n",
       "      <td>0</td>\n",
       "      <td>0</td>\n",
       "      <td>1</td>\n",
       "      <td>1</td>\n",
       "      <td>0</td>\n",
       "      <td>0</td>\n",
       "    </tr>\n",
       "    <tr>\n",
       "      <th>4593</th>\n",
       "      <td>2017-06-29</td>\n",
       "      <td>5117252</td>\n",
       "      <td>25</td>\n",
       "      <td>328</td>\n",
       "      <td>85980</td>\n",
       "      <td>85886</td>\n",
       "      <td>85886</td>\n",
       "      <td>2017-06-29 23:51:26</td>\n",
       "      <td>3</td>\n",
       "      <td>0.0</td>\n",
       "      <td>11.3</td>\n",
       "      <td>84280</td>\n",
       "      <td>1606</td>\n",
       "      <td>9243.322928</td>\n",
       "      <td>0</td>\n",
       "      <td>0</td>\n",
       "      <td>0</td>\n",
       "      <td>0</td>\n",
       "      <td>0</td>\n",
       "      <td>0</td>\n",
       "      <td>1</td>\n",
       "      <td>1</td>\n",
       "      <td>0</td>\n",
       "      <td>0</td>\n",
       "    </tr>\n",
       "    <tr>\n",
       "      <th>4617</th>\n",
       "      <td>2017-06-30</td>\n",
       "      <td>5117252</td>\n",
       "      <td>25</td>\n",
       "      <td>328</td>\n",
       "      <td>85980</td>\n",
       "      <td>85948</td>\n",
       "      <td>85948</td>\n",
       "      <td>2017-06-30 23:52:28</td>\n",
       "      <td>4</td>\n",
       "      <td>0.0</td>\n",
       "      <td>8.2</td>\n",
       "      <td>84587</td>\n",
       "      <td>1361</td>\n",
       "      <td>9243.322928</td>\n",
       "      <td>0</td>\n",
       "      <td>0</td>\n",
       "      <td>0</td>\n",
       "      <td>0</td>\n",
       "      <td>0</td>\n",
       "      <td>0</td>\n",
       "      <td>1</td>\n",
       "      <td>1</td>\n",
       "      <td>0</td>\n",
       "      <td>0</td>\n",
       "    </tr>\n",
       "  </tbody>\n",
       "</table>\n",
       "<p>4430 rows × 24 columns</p>\n",
       "</div>"
      ],
      "text/plain": [
       "     dayofservice   tripid  progrnumber  stopid  plannedtime  actual_arr  \\\n",
       "0      2016-01-09  2784381            1     767        83700       83586   \n",
       "25     2016-01-09  2784382            1     767        84600       84561   \n",
       "49     2016-01-16  2784381            1     767        83700       83392   \n",
       "50     2016-01-16  2784382            1     767        84600       84570   \n",
       "75     2016-01-23  2784381            1     767        83700       83685   \n",
       "100    2016-01-30  2784381            1     767        83700       83635   \n",
       "125    2016-01-30  2784382            1     767        84600       84553   \n",
       "149    2016-02-02  2818069            1     767        84600       84613   \n",
       "170    2016-02-05  2818069            1     767        84600       84616   \n",
       "192    2016-02-06  2822742            1     767        83700       83683   \n",
       "217    2016-02-06  2812519            1     767        84600       84561   \n",
       "242    2016-02-08  2818069            1     767        84600       84616   \n",
       "263    2016-02-09  2818069            1     767        84600       84452   \n",
       "288    2016-02-10  2818069            1     767        84600       84527   \n",
       "313    2016-02-11  2818069            1     767        84600       84486   \n",
       "338    2016-02-12  2818069            1     767        84600       84517   \n",
       "363    2016-02-13  2822742            1     767        83700       83760   \n",
       "387    2016-02-13  2812519            1     767        84600       84609   \n",
       "412    2016-02-15  2854078            1     767        84600       84595   \n",
       "434    2016-02-16  2854078            1     767        84600       84591   \n",
       "455    2016-02-19  2854078            1     767        84600       84584   \n",
       "475    2016-02-20  2856433            1     767        83700       83712   \n",
       "500    2016-02-22  2869742            1     767        84600       84609   \n",
       "521    2016-02-23  2869742            1     767        84600       84616   \n",
       "546    2016-02-24  2869742            1     767        84600       84625   \n",
       "571    2016-02-25  2869742            1     767        84600       84564   \n",
       "596    2016-02-26  2869742            1     767        84600       84541   \n",
       "620    2016-02-27  2868835            1     767        83700       83711   \n",
       "645    2016-02-27  2870301            1     767        84600       84682   \n",
       "670    2016-03-01  2893291            1     767        84600       84569   \n",
       "...           ...      ...          ...     ...          ...         ...   \n",
       "3875   2017-03-31  4519841           25     328        85811       85963   \n",
       "3900   2017-04-03  4519841           25     328        85811       85661   \n",
       "3923   2017-04-04  4519841           25     328        85811       85860   \n",
       "3942   2017-04-05  4519841           25     328        85811       85690   \n",
       "3961   2017-04-06  4519841           25     328        85811       85696   \n",
       "3982   2017-04-07  4519841           25     328        85811       86491   \n",
       "4005   2017-04-08  4525869           25     328        84905       84781   \n",
       "4047   2017-04-10  4575166           25     328        85811       85601   \n",
       "4072   2017-04-11  4575166           25     328        85811       85817   \n",
       "4096   2017-04-15  4577131           25     328        84905       84659   \n",
       "4120   2017-04-18  4575166           25     328        85811       85881   \n",
       "4144   2017-04-19  4575166           25     328        85811       85636   \n",
       "4168   2017-04-20  4575166           25     328        85811       85868   \n",
       "4188   2017-04-26  4594936           25     328        85811       85493   \n",
       "4230   2017-05-08  4594936           25     328        85811       85738   \n",
       "4253   2017-05-11  4594936           25     328        85811       85655   \n",
       "4276   2017-05-12  4594936           25     328        85811       85751   \n",
       "4298   2017-05-13  4601067           25     328        85805       85824   \n",
       "4321   2017-05-23  4892418           25     328        85980       85653   \n",
       "4345   2017-05-30  5012702           25     328        85980       85481   \n",
       "4367   2017-05-31  5012702           25     328        85980       85627   \n",
       "4390   2017-06-01  5012702           25     328        85980       85531   \n",
       "4428   2017-06-07  5012702           25     328        85980       85536   \n",
       "4452   2017-06-08  5012702           25     328        85980       86299   \n",
       "4476   2017-06-09  5012702           25     328        85980       85902   \n",
       "4501   2017-06-19  5093994           25     328        85980       85640   \n",
       "4524   2017-06-20  5093994           25     328        85980       85784   \n",
       "4549   2017-06-21  5093994           25     328        85980       85875   \n",
       "4593   2017-06-29  5117252           25     328        85980       85886   \n",
       "4617   2017-06-30  5117252           25     328        85980       85948   \n",
       "\n",
       "      actual_dep            datetime  weekday  rain  temp  tripStart  \\\n",
       "0          83586 2016-01-09 23:13:06        5   4.4   3.0      83586   \n",
       "25         84561 2016-01-09 23:29:21        5   4.4   3.0      84561   \n",
       "49         83392 2016-01-16 23:09:52        5   0.1   4.8      83392   \n",
       "50         84570 2016-01-16 23:29:30        5   0.1   4.8      84570   \n",
       "75         83685 2016-01-23 23:14:45        5   0.0  12.4      83685   \n",
       "100        83635 2016-01-30 23:13:55        5   0.0   2.8      83635   \n",
       "125        84553 2016-01-30 23:29:13        5   0.0   2.8      84553   \n",
       "149        84613 2016-02-02 23:30:13        1   0.0   1.9      84613   \n",
       "170        84616 2016-02-05 23:30:16        4   0.0   3.4      84616   \n",
       "192        83683 2016-02-06 23:14:43        5   0.0   3.7      83683   \n",
       "217        84561 2016-02-06 23:29:21        5   0.0   3.7      84561   \n",
       "242        84616 2016-02-08 23:30:16        0   0.0   3.8      84616   \n",
       "263        84452 2016-02-09 23:27:32        1   0.0   3.2      84452   \n",
       "288        84527 2016-02-10 23:28:47        2   0.0  -0.3      84527   \n",
       "313        84486 2016-02-11 23:28:06        3   0.0   3.4      84486   \n",
       "338        84517 2016-02-12 23:28:37        4   0.0   6.7      84517   \n",
       "363        83760 2016-02-13 23:16:00        5   0.0   5.7      83760   \n",
       "387        84609 2016-02-13 23:30:09        5   0.0   5.7      84609   \n",
       "412        84595 2016-02-15 23:29:55        0   0.0   1.1      84595   \n",
       "434        84591 2016-02-16 23:29:51        1   3.2   6.8      84591   \n",
       "455        84584 2016-02-19 23:29:44        4   0.0   7.8      84584   \n",
       "475        83712 2016-02-20 23:15:12        5   0.0   8.6      83712   \n",
       "500        84609 2016-02-22 23:30:09        0   0.0   2.3      84609   \n",
       "521        84616 2016-02-23 23:30:16        1   0.0  -1.7      84616   \n",
       "546        84625 2016-02-24 23:30:25        2   0.0  -1.3      84625   \n",
       "571        84564 2016-02-25 23:29:24        3   0.0   1.5      84564   \n",
       "596        84541 2016-02-26 23:29:01        4   0.0   6.1      84541   \n",
       "620        83711 2016-02-27 23:15:11        5   0.0   3.2      83711   \n",
       "645        84682 2016-02-27 23:31:22        5   0.0   3.2      84682   \n",
       "670        84569 2016-03-01 23:29:29        1   0.0   2.5      84569   \n",
       "...          ...                 ...      ...   ...   ...        ...   \n",
       "3875       85963 2017-03-31 23:52:43        4   0.0   7.1      84482   \n",
       "3900       85661 2017-04-03 23:47:41        0   0.0   9.9      84622   \n",
       "3923       85860 2017-04-04 23:51:00        1   0.0   8.9      84471   \n",
       "3942       85690 2017-04-05 23:48:10        2   0.0   9.3      84599   \n",
       "3961       85696 2017-04-06 23:48:16        3   0.0   8.3      84276   \n",
       "3982       86491 2017-04-08 00:01:31        4   0.0   4.0      85378   \n",
       "4005       84781 2017-04-08 23:33:01        5   0.0   7.9      83708   \n",
       "4047       85601 2017-04-10 23:46:41        0   0.0   5.3      84614   \n",
       "4072       85817 2017-04-11 23:50:17        1   0.0   8.7      84609   \n",
       "4096       84659 2017-04-15 23:30:59        5   0.0   6.5      83576   \n",
       "4120       85881 2017-04-18 23:51:21        1   0.0   8.6      84278   \n",
       "4144       85636 2017-04-19 23:47:16        2   0.0  11.1      84413   \n",
       "4168       85868 2017-04-20 23:51:08        3   0.0  10.8      84277   \n",
       "4188       85493 2017-04-26 23:44:53        2   0.0   6.0      84602   \n",
       "4230       85738 2017-05-08 23:48:58        0   0.0   5.1      84566   \n",
       "4253       85655 2017-05-11 23:47:35        3   0.0  11.7      84570   \n",
       "4276       85751 2017-05-12 23:49:11        4   0.0  11.4      84573   \n",
       "4298       85824 2017-05-13 23:50:24        5   0.0   8.8      84402   \n",
       "4321       85653 2017-05-23 23:47:33        1   0.0  14.2      84605   \n",
       "4345       85481 2017-05-30 23:44:41        1   0.0  10.6      84377   \n",
       "4367       85627 2017-05-31 23:47:07        2   0.0  14.6      84626   \n",
       "4390       85531 2017-06-01 23:45:31        3   0.0  11.9      84271   \n",
       "4428       85536 2017-06-07 23:45:36        2   0.0  14.1      84603   \n",
       "4452       86299 2017-06-08 23:58:19        3   0.0  10.5      84613   \n",
       "4476       85902 2017-06-09 23:51:42        4   1.7  12.2      84275   \n",
       "4501       85640 2017-06-19 23:47:20        0   0.0  15.5      84637   \n",
       "4524       85784 2017-06-20 23:49:44        1   0.0  15.1      84583   \n",
       "4549       85875 2017-06-21 23:51:15        2   0.0  18.4      84275   \n",
       "4593       85886 2017-06-29 23:51:26        3   0.0  11.3      84280   \n",
       "4617       85948 2017-06-30 23:52:28        4   0.0   8.2      84587   \n",
       "\n",
       "      tripTravelTime     distance  em  mp  lm  md  ap  ev  ln  m2f  sat  \\\n",
       "0                  0     0.000000   0   0   0   0   0   0   1    0    1   \n",
       "25                 0     0.000000   0   0   0   0   0   0   1    0    1   \n",
       "49                 0     0.000000   0   0   0   0   0   0   1    0    1   \n",
       "50                 0     0.000000   0   0   0   0   0   0   1    0    1   \n",
       "75                 0     0.000000   0   0   0   0   0   0   1    0    1   \n",
       "100                0     0.000000   0   0   0   0   0   0   1    0    1   \n",
       "125                0     0.000000   0   0   0   0   0   0   1    0    1   \n",
       "149                0     0.000000   0   0   0   0   0   0   1    1    0   \n",
       "170                0     0.000000   0   0   0   0   0   0   1    1    0   \n",
       "192                0     0.000000   0   0   0   0   0   0   1    0    1   \n",
       "217                0     0.000000   0   0   0   0   0   0   1    0    1   \n",
       "242                0     0.000000   0   0   0   0   0   0   1    1    0   \n",
       "263                0     0.000000   0   0   0   0   0   0   1    1    0   \n",
       "288                0     0.000000   0   0   0   0   0   0   1    1    0   \n",
       "313                0     0.000000   0   0   0   0   0   0   1    1    0   \n",
       "338                0     0.000000   0   0   0   0   0   0   1    1    0   \n",
       "363                0     0.000000   0   0   0   0   0   0   1    0    1   \n",
       "387                0     0.000000   0   0   0   0   0   0   1    0    1   \n",
       "412                0     0.000000   0   0   0   0   0   0   1    1    0   \n",
       "434                0     0.000000   0   0   0   0   0   0   1    1    0   \n",
       "455                0     0.000000   0   0   0   0   0   0   1    1    0   \n",
       "475                0     0.000000   0   0   0   0   0   0   1    0    1   \n",
       "500                0     0.000000   0   0   0   0   0   0   1    1    0   \n",
       "521                0     0.000000   0   0   0   0   0   0   1    1    0   \n",
       "546                0     0.000000   0   0   0   0   0   0   1    1    0   \n",
       "571                0     0.000000   0   0   0   0   0   0   1    1    0   \n",
       "596                0     0.000000   0   0   0   0   0   0   1    1    0   \n",
       "620                0     0.000000   0   0   0   0   0   0   1    0    1   \n",
       "645                0     0.000000   0   0   0   0   0   0   1    0    1   \n",
       "670                0     0.000000   0   0   0   0   0   0   1    1    0   \n",
       "...              ...          ...  ..  ..  ..  ..  ..  ..  ..  ...  ...   \n",
       "3875            1481  9243.322928   0   0   0   0   0   0   1    1    0   \n",
       "3900            1039  9243.322928   0   0   0   0   0   0   1    1    0   \n",
       "3923            1389  9243.322928   0   0   0   0   0   0   1    1    0   \n",
       "3942            1091  9243.322928   0   0   0   0   0   0   1    1    0   \n",
       "3961            1420  9243.322928   0   0   0   0   0   0   1    1    0   \n",
       "3982            1113  9243.322928   0   0   0   0   0   0   1    1    0   \n",
       "4005            1073  9243.322928   0   0   0   0   0   0   1    0    1   \n",
       "4047             987  9243.322928   0   0   0   0   0   0   1    1    0   \n",
       "4072            1208  9243.322928   0   0   0   0   0   0   1    1    0   \n",
       "4096            1083  9243.322928   0   0   0   0   0   0   1    0    1   \n",
       "4120            1603  9243.322928   0   0   0   0   0   0   1    1    0   \n",
       "4144            1223  9243.322928   0   0   0   0   0   0   1    1    0   \n",
       "4168            1591  9243.322928   0   0   0   0   0   0   1    1    0   \n",
       "4188             891  9243.322928   0   0   0   0   0   0   1    1    0   \n",
       "4230            1172  9243.322928   0   0   0   0   0   0   1    1    0   \n",
       "4253            1085  9243.322928   0   0   0   0   0   0   1    1    0   \n",
       "4276            1178  9243.322928   0   0   0   0   0   0   1    1    0   \n",
       "4298            1422  9243.322928   0   0   0   0   0   0   1    0    1   \n",
       "4321            1048  9243.322928   0   0   0   0   0   0   1    1    0   \n",
       "4345            1104  9243.322928   0   0   0   0   0   0   1    1    0   \n",
       "4367            1001  9243.322928   0   0   0   0   0   0   1    1    0   \n",
       "4390            1260  9243.322928   0   0   0   0   0   0   1    1    0   \n",
       "4428             933  9243.322928   0   0   0   0   0   0   1    1    0   \n",
       "4452            1686  9243.322928   0   0   0   0   0   0   1    1    0   \n",
       "4476            1627  9243.322928   0   0   0   0   0   0   1    1    0   \n",
       "4501            1003  9243.322928   0   0   0   0   0   0   1    1    0   \n",
       "4524            1201  9243.322928   0   0   0   0   0   0   1    1    0   \n",
       "4549            1600  9243.322928   0   0   0   0   0   0   1    1    0   \n",
       "4593            1606  9243.322928   0   0   0   0   0   0   1    1    0   \n",
       "4617            1361  9243.322928   0   0   0   0   0   0   1    1    0   \n",
       "\n",
       "      ucdSchoolTerm  \n",
       "0                 0  \n",
       "25                0  \n",
       "49                0  \n",
       "50                0  \n",
       "75                0  \n",
       "100               1  \n",
       "125               1  \n",
       "149               1  \n",
       "170               1  \n",
       "192               1  \n",
       "217               1  \n",
       "242               1  \n",
       "263               1  \n",
       "288               1  \n",
       "313               1  \n",
       "338               1  \n",
       "363               1  \n",
       "387               1  \n",
       "412               1  \n",
       "434               1  \n",
       "455               1  \n",
       "475               1  \n",
       "500               1  \n",
       "521               1  \n",
       "546               1  \n",
       "571               1  \n",
       "596               1  \n",
       "620               1  \n",
       "645               1  \n",
       "670               1  \n",
       "...             ...  \n",
       "3875              0  \n",
       "3900              0  \n",
       "3923              0  \n",
       "3942              0  \n",
       "3961              0  \n",
       "3982              0  \n",
       "4005              0  \n",
       "4047              0  \n",
       "4072              0  \n",
       "4096              0  \n",
       "4120              0  \n",
       "4144              0  \n",
       "4168              0  \n",
       "4188              0  \n",
       "4230              0  \n",
       "4253              0  \n",
       "4276              0  \n",
       "4298              0  \n",
       "4321              0  \n",
       "4345              0  \n",
       "4367              0  \n",
       "4390              0  \n",
       "4428              0  \n",
       "4452              0  \n",
       "4476              0  \n",
       "4501              0  \n",
       "4524              0  \n",
       "4549              0  \n",
       "4593              0  \n",
       "4617              0  \n",
       "\n",
       "[4430 rows x 24 columns]"
      ]
     },
     "execution_count": 90,
     "metadata": {},
     "output_type": "execute_result"
    }
   ],
   "source": [
    "testdf"
   ]
  },
  {
   "cell_type": "code",
   "execution_count": 53,
   "metadata": {},
   "outputs": [
    {
     "data": {
      "text/html": [
       "<div>\n",
       "<style scoped>\n",
       "    .dataframe tbody tr th:only-of-type {\n",
       "        vertical-align: middle;\n",
       "    }\n",
       "\n",
       "    .dataframe tbody tr th {\n",
       "        vertical-align: top;\n",
       "    }\n",
       "\n",
       "    .dataframe thead th {\n",
       "        text-align: right;\n",
       "    }\n",
       "</style>\n",
       "<table border=\"1\" class=\"dataframe\">\n",
       "  <thead>\n",
       "    <tr style=\"text-align: right;\">\n",
       "      <th></th>\n",
       "      <th>dayofservice</th>\n",
       "      <th>tripid</th>\n",
       "      <th>progrnumber</th>\n",
       "      <th>stopid</th>\n",
       "      <th>plannedtime</th>\n",
       "      <th>actual_arr</th>\n",
       "      <th>actual_dep</th>\n",
       "      <th>datetime</th>\n",
       "      <th>weekday</th>\n",
       "      <th>rain</th>\n",
       "      <th>...</th>\n",
       "      <th>em</th>\n",
       "      <th>mp</th>\n",
       "      <th>lm</th>\n",
       "      <th>md</th>\n",
       "      <th>ap</th>\n",
       "      <th>ev</th>\n",
       "      <th>ln</th>\n",
       "      <th>m2f</th>\n",
       "      <th>sat</th>\n",
       "      <th>ucdSchoolTerm</th>\n",
       "    </tr>\n",
       "  </thead>\n",
       "  <tbody>\n",
       "  </tbody>\n",
       "</table>\n",
       "<p>0 rows × 24 columns</p>\n",
       "</div>"
      ],
      "text/plain": [
       "Empty DataFrame\n",
       "Columns: [dayofservice, tripid, progrnumber, stopid, plannedtime, actual_arr, actual_dep, datetime, weekday, rain, temp, tripStart, tripTravelTime, distance, em, mp, lm, md, ap, ev, ln, m2f, sat, ucdSchoolTerm]\n",
       "Index: []\n",
       "\n",
       "[0 rows x 24 columns]"
      ]
     },
     "execution_count": 53,
     "metadata": {},
     "output_type": "execute_result"
    }
   ],
   "source": [
    "testdf.loc[testdf.distance.isnull()]"
   ]
  },
  {
   "cell_type": "markdown",
   "metadata": {},
   "source": [
    "## Route Manipulation functions\n",
    "\n",
    "Functions that uses stop_times.txt to generate features and a route Dictionary that will be used with model prediction"
   ]
  },
  {
   "cell_type": "markdown",
   "metadata": {},
   "source": [
    "# <font color='red'> Only run it once</font>"
   ]
  },
  {
   "cell_type": "code",
   "execution_count": 8,
   "metadata": {},
   "outputs": [],
   "source": [
    "#Some of the work is once off, I suggest do it once not do it everytime we load in the txt.\n",
    "import pandas as pd\n",
    "stoptime = pd.read_csv('stop_times.txt')\n",
    "#Only look at the rows for certain route.\n",
    "stoptime['line'] = stoptime.trip_id.str.split('-').str[1]\n",
    "stoptime = stoptime[stoptime.stop_id.str.contains(':') == False]\n",
    "stoptime['stopid'] = stoptime.stop_id.str.slice(8,)\n",
    "stoptime.stopid = stoptime['stopid'].astype('int64')\n",
    "stoptime.to_csv('stop_timesC',index=False)"
   ]
  },
  {
   "cell_type": "code",
   "execution_count": 10,
   "metadata": {
    "scrolled": true
   },
   "outputs": [
    {
     "name": "stderr",
     "output_type": "stream",
     "text": [
      "/home/student/anaconda3/lib/python3.6/site-packages/IPython/core/interactiveshell.py:2785: DtypeWarning: Columns (9) have mixed types. Specify dtype option on import or set low_memory=False.\n",
      "  interactivity=interactivity, compiler=compiler, result=result)\n"
     ]
    },
    {
     "data": {
      "text/html": [
       "<div>\n",
       "<style scoped>\n",
       "    .dataframe tbody tr th:only-of-type {\n",
       "        vertical-align: middle;\n",
       "    }\n",
       "\n",
       "    .dataframe tbody tr th {\n",
       "        vertical-align: top;\n",
       "    }\n",
       "\n",
       "    .dataframe thead th {\n",
       "        text-align: right;\n",
       "    }\n",
       "</style>\n",
       "<table border=\"1\" class=\"dataframe\">\n",
       "  <thead>\n",
       "    <tr style=\"text-align: right;\">\n",
       "      <th></th>\n",
       "      <th>trip_id</th>\n",
       "      <th>arrival_time</th>\n",
       "      <th>departure_time</th>\n",
       "      <th>stop_id</th>\n",
       "      <th>stop_sequence</th>\n",
       "      <th>stop_headsign</th>\n",
       "      <th>pickup_type</th>\n",
       "      <th>drop_off_type</th>\n",
       "      <th>shape_dist_traveled</th>\n",
       "      <th>line</th>\n",
       "      <th>stopid</th>\n",
       "    </tr>\n",
       "  </thead>\n",
       "  <tbody>\n",
       "    <tr>\n",
       "      <th>0</th>\n",
       "      <td>3643.y102m.60-1-d12-1.1.O</td>\n",
       "      <td>15:40:00</td>\n",
       "      <td>15:40:00</td>\n",
       "      <td>8240DB000226</td>\n",
       "      <td>1</td>\n",
       "      <td>Sandymount</td>\n",
       "      <td>0</td>\n",
       "      <td>0</td>\n",
       "      <td>0.000000</td>\n",
       "      <td>1</td>\n",
       "      <td>226</td>\n",
       "    </tr>\n",
       "    <tr>\n",
       "      <th>1</th>\n",
       "      <td>3643.y102m.60-1-d12-1.1.O</td>\n",
       "      <td>15:40:47</td>\n",
       "      <td>15:40:47</td>\n",
       "      <td>8240DB000228</td>\n",
       "      <td>2</td>\n",
       "      <td>Sandymount</td>\n",
       "      <td>0</td>\n",
       "      <td>0</td>\n",
       "      <td>261.136188</td>\n",
       "      <td>1</td>\n",
       "      <td>228</td>\n",
       "    </tr>\n",
       "    <tr>\n",
       "      <th>2</th>\n",
       "      <td>3643.y102m.60-1-d12-1.1.O</td>\n",
       "      <td>15:41:26</td>\n",
       "      <td>15:41:26</td>\n",
       "      <td>8240DB000229</td>\n",
       "      <td>3</td>\n",
       "      <td>Sandymount</td>\n",
       "      <td>0</td>\n",
       "      <td>0</td>\n",
       "      <td>484.925289</td>\n",
       "      <td>1</td>\n",
       "      <td>229</td>\n",
       "    </tr>\n",
       "    <tr>\n",
       "      <th>3</th>\n",
       "      <td>3643.y102m.60-1-d12-1.1.O</td>\n",
       "      <td>15:42:30</td>\n",
       "      <td>15:42:30</td>\n",
       "      <td>8240DB000227</td>\n",
       "      <td>4</td>\n",
       "      <td>Sandymount</td>\n",
       "      <td>0</td>\n",
       "      <td>0</td>\n",
       "      <td>836.995679</td>\n",
       "      <td>1</td>\n",
       "      <td>227</td>\n",
       "    </tr>\n",
       "    <tr>\n",
       "      <th>4</th>\n",
       "      <td>3643.y102m.60-1-d12-1.1.O</td>\n",
       "      <td>15:43:09</td>\n",
       "      <td>15:43:09</td>\n",
       "      <td>8240DB000230</td>\n",
       "      <td>5</td>\n",
       "      <td>Sandymount</td>\n",
       "      <td>0</td>\n",
       "      <td>0</td>\n",
       "      <td>1066.461783</td>\n",
       "      <td>1</td>\n",
       "      <td>230</td>\n",
       "    </tr>\n",
       "  </tbody>\n",
       "</table>\n",
       "</div>"
      ],
      "text/plain": [
       "                     trip_id arrival_time departure_time       stop_id  \\\n",
       "0  3643.y102m.60-1-d12-1.1.O     15:40:00       15:40:00  8240DB000226   \n",
       "1  3643.y102m.60-1-d12-1.1.O     15:40:47       15:40:47  8240DB000228   \n",
       "2  3643.y102m.60-1-d12-1.1.O     15:41:26       15:41:26  8240DB000229   \n",
       "3  3643.y102m.60-1-d12-1.1.O     15:42:30       15:42:30  8240DB000227   \n",
       "4  3643.y102m.60-1-d12-1.1.O     15:43:09       15:43:09  8240DB000230   \n",
       "\n",
       "   stop_sequence stop_headsign  pickup_type  drop_off_type  \\\n",
       "0              1    Sandymount            0              0   \n",
       "1              2    Sandymount            0              0   \n",
       "2              3    Sandymount            0              0   \n",
       "3              4    Sandymount            0              0   \n",
       "4              5    Sandymount            0              0   \n",
       "\n",
       "   shape_dist_traveled line  stopid  \n",
       "0             0.000000    1     226  \n",
       "1           261.136188    1     228  \n",
       "2           484.925289    1     229  \n",
       "3           836.995679    1     227  \n",
       "4          1066.461783    1     230  "
      ]
     },
     "execution_count": 10,
     "metadata": {},
     "output_type": "execute_result"
    }
   ],
   "source": [
    "stoptime = pd.read_csv('stop_timesC')\n",
    "#stoptime.dtypes\n",
    "stoptime.head()"
   ]
  },
  {
   "cell_type": "code",
   "execution_count": 11,
   "metadata": {},
   "outputs": [
    {
     "data": {
      "text/html": [
       "<div>\n",
       "<style scoped>\n",
       "    .dataframe tbody tr th:only-of-type {\n",
       "        vertical-align: middle;\n",
       "    }\n",
       "\n",
       "    .dataframe tbody tr th {\n",
       "        vertical-align: top;\n",
       "    }\n",
       "\n",
       "    .dataframe thead th {\n",
       "        text-align: right;\n",
       "    }\n",
       "</style>\n",
       "<table border=\"1\" class=\"dataframe\">\n",
       "  <thead>\n",
       "    <tr style=\"text-align: right;\">\n",
       "      <th></th>\n",
       "      <th>trip_id</th>\n",
       "      <th>arrival_time</th>\n",
       "      <th>departure_time</th>\n",
       "      <th>stop_id</th>\n",
       "      <th>stop_sequence</th>\n",
       "      <th>stop_headsign</th>\n",
       "      <th>pickup_type</th>\n",
       "      <th>drop_off_type</th>\n",
       "      <th>shape_dist_traveled</th>\n",
       "      <th>line</th>\n",
       "      <th>stopid</th>\n",
       "      <th>tripmark</th>\n",
       "    </tr>\n",
       "  </thead>\n",
       "  <tbody>\n",
       "    <tr>\n",
       "      <th>0</th>\n",
       "      <td>3643.y102m.60-1-d12-1.1.O</td>\n",
       "      <td>15:40:00</td>\n",
       "      <td>15:40:00</td>\n",
       "      <td>8240DB000226</td>\n",
       "      <td>1</td>\n",
       "      <td>Sandymount</td>\n",
       "      <td>0</td>\n",
       "      <td>0</td>\n",
       "      <td>0.000000</td>\n",
       "      <td>1</td>\n",
       "      <td>226</td>\n",
       "      <td>1</td>\n",
       "    </tr>\n",
       "    <tr>\n",
       "      <th>1</th>\n",
       "      <td>3643.y102m.60-1-d12-1.1.O</td>\n",
       "      <td>15:40:47</td>\n",
       "      <td>15:40:47</td>\n",
       "      <td>8240DB000228</td>\n",
       "      <td>2</td>\n",
       "      <td>Sandymount</td>\n",
       "      <td>0</td>\n",
       "      <td>0</td>\n",
       "      <td>261.136188</td>\n",
       "      <td>1</td>\n",
       "      <td>228</td>\n",
       "      <td>1</td>\n",
       "    </tr>\n",
       "    <tr>\n",
       "      <th>2</th>\n",
       "      <td>3643.y102m.60-1-d12-1.1.O</td>\n",
       "      <td>15:41:26</td>\n",
       "      <td>15:41:26</td>\n",
       "      <td>8240DB000229</td>\n",
       "      <td>3</td>\n",
       "      <td>Sandymount</td>\n",
       "      <td>0</td>\n",
       "      <td>0</td>\n",
       "      <td>484.925289</td>\n",
       "      <td>1</td>\n",
       "      <td>229</td>\n",
       "      <td>1</td>\n",
       "    </tr>\n",
       "    <tr>\n",
       "      <th>3</th>\n",
       "      <td>3643.y102m.60-1-d12-1.1.O</td>\n",
       "      <td>15:42:30</td>\n",
       "      <td>15:42:30</td>\n",
       "      <td>8240DB000227</td>\n",
       "      <td>4</td>\n",
       "      <td>Sandymount</td>\n",
       "      <td>0</td>\n",
       "      <td>0</td>\n",
       "      <td>836.995679</td>\n",
       "      <td>1</td>\n",
       "      <td>227</td>\n",
       "      <td>1</td>\n",
       "    </tr>\n",
       "    <tr>\n",
       "      <th>4</th>\n",
       "      <td>3643.y102m.60-1-d12-1.1.O</td>\n",
       "      <td>15:43:09</td>\n",
       "      <td>15:43:09</td>\n",
       "      <td>8240DB000230</td>\n",
       "      <td>5</td>\n",
       "      <td>Sandymount</td>\n",
       "      <td>0</td>\n",
       "      <td>0</td>\n",
       "      <td>1066.461783</td>\n",
       "      <td>1</td>\n",
       "      <td>230</td>\n",
       "      <td>1</td>\n",
       "    </tr>\n",
       "  </tbody>\n",
       "</table>\n",
       "</div>"
      ],
      "text/plain": [
       "                     trip_id arrival_time departure_time       stop_id  \\\n",
       "0  3643.y102m.60-1-d12-1.1.O     15:40:00       15:40:00  8240DB000226   \n",
       "1  3643.y102m.60-1-d12-1.1.O     15:40:47       15:40:47  8240DB000228   \n",
       "2  3643.y102m.60-1-d12-1.1.O     15:41:26       15:41:26  8240DB000229   \n",
       "3  3643.y102m.60-1-d12-1.1.O     15:42:30       15:42:30  8240DB000227   \n",
       "4  3643.y102m.60-1-d12-1.1.O     15:43:09       15:43:09  8240DB000230   \n",
       "\n",
       "   stop_sequence stop_headsign  pickup_type  drop_off_type  \\\n",
       "0              1    Sandymount            0              0   \n",
       "1              2    Sandymount            0              0   \n",
       "2              3    Sandymount            0              0   \n",
       "3              4    Sandymount            0              0   \n",
       "4              5    Sandymount            0              0   \n",
       "\n",
       "   shape_dist_traveled line  stopid tripmark  \n",
       "0             0.000000    1     226        1  \n",
       "1           261.136188    1     228        1  \n",
       "2           484.925289    1     229        1  \n",
       "3           836.995679    1     227        1  \n",
       "4          1066.461783    1     230        1  "
      ]
     },
     "execution_count": 11,
     "metadata": {},
     "output_type": "execute_result"
    }
   ],
   "source": [
    "stoptime['tripmark'] = stoptime.trip_id.str.split('.').str[3]\n",
    "stoptime.head()"
   ]
  },
  {
   "cell_type": "code",
   "execution_count": 14,
   "metadata": {},
   "outputs": [],
   "source": [
    "stoptime[['stop_sequence','stop_headsign','shape_dist_traveled','line','stopid','tripmark']].drop_duplicates().to_csv('stop_timeCC',index=False)"
   ]
  },
  {
   "cell_type": "code",
   "execution_count": null,
   "metadata": {},
   "outputs": [],
   "source": [
    "'''\n",
    "I notice a situation that you cannot just use get unique to get all the unique route. This is because there are more than one\n",
    "route for a bus line + direction. E.g.:\n",
    "39aO has three combination, \n",
    "1. start from UCD(767), go to Ongar\n",
    "2. start from UCD(767), go to Aston\n",
    "3. start from Aston(328), go to Ongar.\n",
    "Base on this kind of situation, I suggest we name route as 39a_767_7162_Ongar (busline+startstopid+endstopid+destinationStop).\n",
    "This will guarantee we have all the routes and it would be clean and without dupilication.\n",
    "'''"
   ]
  },
  {
   "cell_type": "code",
   "execution_count": 30,
   "metadata": {
    "scrolled": true
   },
   "outputs": [
    {
     "data": {
      "text/plain": [
       "{767: 0.0,\n",
       " 768: 657.287066064875,\n",
       " 769: 985.330520927881,\n",
       " 770: 1429.24894221461,\n",
       " 771: 1620.44696377974,\n",
       " 772: 2127.48709498295,\n",
       " 773: 3434.8578642479997,\n",
       " 774: 3677.18821727873,\n",
       " 775: 4001.74363072419,\n",
       " 776: 4285.13185337461,\n",
       " 777: 4493.83259606615,\n",
       " 779: 4740.48732233394,\n",
       " 780: 5009.04830237385,\n",
       " 781: 5193.6587029476,\n",
       " 782: 5357.09815442135,\n",
       " 783: 5606.069766801032,\n",
       " 784: 5776.637949866071,\n",
       " 785: 6055.606335357479,\n",
       " 786: 6545.589502681712,\n",
       " 793: 7269.64182312836,\n",
       " 7586: 7835.15763393275,\n",
       " 7587: 8467.10980025078,\n",
       " 7588: 8530.04627616102,\n",
       " 328: 9243.322928124291,\n",
       " 1443: 9826.568859010358,\n",
       " 1444: 10107.2418629801,\n",
       " 1445: 10417.1497368751,\n",
       " 1647: 10939.5178555804,\n",
       " 1648: 11272.5213698264,\n",
       " 1649: 11469.3056185517,\n",
       " 1911: 11995.4996735001,\n",
       " 1913: 12337.7290265695,\n",
       " 1914: 12592.8159362723,\n",
       " 1805: 12806.0519246444,\n",
       " 1806: 13196.947965981299,\n",
       " 1660: 13713.2410577792,\n",
       " 1661: 13997.7195279663,\n",
       " 1662: 14322.374320031799,\n",
       " 1664: 14788.0353517777,\n",
       " 1665: 15079.2139210518,\n",
       " 1666: 15297.9786348426,\n",
       " 1807: 15967.1810641978,\n",
       " 7167: 16369.8533845337,\n",
       " 1808: 17103.152811295702,\n",
       " 7389: 18513.6157131016,\n",
       " 7025: 20668.56662585,\n",
       " 4464: 21247.637917564498,\n",
       " 1869: 21507.9762408622,\n",
       " 1870: 21728.6060840384,\n",
       " 1871: 21997.7051787869,\n",
       " 1872: 22281.5037947158,\n",
       " 1873: 22612.4879650431,\n",
       " 1874: 22895.4121631934,\n",
       " 1875: 23138.8029119334,\n",
       " 1876: 23387.224631250898,\n",
       " 1877: 23746.9918188,\n",
       " 1878: 24123.2834825881,\n",
       " 1879: 24537.666585506602,\n",
       " 1899: 24969.4769196035,\n",
       " 6107: 25191.7656265229,\n",
       " 6108: 25502.7720573246,\n",
       " 6109: 25868.320069861602,\n",
       " 6110: 26456.658753571093,\n",
       " 7020: 26997.648635589303,\n",
       " 7029: 27197.0086661429,\n",
       " 7038: 27567.268713262998,\n",
       " 7011: 28078.4858492885,\n",
       " 2171: 28824.5486652296,\n",
       " 7160: 28975.920015846,\n",
       " 7047: 29493.627107084103,\n",
       " 7161: 29829.2320531325,\n",
       " 7162: 30162.2693348186}"
      ]
     },
     "execution_count": 30,
     "metadata": {},
     "output_type": "execute_result"
    }
   ],
   "source": [
    "d = load_obj('stopDicts/39A_767_ Ongar')\n",
    "d"
   ]
  },
  {
   "cell_type": "code",
   "execution_count": 59,
   "metadata": {
    "scrolled": true
   },
   "outputs": [
    {
     "data": {
      "text/html": [
       "<div>\n",
       "<style scoped>\n",
       "    .dataframe tbody tr th:only-of-type {\n",
       "        vertical-align: middle;\n",
       "    }\n",
       "\n",
       "    .dataframe tbody tr th {\n",
       "        vertical-align: top;\n",
       "    }\n",
       "\n",
       "    .dataframe thead th {\n",
       "        text-align: right;\n",
       "    }\n",
       "</style>\n",
       "<table border=\"1\" class=\"dataframe\">\n",
       "  <thead>\n",
       "    <tr style=\"text-align: right;\">\n",
       "      <th></th>\n",
       "      <th>distance</th>\n",
       "    </tr>\n",
       "  </thead>\n",
       "  <tbody>\n",
       "    <tr>\n",
       "      <th>767</th>\n",
       "      <td>0.000000</td>\n",
       "    </tr>\n",
       "    <tr>\n",
       "      <th>768</th>\n",
       "      <td>657.287066</td>\n",
       "    </tr>\n",
       "    <tr>\n",
       "      <th>769</th>\n",
       "      <td>985.330521</td>\n",
       "    </tr>\n",
       "    <tr>\n",
       "      <th>770</th>\n",
       "      <td>1429.248942</td>\n",
       "    </tr>\n",
       "    <tr>\n",
       "      <th>771</th>\n",
       "      <td>1620.446964</td>\n",
       "    </tr>\n",
       "    <tr>\n",
       "      <th>772</th>\n",
       "      <td>2127.487095</td>\n",
       "    </tr>\n",
       "    <tr>\n",
       "      <th>773</th>\n",
       "      <td>3434.857864</td>\n",
       "    </tr>\n",
       "    <tr>\n",
       "      <th>774</th>\n",
       "      <td>3677.188217</td>\n",
       "    </tr>\n",
       "    <tr>\n",
       "      <th>775</th>\n",
       "      <td>4001.743631</td>\n",
       "    </tr>\n",
       "    <tr>\n",
       "      <th>776</th>\n",
       "      <td>4285.131853</td>\n",
       "    </tr>\n",
       "    <tr>\n",
       "      <th>777</th>\n",
       "      <td>4493.832596</td>\n",
       "    </tr>\n",
       "    <tr>\n",
       "      <th>779</th>\n",
       "      <td>4740.487322</td>\n",
       "    </tr>\n",
       "    <tr>\n",
       "      <th>780</th>\n",
       "      <td>5009.048302</td>\n",
       "    </tr>\n",
       "    <tr>\n",
       "      <th>781</th>\n",
       "      <td>5193.658703</td>\n",
       "    </tr>\n",
       "    <tr>\n",
       "      <th>782</th>\n",
       "      <td>5357.098154</td>\n",
       "    </tr>\n",
       "    <tr>\n",
       "      <th>783</th>\n",
       "      <td>5606.069767</td>\n",
       "    </tr>\n",
       "    <tr>\n",
       "      <th>784</th>\n",
       "      <td>5776.637950</td>\n",
       "    </tr>\n",
       "    <tr>\n",
       "      <th>785</th>\n",
       "      <td>6055.606335</td>\n",
       "    </tr>\n",
       "    <tr>\n",
       "      <th>786</th>\n",
       "      <td>6545.589503</td>\n",
       "    </tr>\n",
       "    <tr>\n",
       "      <th>793</th>\n",
       "      <td>7269.641823</td>\n",
       "    </tr>\n",
       "    <tr>\n",
       "      <th>7586</th>\n",
       "      <td>7835.157634</td>\n",
       "    </tr>\n",
       "    <tr>\n",
       "      <th>7587</th>\n",
       "      <td>8467.109800</td>\n",
       "    </tr>\n",
       "    <tr>\n",
       "      <th>7588</th>\n",
       "      <td>8530.046276</td>\n",
       "    </tr>\n",
       "    <tr>\n",
       "      <th>328</th>\n",
       "      <td>9243.322928</td>\n",
       "    </tr>\n",
       "    <tr>\n",
       "      <th>1443</th>\n",
       "      <td>9826.568859</td>\n",
       "    </tr>\n",
       "    <tr>\n",
       "      <th>1444</th>\n",
       "      <td>10107.241863</td>\n",
       "    </tr>\n",
       "    <tr>\n",
       "      <th>1445</th>\n",
       "      <td>10417.149737</td>\n",
       "    </tr>\n",
       "    <tr>\n",
       "      <th>1647</th>\n",
       "      <td>10939.517856</td>\n",
       "    </tr>\n",
       "    <tr>\n",
       "      <th>1648</th>\n",
       "      <td>11272.521370</td>\n",
       "    </tr>\n",
       "    <tr>\n",
       "      <th>1649</th>\n",
       "      <td>11469.305619</td>\n",
       "    </tr>\n",
       "    <tr>\n",
       "      <th>...</th>\n",
       "      <td>...</td>\n",
       "    </tr>\n",
       "    <tr>\n",
       "      <th>7167</th>\n",
       "      <td>16369.853385</td>\n",
       "    </tr>\n",
       "    <tr>\n",
       "      <th>1808</th>\n",
       "      <td>17103.152811</td>\n",
       "    </tr>\n",
       "    <tr>\n",
       "      <th>7389</th>\n",
       "      <td>18513.615713</td>\n",
       "    </tr>\n",
       "    <tr>\n",
       "      <th>7025</th>\n",
       "      <td>20668.566626</td>\n",
       "    </tr>\n",
       "    <tr>\n",
       "      <th>4464</th>\n",
       "      <td>21247.637918</td>\n",
       "    </tr>\n",
       "    <tr>\n",
       "      <th>1869</th>\n",
       "      <td>21507.976241</td>\n",
       "    </tr>\n",
       "    <tr>\n",
       "      <th>1870</th>\n",
       "      <td>21728.606084</td>\n",
       "    </tr>\n",
       "    <tr>\n",
       "      <th>1871</th>\n",
       "      <td>21997.705179</td>\n",
       "    </tr>\n",
       "    <tr>\n",
       "      <th>1872</th>\n",
       "      <td>22281.503795</td>\n",
       "    </tr>\n",
       "    <tr>\n",
       "      <th>1873</th>\n",
       "      <td>22612.487965</td>\n",
       "    </tr>\n",
       "    <tr>\n",
       "      <th>1874</th>\n",
       "      <td>22895.412163</td>\n",
       "    </tr>\n",
       "    <tr>\n",
       "      <th>1875</th>\n",
       "      <td>23138.802912</td>\n",
       "    </tr>\n",
       "    <tr>\n",
       "      <th>1876</th>\n",
       "      <td>23387.224631</td>\n",
       "    </tr>\n",
       "    <tr>\n",
       "      <th>1877</th>\n",
       "      <td>23746.991819</td>\n",
       "    </tr>\n",
       "    <tr>\n",
       "      <th>1878</th>\n",
       "      <td>24123.283483</td>\n",
       "    </tr>\n",
       "    <tr>\n",
       "      <th>1879</th>\n",
       "      <td>24537.666586</td>\n",
       "    </tr>\n",
       "    <tr>\n",
       "      <th>1899</th>\n",
       "      <td>24969.476920</td>\n",
       "    </tr>\n",
       "    <tr>\n",
       "      <th>6107</th>\n",
       "      <td>25191.765627</td>\n",
       "    </tr>\n",
       "    <tr>\n",
       "      <th>6108</th>\n",
       "      <td>25502.772057</td>\n",
       "    </tr>\n",
       "    <tr>\n",
       "      <th>6109</th>\n",
       "      <td>25868.320070</td>\n",
       "    </tr>\n",
       "    <tr>\n",
       "      <th>6110</th>\n",
       "      <td>26456.658754</td>\n",
       "    </tr>\n",
       "    <tr>\n",
       "      <th>7020</th>\n",
       "      <td>26997.648636</td>\n",
       "    </tr>\n",
       "    <tr>\n",
       "      <th>7029</th>\n",
       "      <td>27197.008666</td>\n",
       "    </tr>\n",
       "    <tr>\n",
       "      <th>7038</th>\n",
       "      <td>27567.268713</td>\n",
       "    </tr>\n",
       "    <tr>\n",
       "      <th>7011</th>\n",
       "      <td>28078.485849</td>\n",
       "    </tr>\n",
       "    <tr>\n",
       "      <th>2171</th>\n",
       "      <td>28824.548665</td>\n",
       "    </tr>\n",
       "    <tr>\n",
       "      <th>7160</th>\n",
       "      <td>28975.920016</td>\n",
       "    </tr>\n",
       "    <tr>\n",
       "      <th>7047</th>\n",
       "      <td>29493.627107</td>\n",
       "    </tr>\n",
       "    <tr>\n",
       "      <th>7161</th>\n",
       "      <td>29829.232053</td>\n",
       "    </tr>\n",
       "    <tr>\n",
       "      <th>7162</th>\n",
       "      <td>30162.269335</td>\n",
       "    </tr>\n",
       "  </tbody>\n",
       "</table>\n",
       "<p>72 rows × 1 columns</p>\n",
       "</div>"
      ],
      "text/plain": [
       "          distance\n",
       "767       0.000000\n",
       "768     657.287066\n",
       "769     985.330521\n",
       "770    1429.248942\n",
       "771    1620.446964\n",
       "772    2127.487095\n",
       "773    3434.857864\n",
       "774    3677.188217\n",
       "775    4001.743631\n",
       "776    4285.131853\n",
       "777    4493.832596\n",
       "779    4740.487322\n",
       "780    5009.048302\n",
       "781    5193.658703\n",
       "782    5357.098154\n",
       "783    5606.069767\n",
       "784    5776.637950\n",
       "785    6055.606335\n",
       "786    6545.589503\n",
       "793    7269.641823\n",
       "7586   7835.157634\n",
       "7587   8467.109800\n",
       "7588   8530.046276\n",
       "328    9243.322928\n",
       "1443   9826.568859\n",
       "1444  10107.241863\n",
       "1445  10417.149737\n",
       "1647  10939.517856\n",
       "1648  11272.521370\n",
       "1649  11469.305619\n",
       "...            ...\n",
       "7167  16369.853385\n",
       "1808  17103.152811\n",
       "7389  18513.615713\n",
       "7025  20668.566626\n",
       "4464  21247.637918\n",
       "1869  21507.976241\n",
       "1870  21728.606084\n",
       "1871  21997.705179\n",
       "1872  22281.503795\n",
       "1873  22612.487965\n",
       "1874  22895.412163\n",
       "1875  23138.802912\n",
       "1876  23387.224631\n",
       "1877  23746.991819\n",
       "1878  24123.283483\n",
       "1879  24537.666586\n",
       "1899  24969.476920\n",
       "6107  25191.765627\n",
       "6108  25502.772057\n",
       "6109  25868.320070\n",
       "6110  26456.658754\n",
       "7020  26997.648636\n",
       "7029  27197.008666\n",
       "7038  27567.268713\n",
       "7011  28078.485849\n",
       "2171  28824.548665\n",
       "7160  28975.920016\n",
       "7047  29493.627107\n",
       "7161  29829.232053\n",
       "7162  30162.269335\n",
       "\n",
       "[72 rows x 1 columns]"
      ]
     },
     "execution_count": 59,
     "metadata": {},
     "output_type": "execute_result"
    }
   ],
   "source": [
    "pd.DataFrame.from_dict(d,orient='index',columns=['distance'])"
   ]
  },
  {
   "cell_type": "code",
   "execution_count": 47,
   "metadata": {},
   "outputs": [],
   "source": [
    "#Based on the discussion above, I changed this function into a function that run once and split all the routes into pickle file\n",
    "# for later consideration:\n",
    "#https://stackoverflow.com/questions/16497115/python-pickle-vs-sql-efficiency\n",
    "#security issue? efficiency issue?...\n",
    "@timeit\n",
    "def getStops(file):\n",
    "    \n",
    "    '''get stops for a certain route from GTFS file.'''\n",
    "    \n",
    "    stoptime = pd.read_csv(file)\n",
    "    '''\n",
    "    #stoptime['line'] = stoptime.trip_id.str.split('-').str[1]\n",
    "    #stoptime = stoptime[stoptime.stop_id.str.contains(':') == False]\n",
    "    #stoptime['stopid'] = stoptime.stop_id.str.slice(8,)\n",
    "    #stoptime.stopid = stoptime['stopid'].astype('int64')\n",
    "    \n",
    "    if outbound == True:\n",
    "        routeDf = stoptime.loc[(stoptime.line == route) & (stoptime.trip_id.str.split('.').str[4]=='O')]\n",
    "    elif outbound == False:\n",
    "        routeDf = stoptime.loc[(stoptime.line == route) & (stoptime.trip_id.str.split('.').str[4]=='I')]\n",
    "    else:\n",
    "        return 'Error outbound must be True or False!'\n",
    "    \n",
    "    #Now there are many duplicate in the df, get unique.\n",
    "    \n",
    "    return routeDf[['stop_sequence','shape_dist_traveled', 'stopid']]\n",
    "    \n",
    "    header = ['stop_sequence','stop_headsign','shape_dist_traveled','line','stopid','tripmark']\n",
    "    '''\n",
    "    for line in stoptime.line.unique():\n",
    "        for tm in stoptime.tripmark.unique():\n",
    "            df = stoptime.loc[(stoptime.line == line) & (stoptime.tripmark == tm)]\n",
    "            #print(df)\n",
    "            if not df.empty and not df.loc[df.stop_sequence==1,'stopid'].empty:\n",
    "                #IndexError: index 0 is out of bounds for axis 0 with size 0\n",
    "                start = str(df.loc[df.stop_sequence==1,'stopid'].values[0]).strip()\n",
    "                dest = str(df.loc[df.stop_sequence==1,'stop_headsign'].values[0]).strip()\n",
    "                end = str(df.loc[df.stop_sequence.idxmax(),'stopid']).strip()\n",
    "                save_obj(df[['stopid','shape_dist_traveled']].set_index('stopid')['shape_dist_traveled'].to_dict(), \\\n",
    "                         'stopDicts/'+str(line)+'_'+start+'_'+ end +'_'+ dest)"
   ]
  },
  {
   "cell_type": "code",
   "execution_count": 48,
   "metadata": {},
   "outputs": [
    {
     "name": "stdout",
     "output_type": "stream",
     "text": [
      "'getStops'  349834.00 ms\n"
     ]
    }
   ],
   "source": [
    "getStops('stop_timeCC')"
   ]
  },
  {
   "cell_type": "markdown",
   "metadata": {},
   "source": [
    "# <font color='red'> Only run it once END</font>"
   ]
  },
  {
   "cell_type": "code",
   "execution_count": 7,
   "metadata": {},
   "outputs": [],
   "source": [
    "def createStopDict(routeDf, name):\n",
    "    stops = routeDf[['stop_sequence','stopid']]\n",
    "    stops = stops.reset_index(drop = True)\n",
    "    stops = stops.sort_values('stop_sequence')\n",
    "    with open('obj/'+ name + '.pkl', 'wb') as f:\n",
    "        pickle.dump(stops.stopid.tolist(), f, pickle.HIGHEST_PROTOCOL)\n",
    "    return"
   ]
  },
  {
   "cell_type": "code",
   "execution_count": 3,
   "metadata": {},
   "outputs": [],
   "source": [
    "def checkstopSeq(routeDf):\n",
    "    if routeDf.stopSeq.iloc[0] != 1:\n",
    "        print('Starting stop is not 1')\n",
    "        return False\n",
    "    else:\n",
    "        for i in routeDf.stopSeq:\n",
    "            if routeDf.stopSeq.iloc[i+1] - routeDf.stopSeq.iloc[i] == 1:\n",
    "                pass\n",
    "                if routeDf.stopSeq.iloc[i+1] == routeDf.stopSeq.iloc[-1]:\n",
    "                    break\n",
    "            else:\n",
    "                return False\n",
    "            if routeDf.stopSeq.is_monotonic_increasing == True:\n",
    "                return True\n",
    "            elif routeDf.stopSeq.is_monotonic_increasing == False:\n",
    "                return False\n",
    "            else:\n",
    "                return 'Error in monotonic method'"
   ]
  },
  {
   "cell_type": "code",
   "execution_count": null,
   "metadata": {},
   "outputs": [],
   "source": [
    "#Now we have the dictionary pickle that contains stopid and distance, we can use this to add features.\n"
   ]
  },
  {
   "cell_type": "markdown",
   "metadata": {},
   "source": [
    "# The functions for data preparation is ready above, time to build functions to train models. :)"
   ]
  },
  {
   "cell_type": "code",
   "execution_count": 74,
   "metadata": {},
   "outputs": [],
   "source": [
    "from sklearn.preprocessing import StandardScaler\n",
    "from sklearn.neural_network import MLPRegressor\n",
    "from sklearn.metrics import mean_absolute_error\n",
    "import os\n",
    "@timeit\n",
    "def prepareAndTrain(df, identifier, Xcol=['progrnumber','plannedtime','rain','weekday','distance','em','mp','lm','md','ap','ev',\n",
    "                                          'ln','temp','m2f','sat','ucdSchoolTerm'], y='tripTravelTime', split=0.7):\n",
    "    '''\n",
    "    This function will take a dataframe, Prepare it for a neural network model.\n",
    "    Export scaler file for later use.\n",
    "    Xcol: A list of columns to train model\n",
    "    y: target feature\n",
    "    split: split percentage. By default 0.7/0.3\n",
    "    train neural network model\n",
    "    evaluate it.\n",
    "    '''\n",
    "    if not os.path.isfile('obj/scalers/'+identifier[0]+'_'+identifier[1]+'_'+identifier[2]+'_scaler.pkl') or \\\n",
    "    not os.path.isfile('obj/models/'+identifier[0]+'_'+identifier[1]+'_'+identifier[2]+'_model.pkl'): \n",
    "        #df.sample(frac=1)\n",
    "        df = df.loc[df.tripTravelTime > 0].sample(frac=1)\n",
    "        X = df[Xcol]\n",
    "        split = int(df.shape[0]*split)\n",
    "        X_train, X_test = X[:split], X[split:]\n",
    "        y_train, y_test = df[y][:split], df[y][split:]\n",
    "        scaler = StandardScaler() \n",
    "        scaler.fit(X_train)\n",
    "\n",
    "        X_train = scaler.transform(X_train)\n",
    "        X_test = scaler.transform(X_test)\n",
    "\n",
    "        regr = MLPRegressor()\n",
    "        regr.fit(X_train, y_train)\n",
    "\n",
    "        y_pred = regr.predict(X_test)\n",
    "        print('MAE:',mean_absolute_error(y_test, y_pred))\n",
    "\n",
    "        if mean_absolute_error(y_test, y_pred) <= 300:\n",
    "            #if not os.path.isfile('obj/scalers/'+identifier[0]+'_'+identifier[1]+'_'+identifier[2]+'_scaler'): \n",
    "            #Model's MAE smaller than 5mins\n",
    "\n",
    "            #How to name it?\n",
    "            save_obj(scaler,'scalers/'+identifier[0]+'_'+identifier[1]+'_'+identifier[2]+'_scaler')\n",
    "            save_obj(regr,'models/'+identifier[0]+'_'+identifier[1]+'_'+identifier[2]+'_model')\n",
    "        else:\n",
    "            log = \":(((( Unqualified route:\"+str(identifier)\n",
    "            print(log)\n",
    "            append_obj(identifier,'unqualifiedlog')"
   ]
  },
  {
   "cell_type": "code",
   "execution_count": 64,
   "metadata": {},
   "outputs": [
    {
     "data": {
      "text/plain": [
       "False"
      ]
     },
     "execution_count": 64,
     "metadata": {},
     "output_type": "execute_result"
    }
   ],
   "source": [
    "not os.path.isfile('obj/scalers/111_3057_4983_scaler.pkl') and \\\n",
    "not os.path.isfile('obj/models/111_3057_4983_model.pkl')"
   ]
  },
  {
   "cell_type": "code",
   "execution_count": 55,
   "metadata": {},
   "outputs": [
    {
     "name": "stdout",
     "output_type": "stream",
     "text": [
      "'dataPreparation'  268912.01 ms\n"
     ]
    }
   ],
   "source": [
    "testdf, id = dataPreparation('Test/leavetimes/39A_40l')"
   ]
  },
  {
   "cell_type": "code",
   "execution_count": 56,
   "metadata": {},
   "outputs": [
    {
     "data": {
      "text/html": [
       "<div>\n",
       "<style scoped>\n",
       "    .dataframe tbody tr th:only-of-type {\n",
       "        vertical-align: middle;\n",
       "    }\n",
       "\n",
       "    .dataframe tbody tr th {\n",
       "        vertical-align: top;\n",
       "    }\n",
       "\n",
       "    .dataframe thead th {\n",
       "        text-align: right;\n",
       "    }\n",
       "</style>\n",
       "<table border=\"1\" class=\"dataframe\">\n",
       "  <thead>\n",
       "    <tr style=\"text-align: right;\">\n",
       "      <th></th>\n",
       "      <th>dayofservice</th>\n",
       "      <th>tripid</th>\n",
       "      <th>progrnumber</th>\n",
       "      <th>stopid</th>\n",
       "      <th>plannedtime</th>\n",
       "      <th>actual_arr</th>\n",
       "      <th>actual_dep</th>\n",
       "      <th>datetime</th>\n",
       "      <th>weekday</th>\n",
       "      <th>rain</th>\n",
       "      <th>...</th>\n",
       "      <th>em</th>\n",
       "      <th>mp</th>\n",
       "      <th>lm</th>\n",
       "      <th>md</th>\n",
       "      <th>ap</th>\n",
       "      <th>ev</th>\n",
       "      <th>ln</th>\n",
       "      <th>m2f</th>\n",
       "      <th>sat</th>\n",
       "      <th>ucdSchoolTerm</th>\n",
       "    </tr>\n",
       "  </thead>\n",
       "  <tbody>\n",
       "    <tr>\n",
       "      <th>1</th>\n",
       "      <td>2016-01-09</td>\n",
       "      <td>2784478</td>\n",
       "      <td>2</td>\n",
       "      <td>768</td>\n",
       "      <td>23543</td>\n",
       "      <td>23486</td>\n",
       "      <td>23486</td>\n",
       "      <td>2016-01-09 06:31:26</td>\n",
       "      <td>5</td>\n",
       "      <td>0.0</td>\n",
       "      <td>...</td>\n",
       "      <td>1</td>\n",
       "      <td>0</td>\n",
       "      <td>0</td>\n",
       "      <td>0</td>\n",
       "      <td>0</td>\n",
       "      <td>0</td>\n",
       "      <td>0</td>\n",
       "      <td>0</td>\n",
       "      <td>1</td>\n",
       "      <td>0</td>\n",
       "    </tr>\n",
       "    <tr>\n",
       "      <th>74</th>\n",
       "      <td>2016-01-09</td>\n",
       "      <td>2784522</td>\n",
       "      <td>2</td>\n",
       "      <td>768</td>\n",
       "      <td>24443</td>\n",
       "      <td>24463</td>\n",
       "      <td>24479</td>\n",
       "      <td>2016-01-09 06:47:43</td>\n",
       "      <td>5</td>\n",
       "      <td>0.0</td>\n",
       "      <td>...</td>\n",
       "      <td>1</td>\n",
       "      <td>0</td>\n",
       "      <td>0</td>\n",
       "      <td>0</td>\n",
       "      <td>0</td>\n",
       "      <td>0</td>\n",
       "      <td>0</td>\n",
       "      <td>0</td>\n",
       "      <td>1</td>\n",
       "      <td>0</td>\n",
       "    </tr>\n",
       "    <tr>\n",
       "      <th>147</th>\n",
       "      <td>2016-01-09</td>\n",
       "      <td>2784527</td>\n",
       "      <td>2</td>\n",
       "      <td>768</td>\n",
       "      <td>25304</td>\n",
       "      <td>25293</td>\n",
       "      <td>25293</td>\n",
       "      <td>2016-01-09 07:01:33</td>\n",
       "      <td>5</td>\n",
       "      <td>0.4</td>\n",
       "      <td>...</td>\n",
       "      <td>0</td>\n",
       "      <td>1</td>\n",
       "      <td>0</td>\n",
       "      <td>0</td>\n",
       "      <td>0</td>\n",
       "      <td>0</td>\n",
       "      <td>0</td>\n",
       "      <td>0</td>\n",
       "      <td>1</td>\n",
       "      <td>0</td>\n",
       "    </tr>\n",
       "    <tr>\n",
       "      <th>220</th>\n",
       "      <td>2016-01-09</td>\n",
       "      <td>2784397</td>\n",
       "      <td>2</td>\n",
       "      <td>768</td>\n",
       "      <td>27104</td>\n",
       "      <td>26804</td>\n",
       "      <td>26814</td>\n",
       "      <td>2016-01-09 07:26:44</td>\n",
       "      <td>5</td>\n",
       "      <td>0.4</td>\n",
       "      <td>...</td>\n",
       "      <td>0</td>\n",
       "      <td>1</td>\n",
       "      <td>0</td>\n",
       "      <td>0</td>\n",
       "      <td>0</td>\n",
       "      <td>0</td>\n",
       "      <td>0</td>\n",
       "      <td>0</td>\n",
       "      <td>1</td>\n",
       "      <td>0</td>\n",
       "    </tr>\n",
       "    <tr>\n",
       "      <th>293</th>\n",
       "      <td>2016-01-09</td>\n",
       "      <td>2784404</td>\n",
       "      <td>2</td>\n",
       "      <td>768</td>\n",
       "      <td>28004</td>\n",
       "      <td>28089</td>\n",
       "      <td>28089</td>\n",
       "      <td>2016-01-09 07:48:09</td>\n",
       "      <td>5</td>\n",
       "      <td>0.4</td>\n",
       "      <td>...</td>\n",
       "      <td>0</td>\n",
       "      <td>1</td>\n",
       "      <td>0</td>\n",
       "      <td>0</td>\n",
       "      <td>0</td>\n",
       "      <td>0</td>\n",
       "      <td>0</td>\n",
       "      <td>0</td>\n",
       "      <td>1</td>\n",
       "      <td>0</td>\n",
       "    </tr>\n",
       "    <tr>\n",
       "      <th>366</th>\n",
       "      <td>2016-01-09</td>\n",
       "      <td>2784532</td>\n",
       "      <td>2</td>\n",
       "      <td>768</td>\n",
       "      <td>28925</td>\n",
       "      <td>28892</td>\n",
       "      <td>28892</td>\n",
       "      <td>2016-01-09 08:01:32</td>\n",
       "      <td>5</td>\n",
       "      <td>1.1</td>\n",
       "      <td>...</td>\n",
       "      <td>0</td>\n",
       "      <td>1</td>\n",
       "      <td>0</td>\n",
       "      <td>0</td>\n",
       "      <td>0</td>\n",
       "      <td>0</td>\n",
       "      <td>0</td>\n",
       "      <td>0</td>\n",
       "      <td>1</td>\n",
       "      <td>0</td>\n",
       "    </tr>\n",
       "    <tr>\n",
       "      <th>438</th>\n",
       "      <td>2016-01-09</td>\n",
       "      <td>2784574</td>\n",
       "      <td>2</td>\n",
       "      <td>768</td>\n",
       "      <td>29825</td>\n",
       "      <td>29826</td>\n",
       "      <td>29826</td>\n",
       "      <td>2016-01-09 08:17:06</td>\n",
       "      <td>5</td>\n",
       "      <td>1.1</td>\n",
       "      <td>...</td>\n",
       "      <td>0</td>\n",
       "      <td>1</td>\n",
       "      <td>0</td>\n",
       "      <td>0</td>\n",
       "      <td>0</td>\n",
       "      <td>0</td>\n",
       "      <td>0</td>\n",
       "      <td>0</td>\n",
       "      <td>1</td>\n",
       "      <td>0</td>\n",
       "    </tr>\n",
       "    <tr>\n",
       "      <th>511</th>\n",
       "      <td>2016-01-09</td>\n",
       "      <td>2784542</td>\n",
       "      <td>2</td>\n",
       "      <td>768</td>\n",
       "      <td>30725</td>\n",
       "      <td>30697</td>\n",
       "      <td>30697</td>\n",
       "      <td>2016-01-09 08:31:37</td>\n",
       "      <td>5</td>\n",
       "      <td>1.1</td>\n",
       "      <td>...</td>\n",
       "      <td>0</td>\n",
       "      <td>1</td>\n",
       "      <td>0</td>\n",
       "      <td>0</td>\n",
       "      <td>0</td>\n",
       "      <td>0</td>\n",
       "      <td>0</td>\n",
       "      <td>0</td>\n",
       "      <td>1</td>\n",
       "      <td>0</td>\n",
       "    </tr>\n",
       "    <tr>\n",
       "      <th>584</th>\n",
       "      <td>2016-01-09</td>\n",
       "      <td>2784547</td>\n",
       "      <td>2</td>\n",
       "      <td>768</td>\n",
       "      <td>31625</td>\n",
       "      <td>31726</td>\n",
       "      <td>31746</td>\n",
       "      <td>2016-01-09 08:48:46</td>\n",
       "      <td>5</td>\n",
       "      <td>1.1</td>\n",
       "      <td>...</td>\n",
       "      <td>0</td>\n",
       "      <td>1</td>\n",
       "      <td>0</td>\n",
       "      <td>0</td>\n",
       "      <td>0</td>\n",
       "      <td>0</td>\n",
       "      <td>0</td>\n",
       "      <td>0</td>\n",
       "      <td>1</td>\n",
       "      <td>0</td>\n",
       "    </tr>\n",
       "    <tr>\n",
       "      <th>657</th>\n",
       "      <td>2016-01-09</td>\n",
       "      <td>2784521</td>\n",
       "      <td>2</td>\n",
       "      <td>768</td>\n",
       "      <td>33404</td>\n",
       "      <td>33453</td>\n",
       "      <td>33490</td>\n",
       "      <td>2016-01-09 09:17:33</td>\n",
       "      <td>5</td>\n",
       "      <td>0.5</td>\n",
       "      <td>...</td>\n",
       "      <td>0</td>\n",
       "      <td>1</td>\n",
       "      <td>0</td>\n",
       "      <td>0</td>\n",
       "      <td>0</td>\n",
       "      <td>0</td>\n",
       "      <td>0</td>\n",
       "      <td>0</td>\n",
       "      <td>1</td>\n",
       "      <td>0</td>\n",
       "    </tr>\n",
       "    <tr>\n",
       "      <th>730</th>\n",
       "      <td>2016-01-09</td>\n",
       "      <td>2784491</td>\n",
       "      <td>2</td>\n",
       "      <td>768</td>\n",
       "      <td>34304</td>\n",
       "      <td>34375</td>\n",
       "      <td>34384</td>\n",
       "      <td>2016-01-09 09:32:55</td>\n",
       "      <td>5</td>\n",
       "      <td>0.5</td>\n",
       "      <td>...</td>\n",
       "      <td>0</td>\n",
       "      <td>1</td>\n",
       "      <td>0</td>\n",
       "      <td>0</td>\n",
       "      <td>0</td>\n",
       "      <td>0</td>\n",
       "      <td>0</td>\n",
       "      <td>0</td>\n",
       "      <td>1</td>\n",
       "      <td>0</td>\n",
       "    </tr>\n",
       "    <tr>\n",
       "      <th>803</th>\n",
       "      <td>2016-01-09</td>\n",
       "      <td>2784526</td>\n",
       "      <td>2</td>\n",
       "      <td>768</td>\n",
       "      <td>35204</td>\n",
       "      <td>35204</td>\n",
       "      <td>35242</td>\n",
       "      <td>2016-01-09 09:46:44</td>\n",
       "      <td>5</td>\n",
       "      <td>0.5</td>\n",
       "      <td>...</td>\n",
       "      <td>0</td>\n",
       "      <td>1</td>\n",
       "      <td>0</td>\n",
       "      <td>0</td>\n",
       "      <td>0</td>\n",
       "      <td>0</td>\n",
       "      <td>0</td>\n",
       "      <td>0</td>\n",
       "      <td>1</td>\n",
       "      <td>0</td>\n",
       "    </tr>\n",
       "    <tr>\n",
       "      <th>873</th>\n",
       "      <td>2016-01-09</td>\n",
       "      <td>2784408</td>\n",
       "      <td>2</td>\n",
       "      <td>768</td>\n",
       "      <td>36129</td>\n",
       "      <td>36040</td>\n",
       "      <td>36064</td>\n",
       "      <td>2016-01-09 10:00:40</td>\n",
       "      <td>5</td>\n",
       "      <td>0.0</td>\n",
       "      <td>...</td>\n",
       "      <td>0</td>\n",
       "      <td>0</td>\n",
       "      <td>1</td>\n",
       "      <td>0</td>\n",
       "      <td>0</td>\n",
       "      <td>0</td>\n",
       "      <td>0</td>\n",
       "      <td>0</td>\n",
       "      <td>1</td>\n",
       "      <td>0</td>\n",
       "    </tr>\n",
       "    <tr>\n",
       "      <th>946</th>\n",
       "      <td>2016-01-09</td>\n",
       "      <td>2784396</td>\n",
       "      <td>2</td>\n",
       "      <td>768</td>\n",
       "      <td>37029</td>\n",
       "      <td>36946</td>\n",
       "      <td>36957</td>\n",
       "      <td>2016-01-09 10:15:46</td>\n",
       "      <td>5</td>\n",
       "      <td>0.0</td>\n",
       "      <td>...</td>\n",
       "      <td>0</td>\n",
       "      <td>0</td>\n",
       "      <td>1</td>\n",
       "      <td>0</td>\n",
       "      <td>0</td>\n",
       "      <td>0</td>\n",
       "      <td>0</td>\n",
       "      <td>0</td>\n",
       "      <td>1</td>\n",
       "      <td>0</td>\n",
       "    </tr>\n",
       "    <tr>\n",
       "      <th>1019</th>\n",
       "      <td>2016-01-09</td>\n",
       "      <td>2784403</td>\n",
       "      <td>2</td>\n",
       "      <td>768</td>\n",
       "      <td>37929</td>\n",
       "      <td>37963</td>\n",
       "      <td>37996</td>\n",
       "      <td>2016-01-09 10:32:43</td>\n",
       "      <td>5</td>\n",
       "      <td>0.0</td>\n",
       "      <td>...</td>\n",
       "      <td>0</td>\n",
       "      <td>0</td>\n",
       "      <td>1</td>\n",
       "      <td>0</td>\n",
       "      <td>0</td>\n",
       "      <td>0</td>\n",
       "      <td>0</td>\n",
       "      <td>0</td>\n",
       "      <td>1</td>\n",
       "      <td>0</td>\n",
       "    </tr>\n",
       "    <tr>\n",
       "      <th>1092</th>\n",
       "      <td>2016-01-09</td>\n",
       "      <td>2784531</td>\n",
       "      <td>2</td>\n",
       "      <td>768</td>\n",
       "      <td>38829</td>\n",
       "      <td>38793</td>\n",
       "      <td>38805</td>\n",
       "      <td>2016-01-09 10:46:33</td>\n",
       "      <td>5</td>\n",
       "      <td>0.0</td>\n",
       "      <td>...</td>\n",
       "      <td>0</td>\n",
       "      <td>0</td>\n",
       "      <td>1</td>\n",
       "      <td>0</td>\n",
       "      <td>0</td>\n",
       "      <td>0</td>\n",
       "      <td>0</td>\n",
       "      <td>0</td>\n",
       "      <td>1</td>\n",
       "      <td>0</td>\n",
       "    </tr>\n",
       "    <tr>\n",
       "      <th>1165</th>\n",
       "      <td>2016-01-09</td>\n",
       "      <td>2784573</td>\n",
       "      <td>2</td>\n",
       "      <td>768</td>\n",
       "      <td>39729</td>\n",
       "      <td>39589</td>\n",
       "      <td>39589</td>\n",
       "      <td>2016-01-09 10:59:49</td>\n",
       "      <td>5</td>\n",
       "      <td>0.0</td>\n",
       "      <td>...</td>\n",
       "      <td>0</td>\n",
       "      <td>0</td>\n",
       "      <td>1</td>\n",
       "      <td>0</td>\n",
       "      <td>0</td>\n",
       "      <td>0</td>\n",
       "      <td>0</td>\n",
       "      <td>0</td>\n",
       "      <td>1</td>\n",
       "      <td>0</td>\n",
       "    </tr>\n",
       "    <tr>\n",
       "      <th>1238</th>\n",
       "      <td>2016-01-09</td>\n",
       "      <td>2784541</td>\n",
       "      <td>2</td>\n",
       "      <td>768</td>\n",
       "      <td>40629</td>\n",
       "      <td>40715</td>\n",
       "      <td>40738</td>\n",
       "      <td>2016-01-09 11:18:35</td>\n",
       "      <td>5</td>\n",
       "      <td>0.0</td>\n",
       "      <td>...</td>\n",
       "      <td>0</td>\n",
       "      <td>0</td>\n",
       "      <td>1</td>\n",
       "      <td>0</td>\n",
       "      <td>0</td>\n",
       "      <td>0</td>\n",
       "      <td>0</td>\n",
       "      <td>0</td>\n",
       "      <td>1</td>\n",
       "      <td>0</td>\n",
       "    </tr>\n",
       "    <tr>\n",
       "      <th>1311</th>\n",
       "      <td>2016-01-09</td>\n",
       "      <td>2784456</td>\n",
       "      <td>2</td>\n",
       "      <td>768</td>\n",
       "      <td>41529</td>\n",
       "      <td>41643</td>\n",
       "      <td>41685</td>\n",
       "      <td>2016-01-09 11:34:03</td>\n",
       "      <td>5</td>\n",
       "      <td>0.0</td>\n",
       "      <td>...</td>\n",
       "      <td>0</td>\n",
       "      <td>0</td>\n",
       "      <td>1</td>\n",
       "      <td>0</td>\n",
       "      <td>0</td>\n",
       "      <td>0</td>\n",
       "      <td>0</td>\n",
       "      <td>0</td>\n",
       "      <td>1</td>\n",
       "      <td>0</td>\n",
       "    </tr>\n",
       "    <tr>\n",
       "      <th>1384</th>\n",
       "      <td>2016-01-09</td>\n",
       "      <td>2784546</td>\n",
       "      <td>2</td>\n",
       "      <td>768</td>\n",
       "      <td>43339</td>\n",
       "      <td>43315</td>\n",
       "      <td>43339</td>\n",
       "      <td>2016-01-09 12:01:55</td>\n",
       "      <td>5</td>\n",
       "      <td>0.0</td>\n",
       "      <td>...</td>\n",
       "      <td>0</td>\n",
       "      <td>0</td>\n",
       "      <td>1</td>\n",
       "      <td>0</td>\n",
       "      <td>0</td>\n",
       "      <td>0</td>\n",
       "      <td>0</td>\n",
       "      <td>0</td>\n",
       "      <td>1</td>\n",
       "      <td>0</td>\n",
       "    </tr>\n",
       "    <tr>\n",
       "      <th>1457</th>\n",
       "      <td>2016-01-09</td>\n",
       "      <td>2784476</td>\n",
       "      <td>2</td>\n",
       "      <td>768</td>\n",
       "      <td>44239</td>\n",
       "      <td>44195</td>\n",
       "      <td>44209</td>\n",
       "      <td>2016-01-09 12:16:35</td>\n",
       "      <td>5</td>\n",
       "      <td>0.0</td>\n",
       "      <td>...</td>\n",
       "      <td>0</td>\n",
       "      <td>0</td>\n",
       "      <td>1</td>\n",
       "      <td>0</td>\n",
       "      <td>0</td>\n",
       "      <td>0</td>\n",
       "      <td>0</td>\n",
       "      <td>0</td>\n",
       "      <td>1</td>\n",
       "      <td>0</td>\n",
       "    </tr>\n",
       "    <tr>\n",
       "      <th>1530</th>\n",
       "      <td>2016-01-09</td>\n",
       "      <td>2784520</td>\n",
       "      <td>2</td>\n",
       "      <td>768</td>\n",
       "      <td>45139</td>\n",
       "      <td>45017</td>\n",
       "      <td>45068</td>\n",
       "      <td>2016-01-09 12:30:17</td>\n",
       "      <td>5</td>\n",
       "      <td>0.0</td>\n",
       "      <td>...</td>\n",
       "      <td>0</td>\n",
       "      <td>0</td>\n",
       "      <td>1</td>\n",
       "      <td>0</td>\n",
       "      <td>0</td>\n",
       "      <td>0</td>\n",
       "      <td>0</td>\n",
       "      <td>0</td>\n",
       "      <td>1</td>\n",
       "      <td>0</td>\n",
       "    </tr>\n",
       "    <tr>\n",
       "      <th>1603</th>\n",
       "      <td>2016-01-09</td>\n",
       "      <td>2784490</td>\n",
       "      <td>2</td>\n",
       "      <td>768</td>\n",
       "      <td>46039</td>\n",
       "      <td>45952</td>\n",
       "      <td>45969</td>\n",
       "      <td>2016-01-09 12:45:52</td>\n",
       "      <td>5</td>\n",
       "      <td>0.0</td>\n",
       "      <td>...</td>\n",
       "      <td>0</td>\n",
       "      <td>0</td>\n",
       "      <td>1</td>\n",
       "      <td>0</td>\n",
       "      <td>0</td>\n",
       "      <td>0</td>\n",
       "      <td>0</td>\n",
       "      <td>0</td>\n",
       "      <td>1</td>\n",
       "      <td>0</td>\n",
       "    </tr>\n",
       "    <tr>\n",
       "      <th>1676</th>\n",
       "      <td>2016-01-09</td>\n",
       "      <td>2784525</td>\n",
       "      <td>2</td>\n",
       "      <td>768</td>\n",
       "      <td>46939</td>\n",
       "      <td>46892</td>\n",
       "      <td>46953</td>\n",
       "      <td>2016-01-09 13:01:32</td>\n",
       "      <td>5</td>\n",
       "      <td>0.0</td>\n",
       "      <td>...</td>\n",
       "      <td>0</td>\n",
       "      <td>0</td>\n",
       "      <td>0</td>\n",
       "      <td>1</td>\n",
       "      <td>0</td>\n",
       "      <td>0</td>\n",
       "      <td>0</td>\n",
       "      <td>0</td>\n",
       "      <td>1</td>\n",
       "      <td>0</td>\n",
       "    </tr>\n",
       "    <tr>\n",
       "      <th>1749</th>\n",
       "      <td>2016-01-09</td>\n",
       "      <td>2784407</td>\n",
       "      <td>2</td>\n",
       "      <td>768</td>\n",
       "      <td>47839</td>\n",
       "      <td>47848</td>\n",
       "      <td>47886</td>\n",
       "      <td>2016-01-09 13:17:28</td>\n",
       "      <td>5</td>\n",
       "      <td>0.0</td>\n",
       "      <td>...</td>\n",
       "      <td>0</td>\n",
       "      <td>0</td>\n",
       "      <td>0</td>\n",
       "      <td>0</td>\n",
       "      <td>1</td>\n",
       "      <td>0</td>\n",
       "      <td>0</td>\n",
       "      <td>0</td>\n",
       "      <td>1</td>\n",
       "      <td>0</td>\n",
       "    </tr>\n",
       "    <tr>\n",
       "      <th>1822</th>\n",
       "      <td>2016-01-09</td>\n",
       "      <td>2784395</td>\n",
       "      <td>2</td>\n",
       "      <td>768</td>\n",
       "      <td>48739</td>\n",
       "      <td>48733</td>\n",
       "      <td>48753</td>\n",
       "      <td>2016-01-09 13:32:13</td>\n",
       "      <td>5</td>\n",
       "      <td>0.0</td>\n",
       "      <td>...</td>\n",
       "      <td>0</td>\n",
       "      <td>0</td>\n",
       "      <td>0</td>\n",
       "      <td>0</td>\n",
       "      <td>1</td>\n",
       "      <td>0</td>\n",
       "      <td>0</td>\n",
       "      <td>0</td>\n",
       "      <td>1</td>\n",
       "      <td>0</td>\n",
       "    </tr>\n",
       "    <tr>\n",
       "      <th>1895</th>\n",
       "      <td>2016-01-09</td>\n",
       "      <td>2784402</td>\n",
       "      <td>2</td>\n",
       "      <td>768</td>\n",
       "      <td>49639</td>\n",
       "      <td>49652</td>\n",
       "      <td>49684</td>\n",
       "      <td>2016-01-09 13:47:32</td>\n",
       "      <td>5</td>\n",
       "      <td>0.0</td>\n",
       "      <td>...</td>\n",
       "      <td>0</td>\n",
       "      <td>0</td>\n",
       "      <td>0</td>\n",
       "      <td>0</td>\n",
       "      <td>1</td>\n",
       "      <td>0</td>\n",
       "      <td>0</td>\n",
       "      <td>0</td>\n",
       "      <td>1</td>\n",
       "      <td>0</td>\n",
       "    </tr>\n",
       "    <tr>\n",
       "      <th>1968</th>\n",
       "      <td>2016-01-09</td>\n",
       "      <td>2784530</td>\n",
       "      <td>2</td>\n",
       "      <td>768</td>\n",
       "      <td>50539</td>\n",
       "      <td>50525</td>\n",
       "      <td>50525</td>\n",
       "      <td>2016-01-09 14:02:05</td>\n",
       "      <td>5</td>\n",
       "      <td>0.0</td>\n",
       "      <td>...</td>\n",
       "      <td>0</td>\n",
       "      <td>0</td>\n",
       "      <td>0</td>\n",
       "      <td>0</td>\n",
       "      <td>1</td>\n",
       "      <td>0</td>\n",
       "      <td>0</td>\n",
       "      <td>0</td>\n",
       "      <td>1</td>\n",
       "      <td>0</td>\n",
       "    </tr>\n",
       "    <tr>\n",
       "      <th>2041</th>\n",
       "      <td>2016-01-09</td>\n",
       "      <td>2784572</td>\n",
       "      <td>2</td>\n",
       "      <td>768</td>\n",
       "      <td>51439</td>\n",
       "      <td>51412</td>\n",
       "      <td>51445</td>\n",
       "      <td>2016-01-09 14:16:52</td>\n",
       "      <td>5</td>\n",
       "      <td>0.0</td>\n",
       "      <td>...</td>\n",
       "      <td>0</td>\n",
       "      <td>0</td>\n",
       "      <td>0</td>\n",
       "      <td>0</td>\n",
       "      <td>1</td>\n",
       "      <td>0</td>\n",
       "      <td>0</td>\n",
       "      <td>0</td>\n",
       "      <td>1</td>\n",
       "      <td>0</td>\n",
       "    </tr>\n",
       "    <tr>\n",
       "      <th>2114</th>\n",
       "      <td>2016-01-09</td>\n",
       "      <td>2784540</td>\n",
       "      <td>2</td>\n",
       "      <td>768</td>\n",
       "      <td>52339</td>\n",
       "      <td>52370</td>\n",
       "      <td>52394</td>\n",
       "      <td>2016-01-09 14:32:50</td>\n",
       "      <td>5</td>\n",
       "      <td>0.0</td>\n",
       "      <td>...</td>\n",
       "      <td>0</td>\n",
       "      <td>0</td>\n",
       "      <td>0</td>\n",
       "      <td>0</td>\n",
       "      <td>1</td>\n",
       "      <td>0</td>\n",
       "      <td>0</td>\n",
       "      <td>0</td>\n",
       "      <td>1</td>\n",
       "      <td>0</td>\n",
       "    </tr>\n",
       "    <tr>\n",
       "      <th>...</th>\n",
       "      <td>...</td>\n",
       "      <td>...</td>\n",
       "      <td>...</td>\n",
       "      <td>...</td>\n",
       "      <td>...</td>\n",
       "      <td>...</td>\n",
       "      <td>...</td>\n",
       "      <td>...</td>\n",
       "      <td>...</td>\n",
       "      <td>...</td>\n",
       "      <td>...</td>\n",
       "      <td>...</td>\n",
       "      <td>...</td>\n",
       "      <td>...</td>\n",
       "      <td>...</td>\n",
       "      <td>...</td>\n",
       "      <td>...</td>\n",
       "      <td>...</td>\n",
       "      <td>...</td>\n",
       "      <td>...</td>\n",
       "      <td>...</td>\n",
       "    </tr>\n",
       "    <tr>\n",
       "      <th>1144966</th>\n",
       "      <td>2017-06-30</td>\n",
       "      <td>5114123</td>\n",
       "      <td>73</td>\n",
       "      <td>7162</td>\n",
       "      <td>55627</td>\n",
       "      <td>56450</td>\n",
       "      <td>56450</td>\n",
       "      <td>2017-06-30 15:40:50</td>\n",
       "      <td>4</td>\n",
       "      <td>0.0</td>\n",
       "      <td>...</td>\n",
       "      <td>0</td>\n",
       "      <td>0</td>\n",
       "      <td>0</td>\n",
       "      <td>0</td>\n",
       "      <td>1</td>\n",
       "      <td>0</td>\n",
       "      <td>0</td>\n",
       "      <td>1</td>\n",
       "      <td>0</td>\n",
       "      <td>0</td>\n",
       "    </tr>\n",
       "    <tr>\n",
       "      <th>1145039</th>\n",
       "      <td>2017-06-30</td>\n",
       "      <td>5114100</td>\n",
       "      <td>73</td>\n",
       "      <td>7162</td>\n",
       "      <td>56227</td>\n",
       "      <td>56707</td>\n",
       "      <td>56707</td>\n",
       "      <td>2017-06-30 15:45:07</td>\n",
       "      <td>4</td>\n",
       "      <td>0.0</td>\n",
       "      <td>...</td>\n",
       "      <td>0</td>\n",
       "      <td>0</td>\n",
       "      <td>0</td>\n",
       "      <td>0</td>\n",
       "      <td>1</td>\n",
       "      <td>0</td>\n",
       "      <td>0</td>\n",
       "      <td>1</td>\n",
       "      <td>0</td>\n",
       "      <td>0</td>\n",
       "    </tr>\n",
       "    <tr>\n",
       "      <th>1145112</th>\n",
       "      <td>2017-06-30</td>\n",
       "      <td>5104099</td>\n",
       "      <td>73</td>\n",
       "      <td>7162</td>\n",
       "      <td>56827</td>\n",
       "      <td>57676</td>\n",
       "      <td>57676</td>\n",
       "      <td>2017-06-30 16:01:16</td>\n",
       "      <td>4</td>\n",
       "      <td>0.0</td>\n",
       "      <td>...</td>\n",
       "      <td>0</td>\n",
       "      <td>0</td>\n",
       "      <td>0</td>\n",
       "      <td>0</td>\n",
       "      <td>1</td>\n",
       "      <td>0</td>\n",
       "      <td>0</td>\n",
       "      <td>1</td>\n",
       "      <td>0</td>\n",
       "      <td>0</td>\n",
       "    </tr>\n",
       "    <tr>\n",
       "      <th>1145185</th>\n",
       "      <td>2017-06-30</td>\n",
       "      <td>5106958</td>\n",
       "      <td>73</td>\n",
       "      <td>7162</td>\n",
       "      <td>57427</td>\n",
       "      <td>58359</td>\n",
       "      <td>58359</td>\n",
       "      <td>2017-06-30 16:12:39</td>\n",
       "      <td>4</td>\n",
       "      <td>0.0</td>\n",
       "      <td>...</td>\n",
       "      <td>0</td>\n",
       "      <td>0</td>\n",
       "      <td>0</td>\n",
       "      <td>0</td>\n",
       "      <td>1</td>\n",
       "      <td>0</td>\n",
       "      <td>0</td>\n",
       "      <td>1</td>\n",
       "      <td>0</td>\n",
       "      <td>0</td>\n",
       "    </tr>\n",
       "    <tr>\n",
       "      <th>1145258</th>\n",
       "      <td>2017-06-30</td>\n",
       "      <td>5116789</td>\n",
       "      <td>73</td>\n",
       "      <td>7162</td>\n",
       "      <td>58027</td>\n",
       "      <td>59092</td>\n",
       "      <td>59092</td>\n",
       "      <td>2017-06-30 16:24:52</td>\n",
       "      <td>4</td>\n",
       "      <td>0.0</td>\n",
       "      <td>...</td>\n",
       "      <td>0</td>\n",
       "      <td>0</td>\n",
       "      <td>0</td>\n",
       "      <td>0</td>\n",
       "      <td>1</td>\n",
       "      <td>0</td>\n",
       "      <td>0</td>\n",
       "      <td>1</td>\n",
       "      <td>0</td>\n",
       "      <td>0</td>\n",
       "    </tr>\n",
       "    <tr>\n",
       "      <th>1145331</th>\n",
       "      <td>2017-06-30</td>\n",
       "      <td>5101718</td>\n",
       "      <td>73</td>\n",
       "      <td>7162</td>\n",
       "      <td>59617</td>\n",
       "      <td>60111</td>\n",
       "      <td>60111</td>\n",
       "      <td>2017-06-30 16:41:51</td>\n",
       "      <td>4</td>\n",
       "      <td>0.0</td>\n",
       "      <td>...</td>\n",
       "      <td>0</td>\n",
       "      <td>0</td>\n",
       "      <td>0</td>\n",
       "      <td>0</td>\n",
       "      <td>1</td>\n",
       "      <td>0</td>\n",
       "      <td>0</td>\n",
       "      <td>1</td>\n",
       "      <td>0</td>\n",
       "      <td>0</td>\n",
       "    </tr>\n",
       "    <tr>\n",
       "      <th>1145404</th>\n",
       "      <td>2017-06-30</td>\n",
       "      <td>5106516</td>\n",
       "      <td>73</td>\n",
       "      <td>7162</td>\n",
       "      <td>60817</td>\n",
       "      <td>61715</td>\n",
       "      <td>61715</td>\n",
       "      <td>2017-06-30 17:08:35</td>\n",
       "      <td>4</td>\n",
       "      <td>0.0</td>\n",
       "      <td>...</td>\n",
       "      <td>0</td>\n",
       "      <td>0</td>\n",
       "      <td>0</td>\n",
       "      <td>0</td>\n",
       "      <td>1</td>\n",
       "      <td>0</td>\n",
       "      <td>0</td>\n",
       "      <td>1</td>\n",
       "      <td>0</td>\n",
       "      <td>0</td>\n",
       "    </tr>\n",
       "    <tr>\n",
       "      <th>1145477</th>\n",
       "      <td>2017-06-30</td>\n",
       "      <td>5114582</td>\n",
       "      <td>73</td>\n",
       "      <td>7162</td>\n",
       "      <td>62017</td>\n",
       "      <td>62630</td>\n",
       "      <td>62630</td>\n",
       "      <td>2017-06-30 17:23:50</td>\n",
       "      <td>4</td>\n",
       "      <td>0.0</td>\n",
       "      <td>...</td>\n",
       "      <td>0</td>\n",
       "      <td>0</td>\n",
       "      <td>0</td>\n",
       "      <td>0</td>\n",
       "      <td>1</td>\n",
       "      <td>0</td>\n",
       "      <td>0</td>\n",
       "      <td>1</td>\n",
       "      <td>0</td>\n",
       "      <td>0</td>\n",
       "    </tr>\n",
       "    <tr>\n",
       "      <th>1145620</th>\n",
       "      <td>2017-06-30</td>\n",
       "      <td>5114011</td>\n",
       "      <td>73</td>\n",
       "      <td>7162</td>\n",
       "      <td>63217</td>\n",
       "      <td>63880</td>\n",
       "      <td>63880</td>\n",
       "      <td>2017-06-30 17:44:40</td>\n",
       "      <td>4</td>\n",
       "      <td>0.0</td>\n",
       "      <td>...</td>\n",
       "      <td>0</td>\n",
       "      <td>0</td>\n",
       "      <td>0</td>\n",
       "      <td>0</td>\n",
       "      <td>1</td>\n",
       "      <td>0</td>\n",
       "      <td>0</td>\n",
       "      <td>1</td>\n",
       "      <td>0</td>\n",
       "      <td>0</td>\n",
       "    </tr>\n",
       "    <tr>\n",
       "      <th>1145693</th>\n",
       "      <td>2017-06-30</td>\n",
       "      <td>5113481</td>\n",
       "      <td>73</td>\n",
       "      <td>7162</td>\n",
       "      <td>63817</td>\n",
       "      <td>63791</td>\n",
       "      <td>63791</td>\n",
       "      <td>2017-06-30 17:43:11</td>\n",
       "      <td>4</td>\n",
       "      <td>0.0</td>\n",
       "      <td>...</td>\n",
       "      <td>0</td>\n",
       "      <td>0</td>\n",
       "      <td>0</td>\n",
       "      <td>0</td>\n",
       "      <td>1</td>\n",
       "      <td>0</td>\n",
       "      <td>0</td>\n",
       "      <td>1</td>\n",
       "      <td>0</td>\n",
       "      <td>0</td>\n",
       "    </tr>\n",
       "    <tr>\n",
       "      <th>1145766</th>\n",
       "      <td>2017-06-30</td>\n",
       "      <td>5105245</td>\n",
       "      <td>73</td>\n",
       "      <td>7162</td>\n",
       "      <td>64417</td>\n",
       "      <td>64622</td>\n",
       "      <td>64622</td>\n",
       "      <td>2017-06-30 17:57:02</td>\n",
       "      <td>4</td>\n",
       "      <td>0.0</td>\n",
       "      <td>...</td>\n",
       "      <td>0</td>\n",
       "      <td>0</td>\n",
       "      <td>0</td>\n",
       "      <td>0</td>\n",
       "      <td>1</td>\n",
       "      <td>0</td>\n",
       "      <td>0</td>\n",
       "      <td>1</td>\n",
       "      <td>0</td>\n",
       "      <td>0</td>\n",
       "    </tr>\n",
       "    <tr>\n",
       "      <th>1145839</th>\n",
       "      <td>2017-06-30</td>\n",
       "      <td>5116966</td>\n",
       "      <td>73</td>\n",
       "      <td>7162</td>\n",
       "      <td>64717</td>\n",
       "      <td>65509</td>\n",
       "      <td>65509</td>\n",
       "      <td>2017-06-30 18:11:49</td>\n",
       "      <td>4</td>\n",
       "      <td>0.0</td>\n",
       "      <td>...</td>\n",
       "      <td>0</td>\n",
       "      <td>0</td>\n",
       "      <td>0</td>\n",
       "      <td>0</td>\n",
       "      <td>1</td>\n",
       "      <td>0</td>\n",
       "      <td>0</td>\n",
       "      <td>1</td>\n",
       "      <td>0</td>\n",
       "      <td>0</td>\n",
       "    </tr>\n",
       "    <tr>\n",
       "      <th>1145982</th>\n",
       "      <td>2017-06-30</td>\n",
       "      <td>5109229</td>\n",
       "      <td>73</td>\n",
       "      <td>7162</td>\n",
       "      <td>65617</td>\n",
       "      <td>65754</td>\n",
       "      <td>65754</td>\n",
       "      <td>2017-06-30 18:15:54</td>\n",
       "      <td>4</td>\n",
       "      <td>0.0</td>\n",
       "      <td>...</td>\n",
       "      <td>0</td>\n",
       "      <td>0</td>\n",
       "      <td>0</td>\n",
       "      <td>0</td>\n",
       "      <td>1</td>\n",
       "      <td>0</td>\n",
       "      <td>0</td>\n",
       "      <td>1</td>\n",
       "      <td>0</td>\n",
       "      <td>0</td>\n",
       "    </tr>\n",
       "    <tr>\n",
       "      <th>1146124</th>\n",
       "      <td>2017-06-30</td>\n",
       "      <td>5116995</td>\n",
       "      <td>73</td>\n",
       "      <td>7162</td>\n",
       "      <td>66517</td>\n",
       "      <td>66445</td>\n",
       "      <td>66445</td>\n",
       "      <td>2017-06-30 18:27:25</td>\n",
       "      <td>4</td>\n",
       "      <td>0.0</td>\n",
       "      <td>...</td>\n",
       "      <td>0</td>\n",
       "      <td>0</td>\n",
       "      <td>0</td>\n",
       "      <td>0</td>\n",
       "      <td>1</td>\n",
       "      <td>0</td>\n",
       "      <td>0</td>\n",
       "      <td>1</td>\n",
       "      <td>0</td>\n",
       "      <td>0</td>\n",
       "    </tr>\n",
       "    <tr>\n",
       "      <th>1146338</th>\n",
       "      <td>2017-06-30</td>\n",
       "      <td>5107740</td>\n",
       "      <td>73</td>\n",
       "      <td>7162</td>\n",
       "      <td>68040</td>\n",
       "      <td>67641</td>\n",
       "      <td>67641</td>\n",
       "      <td>2017-06-30 18:47:21</td>\n",
       "      <td>4</td>\n",
       "      <td>0.0</td>\n",
       "      <td>...</td>\n",
       "      <td>0</td>\n",
       "      <td>0</td>\n",
       "      <td>0</td>\n",
       "      <td>0</td>\n",
       "      <td>1</td>\n",
       "      <td>0</td>\n",
       "      <td>0</td>\n",
       "      <td>1</td>\n",
       "      <td>0</td>\n",
       "      <td>0</td>\n",
       "    </tr>\n",
       "    <tr>\n",
       "      <th>1146411</th>\n",
       "      <td>2017-06-30</td>\n",
       "      <td>5111645</td>\n",
       "      <td>73</td>\n",
       "      <td>7162</td>\n",
       "      <td>68640</td>\n",
       "      <td>68494</td>\n",
       "      <td>68494</td>\n",
       "      <td>2017-06-30 19:01:34</td>\n",
       "      <td>4</td>\n",
       "      <td>0.0</td>\n",
       "      <td>...</td>\n",
       "      <td>0</td>\n",
       "      <td>0</td>\n",
       "      <td>0</td>\n",
       "      <td>0</td>\n",
       "      <td>0</td>\n",
       "      <td>1</td>\n",
       "      <td>0</td>\n",
       "      <td>1</td>\n",
       "      <td>0</td>\n",
       "      <td>0</td>\n",
       "    </tr>\n",
       "    <tr>\n",
       "      <th>1146624</th>\n",
       "      <td>2017-06-30</td>\n",
       "      <td>5116301</td>\n",
       "      <td>73</td>\n",
       "      <td>7162</td>\n",
       "      <td>70440</td>\n",
       "      <td>70374</td>\n",
       "      <td>70374</td>\n",
       "      <td>2017-06-30 19:32:54</td>\n",
       "      <td>4</td>\n",
       "      <td>0.0</td>\n",
       "      <td>...</td>\n",
       "      <td>0</td>\n",
       "      <td>0</td>\n",
       "      <td>0</td>\n",
       "      <td>0</td>\n",
       "      <td>0</td>\n",
       "      <td>1</td>\n",
       "      <td>0</td>\n",
       "      <td>1</td>\n",
       "      <td>0</td>\n",
       "      <td>0</td>\n",
       "    </tr>\n",
       "    <tr>\n",
       "      <th>1146697</th>\n",
       "      <td>2017-06-30</td>\n",
       "      <td>5114125</td>\n",
       "      <td>73</td>\n",
       "      <td>7162</td>\n",
       "      <td>70380</td>\n",
       "      <td>70279</td>\n",
       "      <td>70279</td>\n",
       "      <td>2017-06-30 19:31:19</td>\n",
       "      <td>4</td>\n",
       "      <td>0.0</td>\n",
       "      <td>...</td>\n",
       "      <td>0</td>\n",
       "      <td>0</td>\n",
       "      <td>0</td>\n",
       "      <td>0</td>\n",
       "      <td>0</td>\n",
       "      <td>1</td>\n",
       "      <td>0</td>\n",
       "      <td>1</td>\n",
       "      <td>0</td>\n",
       "      <td>0</td>\n",
       "    </tr>\n",
       "    <tr>\n",
       "      <th>1146770</th>\n",
       "      <td>2017-06-30</td>\n",
       "      <td>5114102</td>\n",
       "      <td>73</td>\n",
       "      <td>7162</td>\n",
       "      <td>70980</td>\n",
       "      <td>71052</td>\n",
       "      <td>71052</td>\n",
       "      <td>2017-06-30 19:44:12</td>\n",
       "      <td>4</td>\n",
       "      <td>0.0</td>\n",
       "      <td>...</td>\n",
       "      <td>0</td>\n",
       "      <td>0</td>\n",
       "      <td>0</td>\n",
       "      <td>0</td>\n",
       "      <td>0</td>\n",
       "      <td>1</td>\n",
       "      <td>0</td>\n",
       "      <td>1</td>\n",
       "      <td>0</td>\n",
       "      <td>0</td>\n",
       "    </tr>\n",
       "    <tr>\n",
       "      <th>1146911</th>\n",
       "      <td>2017-06-30</td>\n",
       "      <td>5106960</td>\n",
       "      <td>73</td>\n",
       "      <td>7162</td>\n",
       "      <td>72180</td>\n",
       "      <td>72674</td>\n",
       "      <td>72674</td>\n",
       "      <td>2017-06-30 20:11:14</td>\n",
       "      <td>4</td>\n",
       "      <td>0.0</td>\n",
       "      <td>...</td>\n",
       "      <td>0</td>\n",
       "      <td>0</td>\n",
       "      <td>0</td>\n",
       "      <td>0</td>\n",
       "      <td>0</td>\n",
       "      <td>1</td>\n",
       "      <td>0</td>\n",
       "      <td>1</td>\n",
       "      <td>0</td>\n",
       "      <td>0</td>\n",
       "    </tr>\n",
       "    <tr>\n",
       "      <th>1146984</th>\n",
       "      <td>2017-06-30</td>\n",
       "      <td>5101720</td>\n",
       "      <td>73</td>\n",
       "      <td>7162</td>\n",
       "      <td>72780</td>\n",
       "      <td>72795</td>\n",
       "      <td>72795</td>\n",
       "      <td>2017-06-30 20:13:15</td>\n",
       "      <td>4</td>\n",
       "      <td>0.0</td>\n",
       "      <td>...</td>\n",
       "      <td>0</td>\n",
       "      <td>0</td>\n",
       "      <td>0</td>\n",
       "      <td>0</td>\n",
       "      <td>0</td>\n",
       "      <td>1</td>\n",
       "      <td>0</td>\n",
       "      <td>1</td>\n",
       "      <td>0</td>\n",
       "      <td>0</td>\n",
       "    </tr>\n",
       "    <tr>\n",
       "      <th>1147127</th>\n",
       "      <td>2017-06-30</td>\n",
       "      <td>5112717</td>\n",
       "      <td>73</td>\n",
       "      <td>7162</td>\n",
       "      <td>74208</td>\n",
       "      <td>75266</td>\n",
       "      <td>75266</td>\n",
       "      <td>2017-06-30 20:54:26</td>\n",
       "      <td>4</td>\n",
       "      <td>0.0</td>\n",
       "      <td>...</td>\n",
       "      <td>0</td>\n",
       "      <td>0</td>\n",
       "      <td>0</td>\n",
       "      <td>0</td>\n",
       "      <td>0</td>\n",
       "      <td>1</td>\n",
       "      <td>0</td>\n",
       "      <td>1</td>\n",
       "      <td>0</td>\n",
       "      <td>0</td>\n",
       "    </tr>\n",
       "    <tr>\n",
       "      <th>1147200</th>\n",
       "      <td>2017-06-30</td>\n",
       "      <td>5114013</td>\n",
       "      <td>73</td>\n",
       "      <td>7162</td>\n",
       "      <td>75408</td>\n",
       "      <td>76786</td>\n",
       "      <td>76786</td>\n",
       "      <td>2017-06-30 21:19:46</td>\n",
       "      <td>4</td>\n",
       "      <td>0.0</td>\n",
       "      <td>...</td>\n",
       "      <td>0</td>\n",
       "      <td>0</td>\n",
       "      <td>0</td>\n",
       "      <td>0</td>\n",
       "      <td>0</td>\n",
       "      <td>1</td>\n",
       "      <td>0</td>\n",
       "      <td>1</td>\n",
       "      <td>0</td>\n",
       "      <td>0</td>\n",
       "    </tr>\n",
       "    <tr>\n",
       "      <th>1147273</th>\n",
       "      <td>2017-06-30</td>\n",
       "      <td>5109101</td>\n",
       "      <td>73</td>\n",
       "      <td>7162</td>\n",
       "      <td>76608</td>\n",
       "      <td>77074</td>\n",
       "      <td>77074</td>\n",
       "      <td>2017-06-30 21:24:34</td>\n",
       "      <td>4</td>\n",
       "      <td>0.0</td>\n",
       "      <td>...</td>\n",
       "      <td>0</td>\n",
       "      <td>0</td>\n",
       "      <td>0</td>\n",
       "      <td>0</td>\n",
       "      <td>0</td>\n",
       "      <td>1</td>\n",
       "      <td>0</td>\n",
       "      <td>1</td>\n",
       "      <td>0</td>\n",
       "      <td>0</td>\n",
       "    </tr>\n",
       "    <tr>\n",
       "      <th>1147371</th>\n",
       "      <td>2017-06-30</td>\n",
       "      <td>5117250</td>\n",
       "      <td>73</td>\n",
       "      <td>7162</td>\n",
       "      <td>79008</td>\n",
       "      <td>79204</td>\n",
       "      <td>79204</td>\n",
       "      <td>2017-06-30 22:00:04</td>\n",
       "      <td>4</td>\n",
       "      <td>0.0</td>\n",
       "      <td>...</td>\n",
       "      <td>0</td>\n",
       "      <td>0</td>\n",
       "      <td>0</td>\n",
       "      <td>0</td>\n",
       "      <td>0</td>\n",
       "      <td>0</td>\n",
       "      <td>1</td>\n",
       "      <td>1</td>\n",
       "      <td>0</td>\n",
       "      <td>0</td>\n",
       "    </tr>\n",
       "    <tr>\n",
       "      <th>1147444</th>\n",
       "      <td>2017-06-30</td>\n",
       "      <td>5116303</td>\n",
       "      <td>73</td>\n",
       "      <td>7162</td>\n",
       "      <td>80208</td>\n",
       "      <td>79873</td>\n",
       "      <td>79873</td>\n",
       "      <td>2017-06-30 22:11:13</td>\n",
       "      <td>4</td>\n",
       "      <td>0.0</td>\n",
       "      <td>...</td>\n",
       "      <td>0</td>\n",
       "      <td>0</td>\n",
       "      <td>0</td>\n",
       "      <td>0</td>\n",
       "      <td>0</td>\n",
       "      <td>0</td>\n",
       "      <td>1</td>\n",
       "      <td>1</td>\n",
       "      <td>0</td>\n",
       "      <td>0</td>\n",
       "    </tr>\n",
       "    <tr>\n",
       "      <th>1147517</th>\n",
       "      <td>2017-06-30</td>\n",
       "      <td>5114104</td>\n",
       "      <td>73</td>\n",
       "      <td>7162</td>\n",
       "      <td>80489</td>\n",
       "      <td>81466</td>\n",
       "      <td>81466</td>\n",
       "      <td>2017-06-30 22:37:46</td>\n",
       "      <td>4</td>\n",
       "      <td>0.0</td>\n",
       "      <td>...</td>\n",
       "      <td>0</td>\n",
       "      <td>0</td>\n",
       "      <td>0</td>\n",
       "      <td>0</td>\n",
       "      <td>0</td>\n",
       "      <td>0</td>\n",
       "      <td>1</td>\n",
       "      <td>1</td>\n",
       "      <td>0</td>\n",
       "      <td>0</td>\n",
       "    </tr>\n",
       "    <tr>\n",
       "      <th>1147662</th>\n",
       "      <td>2017-06-30</td>\n",
       "      <td>5101722</td>\n",
       "      <td>73</td>\n",
       "      <td>7162</td>\n",
       "      <td>82889</td>\n",
       "      <td>84116</td>\n",
       "      <td>84116</td>\n",
       "      <td>2017-06-30 23:21:56</td>\n",
       "      <td>4</td>\n",
       "      <td>0.0</td>\n",
       "      <td>...</td>\n",
       "      <td>0</td>\n",
       "      <td>0</td>\n",
       "      <td>0</td>\n",
       "      <td>0</td>\n",
       "      <td>0</td>\n",
       "      <td>0</td>\n",
       "      <td>1</td>\n",
       "      <td>1</td>\n",
       "      <td>0</td>\n",
       "      <td>0</td>\n",
       "    </tr>\n",
       "    <tr>\n",
       "      <th>1147803</th>\n",
       "      <td>2017-06-30</td>\n",
       "      <td>5114015</td>\n",
       "      <td>73</td>\n",
       "      <td>7162</td>\n",
       "      <td>85289</td>\n",
       "      <td>86513</td>\n",
       "      <td>86513</td>\n",
       "      <td>2017-07-01 00:01:53</td>\n",
       "      <td>4</td>\n",
       "      <td>0.0</td>\n",
       "      <td>...</td>\n",
       "      <td>0</td>\n",
       "      <td>0</td>\n",
       "      <td>0</td>\n",
       "      <td>0</td>\n",
       "      <td>0</td>\n",
       "      <td>0</td>\n",
       "      <td>1</td>\n",
       "      <td>1</td>\n",
       "      <td>0</td>\n",
       "      <td>0</td>\n",
       "    </tr>\n",
       "    <tr>\n",
       "      <th>1147876</th>\n",
       "      <td>2017-06-30</td>\n",
       "      <td>5109103</td>\n",
       "      <td>73</td>\n",
       "      <td>7162</td>\n",
       "      <td>86489</td>\n",
       "      <td>86823</td>\n",
       "      <td>86823</td>\n",
       "      <td>2017-07-01 00:07:03</td>\n",
       "      <td>4</td>\n",
       "      <td>0.0</td>\n",
       "      <td>...</td>\n",
       "      <td>0</td>\n",
       "      <td>0</td>\n",
       "      <td>0</td>\n",
       "      <td>0</td>\n",
       "      <td>0</td>\n",
       "      <td>0</td>\n",
       "      <td>1</td>\n",
       "      <td>1</td>\n",
       "      <td>0</td>\n",
       "      <td>0</td>\n",
       "    </tr>\n",
       "  </tbody>\n",
       "</table>\n",
       "<p>1115384 rows × 24 columns</p>\n",
       "</div>"
      ],
      "text/plain": [
       "        dayofservice   tripid  progrnumber  stopid  plannedtime  actual_arr  \\\n",
       "1         2016-01-09  2784478            2     768        23543       23486   \n",
       "74        2016-01-09  2784522            2     768        24443       24463   \n",
       "147       2016-01-09  2784527            2     768        25304       25293   \n",
       "220       2016-01-09  2784397            2     768        27104       26804   \n",
       "293       2016-01-09  2784404            2     768        28004       28089   \n",
       "366       2016-01-09  2784532            2     768        28925       28892   \n",
       "438       2016-01-09  2784574            2     768        29825       29826   \n",
       "511       2016-01-09  2784542            2     768        30725       30697   \n",
       "584       2016-01-09  2784547            2     768        31625       31726   \n",
       "657       2016-01-09  2784521            2     768        33404       33453   \n",
       "730       2016-01-09  2784491            2     768        34304       34375   \n",
       "803       2016-01-09  2784526            2     768        35204       35204   \n",
       "873       2016-01-09  2784408            2     768        36129       36040   \n",
       "946       2016-01-09  2784396            2     768        37029       36946   \n",
       "1019      2016-01-09  2784403            2     768        37929       37963   \n",
       "1092      2016-01-09  2784531            2     768        38829       38793   \n",
       "1165      2016-01-09  2784573            2     768        39729       39589   \n",
       "1238      2016-01-09  2784541            2     768        40629       40715   \n",
       "1311      2016-01-09  2784456            2     768        41529       41643   \n",
       "1384      2016-01-09  2784546            2     768        43339       43315   \n",
       "1457      2016-01-09  2784476            2     768        44239       44195   \n",
       "1530      2016-01-09  2784520            2     768        45139       45017   \n",
       "1603      2016-01-09  2784490            2     768        46039       45952   \n",
       "1676      2016-01-09  2784525            2     768        46939       46892   \n",
       "1749      2016-01-09  2784407            2     768        47839       47848   \n",
       "1822      2016-01-09  2784395            2     768        48739       48733   \n",
       "1895      2016-01-09  2784402            2     768        49639       49652   \n",
       "1968      2016-01-09  2784530            2     768        50539       50525   \n",
       "2041      2016-01-09  2784572            2     768        51439       51412   \n",
       "2114      2016-01-09  2784540            2     768        52339       52370   \n",
       "...              ...      ...          ...     ...          ...         ...   \n",
       "1144966   2017-06-30  5114123           73    7162        55627       56450   \n",
       "1145039   2017-06-30  5114100           73    7162        56227       56707   \n",
       "1145112   2017-06-30  5104099           73    7162        56827       57676   \n",
       "1145185   2017-06-30  5106958           73    7162        57427       58359   \n",
       "1145258   2017-06-30  5116789           73    7162        58027       59092   \n",
       "1145331   2017-06-30  5101718           73    7162        59617       60111   \n",
       "1145404   2017-06-30  5106516           73    7162        60817       61715   \n",
       "1145477   2017-06-30  5114582           73    7162        62017       62630   \n",
       "1145620   2017-06-30  5114011           73    7162        63217       63880   \n",
       "1145693   2017-06-30  5113481           73    7162        63817       63791   \n",
       "1145766   2017-06-30  5105245           73    7162        64417       64622   \n",
       "1145839   2017-06-30  5116966           73    7162        64717       65509   \n",
       "1145982   2017-06-30  5109229           73    7162        65617       65754   \n",
       "1146124   2017-06-30  5116995           73    7162        66517       66445   \n",
       "1146338   2017-06-30  5107740           73    7162        68040       67641   \n",
       "1146411   2017-06-30  5111645           73    7162        68640       68494   \n",
       "1146624   2017-06-30  5116301           73    7162        70440       70374   \n",
       "1146697   2017-06-30  5114125           73    7162        70380       70279   \n",
       "1146770   2017-06-30  5114102           73    7162        70980       71052   \n",
       "1146911   2017-06-30  5106960           73    7162        72180       72674   \n",
       "1146984   2017-06-30  5101720           73    7162        72780       72795   \n",
       "1147127   2017-06-30  5112717           73    7162        74208       75266   \n",
       "1147200   2017-06-30  5114013           73    7162        75408       76786   \n",
       "1147273   2017-06-30  5109101           73    7162        76608       77074   \n",
       "1147371   2017-06-30  5117250           73    7162        79008       79204   \n",
       "1147444   2017-06-30  5116303           73    7162        80208       79873   \n",
       "1147517   2017-06-30  5114104           73    7162        80489       81466   \n",
       "1147662   2017-06-30  5101722           73    7162        82889       84116   \n",
       "1147803   2017-06-30  5114015           73    7162        85289       86513   \n",
       "1147876   2017-06-30  5109103           73    7162        86489       86823   \n",
       "\n",
       "         actual_dep            datetime  weekday  rain      ...        em  mp  \\\n",
       "1             23486 2016-01-09 06:31:26        5   0.0      ...         1   0   \n",
       "74            24479 2016-01-09 06:47:43        5   0.0      ...         1   0   \n",
       "147           25293 2016-01-09 07:01:33        5   0.4      ...         0   1   \n",
       "220           26814 2016-01-09 07:26:44        5   0.4      ...         0   1   \n",
       "293           28089 2016-01-09 07:48:09        5   0.4      ...         0   1   \n",
       "366           28892 2016-01-09 08:01:32        5   1.1      ...         0   1   \n",
       "438           29826 2016-01-09 08:17:06        5   1.1      ...         0   1   \n",
       "511           30697 2016-01-09 08:31:37        5   1.1      ...         0   1   \n",
       "584           31746 2016-01-09 08:48:46        5   1.1      ...         0   1   \n",
       "657           33490 2016-01-09 09:17:33        5   0.5      ...         0   1   \n",
       "730           34384 2016-01-09 09:32:55        5   0.5      ...         0   1   \n",
       "803           35242 2016-01-09 09:46:44        5   0.5      ...         0   1   \n",
       "873           36064 2016-01-09 10:00:40        5   0.0      ...         0   0   \n",
       "946           36957 2016-01-09 10:15:46        5   0.0      ...         0   0   \n",
       "1019          37996 2016-01-09 10:32:43        5   0.0      ...         0   0   \n",
       "1092          38805 2016-01-09 10:46:33        5   0.0      ...         0   0   \n",
       "1165          39589 2016-01-09 10:59:49        5   0.0      ...         0   0   \n",
       "1238          40738 2016-01-09 11:18:35        5   0.0      ...         0   0   \n",
       "1311          41685 2016-01-09 11:34:03        5   0.0      ...         0   0   \n",
       "1384          43339 2016-01-09 12:01:55        5   0.0      ...         0   0   \n",
       "1457          44209 2016-01-09 12:16:35        5   0.0      ...         0   0   \n",
       "1530          45068 2016-01-09 12:30:17        5   0.0      ...         0   0   \n",
       "1603          45969 2016-01-09 12:45:52        5   0.0      ...         0   0   \n",
       "1676          46953 2016-01-09 13:01:32        5   0.0      ...         0   0   \n",
       "1749          47886 2016-01-09 13:17:28        5   0.0      ...         0   0   \n",
       "1822          48753 2016-01-09 13:32:13        5   0.0      ...         0   0   \n",
       "1895          49684 2016-01-09 13:47:32        5   0.0      ...         0   0   \n",
       "1968          50525 2016-01-09 14:02:05        5   0.0      ...         0   0   \n",
       "2041          51445 2016-01-09 14:16:52        5   0.0      ...         0   0   \n",
       "2114          52394 2016-01-09 14:32:50        5   0.0      ...         0   0   \n",
       "...             ...                 ...      ...   ...      ...        ..  ..   \n",
       "1144966       56450 2017-06-30 15:40:50        4   0.0      ...         0   0   \n",
       "1145039       56707 2017-06-30 15:45:07        4   0.0      ...         0   0   \n",
       "1145112       57676 2017-06-30 16:01:16        4   0.0      ...         0   0   \n",
       "1145185       58359 2017-06-30 16:12:39        4   0.0      ...         0   0   \n",
       "1145258       59092 2017-06-30 16:24:52        4   0.0      ...         0   0   \n",
       "1145331       60111 2017-06-30 16:41:51        4   0.0      ...         0   0   \n",
       "1145404       61715 2017-06-30 17:08:35        4   0.0      ...         0   0   \n",
       "1145477       62630 2017-06-30 17:23:50        4   0.0      ...         0   0   \n",
       "1145620       63880 2017-06-30 17:44:40        4   0.0      ...         0   0   \n",
       "1145693       63791 2017-06-30 17:43:11        4   0.0      ...         0   0   \n",
       "1145766       64622 2017-06-30 17:57:02        4   0.0      ...         0   0   \n",
       "1145839       65509 2017-06-30 18:11:49        4   0.0      ...         0   0   \n",
       "1145982       65754 2017-06-30 18:15:54        4   0.0      ...         0   0   \n",
       "1146124       66445 2017-06-30 18:27:25        4   0.0      ...         0   0   \n",
       "1146338       67641 2017-06-30 18:47:21        4   0.0      ...         0   0   \n",
       "1146411       68494 2017-06-30 19:01:34        4   0.0      ...         0   0   \n",
       "1146624       70374 2017-06-30 19:32:54        4   0.0      ...         0   0   \n",
       "1146697       70279 2017-06-30 19:31:19        4   0.0      ...         0   0   \n",
       "1146770       71052 2017-06-30 19:44:12        4   0.0      ...         0   0   \n",
       "1146911       72674 2017-06-30 20:11:14        4   0.0      ...         0   0   \n",
       "1146984       72795 2017-06-30 20:13:15        4   0.0      ...         0   0   \n",
       "1147127       75266 2017-06-30 20:54:26        4   0.0      ...         0   0   \n",
       "1147200       76786 2017-06-30 21:19:46        4   0.0      ...         0   0   \n",
       "1147273       77074 2017-06-30 21:24:34        4   0.0      ...         0   0   \n",
       "1147371       79204 2017-06-30 22:00:04        4   0.0      ...         0   0   \n",
       "1147444       79873 2017-06-30 22:11:13        4   0.0      ...         0   0   \n",
       "1147517       81466 2017-06-30 22:37:46        4   0.0      ...         0   0   \n",
       "1147662       84116 2017-06-30 23:21:56        4   0.0      ...         0   0   \n",
       "1147803       86513 2017-07-01 00:01:53        4   0.0      ...         0   0   \n",
       "1147876       86823 2017-07-01 00:07:03        4   0.0      ...         0   0   \n",
       "\n",
       "         lm  md  ap  ev  ln  m2f  sat  ucdSchoolTerm  \n",
       "1         0   0   0   0   0    0    1              0  \n",
       "74        0   0   0   0   0    0    1              0  \n",
       "147       0   0   0   0   0    0    1              0  \n",
       "220       0   0   0   0   0    0    1              0  \n",
       "293       0   0   0   0   0    0    1              0  \n",
       "366       0   0   0   0   0    0    1              0  \n",
       "438       0   0   0   0   0    0    1              0  \n",
       "511       0   0   0   0   0    0    1              0  \n",
       "584       0   0   0   0   0    0    1              0  \n",
       "657       0   0   0   0   0    0    1              0  \n",
       "730       0   0   0   0   0    0    1              0  \n",
       "803       0   0   0   0   0    0    1              0  \n",
       "873       1   0   0   0   0    0    1              0  \n",
       "946       1   0   0   0   0    0    1              0  \n",
       "1019      1   0   0   0   0    0    1              0  \n",
       "1092      1   0   0   0   0    0    1              0  \n",
       "1165      1   0   0   0   0    0    1              0  \n",
       "1238      1   0   0   0   0    0    1              0  \n",
       "1311      1   0   0   0   0    0    1              0  \n",
       "1384      1   0   0   0   0    0    1              0  \n",
       "1457      1   0   0   0   0    0    1              0  \n",
       "1530      1   0   0   0   0    0    1              0  \n",
       "1603      1   0   0   0   0    0    1              0  \n",
       "1676      0   1   0   0   0    0    1              0  \n",
       "1749      0   0   1   0   0    0    1              0  \n",
       "1822      0   0   1   0   0    0    1              0  \n",
       "1895      0   0   1   0   0    0    1              0  \n",
       "1968      0   0   1   0   0    0    1              0  \n",
       "2041      0   0   1   0   0    0    1              0  \n",
       "2114      0   0   1   0   0    0    1              0  \n",
       "...      ..  ..  ..  ..  ..  ...  ...            ...  \n",
       "1144966   0   0   1   0   0    1    0              0  \n",
       "1145039   0   0   1   0   0    1    0              0  \n",
       "1145112   0   0   1   0   0    1    0              0  \n",
       "1145185   0   0   1   0   0    1    0              0  \n",
       "1145258   0   0   1   0   0    1    0              0  \n",
       "1145331   0   0   1   0   0    1    0              0  \n",
       "1145404   0   0   1   0   0    1    0              0  \n",
       "1145477   0   0   1   0   0    1    0              0  \n",
       "1145620   0   0   1   0   0    1    0              0  \n",
       "1145693   0   0   1   0   0    1    0              0  \n",
       "1145766   0   0   1   0   0    1    0              0  \n",
       "1145839   0   0   1   0   0    1    0              0  \n",
       "1145982   0   0   1   0   0    1    0              0  \n",
       "1146124   0   0   1   0   0    1    0              0  \n",
       "1146338   0   0   1   0   0    1    0              0  \n",
       "1146411   0   0   0   1   0    1    0              0  \n",
       "1146624   0   0   0   1   0    1    0              0  \n",
       "1146697   0   0   0   1   0    1    0              0  \n",
       "1146770   0   0   0   1   0    1    0              0  \n",
       "1146911   0   0   0   1   0    1    0              0  \n",
       "1146984   0   0   0   1   0    1    0              0  \n",
       "1147127   0   0   0   1   0    1    0              0  \n",
       "1147200   0   0   0   1   0    1    0              0  \n",
       "1147273   0   0   0   1   0    1    0              0  \n",
       "1147371   0   0   0   0   1    1    0              0  \n",
       "1147444   0   0   0   0   1    1    0              0  \n",
       "1147517   0   0   0   0   1    1    0              0  \n",
       "1147662   0   0   0   0   1    1    0              0  \n",
       "1147803   0   0   0   0   1    1    0              0  \n",
       "1147876   0   0   0   0   1    1    0              0  \n",
       "\n",
       "[1115384 rows x 24 columns]"
      ]
     },
     "execution_count": 56,
     "metadata": {},
     "output_type": "execute_result"
    }
   ],
   "source": [
    "testdf"
   ]
  },
  {
   "cell_type": "code",
   "execution_count": 58,
   "metadata": {
    "scrolled": true
   },
   "outputs": [
    {
     "name": "stderr",
     "output_type": "stream",
     "text": [
      "/home/student/anaconda3/lib/python3.6/site-packages/sklearn/neural_network/multilayer_perceptron.py:564: ConvergenceWarning: Stochastic Optimizer: Maximum iterations (200) reached and the optimization hasn't converged yet.\n",
      "  % self.max_iter, ConvergenceWarning)\n"
     ]
    },
    {
     "name": "stdout",
     "output_type": "stream",
     "text": [
      "MAE: 240.34984012433424\n",
      "'prepareAndTrain'  1513999.53 ms\n"
     ]
    }
   ],
   "source": [
    "#testdf, id = dataPreparation('Test/leavetimes/39A_40l')\n",
    "prepareAndTrain(testdf,id)"
   ]
  },
  {
   "cell_type": "code",
   "execution_count": 29,
   "metadata": {},
   "outputs": [],
   "source": [
    "Xcol=['progrnumber','plannedtime','rain','weekday','distance','em','mp','lm','md','ap','ev', 'ln','temp','m2f','sat',\n",
    "      'ucdSchoolTerm']\n",
    "y='tripTravelTime'"
   ]
  },
  {
   "cell_type": "code",
   "execution_count": 43,
   "metadata": {
    "scrolled": true
   },
   "outputs": [
    {
     "data": {
      "text/html": [
       "<div>\n",
       "<style scoped>\n",
       "    .dataframe tbody tr th:only-of-type {\n",
       "        vertical-align: middle;\n",
       "    }\n",
       "\n",
       "    .dataframe tbody tr th {\n",
       "        vertical-align: top;\n",
       "    }\n",
       "\n",
       "    .dataframe thead th {\n",
       "        text-align: right;\n",
       "    }\n",
       "</style>\n",
       "<table border=\"1\" class=\"dataframe\">\n",
       "  <thead>\n",
       "    <tr style=\"text-align: right;\">\n",
       "      <th></th>\n",
       "      <th>progrnumber</th>\n",
       "      <th>plannedtime</th>\n",
       "      <th>rain</th>\n",
       "      <th>weekday</th>\n",
       "      <th>distance</th>\n",
       "      <th>em</th>\n",
       "      <th>mp</th>\n",
       "      <th>lm</th>\n",
       "      <th>md</th>\n",
       "      <th>ap</th>\n",
       "      <th>ev</th>\n",
       "      <th>ln</th>\n",
       "      <th>temp</th>\n",
       "      <th>m2f</th>\n",
       "      <th>sat</th>\n",
       "      <th>ucdSchoolTerm</th>\n",
       "    </tr>\n",
       "  </thead>\n",
       "  <tbody>\n",
       "    <tr>\n",
       "      <th>26393</th>\n",
       "      <td>13</td>\n",
       "      <td>37837</td>\n",
       "      <td>0.0</td>\n",
       "      <td>1</td>\n",
       "      <td>5009.048302</td>\n",
       "      <td>0</td>\n",
       "      <td>0</td>\n",
       "      <td>1</td>\n",
       "      <td>0</td>\n",
       "      <td>0</td>\n",
       "      <td>0</td>\n",
       "      <td>0</td>\n",
       "      <td>4.5</td>\n",
       "      <td>1</td>\n",
       "      <td>0</td>\n",
       "      <td>1</td>\n",
       "    </tr>\n",
       "    <tr>\n",
       "      <th>540219</th>\n",
       "      <td>39</td>\n",
       "      <td>74770</td>\n",
       "      <td>0.0</td>\n",
       "      <td>3</td>\n",
       "      <td>14322.374320</td>\n",
       "      <td>0</td>\n",
       "      <td>0</td>\n",
       "      <td>0</td>\n",
       "      <td>0</td>\n",
       "      <td>0</td>\n",
       "      <td>1</td>\n",
       "      <td>0</td>\n",
       "      <td>13.1</td>\n",
       "      <td>1</td>\n",
       "      <td>0</td>\n",
       "      <td>1</td>\n",
       "    </tr>\n",
       "    <tr>\n",
       "      <th>422033</th>\n",
       "      <td>50</td>\n",
       "      <td>53512</td>\n",
       "      <td>0.0</td>\n",
       "      <td>0</td>\n",
       "      <td>21728.606084</td>\n",
       "      <td>0</td>\n",
       "      <td>0</td>\n",
       "      <td>0</td>\n",
       "      <td>0</td>\n",
       "      <td>1</td>\n",
       "      <td>0</td>\n",
       "      <td>0</td>\n",
       "      <td>12.0</td>\n",
       "      <td>1</td>\n",
       "      <td>0</td>\n",
       "      <td>1</td>\n",
       "    </tr>\n",
       "    <tr>\n",
       "      <th>534326</th>\n",
       "      <td>71</td>\n",
       "      <td>70595</td>\n",
       "      <td>0.0</td>\n",
       "      <td>2</td>\n",
       "      <td>29493.627107</td>\n",
       "      <td>0</td>\n",
       "      <td>0</td>\n",
       "      <td>0</td>\n",
       "      <td>0</td>\n",
       "      <td>0</td>\n",
       "      <td>1</td>\n",
       "      <td>0</td>\n",
       "      <td>13.0</td>\n",
       "      <td>1</td>\n",
       "      <td>0</td>\n",
       "      <td>1</td>\n",
       "    </tr>\n",
       "    <tr>\n",
       "      <th>111811</th>\n",
       "      <td>34</td>\n",
       "      <td>84763</td>\n",
       "      <td>0.0</td>\n",
       "      <td>3</td>\n",
       "      <td>12592.815936</td>\n",
       "      <td>0</td>\n",
       "      <td>0</td>\n",
       "      <td>0</td>\n",
       "      <td>0</td>\n",
       "      <td>0</td>\n",
       "      <td>0</td>\n",
       "      <td>1</td>\n",
       "      <td>3.2</td>\n",
       "      <td>1</td>\n",
       "      <td>0</td>\n",
       "      <td>1</td>\n",
       "    </tr>\n",
       "    <tr>\n",
       "      <th>725091</th>\n",
       "      <td>53</td>\n",
       "      <td>63239</td>\n",
       "      <td>0.0</td>\n",
       "      <td>3</td>\n",
       "      <td>22612.487965</td>\n",
       "      <td>0</td>\n",
       "      <td>0</td>\n",
       "      <td>0</td>\n",
       "      <td>0</td>\n",
       "      <td>1</td>\n",
       "      <td>0</td>\n",
       "      <td>0</td>\n",
       "      <td>14.7</td>\n",
       "      <td>1</td>\n",
       "      <td>0</td>\n",
       "      <td>0</td>\n",
       "    </tr>\n",
       "    <tr>\n",
       "      <th>800076</th>\n",
       "      <td>18</td>\n",
       "      <td>58590</td>\n",
       "      <td>0.0</td>\n",
       "      <td>3</td>\n",
       "      <td>6055.606335</td>\n",
       "      <td>0</td>\n",
       "      <td>0</td>\n",
       "      <td>0</td>\n",
       "      <td>0</td>\n",
       "      <td>1</td>\n",
       "      <td>0</td>\n",
       "      <td>0</td>\n",
       "      <td>4.0</td>\n",
       "      <td>1</td>\n",
       "      <td>0</td>\n",
       "      <td>0</td>\n",
       "    </tr>\n",
       "    <tr>\n",
       "      <th>256093</th>\n",
       "      <td>41</td>\n",
       "      <td>55741</td>\n",
       "      <td>0.0</td>\n",
       "      <td>0</td>\n",
       "      <td>15079.213921</td>\n",
       "      <td>0</td>\n",
       "      <td>0</td>\n",
       "      <td>0</td>\n",
       "      <td>0</td>\n",
       "      <td>1</td>\n",
       "      <td>0</td>\n",
       "      <td>0</td>\n",
       "      <td>8.3</td>\n",
       "      <td>1</td>\n",
       "      <td>0</td>\n",
       "      <td>1</td>\n",
       "    </tr>\n",
       "    <tr>\n",
       "      <th>652309</th>\n",
       "      <td>46</td>\n",
       "      <td>53295</td>\n",
       "      <td>0.0</td>\n",
       "      <td>2</td>\n",
       "      <td>18513.615713</td>\n",
       "      <td>0</td>\n",
       "      <td>0</td>\n",
       "      <td>0</td>\n",
       "      <td>0</td>\n",
       "      <td>1</td>\n",
       "      <td>0</td>\n",
       "      <td>0</td>\n",
       "      <td>17.8</td>\n",
       "      <td>1</td>\n",
       "      <td>0</td>\n",
       "      <td>0</td>\n",
       "    </tr>\n",
       "    <tr>\n",
       "      <th>396702</th>\n",
       "      <td>16</td>\n",
       "      <td>27549</td>\n",
       "      <td>0.0</td>\n",
       "      <td>2</td>\n",
       "      <td>5606.069767</td>\n",
       "      <td>0</td>\n",
       "      <td>1</td>\n",
       "      <td>0</td>\n",
       "      <td>0</td>\n",
       "      <td>0</td>\n",
       "      <td>0</td>\n",
       "      <td>0</td>\n",
       "      <td>7.5</td>\n",
       "      <td>1</td>\n",
       "      <td>0</td>\n",
       "      <td>1</td>\n",
       "    </tr>\n",
       "    <tr>\n",
       "      <th>844528</th>\n",
       "      <td>7</td>\n",
       "      <td>56179</td>\n",
       "      <td>0.0</td>\n",
       "      <td>4</td>\n",
       "      <td>3434.857864</td>\n",
       "      <td>0</td>\n",
       "      <td>0</td>\n",
       "      <td>0</td>\n",
       "      <td>0</td>\n",
       "      <td>1</td>\n",
       "      <td>0</td>\n",
       "      <td>0</td>\n",
       "      <td>8.1</td>\n",
       "      <td>1</td>\n",
       "      <td>0</td>\n",
       "      <td>0</td>\n",
       "    </tr>\n",
       "    <tr>\n",
       "      <th>975923</th>\n",
       "      <td>29</td>\n",
       "      <td>43640</td>\n",
       "      <td>0.0</td>\n",
       "      <td>3</td>\n",
       "      <td>10939.517856</td>\n",
       "      <td>0</td>\n",
       "      <td>0</td>\n",
       "      <td>1</td>\n",
       "      <td>0</td>\n",
       "      <td>0</td>\n",
       "      <td>0</td>\n",
       "      <td>0</td>\n",
       "      <td>14.2</td>\n",
       "      <td>1</td>\n",
       "      <td>0</td>\n",
       "      <td>0</td>\n",
       "    </tr>\n",
       "    <tr>\n",
       "      <th>108449</th>\n",
       "      <td>38</td>\n",
       "      <td>47604</td>\n",
       "      <td>0.0</td>\n",
       "      <td>3</td>\n",
       "      <td>13997.719528</td>\n",
       "      <td>0</td>\n",
       "      <td>0</td>\n",
       "      <td>0</td>\n",
       "      <td>1</td>\n",
       "      <td>0</td>\n",
       "      <td>0</td>\n",
       "      <td>0</td>\n",
       "      <td>6.8</td>\n",
       "      <td>1</td>\n",
       "      <td>0</td>\n",
       "      <td>1</td>\n",
       "    </tr>\n",
       "    <tr>\n",
       "      <th>651005</th>\n",
       "      <td>56</td>\n",
       "      <td>42755</td>\n",
       "      <td>0.0</td>\n",
       "      <td>2</td>\n",
       "      <td>23387.224631</td>\n",
       "      <td>0</td>\n",
       "      <td>0</td>\n",
       "      <td>1</td>\n",
       "      <td>0</td>\n",
       "      <td>0</td>\n",
       "      <td>0</td>\n",
       "      <td>0</td>\n",
       "      <td>15.6</td>\n",
       "      <td>1</td>\n",
       "      <td>0</td>\n",
       "      <td>0</td>\n",
       "    </tr>\n",
       "    <tr>\n",
       "      <th>639274</th>\n",
       "      <td>63</td>\n",
       "      <td>35539</td>\n",
       "      <td>0.0</td>\n",
       "      <td>0</td>\n",
       "      <td>25868.320070</td>\n",
       "      <td>0</td>\n",
       "      <td>1</td>\n",
       "      <td>0</td>\n",
       "      <td>0</td>\n",
       "      <td>0</td>\n",
       "      <td>0</td>\n",
       "      <td>0</td>\n",
       "      <td>14.6</td>\n",
       "      <td>1</td>\n",
       "      <td>0</td>\n",
       "      <td>0</td>\n",
       "    </tr>\n",
       "    <tr>\n",
       "      <th>769845</th>\n",
       "      <td>29</td>\n",
       "      <td>34532</td>\n",
       "      <td>0.0</td>\n",
       "      <td>1</td>\n",
       "      <td>10939.517856</td>\n",
       "      <td>0</td>\n",
       "      <td>1</td>\n",
       "      <td>0</td>\n",
       "      <td>0</td>\n",
       "      <td>0</td>\n",
       "      <td>0</td>\n",
       "      <td>0</td>\n",
       "      <td>8.6</td>\n",
       "      <td>1</td>\n",
       "      <td>0</td>\n",
       "      <td>0</td>\n",
       "    </tr>\n",
       "    <tr>\n",
       "      <th>405266</th>\n",
       "      <td>12</td>\n",
       "      <td>56509</td>\n",
       "      <td>0.0</td>\n",
       "      <td>3</td>\n",
       "      <td>4740.487322</td>\n",
       "      <td>0</td>\n",
       "      <td>0</td>\n",
       "      <td>0</td>\n",
       "      <td>0</td>\n",
       "      <td>1</td>\n",
       "      <td>0</td>\n",
       "      <td>0</td>\n",
       "      <td>12.4</td>\n",
       "      <td>1</td>\n",
       "      <td>0</td>\n",
       "      <td>1</td>\n",
       "    </tr>\n",
       "    <tr>\n",
       "      <th>234924</th>\n",
       "      <td>73</td>\n",
       "      <td>80291</td>\n",
       "      <td>0.0</td>\n",
       "      <td>1</td>\n",
       "      <td>30162.269335</td>\n",
       "      <td>0</td>\n",
       "      <td>0</td>\n",
       "      <td>0</td>\n",
       "      <td>0</td>\n",
       "      <td>0</td>\n",
       "      <td>0</td>\n",
       "      <td>1</td>\n",
       "      <td>7.9</td>\n",
       "      <td>1</td>\n",
       "      <td>0</td>\n",
       "      <td>1</td>\n",
       "    </tr>\n",
       "    <tr>\n",
       "      <th>740354</th>\n",
       "      <td>60</td>\n",
       "      <td>86533</td>\n",
       "      <td>0.0</td>\n",
       "      <td>3</td>\n",
       "      <td>24969.476920</td>\n",
       "      <td>0</td>\n",
       "      <td>0</td>\n",
       "      <td>0</td>\n",
       "      <td>0</td>\n",
       "      <td>0</td>\n",
       "      <td>0</td>\n",
       "      <td>1</td>\n",
       "      <td>6.0</td>\n",
       "      <td>1</td>\n",
       "      <td>0</td>\n",
       "      <td>0</td>\n",
       "    </tr>\n",
       "    <tr>\n",
       "      <th>471398</th>\n",
       "      <td>13</td>\n",
       "      <td>63188</td>\n",
       "      <td>0.0</td>\n",
       "      <td>3</td>\n",
       "      <td>5009.048302</td>\n",
       "      <td>0</td>\n",
       "      <td>0</td>\n",
       "      <td>0</td>\n",
       "      <td>0</td>\n",
       "      <td>1</td>\n",
       "      <td>0</td>\n",
       "      <td>0</td>\n",
       "      <td>15.9</td>\n",
       "      <td>1</td>\n",
       "      <td>0</td>\n",
       "      <td>0</td>\n",
       "    </tr>\n",
       "    <tr>\n",
       "      <th>571355</th>\n",
       "      <td>18</td>\n",
       "      <td>70498</td>\n",
       "      <td>0.0</td>\n",
       "      <td>3</td>\n",
       "      <td>6055.606335</td>\n",
       "      <td>0</td>\n",
       "      <td>0</td>\n",
       "      <td>0</td>\n",
       "      <td>0</td>\n",
       "      <td>0</td>\n",
       "      <td>1</td>\n",
       "      <td>0</td>\n",
       "      <td>10.9</td>\n",
       "      <td>1</td>\n",
       "      <td>0</td>\n",
       "      <td>0</td>\n",
       "    </tr>\n",
       "    <tr>\n",
       "      <th>784892</th>\n",
       "      <td>62</td>\n",
       "      <td>69913</td>\n",
       "      <td>0.5</td>\n",
       "      <td>0</td>\n",
       "      <td>25502.772057</td>\n",
       "      <td>0</td>\n",
       "      <td>0</td>\n",
       "      <td>0</td>\n",
       "      <td>0</td>\n",
       "      <td>0</td>\n",
       "      <td>1</td>\n",
       "      <td>0</td>\n",
       "      <td>8.6</td>\n",
       "      <td>1</td>\n",
       "      <td>0</td>\n",
       "      <td>0</td>\n",
       "    </tr>\n",
       "    <tr>\n",
       "      <th>416796</th>\n",
       "      <td>20</td>\n",
       "      <td>78399</td>\n",
       "      <td>0.0</td>\n",
       "      <td>5</td>\n",
       "      <td>7269.641823</td>\n",
       "      <td>0</td>\n",
       "      <td>0</td>\n",
       "      <td>0</td>\n",
       "      <td>0</td>\n",
       "      <td>0</td>\n",
       "      <td>1</td>\n",
       "      <td>0</td>\n",
       "      <td>7.5</td>\n",
       "      <td>0</td>\n",
       "      <td>1</td>\n",
       "      <td>1</td>\n",
       "    </tr>\n",
       "    <tr>\n",
       "      <th>125906</th>\n",
       "      <td>42</td>\n",
       "      <td>47845</td>\n",
       "      <td>0.0</td>\n",
       "      <td>0</td>\n",
       "      <td>15297.978635</td>\n",
       "      <td>0</td>\n",
       "      <td>0</td>\n",
       "      <td>0</td>\n",
       "      <td>0</td>\n",
       "      <td>1</td>\n",
       "      <td>0</td>\n",
       "      <td>0</td>\n",
       "      <td>8.4</td>\n",
       "      <td>1</td>\n",
       "      <td>0</td>\n",
       "      <td>1</td>\n",
       "    </tr>\n",
       "    <tr>\n",
       "      <th>174746</th>\n",
       "      <td>59</td>\n",
       "      <td>30298</td>\n",
       "      <td>0.0</td>\n",
       "      <td>3</td>\n",
       "      <td>24537.666586</td>\n",
       "      <td>0</td>\n",
       "      <td>1</td>\n",
       "      <td>0</td>\n",
       "      <td>0</td>\n",
       "      <td>0</td>\n",
       "      <td>0</td>\n",
       "      <td>0</td>\n",
       "      <td>3.9</td>\n",
       "      <td>1</td>\n",
       "      <td>0</td>\n",
       "      <td>1</td>\n",
       "    </tr>\n",
       "    <tr>\n",
       "      <th>569753</th>\n",
       "      <td>11</td>\n",
       "      <td>53977</td>\n",
       "      <td>0.0</td>\n",
       "      <td>3</td>\n",
       "      <td>4493.832596</td>\n",
       "      <td>0</td>\n",
       "      <td>0</td>\n",
       "      <td>0</td>\n",
       "      <td>0</td>\n",
       "      <td>1</td>\n",
       "      <td>0</td>\n",
       "      <td>0</td>\n",
       "      <td>11.7</td>\n",
       "      <td>1</td>\n",
       "      <td>0</td>\n",
       "      <td>0</td>\n",
       "    </tr>\n",
       "    <tr>\n",
       "      <th>30688</th>\n",
       "      <td>8</td>\n",
       "      <td>81902</td>\n",
       "      <td>0.0</td>\n",
       "      <td>1</td>\n",
       "      <td>3677.188217</td>\n",
       "      <td>0</td>\n",
       "      <td>0</td>\n",
       "      <td>0</td>\n",
       "      <td>0</td>\n",
       "      <td>0</td>\n",
       "      <td>0</td>\n",
       "      <td>1</td>\n",
       "      <td>1.8</td>\n",
       "      <td>1</td>\n",
       "      <td>0</td>\n",
       "      <td>1</td>\n",
       "    </tr>\n",
       "    <tr>\n",
       "      <th>1110489</th>\n",
       "      <td>72</td>\n",
       "      <td>68609</td>\n",
       "      <td>0.3</td>\n",
       "      <td>3</td>\n",
       "      <td>29829.232053</td>\n",
       "      <td>0</td>\n",
       "      <td>0</td>\n",
       "      <td>0</td>\n",
       "      <td>0</td>\n",
       "      <td>0</td>\n",
       "      <td>1</td>\n",
       "      <td>0</td>\n",
       "      <td>12.9</td>\n",
       "      <td>1</td>\n",
       "      <td>0</td>\n",
       "      <td>0</td>\n",
       "    </tr>\n",
       "    <tr>\n",
       "      <th>675237</th>\n",
       "      <td>11</td>\n",
       "      <td>50919</td>\n",
       "      <td>0.0</td>\n",
       "      <td>0</td>\n",
       "      <td>4493.832596</td>\n",
       "      <td>0</td>\n",
       "      <td>0</td>\n",
       "      <td>0</td>\n",
       "      <td>0</td>\n",
       "      <td>1</td>\n",
       "      <td>0</td>\n",
       "      <td>0</td>\n",
       "      <td>18.3</td>\n",
       "      <td>1</td>\n",
       "      <td>0</td>\n",
       "      <td>0</td>\n",
       "    </tr>\n",
       "    <tr>\n",
       "      <th>283654</th>\n",
       "      <td>66</td>\n",
       "      <td>63336</td>\n",
       "      <td>1.3</td>\n",
       "      <td>5</td>\n",
       "      <td>27197.008666</td>\n",
       "      <td>0</td>\n",
       "      <td>0</td>\n",
       "      <td>0</td>\n",
       "      <td>0</td>\n",
       "      <td>1</td>\n",
       "      <td>0</td>\n",
       "      <td>0</td>\n",
       "      <td>5.8</td>\n",
       "      <td>0</td>\n",
       "      <td>1</td>\n",
       "      <td>1</td>\n",
       "    </tr>\n",
       "    <tr>\n",
       "      <th>...</th>\n",
       "      <td>...</td>\n",
       "      <td>...</td>\n",
       "      <td>...</td>\n",
       "      <td>...</td>\n",
       "      <td>...</td>\n",
       "      <td>...</td>\n",
       "      <td>...</td>\n",
       "      <td>...</td>\n",
       "      <td>...</td>\n",
       "      <td>...</td>\n",
       "      <td>...</td>\n",
       "      <td>...</td>\n",
       "      <td>...</td>\n",
       "      <td>...</td>\n",
       "      <td>...</td>\n",
       "      <td>...</td>\n",
       "    </tr>\n",
       "    <tr>\n",
       "      <th>539162</th>\n",
       "      <td>60</td>\n",
       "      <td>66800</td>\n",
       "      <td>0.0</td>\n",
       "      <td>3</td>\n",
       "      <td>24969.476920</td>\n",
       "      <td>0</td>\n",
       "      <td>0</td>\n",
       "      <td>0</td>\n",
       "      <td>0</td>\n",
       "      <td>1</td>\n",
       "      <td>0</td>\n",
       "      <td>0</td>\n",
       "      <td>15.6</td>\n",
       "      <td>1</td>\n",
       "      <td>0</td>\n",
       "      <td>1</td>\n",
       "    </tr>\n",
       "    <tr>\n",
       "      <th>214916</th>\n",
       "      <td>12</td>\n",
       "      <td>48669</td>\n",
       "      <td>0.0</td>\n",
       "      <td>4</td>\n",
       "      <td>4740.487322</td>\n",
       "      <td>0</td>\n",
       "      <td>0</td>\n",
       "      <td>0</td>\n",
       "      <td>0</td>\n",
       "      <td>1</td>\n",
       "      <td>0</td>\n",
       "      <td>0</td>\n",
       "      <td>12.3</td>\n",
       "      <td>1</td>\n",
       "      <td>0</td>\n",
       "      <td>1</td>\n",
       "    </tr>\n",
       "    <tr>\n",
       "      <th>176833</th>\n",
       "      <td>70</td>\n",
       "      <td>50965</td>\n",
       "      <td>0.0</td>\n",
       "      <td>3</td>\n",
       "      <td>28975.920016</td>\n",
       "      <td>0</td>\n",
       "      <td>0</td>\n",
       "      <td>0</td>\n",
       "      <td>0</td>\n",
       "      <td>1</td>\n",
       "      <td>0</td>\n",
       "      <td>0</td>\n",
       "      <td>8.7</td>\n",
       "      <td>1</td>\n",
       "      <td>0</td>\n",
       "      <td>1</td>\n",
       "    </tr>\n",
       "    <tr>\n",
       "      <th>27855</th>\n",
       "      <td>25</td>\n",
       "      <td>53025</td>\n",
       "      <td>0.0</td>\n",
       "      <td>1</td>\n",
       "      <td>9243.322928</td>\n",
       "      <td>0</td>\n",
       "      <td>0</td>\n",
       "      <td>0</td>\n",
       "      <td>0</td>\n",
       "      <td>1</td>\n",
       "      <td>0</td>\n",
       "      <td>0</td>\n",
       "      <td>6.4</td>\n",
       "      <td>1</td>\n",
       "      <td>0</td>\n",
       "      <td>1</td>\n",
       "    </tr>\n",
       "    <tr>\n",
       "      <th>707793</th>\n",
       "      <td>45</td>\n",
       "      <td>61017</td>\n",
       "      <td>0.0</td>\n",
       "      <td>0</td>\n",
       "      <td>17103.152811</td>\n",
       "      <td>0</td>\n",
       "      <td>0</td>\n",
       "      <td>0</td>\n",
       "      <td>0</td>\n",
       "      <td>1</td>\n",
       "      <td>0</td>\n",
       "      <td>0</td>\n",
       "      <td>17.4</td>\n",
       "      <td>1</td>\n",
       "      <td>0</td>\n",
       "      <td>0</td>\n",
       "    </tr>\n",
       "    <tr>\n",
       "      <th>119482</th>\n",
       "      <td>55</td>\n",
       "      <td>53031</td>\n",
       "      <td>0.4</td>\n",
       "      <td>5</td>\n",
       "      <td>23138.802912</td>\n",
       "      <td>0</td>\n",
       "      <td>0</td>\n",
       "      <td>0</td>\n",
       "      <td>0</td>\n",
       "      <td>1</td>\n",
       "      <td>0</td>\n",
       "      <td>0</td>\n",
       "      <td>7.9</td>\n",
       "      <td>0</td>\n",
       "      <td>1</td>\n",
       "      <td>1</td>\n",
       "    </tr>\n",
       "    <tr>\n",
       "      <th>632881</th>\n",
       "      <td>67</td>\n",
       "      <td>38241</td>\n",
       "      <td>0.0</td>\n",
       "      <td>5</td>\n",
       "      <td>27567.268713</td>\n",
       "      <td>0</td>\n",
       "      <td>0</td>\n",
       "      <td>1</td>\n",
       "      <td>0</td>\n",
       "      <td>0</td>\n",
       "      <td>0</td>\n",
       "      <td>0</td>\n",
       "      <td>17.8</td>\n",
       "      <td>0</td>\n",
       "      <td>1</td>\n",
       "      <td>0</td>\n",
       "    </tr>\n",
       "    <tr>\n",
       "      <th>147451</th>\n",
       "      <td>17</td>\n",
       "      <td>41626</td>\n",
       "      <td>0.0</td>\n",
       "      <td>4</td>\n",
       "      <td>5776.637950</td>\n",
       "      <td>0</td>\n",
       "      <td>0</td>\n",
       "      <td>1</td>\n",
       "      <td>0</td>\n",
       "      <td>0</td>\n",
       "      <td>0</td>\n",
       "      <td>0</td>\n",
       "      <td>7.9</td>\n",
       "      <td>1</td>\n",
       "      <td>0</td>\n",
       "      <td>1</td>\n",
       "    </tr>\n",
       "    <tr>\n",
       "      <th>303571</th>\n",
       "      <td>64</td>\n",
       "      <td>78706</td>\n",
       "      <td>0.0</td>\n",
       "      <td>3</td>\n",
       "      <td>26456.658754</td>\n",
       "      <td>0</td>\n",
       "      <td>0</td>\n",
       "      <td>0</td>\n",
       "      <td>0</td>\n",
       "      <td>0</td>\n",
       "      <td>0</td>\n",
       "      <td>1</td>\n",
       "      <td>6.6</td>\n",
       "      <td>1</td>\n",
       "      <td>0</td>\n",
       "      <td>1</td>\n",
       "    </tr>\n",
       "    <tr>\n",
       "      <th>501102</th>\n",
       "      <td>26</td>\n",
       "      <td>25703</td>\n",
       "      <td>0.0</td>\n",
       "      <td>3</td>\n",
       "      <td>9826.568859</td>\n",
       "      <td>0</td>\n",
       "      <td>1</td>\n",
       "      <td>0</td>\n",
       "      <td>0</td>\n",
       "      <td>0</td>\n",
       "      <td>0</td>\n",
       "      <td>0</td>\n",
       "      <td>11.3</td>\n",
       "      <td>1</td>\n",
       "      <td>0</td>\n",
       "      <td>1</td>\n",
       "    </tr>\n",
       "    <tr>\n",
       "      <th>907635</th>\n",
       "      <td>7</td>\n",
       "      <td>61917</td>\n",
       "      <td>0.0</td>\n",
       "      <td>4</td>\n",
       "      <td>3434.857864</td>\n",
       "      <td>0</td>\n",
       "      <td>0</td>\n",
       "      <td>0</td>\n",
       "      <td>0</td>\n",
       "      <td>1</td>\n",
       "      <td>0</td>\n",
       "      <td>0</td>\n",
       "      <td>12.1</td>\n",
       "      <td>1</td>\n",
       "      <td>0</td>\n",
       "      <td>0</td>\n",
       "    </tr>\n",
       "    <tr>\n",
       "      <th>640679</th>\n",
       "      <td>54</td>\n",
       "      <td>48561</td>\n",
       "      <td>0.2</td>\n",
       "      <td>0</td>\n",
       "      <td>22895.412163</td>\n",
       "      <td>0</td>\n",
       "      <td>0</td>\n",
       "      <td>0</td>\n",
       "      <td>0</td>\n",
       "      <td>1</td>\n",
       "      <td>0</td>\n",
       "      <td>0</td>\n",
       "      <td>15.0</td>\n",
       "      <td>1</td>\n",
       "      <td>0</td>\n",
       "      <td>0</td>\n",
       "    </tr>\n",
       "    <tr>\n",
       "      <th>16185</th>\n",
       "      <td>15</td>\n",
       "      <td>68175</td>\n",
       "      <td>0.0</td>\n",
       "      <td>5</td>\n",
       "      <td>5357.098154</td>\n",
       "      <td>0</td>\n",
       "      <td>0</td>\n",
       "      <td>0</td>\n",
       "      <td>0</td>\n",
       "      <td>1</td>\n",
       "      <td>0</td>\n",
       "      <td>0</td>\n",
       "      <td>2.8</td>\n",
       "      <td>0</td>\n",
       "      <td>1</td>\n",
       "      <td>1</td>\n",
       "    </tr>\n",
       "    <tr>\n",
       "      <th>921508</th>\n",
       "      <td>11</td>\n",
       "      <td>70095</td>\n",
       "      <td>0.0</td>\n",
       "      <td>0</td>\n",
       "      <td>4493.832596</td>\n",
       "      <td>0</td>\n",
       "      <td>0</td>\n",
       "      <td>0</td>\n",
       "      <td>0</td>\n",
       "      <td>0</td>\n",
       "      <td>1</td>\n",
       "      <td>0</td>\n",
       "      <td>12.7</td>\n",
       "      <td>1</td>\n",
       "      <td>0</td>\n",
       "      <td>0</td>\n",
       "    </tr>\n",
       "    <tr>\n",
       "      <th>46843</th>\n",
       "      <td>43</td>\n",
       "      <td>77408</td>\n",
       "      <td>0.0</td>\n",
       "      <td>4</td>\n",
       "      <td>15967.181064</td>\n",
       "      <td>0</td>\n",
       "      <td>0</td>\n",
       "      <td>0</td>\n",
       "      <td>0</td>\n",
       "      <td>0</td>\n",
       "      <td>1</td>\n",
       "      <td>0</td>\n",
       "      <td>3.0</td>\n",
       "      <td>1</td>\n",
       "      <td>0</td>\n",
       "      <td>1</td>\n",
       "    </tr>\n",
       "    <tr>\n",
       "      <th>215830</th>\n",
       "      <td>50</td>\n",
       "      <td>60511</td>\n",
       "      <td>0.0</td>\n",
       "      <td>4</td>\n",
       "      <td>21728.606084</td>\n",
       "      <td>0</td>\n",
       "      <td>0</td>\n",
       "      <td>0</td>\n",
       "      <td>0</td>\n",
       "      <td>1</td>\n",
       "      <td>0</td>\n",
       "      <td>0</td>\n",
       "      <td>13.1</td>\n",
       "      <td>1</td>\n",
       "      <td>0</td>\n",
       "      <td>1</td>\n",
       "    </tr>\n",
       "    <tr>\n",
       "      <th>832965</th>\n",
       "      <td>42</td>\n",
       "      <td>54970</td>\n",
       "      <td>0.0</td>\n",
       "      <td>2</td>\n",
       "      <td>15297.978635</td>\n",
       "      <td>0</td>\n",
       "      <td>0</td>\n",
       "      <td>0</td>\n",
       "      <td>0</td>\n",
       "      <td>1</td>\n",
       "      <td>0</td>\n",
       "      <td>0</td>\n",
       "      <td>10.5</td>\n",
       "      <td>1</td>\n",
       "      <td>0</td>\n",
       "      <td>0</td>\n",
       "    </tr>\n",
       "    <tr>\n",
       "      <th>579969</th>\n",
       "      <td>3</td>\n",
       "      <td>72169</td>\n",
       "      <td>0.0</td>\n",
       "      <td>5</td>\n",
       "      <td>985.330521</td>\n",
       "      <td>0</td>\n",
       "      <td>0</td>\n",
       "      <td>0</td>\n",
       "      <td>0</td>\n",
       "      <td>0</td>\n",
       "      <td>1</td>\n",
       "      <td>0</td>\n",
       "      <td>13.4</td>\n",
       "      <td>0</td>\n",
       "      <td>1</td>\n",
       "      <td>0</td>\n",
       "    </tr>\n",
       "    <tr>\n",
       "      <th>189220</th>\n",
       "      <td>26</td>\n",
       "      <td>35460</td>\n",
       "      <td>0.0</td>\n",
       "      <td>6</td>\n",
       "      <td>9826.568859</td>\n",
       "      <td>0</td>\n",
       "      <td>1</td>\n",
       "      <td>0</td>\n",
       "      <td>0</td>\n",
       "      <td>0</td>\n",
       "      <td>0</td>\n",
       "      <td>0</td>\n",
       "      <td>1.8</td>\n",
       "      <td>0</td>\n",
       "      <td>0</td>\n",
       "      <td>1</td>\n",
       "    </tr>\n",
       "    <tr>\n",
       "      <th>1084394</th>\n",
       "      <td>23</td>\n",
       "      <td>70006</td>\n",
       "      <td>0.0</td>\n",
       "      <td>1</td>\n",
       "      <td>8467.109800</td>\n",
       "      <td>0</td>\n",
       "      <td>0</td>\n",
       "      <td>0</td>\n",
       "      <td>0</td>\n",
       "      <td>0</td>\n",
       "      <td>1</td>\n",
       "      <td>0</td>\n",
       "      <td>18.8</td>\n",
       "      <td>1</td>\n",
       "      <td>0</td>\n",
       "      <td>0</td>\n",
       "    </tr>\n",
       "    <tr>\n",
       "      <th>631813</th>\n",
       "      <td>10</td>\n",
       "      <td>82040</td>\n",
       "      <td>0.1</td>\n",
       "      <td>4</td>\n",
       "      <td>4285.131853</td>\n",
       "      <td>0</td>\n",
       "      <td>0</td>\n",
       "      <td>0</td>\n",
       "      <td>0</td>\n",
       "      <td>0</td>\n",
       "      <td>0</td>\n",
       "      <td>1</td>\n",
       "      <td>15.0</td>\n",
       "      <td>1</td>\n",
       "      <td>0</td>\n",
       "      <td>0</td>\n",
       "    </tr>\n",
       "    <tr>\n",
       "      <th>184867</th>\n",
       "      <td>3</td>\n",
       "      <td>81795</td>\n",
       "      <td>0.0</td>\n",
       "      <td>4</td>\n",
       "      <td>985.330521</td>\n",
       "      <td>0</td>\n",
       "      <td>0</td>\n",
       "      <td>0</td>\n",
       "      <td>0</td>\n",
       "      <td>0</td>\n",
       "      <td>0</td>\n",
       "      <td>1</td>\n",
       "      <td>4.1</td>\n",
       "      <td>1</td>\n",
       "      <td>0</td>\n",
       "      <td>1</td>\n",
       "    </tr>\n",
       "    <tr>\n",
       "      <th>742445</th>\n",
       "      <td>42</td>\n",
       "      <td>50552</td>\n",
       "      <td>0.0</td>\n",
       "      <td>4</td>\n",
       "      <td>15297.978635</td>\n",
       "      <td>0</td>\n",
       "      <td>0</td>\n",
       "      <td>0</td>\n",
       "      <td>0</td>\n",
       "      <td>1</td>\n",
       "      <td>0</td>\n",
       "      <td>0</td>\n",
       "      <td>11.9</td>\n",
       "      <td>1</td>\n",
       "      <td>0</td>\n",
       "      <td>0</td>\n",
       "    </tr>\n",
       "    <tr>\n",
       "      <th>917014</th>\n",
       "      <td>60</td>\n",
       "      <td>31889</td>\n",
       "      <td>0.0</td>\n",
       "      <td>0</td>\n",
       "      <td>24969.476920</td>\n",
       "      <td>0</td>\n",
       "      <td>1</td>\n",
       "      <td>0</td>\n",
       "      <td>0</td>\n",
       "      <td>0</td>\n",
       "      <td>0</td>\n",
       "      <td>0</td>\n",
       "      <td>10.7</td>\n",
       "      <td>1</td>\n",
       "      <td>0</td>\n",
       "      <td>0</td>\n",
       "    </tr>\n",
       "    <tr>\n",
       "      <th>732995</th>\n",
       "      <td>51</td>\n",
       "      <td>68014</td>\n",
       "      <td>0.0</td>\n",
       "      <td>2</td>\n",
       "      <td>21997.705179</td>\n",
       "      <td>0</td>\n",
       "      <td>0</td>\n",
       "      <td>0</td>\n",
       "      <td>0</td>\n",
       "      <td>1</td>\n",
       "      <td>0</td>\n",
       "      <td>0</td>\n",
       "      <td>2.1</td>\n",
       "      <td>1</td>\n",
       "      <td>0</td>\n",
       "      <td>0</td>\n",
       "    </tr>\n",
       "    <tr>\n",
       "      <th>841196</th>\n",
       "      <td>69</td>\n",
       "      <td>28809</td>\n",
       "      <td>0.0</td>\n",
       "      <td>4</td>\n",
       "      <td>28824.548665</td>\n",
       "      <td>0</td>\n",
       "      <td>1</td>\n",
       "      <td>0</td>\n",
       "      <td>0</td>\n",
       "      <td>0</td>\n",
       "      <td>0</td>\n",
       "      <td>0</td>\n",
       "      <td>2.4</td>\n",
       "      <td>1</td>\n",
       "      <td>0</td>\n",
       "      <td>0</td>\n",
       "    </tr>\n",
       "    <tr>\n",
       "      <th>245964</th>\n",
       "      <td>42</td>\n",
       "      <td>79248</td>\n",
       "      <td>0.0</td>\n",
       "      <td>4</td>\n",
       "      <td>15297.978635</td>\n",
       "      <td>0</td>\n",
       "      <td>0</td>\n",
       "      <td>0</td>\n",
       "      <td>0</td>\n",
       "      <td>0</td>\n",
       "      <td>0</td>\n",
       "      <td>1</td>\n",
       "      <td>6.3</td>\n",
       "      <td>1</td>\n",
       "      <td>0</td>\n",
       "      <td>1</td>\n",
       "    </tr>\n",
       "    <tr>\n",
       "      <th>379544</th>\n",
       "      <td>61</td>\n",
       "      <td>54166</td>\n",
       "      <td>0.0</td>\n",
       "      <td>5</td>\n",
       "      <td>25191.765627</td>\n",
       "      <td>0</td>\n",
       "      <td>0</td>\n",
       "      <td>0</td>\n",
       "      <td>0</td>\n",
       "      <td>1</td>\n",
       "      <td>0</td>\n",
       "      <td>0</td>\n",
       "      <td>8.5</td>\n",
       "      <td>0</td>\n",
       "      <td>1</td>\n",
       "      <td>1</td>\n",
       "    </tr>\n",
       "    <tr>\n",
       "      <th>38640</th>\n",
       "      <td>29</td>\n",
       "      <td>47480</td>\n",
       "      <td>0.0</td>\n",
       "      <td>3</td>\n",
       "      <td>10939.517856</td>\n",
       "      <td>0</td>\n",
       "      <td>0</td>\n",
       "      <td>0</td>\n",
       "      <td>0</td>\n",
       "      <td>1</td>\n",
       "      <td>0</td>\n",
       "      <td>0</td>\n",
       "      <td>11.2</td>\n",
       "      <td>1</td>\n",
       "      <td>0</td>\n",
       "      <td>1</td>\n",
       "    </tr>\n",
       "    <tr>\n",
       "      <th>363513</th>\n",
       "      <td>36</td>\n",
       "      <td>54107</td>\n",
       "      <td>0.0</td>\n",
       "      <td>2</td>\n",
       "      <td>13196.947966</td>\n",
       "      <td>0</td>\n",
       "      <td>0</td>\n",
       "      <td>0</td>\n",
       "      <td>0</td>\n",
       "      <td>1</td>\n",
       "      <td>0</td>\n",
       "      <td>0</td>\n",
       "      <td>11.3</td>\n",
       "      <td>1</td>\n",
       "      <td>0</td>\n",
       "      <td>1</td>\n",
       "    </tr>\n",
       "  </tbody>\n",
       "</table>\n",
       "<p>1131882 rows × 16 columns</p>\n",
       "</div>"
      ],
      "text/plain": [
       "         progrnumber  plannedtime  rain  weekday      distance  em  mp  lm  \\\n",
       "26393             13        37837   0.0        1   5009.048302   0   0   1   \n",
       "540219            39        74770   0.0        3  14322.374320   0   0   0   \n",
       "422033            50        53512   0.0        0  21728.606084   0   0   0   \n",
       "534326            71        70595   0.0        2  29493.627107   0   0   0   \n",
       "111811            34        84763   0.0        3  12592.815936   0   0   0   \n",
       "725091            53        63239   0.0        3  22612.487965   0   0   0   \n",
       "800076            18        58590   0.0        3   6055.606335   0   0   0   \n",
       "256093            41        55741   0.0        0  15079.213921   0   0   0   \n",
       "652309            46        53295   0.0        2  18513.615713   0   0   0   \n",
       "396702            16        27549   0.0        2   5606.069767   0   1   0   \n",
       "844528             7        56179   0.0        4   3434.857864   0   0   0   \n",
       "975923            29        43640   0.0        3  10939.517856   0   0   1   \n",
       "108449            38        47604   0.0        3  13997.719528   0   0   0   \n",
       "651005            56        42755   0.0        2  23387.224631   0   0   1   \n",
       "639274            63        35539   0.0        0  25868.320070   0   1   0   \n",
       "769845            29        34532   0.0        1  10939.517856   0   1   0   \n",
       "405266            12        56509   0.0        3   4740.487322   0   0   0   \n",
       "234924            73        80291   0.0        1  30162.269335   0   0   0   \n",
       "740354            60        86533   0.0        3  24969.476920   0   0   0   \n",
       "471398            13        63188   0.0        3   5009.048302   0   0   0   \n",
       "571355            18        70498   0.0        3   6055.606335   0   0   0   \n",
       "784892            62        69913   0.5        0  25502.772057   0   0   0   \n",
       "416796            20        78399   0.0        5   7269.641823   0   0   0   \n",
       "125906            42        47845   0.0        0  15297.978635   0   0   0   \n",
       "174746            59        30298   0.0        3  24537.666586   0   1   0   \n",
       "569753            11        53977   0.0        3   4493.832596   0   0   0   \n",
       "30688              8        81902   0.0        1   3677.188217   0   0   0   \n",
       "1110489           72        68609   0.3        3  29829.232053   0   0   0   \n",
       "675237            11        50919   0.0        0   4493.832596   0   0   0   \n",
       "283654            66        63336   1.3        5  27197.008666   0   0   0   \n",
       "...              ...          ...   ...      ...           ...  ..  ..  ..   \n",
       "539162            60        66800   0.0        3  24969.476920   0   0   0   \n",
       "214916            12        48669   0.0        4   4740.487322   0   0   0   \n",
       "176833            70        50965   0.0        3  28975.920016   0   0   0   \n",
       "27855             25        53025   0.0        1   9243.322928   0   0   0   \n",
       "707793            45        61017   0.0        0  17103.152811   0   0   0   \n",
       "119482            55        53031   0.4        5  23138.802912   0   0   0   \n",
       "632881            67        38241   0.0        5  27567.268713   0   0   1   \n",
       "147451            17        41626   0.0        4   5776.637950   0   0   1   \n",
       "303571            64        78706   0.0        3  26456.658754   0   0   0   \n",
       "501102            26        25703   0.0        3   9826.568859   0   1   0   \n",
       "907635             7        61917   0.0        4   3434.857864   0   0   0   \n",
       "640679            54        48561   0.2        0  22895.412163   0   0   0   \n",
       "16185             15        68175   0.0        5   5357.098154   0   0   0   \n",
       "921508            11        70095   0.0        0   4493.832596   0   0   0   \n",
       "46843             43        77408   0.0        4  15967.181064   0   0   0   \n",
       "215830            50        60511   0.0        4  21728.606084   0   0   0   \n",
       "832965            42        54970   0.0        2  15297.978635   0   0   0   \n",
       "579969             3        72169   0.0        5    985.330521   0   0   0   \n",
       "189220            26        35460   0.0        6   9826.568859   0   1   0   \n",
       "1084394           23        70006   0.0        1   8467.109800   0   0   0   \n",
       "631813            10        82040   0.1        4   4285.131853   0   0   0   \n",
       "184867             3        81795   0.0        4    985.330521   0   0   0   \n",
       "742445            42        50552   0.0        4  15297.978635   0   0   0   \n",
       "917014            60        31889   0.0        0  24969.476920   0   1   0   \n",
       "732995            51        68014   0.0        2  21997.705179   0   0   0   \n",
       "841196            69        28809   0.0        4  28824.548665   0   1   0   \n",
       "245964            42        79248   0.0        4  15297.978635   0   0   0   \n",
       "379544            61        54166   0.0        5  25191.765627   0   0   0   \n",
       "38640             29        47480   0.0        3  10939.517856   0   0   0   \n",
       "363513            36        54107   0.0        2  13196.947966   0   0   0   \n",
       "\n",
       "         md  ap  ev  ln  temp  m2f  sat  ucdSchoolTerm  \n",
       "26393     0   0   0   0   4.5    1    0              1  \n",
       "540219    0   0   1   0  13.1    1    0              1  \n",
       "422033    0   1   0   0  12.0    1    0              1  \n",
       "534326    0   0   1   0  13.0    1    0              1  \n",
       "111811    0   0   0   1   3.2    1    0              1  \n",
       "725091    0   1   0   0  14.7    1    0              0  \n",
       "800076    0   1   0   0   4.0    1    0              0  \n",
       "256093    0   1   0   0   8.3    1    0              1  \n",
       "652309    0   1   0   0  17.8    1    0              0  \n",
       "396702    0   0   0   0   7.5    1    0              1  \n",
       "844528    0   1   0   0   8.1    1    0              0  \n",
       "975923    0   0   0   0  14.2    1    0              0  \n",
       "108449    1   0   0   0   6.8    1    0              1  \n",
       "651005    0   0   0   0  15.6    1    0              0  \n",
       "639274    0   0   0   0  14.6    1    0              0  \n",
       "769845    0   0   0   0   8.6    1    0              0  \n",
       "405266    0   1   0   0  12.4    1    0              1  \n",
       "234924    0   0   0   1   7.9    1    0              1  \n",
       "740354    0   0   0   1   6.0    1    0              0  \n",
       "471398    0   1   0   0  15.9    1    0              0  \n",
       "571355    0   0   1   0  10.9    1    0              0  \n",
       "784892    0   0   1   0   8.6    1    0              0  \n",
       "416796    0   0   1   0   7.5    0    1              1  \n",
       "125906    0   1   0   0   8.4    1    0              1  \n",
       "174746    0   0   0   0   3.9    1    0              1  \n",
       "569753    0   1   0   0  11.7    1    0              0  \n",
       "30688     0   0   0   1   1.8    1    0              1  \n",
       "1110489   0   0   1   0  12.9    1    0              0  \n",
       "675237    0   1   0   0  18.3    1    0              0  \n",
       "283654    0   1   0   0   5.8    0    1              1  \n",
       "...      ..  ..  ..  ..   ...  ...  ...            ...  \n",
       "539162    0   1   0   0  15.6    1    0              1  \n",
       "214916    0   1   0   0  12.3    1    0              1  \n",
       "176833    0   1   0   0   8.7    1    0              1  \n",
       "27855     0   1   0   0   6.4    1    0              1  \n",
       "707793    0   1   0   0  17.4    1    0              0  \n",
       "119482    0   1   0   0   7.9    0    1              1  \n",
       "632881    0   0   0   0  17.8    0    1              0  \n",
       "147451    0   0   0   0   7.9    1    0              1  \n",
       "303571    0   0   0   1   6.6    1    0              1  \n",
       "501102    0   0   0   0  11.3    1    0              1  \n",
       "907635    0   1   0   0  12.1    1    0              0  \n",
       "640679    0   1   0   0  15.0    1    0              0  \n",
       "16185     0   1   0   0   2.8    0    1              1  \n",
       "921508    0   0   1   0  12.7    1    0              0  \n",
       "46843     0   0   1   0   3.0    1    0              1  \n",
       "215830    0   1   0   0  13.1    1    0              1  \n",
       "832965    0   1   0   0  10.5    1    0              0  \n",
       "579969    0   0   1   0  13.4    0    1              0  \n",
       "189220    0   0   0   0   1.8    0    0              1  \n",
       "1084394   0   0   1   0  18.8    1    0              0  \n",
       "631813    0   0   0   1  15.0    1    0              0  \n",
       "184867    0   0   0   1   4.1    1    0              1  \n",
       "742445    0   1   0   0  11.9    1    0              0  \n",
       "917014    0   0   0   0  10.7    1    0              0  \n",
       "732995    0   1   0   0   2.1    1    0              0  \n",
       "841196    0   0   0   0   2.4    1    0              0  \n",
       "245964    0   0   0   1   6.3    1    0              1  \n",
       "379544    0   1   0   0   8.5    0    1              1  \n",
       "38640     0   1   0   0  11.2    1    0              1  \n",
       "363513    0   1   0   0  11.3    1    0              1  \n",
       "\n",
       "[1131882 rows x 16 columns]"
      ]
     },
     "execution_count": 43,
     "metadata": {},
     "output_type": "execute_result"
    }
   ],
   "source": [
    "X = testdf[Xcol].sample(frac=1)\n",
    "X"
   ]
  },
  {
   "cell_type": "code",
   "execution_count": 44,
   "metadata": {},
   "outputs": [
    {
     "name": "stdout",
     "output_type": "stream",
     "text": [
      "1018693\n"
     ]
    }
   ],
   "source": [
    "split = int(testdf.shape[0]*0.9)\n",
    "print(split)"
   ]
  },
  {
   "cell_type": "code",
   "execution_count": 45,
   "metadata": {
    "scrolled": true
   },
   "outputs": [
    {
     "data": {
      "text/plain": [
       "array([[-1.13367681, -1.06341828, -0.18780125, ...,  0.47669121,\n",
       "        -0.35786274,  1.13505927],\n",
       "       [ 0.10111343,  1.27308502, -0.18780125, ...,  0.47669121,\n",
       "        -0.35786274,  1.13505927],\n",
       "       [ 0.62352468, -0.07176612, -0.18780125, ...,  0.47669121,\n",
       "        -0.35786274,  1.13505927],\n",
       "       ...,\n",
       "       [ 0.57603275,  0.43440351, -0.18780125, ..., -2.09779411,\n",
       "        -0.35786274,  1.13505927],\n",
       "       [ 0.00612956,  0.51727843, -0.18780125, ...,  0.47669121,\n",
       "        -0.35786274, -0.88101126],\n",
       "       [ 1.2409198 , -1.02729494, -0.18780125, ...,  0.47669121,\n",
       "        -0.35786274,  1.13505927]])"
      ]
     },
     "execution_count": 45,
     "metadata": {},
     "output_type": "execute_result"
    }
   ],
   "source": [
    "X_train, X_test = X[:split], X[split:]\n",
    "y_train, y_test = testdf[y][:split], testdf[y][split:]\n",
    "scaler = StandardScaler() \n",
    "scaler.fit(X_train)\n",
    "\n",
    "\n",
    "X_train = scaler.transform(X_train)\n",
    "X_test = scaler.transform(X_test)\n",
    "X_train"
   ]
  },
  {
   "cell_type": "code",
   "execution_count": null,
   "metadata": {},
   "outputs": [],
   "source": [
    "regr = MLPRegressor()\n",
    "regr.fit(X_train, y_train)\n",
    "\n",
    "y_pred = regr.predict(X_test)\n",
    "print('MAE:',mean_absolute_error(y_test, y_pred))"
   ]
  },
  {
   "cell_type": "code",
   "execution_count": 36,
   "metadata": {},
   "outputs": [],
   "source": [
    "import seaborn as sns\n",
    "def plotPred(y_pred,y_test):\n",
    "    plot = sns.kdeplot( y_pred , color=\"skyblue\", label=\"Prediction\")\n",
    "    plot = sns.kdeplot( y_test , color=\"red\", label=\"Actual\")"
   ]
  },
  {
   "cell_type": "code",
   "execution_count": 38,
   "metadata": {},
   "outputs": [
    {
     "data": {
      "image/png": "[encoded data removed]",
      "text/plain": [
       "<Figure size 432x288 with 1 Axes>"
      ]
     },
     "metadata": {},
     "output_type": "display_data"
    }
   ],
   "source": [
    "plotPred(regr.predict(X_train),y_train)"
   ]
  },
  {
   "cell_type": "code",
   "execution_count": 37,
   "metadata": {
    "scrolled": true
   },
   "outputs": [
    {
     "data": {
      "image/png": "[encoded data removed]",
      "text/plain": [
       "<Figure size 432x288 with 1 Axes>"
      ]
     },
     "metadata": {},
     "output_type": "display_data"
    }
   ],
   "source": [
    "plotPred(y_pred,y_test)"
   ]
  },
  {
   "cell_type": "code",
   "execution_count": 78,
   "metadata": {},
   "outputs": [
    {
     "data": {
      "text/plain": [
       "['27_19l',\n",
       " '33_69l',\n",
       " '25B_271l',\n",
       " '79A_27l',\n",
       " '40_32l',\n",
       " '33_17l',\n",
       " '17A_14l',\n",
       " '63_24l',\n",
       " '39_20l',\n",
       " '111_10l',\n",
       " '.ipynb_checkpoints',\n",
       " '151_16l',\n",
       " '7_71l',\n",
       " '76_36l',\n",
       " '39A_42l',\n",
       " '45A_68l',\n",
       " '7A_87l',\n",
       " '16C_28l',\n",
       " '13_75l',\n",
       " '7B_91l',\n",
       " '46A_62l',\n",
       " '45A_69l',\n",
       " '49_27l',\n",
       " '15A_81l',\n",
       " '83A_17l',\n",
       " '122_17l',\n",
       " '63_25l',\n",
       " '161_52l',\n",
       " '16_21l',\n",
       " '66X_99l',\n",
       " '32X_75l',\n",
       " '1_41l',\n",
       " '145_87l',\n",
       " '66A_34l',\n",
       " '33_73l',\n",
       " '111_4l',\n",
       " '65_75l',\n",
       " '46A_68l',\n",
       " '46A_74l',\n",
       " '46A_72l',\n",
       " '25B_276l',\n",
       " '66B_55l',\n",
       " '65_76l',\n",
       " '79A_28l',\n",
       " '31D_50l',\n",
       " '83_18l',\n",
       " '27_12l',\n",
       " '140_20l',\n",
       " '40B_65l',\n",
       " '77A_29l',\n",
       " '102_8l',\n",
       " '17_11l',\n",
       " '33A_23l',\n",
       " '75_21l',\n",
       " '33X_46l',\n",
       " '114_5l',\n",
       " '145_105l',\n",
       " '66X_92l',\n",
       " '13_72l',\n",
       " '40D_101l',\n",
       " '43_89l',\n",
       " '757_1l',\n",
       " '32_57l',\n",
       " '44_39l',\n",
       " '49_29l',\n",
       " '43_88l',\n",
       " '16_20l',\n",
       " '63_21l',\n",
       " '37_15l',\n",
       " '31D_51l',\n",
       " '40D_104l',\n",
       " '76A_29l',\n",
       " '69_41l',\n",
       " '69X_58l',\n",
       " '130_10l',\n",
       " '40_26l',\n",
       " '41_20l',\n",
       " '32X_74l',\n",
       " '41C_80l',\n",
       " '270_42l',\n",
       " '51X_63l',\n",
       " '33A_25l',\n",
       " '84A_3l',\n",
       " '84_27l',\n",
       " '46A_69l',\n",
       " '27X_42l',\n",
       " '39A_41l',\n",
       " '47_137l',\n",
       " '41_7l',\n",
       " '14C_18l',\n",
       " '16C_26l',\n",
       " '84A_1l',\n",
       " '145_91l',\n",
       " '123_34l',\n",
       " '33B_59l',\n",
       " '185_58l',\n",
       " '76_37l',\n",
       " '46A_66l',\n",
       " '33_41l',\n",
       " '161_51l',\n",
       " '45A_64l',\n",
       " '185_52l',\n",
       " '44_38l',\n",
       " '68_70l',\n",
       " '42D_51l',\n",
       " '17A_15l',\n",
       " '1_40l',\n",
       " '66X_101l',\n",
       " '17A_17l',\n",
       " '38D_61l',\n",
       " '4_13l',\n",
       " '120_7l',\n",
       " '7_66l',\n",
       " '31_16l',\n",
       " '185_57l',\n",
       " '41_10l',\n",
       " '41X_115l',\n",
       " '40_24l',\n",
       " '33_40l',\n",
       " '83_16l',\n",
       " '33A_26l',\n",
       " '9_5l',\n",
       " '69X_57l',\n",
       " '45A_60l',\n",
       " '41X_120l',\n",
       " '102_10l',\n",
       " '7_51l',\n",
       " '185_56l',\n",
       " '114_6l',\n",
       " '16_24l',\n",
       " '7A_88l',\n",
       " '220_10l',\n",
       " '75_8l',\n",
       " '76A_28l',\n",
       " '7D_112l',\n",
       " '150_7l',\n",
       " '31B_45l',\n",
       " '7B_92l',\n",
       " '25A_270l',\n",
       " '84_29l',\n",
       " '7_70l',\n",
       " '41A_22l',\n",
       " '27B_27l',\n",
       " '33B_60l',\n",
       " '140_16l',\n",
       " '40_28l',\n",
       " '40_17l',\n",
       " '270_44l',\n",
       " '33B_56l',\n",
       " '27B_34l',\n",
       " '7_63l',\n",
       " '151_17l',\n",
       " '84_28l',\n",
       " '13_71l',\n",
       " '27A_4l',\n",
       " '39_22l',\n",
       " '116_3l',\n",
       " '42D_50l',\n",
       " '25X_9l',\n",
       " '13_68l',\n",
       " '13_66l',\n",
       " '84_30l',\n",
       " '63_20l',\n",
       " '150_5l',\n",
       " '51D_50l',\n",
       " '185_63l',\n",
       " '68_74l',\n",
       " '38_15l',\n",
       " '142_12l',\n",
       " '46A_65l',\n",
       " '31_15l',\n",
       " '33A_22l',\n",
       " '69_42l',\n",
       " '66X_96l',\n",
       " '25X_7l',\n",
       " '122_16l',\n",
       " '31A_25l',\n",
       " '41X_119l',\n",
       " '122_15l',\n",
       " '70_67l',\n",
       " '61_107l',\n",
       " '39A_40l',\n",
       " '40_31l',\n",
       " '111_9l',\n",
       " '84X_52l',\n",
       " '11_42l',\n",
       " '66B_57l',\n",
       " '41X_117l',\n",
       " '17A_16l',\n",
       " '17A_11l',\n",
       " '75_14l',\n",
       " '13_61l',\n",
       " '41B_53l',\n",
       " '33_16l',\n",
       " '75_15l',\n",
       " '66X_97l',\n",
       " '1_39l',\n",
       " '39A_43l',\n",
       " '11_40l',\n",
       " '83_24l',\n",
       " '37_14l',\n",
       " '33_18l',\n",
       " '15B_59l',\n",
       " '26_26l',\n",
       " '145_106l',\n",
       " '239_26l',\n",
       " '118_3l',\n",
       " '239_28l',\n",
       " '63_19l',\n",
       " '7A_85l',\n",
       " '83_25l',\n",
       " '84X_59l',\n",
       " '7_60l',\n",
       " '16C_29l',\n",
       " '15B_55l',\n",
       " '15B_58l',\n",
       " '44_36l',\n",
       " '41_21l',\n",
       " '40_30l',\n",
       " '75_7l',\n",
       " '46A_73l',\n",
       " '7B_93l',\n",
       " '31B_46l',\n",
       " '56A_30l',\n",
       " '66_13l',\n",
       " '65B_65l',\n",
       " '33_45l',\n",
       " '38_14l',\n",
       " '145_86l',\n",
       " '54A_12l',\n",
       " '13_67l',\n",
       " '41C_79l',\n",
       " '63_29l',\n",
       " '145_93l',\n",
       " '53_17l',\n",
       " '1_37l',\n",
       " '25D_277l',\n",
       " '68_66l',\n",
       " '13_70l',\n",
       " '184_29l',\n",
       " '142_10l',\n",
       " '44_31l',\n",
       " '185_53l',\n",
       " '44_37l',\n",
       " '59_8l',\n",
       " '15A_82l',\n",
       " '75_20l',\n",
       " '47_135l',\n",
       " '17A_18l',\n",
       " '41_8l',\n",
       " '142_9l',\n",
       " '39_23l',\n",
       " '25X_5l',\n",
       " '13_65l',\n",
       " '84X_57l',\n",
       " '220_12l',\n",
       " '83_22l',\n",
       " '66_11l',\n",
       " '25_269l',\n",
       " '68_67l',\n",
       " '13_73l',\n",
       " '15_17l',\n",
       " '84X_58l',\n",
       " '27B_36l',\n",
       " '46A_64l',\n",
       " '7_62l',\n",
       " '13_74l',\n",
       " '61_106l',\n",
       " '63_23l',\n",
       " '13_69l',\n",
       " '9_8l',\n",
       " '220_14l',\n",
       " '145_89l',\n",
       " '17_13l',\n",
       " '66X_95l',\n",
       " '33A_27l',\n",
       " '185_50l',\n",
       " '38A_20l',\n",
       " '44_40l',\n",
       " '27A_5l',\n",
       " '83A_26l',\n",
       " '25B_274l',\n",
       " '40_20l',\n",
       " '9_6l',\n",
       " '13_62l',\n",
       " '151_19l',\n",
       " '46A_70l',\n",
       " '11_41l',\n",
       " '185_54l',\n",
       " '17A_13l',\n",
       " '7_53l',\n",
       " '14_15l',\n",
       " '39_21l',\n",
       " '38B_40l',\n",
       " '41C_78l',\n",
       " '8_129l',\n",
       " '40D_103l',\n",
       " '33_44l',\n",
       " '7D_120l',\n",
       " '13_76l',\n",
       " '75_18l',\n",
       " '68_68l',\n",
       " '27X_43l',\n",
       " '27B_23l',\n",
       " '33B_58l',\n",
       " '44_30l',\n",
       " '54A_11l',\n",
       " '42_44l',\n",
       " '68X_77l',\n",
       " '38B_44l',\n",
       " '145_102l',\n",
       " '29A_15l',\n",
       " '40_33l',\n",
       " '7D_121l',\n",
       " '17_19l',\n",
       " '40_27l',\n",
       " '49_28l',\n",
       " '83_27l',\n",
       " '140_19l',\n",
       " '41_3l',\n",
       " '185_51l',\n",
       " '41X_116l',\n",
       " '14C_17l',\n",
       " '51D_47l',\n",
       " '123_35l',\n",
       " '65_73l',\n",
       " '41_4l',\n",
       " '31A_26l',\n",
       " '63_28l',\n",
       " '33X_48l',\n",
       " '61_109l',\n",
       " '43_85l',\n",
       " '46A_63l',\n",
       " '7A_86l',\n",
       " '40B_63l',\n",
       " '757_2l',\n",
       " '65B_66l',\n",
       " '185_55l',\n",
       " '15B_56l',\n",
       " '15A_80l',\n",
       " '47_138l',\n",
       " '102_9l',\n",
       " '40D_102l',\n",
       " '53_19l',\n",
       " '8_126l',\n",
       " '185_60l',\n",
       " '238_15l',\n",
       " '27B_24l',\n",
       " '27B_40l',\n",
       " '41B_51l',\n",
       " '63_18l',\n",
       " '44B_61l',\n",
       " '17_15l',\n",
       " '66X_100l',\n",
       " '56A_31l',\n",
       " '15_16l',\n",
       " '145_107l',\n",
       " '75_19l',\n",
       " '27B_37l',\n",
       " '41X_108l',\n",
       " '185_62l',\n",
       " '84A_4l',\n",
       " '26_24l',\n",
       " '120_8l',\n",
       " '67_6l',\n",
       " '41_6l',\n",
       " '61_108l',\n",
       " '13_64l',\n",
       " '16C_27l',\n",
       " '67_4l',\n",
       " '123_37l',\n",
       " '11_43l',\n",
       " '70D_70l',\n",
       " '25_272l',\n",
       " '18_4l',\n",
       " '33_70l',\n",
       " '142_8l',\n",
       " '27_17l',\n",
       " '4_11l',\n",
       " '7_52l',\n",
       " '46A_67l',\n",
       " '31B_44l',\n",
       " '4_12l',\n",
       " '63_27l',\n",
       " '67X_39l',\n",
       " '66_16l',\n",
       " '33B_57l',\n",
       " '32X_76l',\n",
       " '68A_75l',\n",
       " '40_19l',\n",
       " '39A_45l',\n",
       " '46E_93l',\n",
       " '41B_52l',\n",
       " '38A_32l',\n",
       " '65_74l',\n",
       " '40_18l',\n",
       " '84X_53l',\n",
       " '65_72l',\n",
       " '40D_105l',\n",
       " '13_28l',\n",
       " '25D_275l',\n",
       " '122_14l',\n",
       " '29A_14l',\n",
       " '63_31l',\n",
       " '40D_106l',\n",
       " '27B_25l',\n",
       " '145_88l',\n",
       " '31_17l',\n",
       " '15B_57l',\n",
       " '7_67l',\n",
       " '27B_38l',\n",
       " '150_6l',\n",
       " '41_9l',\n",
       " '25A_273l',\n",
       " '7D_115l',\n",
       " '33X_47l',\n",
       " '27B_35l',\n",
       " '67X_38l',\n",
       " '70D_71l',\n",
       " '67X_41l',\n",
       " '75_13l',\n",
       " '116_1l',\n",
       " '145_104l',\n",
       " '7D_116l',\n",
       " '47_136l',\n",
       " '59_11l',\n",
       " '66X_94l',\n",
       " '39A_44l',\n",
       " '75_16l',\n",
       " '31_18l',\n",
       " '140_22l',\n",
       " '63_26l',\n",
       " '27B_26l',\n",
       " '59_9l',\n",
       " '184_28l',\n",
       " '18_3l',\n",
       " '120_9l',\n",
       " '41X_110l',\n",
       " '37_13l',\n",
       " '33_43l',\n",
       " '77X_61l',\n",
       " '27A_6l',\n",
       " '41X_109l',\n",
       " '111_8l',\n",
       " '66A_36l',\n",
       " '66X_93l',\n",
       " '33_72l',\n",
       " '67X_40l',\n",
       " '17_14l',\n",
       " '7_54l',\n",
       " '40_29l',\n",
       " '185_61l',\n",
       " '38_9l',\n",
       " '161_50l',\n",
       " '15_18l',\n",
       " '84X_56l',\n",
       " '145_95l',\n",
       " '84_31l',\n",
       " '17_12l',\n",
       " '59_10l',\n",
       " '44_33l',\n",
       " '111_3l',\n",
       " '77A_28l',\n",
       " '17_16l',\n",
       " '16_23l',\n",
       " '45A_70l',\n",
       " '68A_76l',\n",
       " '38_10l',\n",
       " '63_30l',\n",
       " '41_5l',\n",
       " '66_14l',\n",
       " '44B_60l',\n",
       " '111_7l',\n",
       " '17_10l',\n",
       " '13_60l',\n",
       " '79_10l',\n",
       " '68_71l',\n",
       " '104_15l',\n",
       " '63_22l',\n",
       " '17_17l',\n",
       " '33_42l',\n",
       " '69_30l',\n",
       " '27_20l',\n",
       " '38D_68l',\n",
       " '17_18l',\n",
       " '32_58l',\n",
       " '79_11l',\n",
       " '9_7l',\n",
       " '18_5l',\n",
       " '236_9l',\n",
       " '104_16l',\n",
       " '1_38l',\n",
       " '236_10l',\n",
       " '84_32l',\n",
       " '27_9l',\n",
       " '43_84l',\n",
       " '8_128l',\n",
       " '140_21l',\n",
       " '16_22l',\n",
       " '38_13l',\n",
       " '68_72l',\n",
       " '185_59l',\n",
       " '44_35l',\n",
       " '15_10l',\n",
       " '68_69l',\n",
       " '7D_122l',\n",
       " '83_21l',\n",
       " '7_61l',\n",
       " '33_71l',\n",
       " '238_12l',\n",
       " '42_42l',\n",
       " '67X_42l',\n",
       " '38A_23l',\n",
       " '145_99l',\n",
       " '68_73l',\n",
       " '13_63l',\n",
       " '45A_67l',\n",
       " '70_69l',\n",
       " '83A_23l',\n",
       " '123_36l',\n",
       " '38A_33l',\n",
       " '65_77l',\n",
       " '130_11l',\n",
       " '145_94l',\n",
       " '47_139l',\n",
       " '27B_39l',\n",
       " '38B_45l',\n",
       " '83_19l',\n",
       " '40_25l',\n",
       " '70_60l',\n",
       " '220_15l',\n",
       " '17A_12l',\n",
       " '238_11l',\n",
       " '46A_77l',\n",
       " '120_10l',\n",
       " '40B_64l',\n",
       " '83A_20l',\n",
       " '75_17l',\n",
       " '14_12l',\n",
       " '151_18l',\n",
       " '151_15l',\n",
       " '41X_118l',\n",
       " '27_18l',\n",
       " '4_10l',\n",
       " '14_16l',\n",
       " '84A_2l']"
      ]
     },
     "execution_count": 78,
     "metadata": {},
     "output_type": "execute_result"
    }
   ],
   "source": [
    "os.listdir('Test/leavetimes/')"
   ]
  },
  {
   "cell_type": "code",
   "execution_count": 89,
   "metadata": {},
   "outputs": [
    {
     "data": {
      "text/plain": [
       "Index(['progrnumber', 'plannedtime', 'rain', 'weekday', 'distance', 'em', 'mp',\n",
       "       'lm', 'md', 'ap', 'ev', 'ln', 'temp', 'm2f', 'sat', 'ucdSchoolTerm'],\n",
       "      dtype='object')"
      ]
     },
     "execution_count": 89,
     "metadata": {},
     "output_type": "execute_result"
    }
   ],
   "source": [
    "X.columns"
   ]
  },
  {
   "cell_type": "code",
   "execution_count": 79,
   "metadata": {},
   "outputs": [
    {
     "name": "stdout",
     "output_type": "stream",
     "text": [
      "Preparing data for 27_19l\n",
      "'dataPreparation'  1635.36 ms\n",
      "Skipping...\n",
      "Preparing data for 33_69l\n",
      "'dataPreparation'  160.85 ms\n",
      "training data for ('33', '292', '3802')\n"
     ]
    },
    {
     "name": "stderr",
     "output_type": "stream",
     "text": [
      "/home/student/anaconda3/lib/python3.6/site-packages/sklearn/neural_network/multilayer_perceptron.py:564: ConvergenceWarning: Stochastic Optimizer: Maximum iterations (200) reached and the optimization hasn't converged yet.\n",
      "  % self.max_iter, ConvergenceWarning)\n"
     ]
    },
    {
     "name": "stdout",
     "output_type": "stream",
     "text": [
      "MAE: 3360.251744286205\n",
      ":(((( Unqualified route:('33', '292', '3802')\n",
      "'prepareAndTrain'  266.93 ms\n",
      "Preparing data for 25B_271l\n",
      "'dataPreparation'  469.61 ms\n",
      "Skipping...\n",
      "Preparing data for 79A_27l\n",
      "'dataPreparation'  257.14 ms\n",
      "Skipping...\n",
      "Preparing data for 40_32l\n",
      "'dataPreparation'  12.78 ms\n",
      "Skipping...\n",
      "Preparing data for 33_17l\n",
      "'dataPreparation'  45712.57 ms\n",
      "training data for ('33', '292', '3802')\n"
     ]
    },
    {
     "name": "stderr",
     "output_type": "stream",
     "text": [
      "/home/student/anaconda3/lib/python3.6/site-packages/sklearn/neural_network/multilayer_perceptron.py:564: ConvergenceWarning: Stochastic Optimizer: Maximum iterations (200) reached and the optimization hasn't converged yet.\n",
      "  % self.max_iter, ConvergenceWarning)\n"
     ]
    },
    {
     "name": "stdout",
     "output_type": "stream",
     "text": [
      "MAE: 312.32768077281014\n",
      ":(((( Unqualified route:('33', '292', '3802')\n",
      "'prepareAndTrain'  257709.72 ms\n",
      "Preparing data for 17A_14l\n",
      "'dataPreparation'  32.33 ms\n",
      "Skipping...\n",
      "Preparing data for 63_24l\n",
      "'dataPreparation'  11.58 ms\n",
      "Skipping...\n",
      "Preparing data for 39_20l\n",
      "'dataPreparation'  628.50 ms\n",
      "Skipping...\n",
      "Preparing data for 111_10l\n",
      "'dataPreparation'  8.12 ms\n",
      "Skipping...\n",
      "Preparing data for 151_16l\n",
      "'dataPreparation'  23821.78 ms\n",
      "training data for ('151', '7514', '4619')\n"
     ]
    },
    {
     "name": "stderr",
     "output_type": "stream",
     "text": [
      "/home/student/anaconda3/lib/python3.6/site-packages/sklearn/neural_network/multilayer_perceptron.py:564: ConvergenceWarning: Stochastic Optimizer: Maximum iterations (200) reached and the optimization hasn't converged yet.\n",
      "  % self.max_iter, ConvergenceWarning)\n"
     ]
    },
    {
     "name": "stdout",
     "output_type": "stream",
     "text": [
      "MAE: 155.9656267200974\n",
      "'prepareAndTrain'  107663.30 ms\n",
      "Preparing data for 7_71l\n",
      "'dataPreparation'  12526.84 ms\n",
      "training data for ('7', '7639', '4')\n"
     ]
    },
    {
     "name": "stderr",
     "output_type": "stream",
     "text": [
      "/home/student/anaconda3/lib/python3.6/site-packages/sklearn/neural_network/multilayer_perceptron.py:564: ConvergenceWarning: Stochastic Optimizer: Maximum iterations (200) reached and the optimization hasn't converged yet.\n",
      "  % self.max_iter, ConvergenceWarning)\n"
     ]
    },
    {
     "name": "stdout",
     "output_type": "stream",
     "text": [
      "MAE: 118.92537215273998\n",
      "'prepareAndTrain'  43610.58 ms\n",
      "Preparing data for 76_36l\n",
      "'dataPreparation'  60078.75 ms\n",
      "training data for ('76', '2243', '4341')\n"
     ]
    },
    {
     "name": "stderr",
     "output_type": "stream",
     "text": [
      "/home/student/anaconda3/lib/python3.6/site-packages/sklearn/neural_network/multilayer_perceptron.py:564: ConvergenceWarning: Stochastic Optimizer: Maximum iterations (200) reached and the optimization hasn't converged yet.\n",
      "  % self.max_iter, ConvergenceWarning)\n"
     ]
    },
    {
     "name": "stdout",
     "output_type": "stream",
     "text": [
      "MAE: 147.51407972568148\n",
      "'prepareAndTrain'  281412.92 ms\n",
      "Preparing data for 39A_42l\n",
      "'dataPreparation'  5648.67 ms\n",
      "training data for ('39A', '7158', '313')\n"
     ]
    },
    {
     "name": "stderr",
     "output_type": "stream",
     "text": [
      "/home/student/anaconda3/lib/python3.6/site-packages/sklearn/neural_network/multilayer_perceptron.py:564: ConvergenceWarning: Stochastic Optimizer: Maximum iterations (200) reached and the optimization hasn't converged yet.\n",
      "  % self.max_iter, ConvergenceWarning)\n"
     ]
    },
    {
     "name": "stdout",
     "output_type": "stream",
     "text": [
      "MAE: 83.94715154350897\n",
      "'prepareAndTrain'  20688.45 ms\n",
      "Preparing data for 45A_68l\n",
      "'dataPreparation'  19331.50 ms\n",
      "training data for ('45A', '2037', '6000')\n"
     ]
    },
    {
     "name": "stderr",
     "output_type": "stream",
     "text": [
      "/home/student/anaconda3/lib/python3.6/site-packages/sklearn/neural_network/multilayer_perceptron.py:564: ConvergenceWarning: Stochastic Optimizer: Maximum iterations (200) reached and the optimization hasn't converged yet.\n",
      "  % self.max_iter, ConvergenceWarning)\n"
     ]
    },
    {
     "name": "stdout",
     "output_type": "stream",
     "text": [
      "MAE: 177.97093418039546\n",
      "'prepareAndTrain'  87011.35 ms\n",
      "Preparing data for 7A_87l\n",
      "'dataPreparation'  32102.70 ms\n",
      "training data for ('7A', '3222', '4962')\n"
     ]
    },
    {
     "name": "stderr",
     "output_type": "stream",
     "text": [
      "/home/student/anaconda3/lib/python3.6/site-packages/sklearn/neural_network/multilayer_perceptron.py:564: ConvergenceWarning: Stochastic Optimizer: Maximum iterations (200) reached and the optimization hasn't converged yet.\n",
      "  % self.max_iter, ConvergenceWarning)\n"
     ]
    },
    {
     "name": "stdout",
     "output_type": "stream",
     "text": [
      "MAE: 194.6850923509883\n",
      "'prepareAndTrain'  153492.94 ms\n",
      "Preparing data for 16C_28l\n",
      "'dataPreparation'  4517.29 ms\n",
      "training data for ('16C', '5171', '7615')\n"
     ]
    },
    {
     "name": "stderr",
     "output_type": "stream",
     "text": [
      "/home/student/anaconda3/lib/python3.6/site-packages/sklearn/neural_network/multilayer_perceptron.py:564: ConvergenceWarning: Stochastic Optimizer: Maximum iterations (200) reached and the optimization hasn't converged yet.\n",
      "  % self.max_iter, ConvergenceWarning)\n"
     ]
    },
    {
     "name": "stdout",
     "output_type": "stream",
     "text": [
      "MAE: 88.40763937946517\n",
      "'prepareAndTrain'  13167.05 ms\n",
      "Preparing data for 13_75l\n",
      "'dataPreparation'  172.47 ms\n",
      "training data for ('13', '281', '332')\n"
     ]
    },
    {
     "name": "stderr",
     "output_type": "stream",
     "text": [
      "/home/student/anaconda3/lib/python3.6/site-packages/sklearn/neural_network/multilayer_perceptron.py:564: ConvergenceWarning: Stochastic Optimizer: Maximum iterations (200) reached and the optimization hasn't converged yet.\n",
      "  % self.max_iter, ConvergenceWarning)\n"
     ]
    },
    {
     "name": "stdout",
     "output_type": "stream",
     "text": [
      "MAE: 833.3381883575594\n",
      ":(((( Unqualified route:('13', '281', '332')\n",
      "'prepareAndTrain'  253.81 ms\n",
      "Preparing data for 7B_91l\n",
      "'dataPreparation'  8142.18 ms\n",
      "training data for ('7B', '4962', '3544')\n"
     ]
    },
    {
     "name": "stderr",
     "output_type": "stream",
     "text": [
      "/home/student/anaconda3/lib/python3.6/site-packages/sklearn/neural_network/multilayer_perceptron.py:564: ConvergenceWarning: Stochastic Optimizer: Maximum iterations (200) reached and the optimization hasn't converged yet.\n",
      "  % self.max_iter, ConvergenceWarning)\n"
     ]
    },
    {
     "name": "stdout",
     "output_type": "stream",
     "text": [
      "MAE: 238.46537869462352\n",
      "'prepareAndTrain'  33596.11 ms\n",
      "Preparing data for 46A_62l\n",
      "'dataPreparation'  722.69 ms\n",
      "training data for ('46A', '2060', '2')\n"
     ]
    },
    {
     "name": "stderr",
     "output_type": "stream",
     "text": [
      "/home/student/anaconda3/lib/python3.6/site-packages/sklearn/neural_network/multilayer_perceptron.py:564: ConvergenceWarning: Stochastic Optimizer: Maximum iterations (200) reached and the optimization hasn't converged yet.\n",
      "  % self.max_iter, ConvergenceWarning)\n"
     ]
    },
    {
     "name": "stdout",
     "output_type": "stream",
     "text": [
      "MAE: 660.8347982032195\n",
      ":(((( Unqualified route:('46A', '2060', '2')\n",
      "'prepareAndTrain'  2050.36 ms\n",
      "Preparing data for 45A_69l\n",
      "'dataPreparation'  3067.78 ms\n",
      "training data for ('45A', '4533', '4983')\n"
     ]
    },
    {
     "name": "stderr",
     "output_type": "stream",
     "text": [
      "/home/student/anaconda3/lib/python3.6/site-packages/sklearn/neural_network/multilayer_perceptron.py:564: ConvergenceWarning: Stochastic Optimizer: Maximum iterations (200) reached and the optimization hasn't converged yet.\n",
      "  % self.max_iter, ConvergenceWarning)\n"
     ]
    },
    {
     "name": "stdout",
     "output_type": "stream",
     "text": [
      "MAE: 252.46044040838598\n",
      "'prepareAndTrain'  10240.03 ms\n",
      "Preparing data for 49_27l\n",
      "'dataPreparation'  73958.32 ms\n",
      "training data for ('49', '342', '7181')\n"
     ]
    },
    {
     "name": "stderr",
     "output_type": "stream",
     "text": [
      "/home/student/anaconda3/lib/python3.6/site-packages/sklearn/neural_network/multilayer_perceptron.py:564: ConvergenceWarning: Stochastic Optimizer: Maximum iterations (200) reached and the optimization hasn't converged yet.\n",
      "  % self.max_iter, ConvergenceWarning)\n"
     ]
    },
    {
     "name": "stdout",
     "output_type": "stream",
     "text": [
      "MAE: 185.4511987301399\n",
      "'prepareAndTrain'  343793.51 ms\n",
      "Preparing data for 15A_81l\n",
      "'dataPreparation'  8296.04 ms\n",
      "training data for ('15A', '395', '1104')\n"
     ]
    },
    {
     "name": "stderr",
     "output_type": "stream",
     "text": [
      "/home/student/anaconda3/lib/python3.6/site-packages/sklearn/neural_network/multilayer_perceptron.py:564: ConvergenceWarning: Stochastic Optimizer: Maximum iterations (200) reached and the optimization hasn't converged yet.\n",
      "  % self.max_iter, ConvergenceWarning)\n"
     ]
    },
    {
     "name": "stdout",
     "output_type": "stream",
     "text": [
      "MAE: 170.80251454139946\n",
      "'prepareAndTrain'  25248.28 ms\n",
      "Preparing data for 83A_17l\n",
      "'dataPreparation'  39301.81 ms\n",
      "training data for ('83A', '324', '2492')\n"
     ]
    },
    {
     "name": "stderr",
     "output_type": "stream",
     "text": [
      "/home/student/anaconda3/lib/python3.6/site-packages/sklearn/neural_network/multilayer_perceptron.py:564: ConvergenceWarning: Stochastic Optimizer: Maximum iterations (200) reached and the optimization hasn't converged yet.\n",
      "  % self.max_iter, ConvergenceWarning)\n"
     ]
    },
    {
     "name": "stdout",
     "output_type": "stream",
     "text": [
      "MAE: 223.01061089297048\n",
      "'prepareAndTrain'  197566.60 ms\n",
      "Preparing data for 122_17l\n",
      "'dataPreparation'  1701.22 ms\n",
      "training data for ('122', '1423', '279')\n"
     ]
    },
    {
     "name": "stderr",
     "output_type": "stream",
     "text": [
      "/home/student/anaconda3/lib/python3.6/site-packages/sklearn/neural_network/multilayer_perceptron.py:564: ConvergenceWarning: Stochastic Optimizer: Maximum iterations (200) reached and the optimization hasn't converged yet.\n",
      "  % self.max_iter, ConvergenceWarning)\n"
     ]
    },
    {
     "name": "stdout",
     "output_type": "stream",
     "text": [
      "MAE: 74.82872357273943\n",
      "'prepareAndTrain'  5939.29 ms\n",
      "Preparing data for 63_25l\n",
      "'dataPreparation'  5990.40 ms\n",
      "training data for ('63', '2039', '3283')\n"
     ]
    },
    {
     "name": "stderr",
     "output_type": "stream",
     "text": [
      "/home/student/anaconda3/lib/python3.6/site-packages/sklearn/neural_network/multilayer_perceptron.py:564: ConvergenceWarning: Stochastic Optimizer: Maximum iterations (200) reached and the optimization hasn't converged yet.\n",
      "  % self.max_iter, ConvergenceWarning)\n"
     ]
    },
    {
     "name": "stdout",
     "output_type": "stream",
     "text": [
      "MAE: 105.60090659520263\n",
      "'prepareAndTrain'  20671.13 ms\n",
      "Preparing data for 161_52l\n",
      "'dataPreparation'  848.01 ms\n",
      "training data for ('161', '7067', '2825')\n"
     ]
    },
    {
     "name": "stderr",
     "output_type": "stream",
     "text": [
      "/home/student/anaconda3/lib/python3.6/site-packages/sklearn/neural_network/multilayer_perceptron.py:564: ConvergenceWarning: Stochastic Optimizer: Maximum iterations (200) reached and the optimization hasn't converged yet.\n",
      "  % self.max_iter, ConvergenceWarning)\n"
     ]
    },
    {
     "name": "stdout",
     "output_type": "stream",
     "text": [
      "MAE: 110.9966170104487\n",
      "'prepareAndTrain'  2085.58 ms\n",
      "Preparing data for 16_21l\n",
      "'dataPreparation'  19178.27 ms\n",
      "training data for ('16', '226', '2975')\n"
     ]
    },
    {
     "name": "stderr",
     "output_type": "stream",
     "text": [
      "/home/student/anaconda3/lib/python3.6/site-packages/sklearn/neural_network/multilayer_perceptron.py:564: ConvergenceWarning: Stochastic Optimizer: Maximum iterations (200) reached and the optimization hasn't converged yet.\n",
      "  % self.max_iter, ConvergenceWarning)\n"
     ]
    },
    {
     "name": "stdout",
     "output_type": "stream",
     "text": [
      "MAE: 234.47470064152714\n",
      "'prepareAndTrain'  68970.21 ms\n",
      "Preparing data for 66X_99l\n",
      "'dataPreparation'  1715.10 ms\n",
      "training data for ('66X', '4003', '4952')\n"
     ]
    },
    {
     "name": "stderr",
     "output_type": "stream",
     "text": [
      "/home/student/anaconda3/lib/python3.6/site-packages/sklearn/neural_network/multilayer_perceptron.py:564: ConvergenceWarning: Stochastic Optimizer: Maximum iterations (200) reached and the optimization hasn't converged yet.\n",
      "  % self.max_iter, ConvergenceWarning)\n"
     ]
    },
    {
     "name": "stdout",
     "output_type": "stream",
     "text": [
      "MAE: 665.1520498490494\n",
      ":(((( Unqualified route:('66X', '4003', '4952')\n",
      "'prepareAndTrain'  4927.04 ms\n",
      "Preparing data for 32X_75l\n",
      "'dataPreparation'  3303.70 ms\n",
      "training data for ('32X', '4952', '5082')\n"
     ]
    },
    {
     "name": "stderr",
     "output_type": "stream",
     "text": [
      "/home/student/anaconda3/lib/python3.6/site-packages/sklearn/neural_network/multilayer_perceptron.py:564: ConvergenceWarning: Stochastic Optimizer: Maximum iterations (200) reached and the optimization hasn't converged yet.\n",
      "  % self.max_iter, ConvergenceWarning)\n"
     ]
    },
    {
     "name": "stdout",
     "output_type": "stream",
     "text": [
      "MAE: 581.1170137244771\n",
      ":(((( Unqualified route:('32X', '4952', '5082')\n",
      "'prepareAndTrain'  10189.41 ms\n",
      "Preparing data for 1_41l\n",
      "'dataPreparation'  8500.65 ms\n",
      "Skipping...\n",
      "Preparing data for 145_87l\n",
      "'dataPreparation'  547.14 ms\n",
      "training data for ('145', '773', '4320')\n"
     ]
    },
    {
     "name": "stderr",
     "output_type": "stream",
     "text": [
      "/home/student/anaconda3/lib/python3.6/site-packages/sklearn/neural_network/multilayer_perceptron.py:564: ConvergenceWarning: Stochastic Optimizer: Maximum iterations (200) reached and the optimization hasn't converged yet.\n",
      "  % self.max_iter, ConvergenceWarning)\n"
     ]
    },
    {
     "name": "stdout",
     "output_type": "stream",
     "text": [
      "MAE: 450.9809555163941\n",
      ":(((( Unqualified route:('145', '773', '4320')\n",
      "'prepareAndTrain'  987.17 ms\n",
      "Preparing data for 66A_34l\n",
      "'dataPreparation'  39864.53 ms\n",
      "training data for ('66A', '7391', '3994')\n"
     ]
    },
    {
     "name": "stderr",
     "output_type": "stream",
     "text": [
      "/home/student/anaconda3/lib/python3.6/site-packages/sklearn/neural_network/multilayer_perceptron.py:564: ConvergenceWarning: Stochastic Optimizer: Maximum iterations (200) reached and the optimization hasn't converged yet.\n",
      "  % self.max_iter, ConvergenceWarning)\n"
     ]
    },
    {
     "name": "stdout",
     "output_type": "stream",
     "text": [
      "MAE: 197.1092359391882\n",
      "'prepareAndTrain'  220379.58 ms\n",
      "Preparing data for 33_73l\n",
      "'dataPreparation'  149.24 ms\n",
      "Skipping...\n",
      "Preparing data for 111_4l\n",
      "'dataPreparation'  2695.19 ms\n",
      "Skipping...\n",
      "Preparing data for 65_75l\n",
      "'dataPreparation'  21588.46 ms\n",
      "training data for ('65', '7289', '7564')\n"
     ]
    },
    {
     "name": "stderr",
     "output_type": "stream",
     "text": [
      "/home/student/anaconda3/lib/python3.6/site-packages/sklearn/neural_network/multilayer_perceptron.py:564: ConvergenceWarning: Stochastic Optimizer: Maximum iterations (200) reached and the optimization hasn't converged yet.\n",
      "  % self.max_iter, ConvergenceWarning)\n"
     ]
    },
    {
     "name": "stdout",
     "output_type": "stream",
     "text": [
      "MAE: 129.81979766124283\n",
      "'prepareAndTrain'  100184.98 ms\n",
      "Preparing data for 46A_68l\n",
      "'dataPreparation'  3491.55 ms\n",
      "training data for ('46A', '264', '2039')\n"
     ]
    },
    {
     "name": "stderr",
     "output_type": "stream",
     "text": [
      "/home/student/anaconda3/lib/python3.6/site-packages/sklearn/neural_network/multilayer_perceptron.py:564: ConvergenceWarning: Stochastic Optimizer: Maximum iterations (200) reached and the optimization hasn't converged yet.\n",
      "  % self.max_iter, ConvergenceWarning)\n"
     ]
    },
    {
     "name": "stdout",
     "output_type": "stream",
     "text": [
      "MAE: 202.82062459667685\n",
      "'prepareAndTrain'  13369.56 ms\n",
      "Preparing data for 46A_74l\n",
      "'dataPreparation'  324337.23 ms\n",
      "training data for ('46A', '807', '2039')\n"
     ]
    },
    {
     "name": "stderr",
     "output_type": "stream",
     "text": [
      "/home/student/anaconda3/lib/python3.6/site-packages/sklearn/neural_network/multilayer_perceptron.py:564: ConvergenceWarning: Stochastic Optimizer: Maximum iterations (200) reached and the optimization hasn't converged yet.\n",
      "  % self.max_iter, ConvergenceWarning)\n"
     ]
    },
    {
     "name": "stdout",
     "output_type": "stream",
     "text": [
      "MAE: 235.91888396274607\n",
      "'prepareAndTrain'  2158617.15 ms\n",
      "Preparing data for 46A_72l\n",
      "'dataPreparation'  1442.22 ms\n",
      "training data for ('46A', '4962', '2039')\n"
     ]
    },
    {
     "name": "stderr",
     "output_type": "stream",
     "text": [
      "/home/student/anaconda3/lib/python3.6/site-packages/sklearn/neural_network/multilayer_perceptron.py:564: ConvergenceWarning: Stochastic Optimizer: Maximum iterations (200) reached and the optimization hasn't converged yet.\n",
      "  % self.max_iter, ConvergenceWarning)\n"
     ]
    },
    {
     "name": "stdout",
     "output_type": "stream",
     "text": [
      "MAE: 525.8676052527024\n",
      ":(((( Unqualified route:('46A', '4962', '2039')\n",
      "'prepareAndTrain'  4901.48 ms\n",
      "Preparing data for 25B_276l\n",
      "'dataPreparation'  556.30 ms\n",
      "training data for ('25B', '4619', '7390')\n"
     ]
    },
    {
     "name": "stderr",
     "output_type": "stream",
     "text": [
      "/home/student/anaconda3/lib/python3.6/site-packages/sklearn/neural_network/multilayer_perceptron.py:564: ConvergenceWarning: Stochastic Optimizer: Maximum iterations (200) reached and the optimization hasn't converged yet.\n",
      "  % self.max_iter, ConvergenceWarning)\n"
     ]
    },
    {
     "name": "stdout",
     "output_type": "stream",
     "text": [
      "MAE: 1160.632833106973\n",
      ":(((( Unqualified route:('25B', '4619', '7390')\n",
      "'prepareAndTrain'  486.28 ms\n",
      "Preparing data for 66B_55l\n",
      "'dataPreparation'  40918.21 ms\n",
      "training data for ('66B', '7391', '4003')\n"
     ]
    },
    {
     "name": "stderr",
     "output_type": "stream",
     "text": [
      "/home/student/anaconda3/lib/python3.6/site-packages/sklearn/neural_network/multilayer_perceptron.py:564: ConvergenceWarning: Stochastic Optimizer: Maximum iterations (200) reached and the optimization hasn't converged yet.\n",
      "  % self.max_iter, ConvergenceWarning)\n"
     ]
    },
    {
     "name": "stdout",
     "output_type": "stream",
     "text": [
      "MAE: 185.89973249114055\n",
      "'prepareAndTrain'  260073.43 ms\n",
      "Preparing data for 65_76l\n",
      "'dataPreparation'  6789.77 ms\n",
      "training data for ('65', '7270', '7564')\n"
     ]
    },
    {
     "name": "stderr",
     "output_type": "stream",
     "text": [
      "/home/student/anaconda3/lib/python3.6/site-packages/sklearn/neural_network/multilayer_perceptron.py:564: ConvergenceWarning: Stochastic Optimizer: Maximum iterations (200) reached and the optimization hasn't converged yet.\n",
      "  % self.max_iter, ConvergenceWarning)\n"
     ]
    },
    {
     "name": "stdout",
     "output_type": "stream",
     "text": [
      "MAE: 199.8363951981912\n",
      "'prepareAndTrain'  26571.35 ms\n",
      "Preparing data for 79A_28l\n",
      "'dataPreparation'  41413.48 ms\n",
      "training data for ('79A', '6030', '326')\n"
     ]
    },
    {
     "name": "stderr",
     "output_type": "stream",
     "text": [
      "/home/student/anaconda3/lib/python3.6/site-packages/sklearn/neural_network/multilayer_perceptron.py:564: ConvergenceWarning: Stochastic Optimizer: Maximum iterations (200) reached and the optimization hasn't converged yet.\n",
      "  % self.max_iter, ConvergenceWarning)\n"
     ]
    },
    {
     "name": "stdout",
     "output_type": "stream",
     "text": [
      "MAE: 96.97478028712214\n",
      "'prepareAndTrain'  187663.88 ms\n",
      "Preparing data for 31D_50l\n",
      "'dataPreparation'  576.87 ms\n",
      "training data for ('31D', '7571', '913')\n"
     ]
    },
    {
     "name": "stderr",
     "output_type": "stream",
     "text": [
      "/home/student/anaconda3/lib/python3.6/site-packages/sklearn/neural_network/multilayer_perceptron.py:564: ConvergenceWarning: Stochastic Optimizer: Maximum iterations (200) reached and the optimization hasn't converged yet.\n",
      "  % self.max_iter, ConvergenceWarning)\n"
     ]
    },
    {
     "name": "stdout",
     "output_type": "stream",
     "text": [
      "MAE: 695.1647458986415\n",
      ":(((( Unqualified route:('31D', '7571', '913')\n",
      "'prepareAndTrain'  1790.09 ms\n",
      "Preparing data for 83_18l\n",
      "'dataPreparation'  1879.29 ms\n",
      "training data for ('83', '324', '336')\n"
     ]
    },
    {
     "name": "stderr",
     "output_type": "stream",
     "text": [
      "/home/student/anaconda3/lib/python3.6/site-packages/sklearn/neural_network/multilayer_perceptron.py:564: ConvergenceWarning: Stochastic Optimizer: Maximum iterations (200) reached and the optimization hasn't converged yet.\n",
      "  % self.max_iter, ConvergenceWarning)\n"
     ]
    },
    {
     "name": "stdout",
     "output_type": "stream",
     "text": [
      "MAE: 89.09585743024566\n",
      "'prepareAndTrain'  6791.64 ms\n",
      "Preparing data for 27_12l\n",
      "'dataPreparation'  8567.74 ms\n",
      "training data for ('27', '395', '2355')\n"
     ]
    },
    {
     "name": "stderr",
     "output_type": "stream",
     "text": [
      "/home/student/anaconda3/lib/python3.6/site-packages/sklearn/neural_network/multilayer_perceptron.py:564: ConvergenceWarning: Stochastic Optimizer: Maximum iterations (200) reached and the optimization hasn't converged yet.\n",
      "  % self.max_iter, ConvergenceWarning)\n"
     ]
    },
    {
     "name": "stdout",
     "output_type": "stream",
     "text": [
      "MAE: 110.65102487747585\n",
      "'prepareAndTrain'  29620.15 ms\n",
      "Preparing data for 140_20l\n",
      "'dataPreparation'  1299.74 ms\n",
      "training data for ('140', '7149', '6059')\n"
     ]
    },
    {
     "name": "stderr",
     "output_type": "stream",
     "text": [
      "/home/student/anaconda3/lib/python3.6/site-packages/sklearn/neural_network/multilayer_perceptron.py:564: ConvergenceWarning: Stochastic Optimizer: Maximum iterations (200) reached and the optimization hasn't converged yet.\n",
      "  % self.max_iter, ConvergenceWarning)\n"
     ]
    },
    {
     "name": "stdout",
     "output_type": "stream",
     "text": [
      "MAE: 82.30308223282424\n",
      "'prepareAndTrain'  4391.51 ms\n",
      "Preparing data for 40B_65l\n",
      "'dataPreparation'  11276.11 ms\n",
      "training data for ('40B', '4316', '6071')\n"
     ]
    },
    {
     "name": "stderr",
     "output_type": "stream",
     "text": [
      "/home/student/anaconda3/lib/python3.6/site-packages/sklearn/neural_network/multilayer_perceptron.py:564: ConvergenceWarning: Stochastic Optimizer: Maximum iterations (200) reached and the optimization hasn't converged yet.\n",
      "  % self.max_iter, ConvergenceWarning)\n"
     ]
    },
    {
     "name": "stdout",
     "output_type": "stream",
     "text": [
      "MAE: 147.17245920112669\n",
      "'prepareAndTrain'  34111.39 ms\n",
      "Preparing data for 77A_29l\n",
      "'dataPreparation'  182252.88 ms\n",
      "training data for ('77A', '395', '7459')\n"
     ]
    },
    {
     "name": "stderr",
     "output_type": "stream",
     "text": [
      "/home/student/anaconda3/lib/python3.6/site-packages/sklearn/neural_network/multilayer_perceptron.py:564: ConvergenceWarning: Stochastic Optimizer: Maximum iterations (200) reached and the optimization hasn't converged yet.\n",
      "  % self.max_iter, ConvergenceWarning)\n"
     ]
    },
    {
     "name": "stdout",
     "output_type": "stream",
     "text": [
      "MAE: 216.6444387872382\n",
      "'prepareAndTrain'  742922.11 ms\n",
      "Preparing data for 102_8l\n",
      "'dataPreparation'  78839.02 ms\n",
      "training data for ('102', '4381', '7348')\n"
     ]
    },
    {
     "name": "stderr",
     "output_type": "stream",
     "text": [
      "/home/student/anaconda3/lib/python3.6/site-packages/sklearn/neural_network/multilayer_perceptron.py:564: ConvergenceWarning: Stochastic Optimizer: Maximum iterations (200) reached and the optimization hasn't converged yet.\n",
      "  % self.max_iter, ConvergenceWarning)\n"
     ]
    },
    {
     "name": "stdout",
     "output_type": "stream",
     "text": [
      "MAE: 129.6866581642792\n",
      "'prepareAndTrain'  366772.04 ms\n",
      "Preparing data for 17_11l\n",
      "'dataPreparation'  4118.29 ms\n",
      "training data for ('17', '1380', '3085')\n"
     ]
    },
    {
     "name": "stderr",
     "output_type": "stream",
     "text": [
      "/home/student/anaconda3/lib/python3.6/site-packages/sklearn/neural_network/multilayer_perceptron.py:564: ConvergenceWarning: Stochastic Optimizer: Maximum iterations (200) reached and the optimization hasn't converged yet.\n",
      "  % self.max_iter, ConvergenceWarning)\n"
     ]
    },
    {
     "name": "stdout",
     "output_type": "stream",
     "text": [
      "MAE: 123.60636069403456\n",
      "'prepareAndTrain'  15863.34 ms\n",
      "Preparing data for 33A_23l\n",
      "'dataPreparation'  2214.82 ms\n",
      "training data for ('33A', '3677', '3802')\n"
     ]
    },
    {
     "name": "stderr",
     "output_type": "stream",
     "text": [
      "/home/student/anaconda3/lib/python3.6/site-packages/sklearn/neural_network/multilayer_perceptron.py:564: ConvergenceWarning: Stochastic Optimizer: Maximum iterations (200) reached and the optimization hasn't converged yet.\n",
      "  % self.max_iter, ConvergenceWarning)\n"
     ]
    },
    {
     "name": "stdout",
     "output_type": "stream",
     "text": [
      "MAE: 162.00633651222591\n",
      "'prepareAndTrain'  7113.47 ms\n",
      "Preparing data for 75_21l\n",
      "'dataPreparation'  1305.15 ms\n",
      "training data for ('75', '2038', '7181')\n"
     ]
    },
    {
     "name": "stderr",
     "output_type": "stream",
     "text": [
      "/home/student/anaconda3/lib/python3.6/site-packages/sklearn/neural_network/multilayer_perceptron.py:564: ConvergenceWarning: Stochastic Optimizer: Maximum iterations (200) reached and the optimization hasn't converged yet.\n",
      "  % self.max_iter, ConvergenceWarning)\n"
     ]
    },
    {
     "name": "stdout",
     "output_type": "stream",
     "text": [
      "MAE: 904.9121359093305\n",
      ":(((( Unqualified route:('75', '2038', '7181')\n",
      "'prepareAndTrain'  4045.80 ms\n",
      "Preparing data for 33X_46l\n",
      "'dataPreparation'  8664.85 ms\n",
      "training data for ('33X', '407', '7174')\n"
     ]
    },
    {
     "name": "stderr",
     "output_type": "stream",
     "text": [
      "/home/student/anaconda3/lib/python3.6/site-packages/sklearn/neural_network/multilayer_perceptron.py:564: ConvergenceWarning: Stochastic Optimizer: Maximum iterations (200) reached and the optimization hasn't converged yet.\n",
      "  % self.max_iter, ConvergenceWarning)\n"
     ]
    },
    {
     "name": "stdout",
     "output_type": "stream",
     "text": [
      "MAE: 189.06822384415813\n",
      "'prepareAndTrain'  34398.15 ms\n",
      "Preparing data for 114_5l\n",
      "'dataPreparation'  20865.48 ms\n",
      "training data for ('114', '6200', '3085')\n"
     ]
    },
    {
     "name": "stderr",
     "output_type": "stream",
     "text": [
      "/home/student/anaconda3/lib/python3.6/site-packages/sklearn/neural_network/multilayer_perceptron.py:564: ConvergenceWarning: Stochastic Optimizer: Maximum iterations (200) reached and the optimization hasn't converged yet.\n",
      "  % self.max_iter, ConvergenceWarning)\n"
     ]
    },
    {
     "name": "stdout",
     "output_type": "stream",
     "text": [
      "MAE: 131.24186056669404\n",
      "'prepareAndTrain'  85724.91 ms\n",
      "Preparing data for 145_105l\n",
      "'dataPreparation'  302616.61 ms\n",
      "training data for ('145', '7574', '4320')\n"
     ]
    },
    {
     "name": "stderr",
     "output_type": "stream",
     "text": [
      "/home/student/anaconda3/lib/python3.6/site-packages/sklearn/neural_network/multilayer_perceptron.py:564: ConvergenceWarning: Stochastic Optimizer: Maximum iterations (200) reached and the optimization hasn't converged yet.\n",
      "  % self.max_iter, ConvergenceWarning)\n"
     ]
    },
    {
     "name": "stdout",
     "output_type": "stream",
     "text": [
      "MAE: 208.87300142910144\n",
      "'prepareAndTrain'  1458256.89 ms\n",
      "Preparing data for 66X_92l\n",
      "'dataPreparation'  5803.36 ms\n",
      "training data for ('66X', '4952', '5114')\n"
     ]
    },
    {
     "name": "stderr",
     "output_type": "stream",
     "text": [
      "/home/student/anaconda3/lib/python3.6/site-packages/sklearn/neural_network/multilayer_perceptron.py:564: ConvergenceWarning: Stochastic Optimizer: Maximum iterations (200) reached and the optimization hasn't converged yet.\n",
      "  % self.max_iter, ConvergenceWarning)\n"
     ]
    },
    {
     "name": "stdout",
     "output_type": "stream",
     "text": [
      "MAE: 327.5371147999261\n",
      ":(((( Unqualified route:('66X', '4952', '5114')\n",
      "'prepareAndTrain'  19068.00 ms\n",
      "Preparing data for 13_72l\n",
      "'dataPreparation'  12125.89 ms\n",
      "training data for ('13', '7229', '6234')\n"
     ]
    },
    {
     "name": "stderr",
     "output_type": "stream",
     "text": [
      "/home/student/anaconda3/lib/python3.6/site-packages/sklearn/neural_network/multilayer_perceptron.py:564: ConvergenceWarning: Stochastic Optimizer: Maximum iterations (200) reached and the optimization hasn't converged yet.\n",
      "  % self.max_iter, ConvergenceWarning)\n"
     ]
    },
    {
     "name": "stdout",
     "output_type": "stream",
     "text": [
      "MAE: 181.07656078500557\n",
      "'prepareAndTrain'  51694.90 ms\n",
      "Preparing data for 40D_101l\n",
      "'dataPreparation'  27537.35 ms\n",
      "training data for ('40D', '6004', '7072')\n"
     ]
    },
    {
     "name": "stderr",
     "output_type": "stream",
     "text": [
      "/home/student/anaconda3/lib/python3.6/site-packages/sklearn/neural_network/multilayer_perceptron.py:564: ConvergenceWarning: Stochastic Optimizer: Maximum iterations (200) reached and the optimization hasn't converged yet.\n",
      "  % self.max_iter, ConvergenceWarning)\n"
     ]
    },
    {
     "name": "stdout",
     "output_type": "stream",
     "text": [
      "MAE: 136.32810784149902\n",
      "'prepareAndTrain'  90344.15 ms\n",
      "Preparing data for 43_89l\n",
      "'dataPreparation'  4421.38 ms\n",
      "training data for ('43', '4923', '1184')\n"
     ]
    },
    {
     "name": "stderr",
     "output_type": "stream",
     "text": [
      "/home/student/anaconda3/lib/python3.6/site-packages/sklearn/neural_network/multilayer_perceptron.py:564: ConvergenceWarning: Stochastic Optimizer: Maximum iterations (200) reached and the optimization hasn't converged yet.\n",
      "  % self.max_iter, ConvergenceWarning)\n"
     ]
    },
    {
     "name": "stdout",
     "output_type": "stream",
     "text": [
      "MAE: 147.35975019292857\n",
      "'prepareAndTrain'  12078.80 ms\n",
      "Preparing data for 757_1l\n",
      "'dataPreparation'  7071.98 ms\n",
      "training data for ('757', '1074', '3665')\n"
     ]
    },
    {
     "name": "stderr",
     "output_type": "stream",
     "text": [
      "/home/student/anaconda3/lib/python3.6/site-packages/sklearn/neural_network/multilayer_perceptron.py:564: ConvergenceWarning: Stochastic Optimizer: Maximum iterations (200) reached and the optimization hasn't converged yet.\n",
      "  % self.max_iter, ConvergenceWarning)\n"
     ]
    },
    {
     "name": "stdout",
     "output_type": "stream",
     "text": [
      "MAE: 145.97375255884364\n",
      "'prepareAndTrain'  18151.35 ms\n",
      "Preparing data for 32_57l\n",
      "'dataPreparation'  62505.26 ms\n",
      "training data for ('32', '621', '4387')\n"
     ]
    },
    {
     "name": "stderr",
     "output_type": "stream",
     "text": [
      "/home/student/anaconda3/lib/python3.6/site-packages/sklearn/neural_network/multilayer_perceptron.py:564: ConvergenceWarning: Stochastic Optimizer: Maximum iterations (200) reached and the optimization hasn't converged yet.\n",
      "  % self.max_iter, ConvergenceWarning)\n"
     ]
    },
    {
     "name": "stdout",
     "output_type": "stream",
     "text": [
      "MAE: 180.75183447763115\n",
      "'prepareAndTrain'  359469.60 ms\n",
      "Preparing data for 44_39l\n",
      "'dataPreparation'  185.73 ms\n",
      "training data for ('44', '265', '4096')\n"
     ]
    },
    {
     "name": "stderr",
     "output_type": "stream",
     "text": [
      "/home/student/anaconda3/lib/python3.6/site-packages/sklearn/neural_network/multilayer_perceptron.py:564: ConvergenceWarning: Stochastic Optimizer: Maximum iterations (200) reached and the optimization hasn't converged yet.\n",
      "  % self.max_iter, ConvergenceWarning)\n"
     ]
    },
    {
     "name": "stdout",
     "output_type": "stream",
     "text": [
      "MAE: 1708.3729289826035\n",
      ":(((( Unqualified route:('44', '265', '4096')\n",
      "'prepareAndTrain'  330.64 ms\n",
      "Preparing data for 49_29l\n",
      "'dataPreparation'  1956.62 ms\n",
      "training data for ('49', '2353', '342')\n"
     ]
    },
    {
     "name": "stderr",
     "output_type": "stream",
     "text": [
      "/home/student/anaconda3/lib/python3.6/site-packages/sklearn/neural_network/multilayer_perceptron.py:564: ConvergenceWarning: Stochastic Optimizer: Maximum iterations (200) reached and the optimization hasn't converged yet.\n",
      "  % self.max_iter, ConvergenceWarning)\n"
     ]
    },
    {
     "name": "stdout",
     "output_type": "stream",
     "text": [
      "MAE: 248.04059620799654\n",
      "'prepareAndTrain'  4515.83 ms\n",
      "Preparing data for 43_88l\n",
      "'dataPreparation'  61748.09 ms\n",
      "training data for ('43', '5044', '1184')\n"
     ]
    },
    {
     "name": "stderr",
     "output_type": "stream",
     "text": [
      "/home/student/anaconda3/lib/python3.6/site-packages/sklearn/neural_network/multilayer_perceptron.py:564: ConvergenceWarning: Stochastic Optimizer: Maximum iterations (200) reached and the optimization hasn't converged yet.\n",
      "  % self.max_iter, ConvergenceWarning)\n"
     ]
    },
    {
     "name": "stdout",
     "output_type": "stream",
     "text": [
      "MAE: 134.34556615317052\n",
      "'prepareAndTrain'  246752.37 ms\n",
      "Preparing data for 16_20l\n",
      "'dataPreparation'  242917.93 ms\n",
      "training data for ('16', '7347', '2975')\n"
     ]
    },
    {
     "name": "stderr",
     "output_type": "stream",
     "text": [
      "/home/student/anaconda3/lib/python3.6/site-packages/sklearn/neural_network/multilayer_perceptron.py:564: ConvergenceWarning: Stochastic Optimizer: Maximum iterations (200) reached and the optimization hasn't converged yet.\n",
      "  % self.max_iter, ConvergenceWarning)\n"
     ]
    },
    {
     "name": "stdout",
     "output_type": "stream",
     "text": [
      "MAE: 226.1130046987904\n",
      "'prepareAndTrain'  1180379.48 ms\n",
      "Preparing data for 63_21l\n",
      "'dataPreparation'  220.18 ms\n",
      "Skipping...\n",
      "Preparing data for 37_15l\n",
      "'dataPreparation'  146233.51 ms\n",
      "training data for ('37', '4747', '7340')\n"
     ]
    },
    {
     "name": "stderr",
     "output_type": "stream",
     "text": [
      "/home/student/anaconda3/lib/python3.6/site-packages/sklearn/neural_network/multilayer_perceptron.py:564: ConvergenceWarning: Stochastic Optimizer: Maximum iterations (200) reached and the optimization hasn't converged yet.\n",
      "  % self.max_iter, ConvergenceWarning)\n"
     ]
    },
    {
     "name": "stdout",
     "output_type": "stream",
     "text": [
      "MAE: 141.5300722196894\n",
      "'prepareAndTrain'  667052.39 ms\n",
      "Preparing data for 31D_51l\n",
      "'dataPreparation'  681.69 ms\n",
      "training data for ('31D', '928', '7571')\n"
     ]
    },
    {
     "name": "stderr",
     "output_type": "stream",
     "text": [
      "/home/student/anaconda3/lib/python3.6/site-packages/sklearn/neural_network/multilayer_perceptron.py:564: ConvergenceWarning: Stochastic Optimizer: Maximum iterations (200) reached and the optimization hasn't converged yet.\n",
      "  % self.max_iter, ConvergenceWarning)\n"
     ]
    },
    {
     "name": "stdout",
     "output_type": "stream",
     "text": [
      "MAE: 385.16160594986326\n",
      ":(((( Unqualified route:('31D', '928', '7571')\n",
      "'prepareAndTrain'  2088.88 ms\n",
      "Preparing data for 40D_104l\n",
      "'dataPreparation'  54761.98 ms\n",
      "training data for ('40D', '7073', '6071')\n"
     ]
    },
    {
     "name": "stderr",
     "output_type": "stream",
     "text": [
      "/home/student/anaconda3/lib/python3.6/site-packages/sklearn/neural_network/multilayer_perceptron.py:564: ConvergenceWarning: Stochastic Optimizer: Maximum iterations (200) reached and the optimization hasn't converged yet.\n",
      "  % self.max_iter, ConvergenceWarning)\n"
     ]
    },
    {
     "name": "stdout",
     "output_type": "stream",
     "text": [
      "MAE: 130.7973158774224\n",
      "'prepareAndTrain'  291760.87 ms\n",
      "Preparing data for 76A_29l\n",
      "'dataPreparation'  4523.81 ms\n",
      "training data for ('76A', '4341', '7026')\n"
     ]
    },
    {
     "name": "stderr",
     "output_type": "stream",
     "text": [
      "/home/student/anaconda3/lib/python3.6/site-packages/sklearn/neural_network/multilayer_perceptron.py:564: ConvergenceWarning: Stochastic Optimizer: Maximum iterations (200) reached and the optimization hasn't converged yet.\n",
      "  % self.max_iter, ConvergenceWarning)\n"
     ]
    },
    {
     "name": "stdout",
     "output_type": "stream",
     "text": [
      "MAE: 158.11083705742817\n",
      "'prepareAndTrain'  13512.69 ms\n",
      "Preparing data for 69_41l\n",
      "'dataPreparation'  49215.32 ms\n",
      "Skipping...\n",
      "Preparing data for 69X_58l\n",
      "'dataPreparation'  682.18 ms\n",
      "Skipping...\n",
      "Preparing data for 130_10l\n",
      "'dataPreparation'  147991.27 ms\n",
      "training data for ('130', '7591', '1767')\n"
     ]
    },
    {
     "name": "stderr",
     "output_type": "stream",
     "text": [
      "/home/student/anaconda3/lib/python3.6/site-packages/sklearn/neural_network/multilayer_perceptron.py:564: ConvergenceWarning: Stochastic Optimizer: Maximum iterations (200) reached and the optimization hasn't converged yet.\n",
      "  % self.max_iter, ConvergenceWarning)\n"
     ]
    },
    {
     "name": "stdout",
     "output_type": "stream",
     "text": [
      "MAE: 111.32315342493554\n",
      "'prepareAndTrain'  591952.31 ms\n",
      "Preparing data for 40_26l\n",
      "'dataPreparation'  2030.91 ms\n",
      "Skipping...\n",
      "Preparing data for 41_20l\n",
      "'dataPreparation'  444.37 ms\n",
      "training data for ('41', '1174', '4957')\n"
     ]
    },
    {
     "name": "stderr",
     "output_type": "stream",
     "text": [
      "/home/student/anaconda3/lib/python3.6/site-packages/sklearn/neural_network/multilayer_perceptron.py:564: ConvergenceWarning: Stochastic Optimizer: Maximum iterations (200) reached and the optimization hasn't converged yet.\n",
      "  % self.max_iter, ConvergenceWarning)\n"
     ]
    },
    {
     "name": "stdout",
     "output_type": "stream",
     "text": [
      "MAE: 1279.3924100901233\n",
      ":(((( Unqualified route:('41', '1174', '4957')\n",
      "'prepareAndTrain'  1100.58 ms\n",
      "Preparing data for 32X_74l\n",
      "'dataPreparation'  3119.67 ms\n",
      "training data for ('32X', '3640', '4952')\n"
     ]
    },
    {
     "name": "stderr",
     "output_type": "stream",
     "text": [
      "/home/student/anaconda3/lib/python3.6/site-packages/sklearn/neural_network/multilayer_perceptron.py:564: ConvergenceWarning: Stochastic Optimizer: Maximum iterations (200) reached and the optimization hasn't converged yet.\n",
      "  % self.max_iter, ConvergenceWarning)\n"
     ]
    },
    {
     "name": "stdout",
     "output_type": "stream",
     "text": [
      "MAE: 204.79629387395082\n",
      "'prepareAndTrain'  10977.39 ms\n",
      "Preparing data for 41C_80l\n",
      "'dataPreparation'  13535.27 ms\n",
      "training data for ('41C', '3088', '288')\n"
     ]
    },
    {
     "name": "stderr",
     "output_type": "stream",
     "text": [
      "/home/student/anaconda3/lib/python3.6/site-packages/sklearn/neural_network/multilayer_perceptron.py:564: ConvergenceWarning: Stochastic Optimizer: Maximum iterations (200) reached and the optimization hasn't converged yet.\n",
      "  % self.max_iter, ConvergenceWarning)\n"
     ]
    },
    {
     "name": "stdout",
     "output_type": "stream",
     "text": [
      "MAE: 112.59455694733121\n",
      "'prepareAndTrain'  52922.13 ms\n",
      "Preparing data for 270_42l\n",
      "'dataPreparation'  14489.71 ms\n",
      "training data for ('270', '7026', '3333')\n"
     ]
    },
    {
     "name": "stderr",
     "output_type": "stream",
     "text": [
      "/home/student/anaconda3/lib/python3.6/site-packages/sklearn/neural_network/multilayer_perceptron.py:564: ConvergenceWarning: Stochastic Optimizer: Maximum iterations (200) reached and the optimization hasn't converged yet.\n",
      "  % self.max_iter, ConvergenceWarning)\n"
     ]
    },
    {
     "name": "stdout",
     "output_type": "stream",
     "text": [
      "MAE: 78.84254694612864\n",
      "'prepareAndTrain'  60035.94 ms\n",
      "Preparing data for 51X_63l\n",
      "'dataPreparation'  2051.56 ms\n",
      "training data for ('51X', '7433', '4953')\n"
     ]
    },
    {
     "name": "stderr",
     "output_type": "stream",
     "text": [
      "/home/student/anaconda3/lib/python3.6/site-packages/sklearn/neural_network/multilayer_perceptron.py:564: ConvergenceWarning: Stochastic Optimizer: Maximum iterations (200) reached and the optimization hasn't converged yet.\n",
      "  % self.max_iter, ConvergenceWarning)\n"
     ]
    },
    {
     "name": "stdout",
     "output_type": "stream",
     "text": [
      "MAE: 420.0979305443823\n",
      ":(((( Unqualified route:('51X', '7433', '4953')\n",
      "'prepareAndTrain'  6268.51 ms\n",
      "Preparing data for 33A_25l\n",
      "'dataPreparation'  16184.57 ms\n",
      "training data for ('33A', '6048', '3692')\n"
     ]
    },
    {
     "name": "stderr",
     "output_type": "stream",
     "text": [
      "/home/student/anaconda3/lib/python3.6/site-packages/sklearn/neural_network/multilayer_perceptron.py:564: ConvergenceWarning: Stochastic Optimizer: Maximum iterations (200) reached and the optimization hasn't converged yet.\n",
      "  % self.max_iter, ConvergenceWarning)\n"
     ]
    },
    {
     "name": "stdout",
     "output_type": "stream",
     "text": [
      "MAE: 126.02792744543946\n",
      "'prepareAndTrain'  67452.26 ms\n",
      "Preparing data for 84A_3l\n",
      "'dataPreparation'  8059.22 ms\n",
      "training data for ('84A', '4168', '7188')\n"
     ]
    },
    {
     "name": "stderr",
     "output_type": "stream",
     "text": [
      "/home/student/anaconda3/lib/python3.6/site-packages/sklearn/neural_network/multilayer_perceptron.py:564: ConvergenceWarning: Stochastic Optimizer: Maximum iterations (200) reached and the optimization hasn't converged yet.\n",
      "  % self.max_iter, ConvergenceWarning)\n"
     ]
    },
    {
     "name": "stdout",
     "output_type": "stream",
     "text": [
      "MAE: 154.46639001640418\n",
      "'prepareAndTrain'  34447.09 ms\n",
      "Preparing data for 84_27l\n",
      "'dataPreparation'  54422.60 ms\n",
      "training data for ('84', '7188', '4956')\n"
     ]
    },
    {
     "name": "stderr",
     "output_type": "stream",
     "text": [
      "/home/student/anaconda3/lib/python3.6/site-packages/sklearn/neural_network/multilayer_perceptron.py:564: ConvergenceWarning: Stochastic Optimizer: Maximum iterations (200) reached and the optimization hasn't converged yet.\n",
      "  % self.max_iter, ConvergenceWarning)\n"
     ]
    },
    {
     "name": "stdout",
     "output_type": "stream",
     "text": [
      "MAE: 201.8031833849105\n",
      "'prepareAndTrain'  250877.87 ms\n",
      "Preparing data for 46A_69l\n",
      "'dataPreparation'  1355.33 ms\n",
      "training data for ('46A', '807', '767')\n"
     ]
    },
    {
     "name": "stderr",
     "output_type": "stream",
     "text": [
      "/home/student/anaconda3/lib/python3.6/site-packages/sklearn/neural_network/multilayer_perceptron.py:564: ConvergenceWarning: Stochastic Optimizer: Maximum iterations (200) reached and the optimization hasn't converged yet.\n",
      "  % self.max_iter, ConvergenceWarning)\n"
     ]
    },
    {
     "name": "stdout",
     "output_type": "stream",
     "text": [
      "MAE: 196.7210968387467\n",
      "'prepareAndTrain'  4896.38 ms\n",
      "Preparing data for 27X_42l\n",
      "'dataPreparation'  4257.17 ms\n",
      "training data for ('27X', '4595', '4952')\n"
     ]
    },
    {
     "name": "stderr",
     "output_type": "stream",
     "text": [
      "/home/student/anaconda3/lib/python3.6/site-packages/sklearn/neural_network/multilayer_perceptron.py:564: ConvergenceWarning: Stochastic Optimizer: Maximum iterations (200) reached and the optimization hasn't converged yet.\n",
      "  % self.max_iter, ConvergenceWarning)\n"
     ]
    },
    {
     "name": "stdout",
     "output_type": "stream",
     "text": [
      "MAE: 153.69276226997545\n",
      "'prepareAndTrain'  12797.81 ms\n",
      "Preparing data for 39A_41l\n",
      "'dataPreparation'  1276.51 ms\n",
      "training data for ('39A', '767', '328')\n"
     ]
    },
    {
     "name": "stderr",
     "output_type": "stream",
     "text": [
      "/home/student/anaconda3/lib/python3.6/site-packages/sklearn/neural_network/multilayer_perceptron.py:564: ConvergenceWarning: Stochastic Optimizer: Maximum iterations (200) reached and the optimization hasn't converged yet.\n",
      "  % self.max_iter, ConvergenceWarning)\n"
     ]
    },
    {
     "name": "stdout",
     "output_type": "stream",
     "text": [
      "MAE: 123.8270583509812\n",
      "'prepareAndTrain'  4015.12 ms\n",
      "Preparing data for 47_137l\n",
      "'dataPreparation'  1021.56 ms\n",
      "training data for ('47', '763', '5016')\n"
     ]
    },
    {
     "name": "stderr",
     "output_type": "stream",
     "text": [
      "/home/student/anaconda3/lib/python3.6/site-packages/sklearn/neural_network/multilayer_perceptron.py:564: ConvergenceWarning: Stochastic Optimizer: Maximum iterations (200) reached and the optimization hasn't converged yet.\n",
      "  % self.max_iter, ConvergenceWarning)\n"
     ]
    },
    {
     "name": "stdout",
     "output_type": "stream",
     "text": [
      "MAE: 329.58319952575283\n",
      ":(((( Unqualified route:('47', '763', '5016')\n",
      "'prepareAndTrain'  2590.51 ms\n",
      "Preparing data for 41_7l\n",
      "'dataPreparation'  130825.58 ms\n",
      "training data for ('41', '4843', '288')\n"
     ]
    },
    {
     "name": "stderr",
     "output_type": "stream",
     "text": [
      "/home/student/anaconda3/lib/python3.6/site-packages/sklearn/neural_network/multilayer_perceptron.py:564: ConvergenceWarning: Stochastic Optimizer: Maximum iterations (200) reached and the optimization hasn't converged yet.\n",
      "  % self.max_iter, ConvergenceWarning)\n"
     ]
    },
    {
     "name": "stdout",
     "output_type": "stream",
     "text": [
      "MAE: 154.64362341228204\n",
      "'prepareAndTrain'  475555.13 ms\n",
      "Preparing data for 14C_18l\n",
      "'dataPreparation'  4450.62 ms\n",
      "training data for ('14C', '6041', '297')\n"
     ]
    },
    {
     "name": "stderr",
     "output_type": "stream",
     "text": [
      "/home/student/anaconda3/lib/python3.6/site-packages/sklearn/neural_network/multilayer_perceptron.py:564: ConvergenceWarning: Stochastic Optimizer: Maximum iterations (200) reached and the optimization hasn't converged yet.\n",
      "  % self.max_iter, ConvergenceWarning)\n"
     ]
    },
    {
     "name": "stdout",
     "output_type": "stream",
     "text": [
      "MAE: 85.07699219630702\n",
      "'prepareAndTrain'  16911.46 ms\n",
      "Preparing data for 16C_26l\n",
      "'dataPreparation'  1496.10 ms\n",
      "training data for ('16C', '208', '270')\n"
     ]
    },
    {
     "name": "stderr",
     "output_type": "stream",
     "text": [
      "/home/student/anaconda3/lib/python3.6/site-packages/sklearn/neural_network/multilayer_perceptron.py:564: ConvergenceWarning: Stochastic Optimizer: Maximum iterations (200) reached and the optimization hasn't converged yet.\n",
      "  % self.max_iter, ConvergenceWarning)\n"
     ]
    },
    {
     "name": "stdout",
     "output_type": "stream",
     "text": [
      "MAE: 107.0276515735592\n",
      "'prepareAndTrain'  4268.64 ms\n",
      "Preparing data for 84A_1l\n",
      "'dataPreparation'  8525.61 ms\n",
      "training data for ('84A', '7188', '4168')\n"
     ]
    },
    {
     "name": "stderr",
     "output_type": "stream",
     "text": [
      "/home/student/anaconda3/lib/python3.6/site-packages/sklearn/neural_network/multilayer_perceptron.py:564: ConvergenceWarning: Stochastic Optimizer: Maximum iterations (200) reached and the optimization hasn't converged yet.\n",
      "  % self.max_iter, ConvergenceWarning)\n"
     ]
    },
    {
     "name": "stdout",
     "output_type": "stream",
     "text": [
      "MAE: 183.15560146092616\n",
      "'prepareAndTrain'  33690.06 ms\n",
      "Preparing data for 145_91l\n",
      "'dataPreparation'  14577.45 ms\n",
      "training data for ('145', '4202', '4320')\n"
     ]
    },
    {
     "name": "stderr",
     "output_type": "stream",
     "text": [
      "/home/student/anaconda3/lib/python3.6/site-packages/sklearn/neural_network/multilayer_perceptron.py:564: ConvergenceWarning: Stochastic Optimizer: Maximum iterations (200) reached and the optimization hasn't converged yet.\n",
      "  % self.max_iter, ConvergenceWarning)\n"
     ]
    },
    {
     "name": "stdout",
     "output_type": "stream",
     "text": [
      "MAE: 183.05242868784046\n",
      "'prepareAndTrain'  55398.92 ms\n",
      "Preparing data for 123_34l\n",
      "'dataPreparation'  160301.19 ms\n",
      "training data for ('123', '6057', '1490')\n"
     ]
    },
    {
     "name": "stderr",
     "output_type": "stream",
     "text": [
      "/home/student/anaconda3/lib/python3.6/site-packages/sklearn/neural_network/multilayer_perceptron.py:564: ConvergenceWarning: Stochastic Optimizer: Maximum iterations (200) reached and the optimization hasn't converged yet.\n",
      "  % self.max_iter, ConvergenceWarning)\n"
     ]
    },
    {
     "name": "stdout",
     "output_type": "stream",
     "text": [
      "MAE: 165.46701718667313\n",
      "'prepareAndTrain'  856593.99 ms\n",
      "Preparing data for 33B_59l\n",
      "'dataPreparation'  1098.82 ms\n",
      "training data for ('33B', '3732', '3744')\n"
     ]
    },
    {
     "name": "stderr",
     "output_type": "stream",
     "text": [
      "/home/student/anaconda3/lib/python3.6/site-packages/sklearn/neural_network/multilayer_perceptron.py:564: ConvergenceWarning: Stochastic Optimizer: Maximum iterations (200) reached and the optimization hasn't converged yet.\n",
      "  % self.max_iter, ConvergenceWarning)\n"
     ]
    },
    {
     "name": "stdout",
     "output_type": "stream",
     "text": [
      "MAE: 87.55548832357916\n",
      "'prepareAndTrain'  3180.23 ms\n",
      "Preparing data for 185_58l\n",
      "'dataPreparation'  582.59 ms\n",
      "training data for ('185', '4108', '4167')\n"
     ]
    },
    {
     "name": "stderr",
     "output_type": "stream",
     "text": [
      "/home/student/anaconda3/lib/python3.6/site-packages/sklearn/neural_network/multilayer_perceptron.py:564: ConvergenceWarning: Stochastic Optimizer: Maximum iterations (200) reached and the optimization hasn't converged yet.\n",
      "  % self.max_iter, ConvergenceWarning)\n"
     ]
    },
    {
     "name": "stdout",
     "output_type": "stream",
     "text": [
      "MAE: 132.77863648707137\n",
      "'prepareAndTrain'  1742.96 ms\n",
      "Preparing data for 76_37l\n",
      "'dataPreparation'  61420.27 ms\n",
      "training data for ('76', '4341', '2199')\n"
     ]
    },
    {
     "name": "stderr",
     "output_type": "stream",
     "text": [
      "/home/student/anaconda3/lib/python3.6/site-packages/sklearn/neural_network/multilayer_perceptron.py:564: ConvergenceWarning: Stochastic Optimizer: Maximum iterations (200) reached and the optimization hasn't converged yet.\n",
      "  % self.max_iter, ConvergenceWarning)\n"
     ]
    },
    {
     "name": "stdout",
     "output_type": "stream",
     "text": [
      "MAE: 129.70290787536828\n",
      "'prepareAndTrain'  446436.02 ms\n",
      "Preparing data for 46A_66l\n",
      "'dataPreparation'  7372.52 ms\n",
      "training data for ('46A', '2039', '320')\n"
     ]
    },
    {
     "name": "stderr",
     "output_type": "stream",
     "text": [
      "/home/student/anaconda3/lib/python3.6/site-packages/sklearn/neural_network/multilayer_perceptron.py:564: ConvergenceWarning: Stochastic Optimizer: Maximum iterations (200) reached and the optimization hasn't converged yet.\n",
      "  % self.max_iter, ConvergenceWarning)\n"
     ]
    },
    {
     "name": "stdout",
     "output_type": "stream",
     "text": [
      "MAE: 107.64957642588601\n",
      "'prepareAndTrain'  28883.93 ms\n",
      "Preparing data for 33_41l\n",
      "'dataPreparation'  3566.91 ms\n",
      "training data for ('33', '6048', '292')\n"
     ]
    },
    {
     "name": "stderr",
     "output_type": "stream",
     "text": [
      "/home/student/anaconda3/lib/python3.6/site-packages/sklearn/neural_network/multilayer_perceptron.py:564: ConvergenceWarning: Stochastic Optimizer: Maximum iterations (200) reached and the optimization hasn't converged yet.\n",
      "  % self.max_iter, ConvergenceWarning)\n"
     ]
    },
    {
     "name": "stdout",
     "output_type": "stream",
     "text": [
      "MAE: 133.37832178433885\n",
      "'prepareAndTrain'  12871.07 ms\n",
      "Preparing data for 161_51l\n",
      "'dataPreparation'  4061.93 ms\n",
      "training data for ('161', '2934', '2825')\n"
     ]
    },
    {
     "name": "stderr",
     "output_type": "stream",
     "text": [
      "/home/student/anaconda3/lib/python3.6/site-packages/sklearn/neural_network/multilayer_perceptron.py:564: ConvergenceWarning: Stochastic Optimizer: Maximum iterations (200) reached and the optimization hasn't converged yet.\n",
      "  % self.max_iter, ConvergenceWarning)\n"
     ]
    },
    {
     "name": "stdout",
     "output_type": "stream",
     "text": [
      "MAE: 129.2134203181523\n",
      "'prepareAndTrain'  15097.18 ms\n",
      "Preparing data for 45A_64l\n",
      "'dataPreparation'  464.80 ms\n",
      "Skipping...\n",
      "Preparing data for 185_52l\n",
      "'dataPreparation'  1381.55 ms\n",
      "training data for ('185', '4167', '4420')\n"
     ]
    },
    {
     "name": "stderr",
     "output_type": "stream",
     "text": [
      "/home/student/anaconda3/lib/python3.6/site-packages/sklearn/neural_network/multilayer_perceptron.py:564: ConvergenceWarning: Stochastic Optimizer: Maximum iterations (200) reached and the optimization hasn't converged yet.\n",
      "  % self.max_iter, ConvergenceWarning)\n"
     ]
    },
    {
     "name": "stdout",
     "output_type": "stream",
     "text": [
      "MAE: 152.5391981788039\n",
      "'prepareAndTrain'  4252.29 ms\n",
      "Preparing data for 44_38l\n",
      "'dataPreparation'  331.27 ms\n",
      "Skipping...\n",
      "Preparing data for 68_70l\n",
      "'dataPreparation'  32619.23 ms\n",
      "Skipping...\n",
      "Preparing data for 42D_51l\n",
      "'dataPreparation'  566.20 ms\n",
      "training data for ('42D', '943', '7571')\n"
     ]
    },
    {
     "name": "stderr",
     "output_type": "stream",
     "text": [
      "/home/student/anaconda3/lib/python3.6/site-packages/sklearn/neural_network/multilayer_perceptron.py:564: ConvergenceWarning: Stochastic Optimizer: Maximum iterations (200) reached and the optimization hasn't converged yet.\n",
      "  % self.max_iter, ConvergenceWarning)\n"
     ]
    },
    {
     "name": "stdout",
     "output_type": "stream",
     "text": [
      "MAE: 680.7349183851793\n",
      ":(((( Unqualified route:('42D', '943', '7571')\n",
      "'prepareAndTrain'  1630.39 ms\n",
      "Preparing data for 17A_15l\n",
      "'dataPreparation'  92691.64 ms\n",
      "training data for ('17A', '4747', '1012')\n"
     ]
    },
    {
     "name": "stderr",
     "output_type": "stream",
     "text": [
      "/home/student/anaconda3/lib/python3.6/site-packages/sklearn/neural_network/multilayer_perceptron.py:564: ConvergenceWarning: Stochastic Optimizer: Maximum iterations (200) reached and the optimization hasn't converged yet.\n",
      "  % self.max_iter, ConvergenceWarning)\n"
     ]
    },
    {
     "name": "stdout",
     "output_type": "stream",
     "text": [
      "MAE: 179.1833761063397\n",
      "'prepareAndTrain'  387533.02 ms\n",
      "Preparing data for 1_40l\n",
      "'dataPreparation'  80950.51 ms\n",
      "training data for ('1', '381', '226')\n"
     ]
    },
    {
     "name": "stderr",
     "output_type": "stream",
     "text": [
      "/home/student/anaconda3/lib/python3.6/site-packages/sklearn/neural_network/multilayer_perceptron.py:564: ConvergenceWarning: Stochastic Optimizer: Maximum iterations (200) reached and the optimization hasn't converged yet.\n",
      "  % self.max_iter, ConvergenceWarning)\n"
     ]
    },
    {
     "name": "stdout",
     "output_type": "stream",
     "text": [
      "MAE: 169.11484940774127\n",
      "'prepareAndTrain'  328896.45 ms\n",
      "Preparing data for 66X_101l\n",
      "'dataPreparation'  3255.94 ms\n",
      "training data for ('66X', '6164', '4952')\n"
     ]
    },
    {
     "name": "stderr",
     "output_type": "stream",
     "text": [
      "/home/student/anaconda3/lib/python3.6/site-packages/sklearn/neural_network/multilayer_perceptron.py:564: ConvergenceWarning: Stochastic Optimizer: Maximum iterations (200) reached and the optimization hasn't converged yet.\n",
      "  % self.max_iter, ConvergenceWarning)\n"
     ]
    },
    {
     "name": "stdout",
     "output_type": "stream",
     "text": [
      "MAE: 290.30122763582153\n",
      "'prepareAndTrain'  10844.58 ms\n",
      "Preparing data for 17A_17l\n",
      "'dataPreparation'  605.23 ms\n",
      "Skipping...\n",
      "Preparing data for 38D_61l\n",
      "'dataPreparation'  1310.45 ms\n",
      "training data for ('38D', '4745', '7339')\n"
     ]
    },
    {
     "name": "stderr",
     "output_type": "stream",
     "text": [
      "/home/student/anaconda3/lib/python3.6/site-packages/sklearn/neural_network/multilayer_perceptron.py:564: ConvergenceWarning: Stochastic Optimizer: Maximum iterations (200) reached and the optimization hasn't converged yet.\n",
      "  % self.max_iter, ConvergenceWarning)\n"
     ]
    },
    {
     "name": "stdout",
     "output_type": "stream",
     "text": [
      "MAE: 285.235225841602\n",
      "'prepareAndTrain'  4238.39 ms\n",
      "Preparing data for 4_13l\n",
      "'dataPreparation'  1802.00 ms\n",
      "training data for ('4', '7330', '281')\n"
     ]
    },
    {
     "name": "stderr",
     "output_type": "stream",
     "text": [
      "/home/student/anaconda3/lib/python3.6/site-packages/sklearn/neural_network/multilayer_perceptron.py:564: ConvergenceWarning: Stochastic Optimizer: Maximum iterations (200) reached and the optimization hasn't converged yet.\n",
      "  % self.max_iter, ConvergenceWarning)\n"
     ]
    },
    {
     "name": "stdout",
     "output_type": "stream",
     "text": [
      "MAE: 73.25219240018592\n",
      "'prepareAndTrain'  6463.71 ms\n",
      "Preparing data for 120_7l\n",
      "'dataPreparation'  62016.91 ms\n",
      "training data for ('120', '6004', '276')\n"
     ]
    },
    {
     "name": "stderr",
     "output_type": "stream",
     "text": [
      "/home/student/anaconda3/lib/python3.6/site-packages/sklearn/neural_network/multilayer_perceptron.py:564: ConvergenceWarning: Stochastic Optimizer: Maximum iterations (200) reached and the optimization hasn't converged yet.\n",
      "  % self.max_iter, ConvergenceWarning)\n"
     ]
    },
    {
     "name": "stdout",
     "output_type": "stream",
     "text": [
      "MAE: 108.06563657904532\n",
      "'prepareAndTrain'  355180.58 ms\n",
      "Preparing data for 7_66l\n",
      "'dataPreparation'  31429.16 ms\n",
      "training data for ('7', '4962', '7639')\n"
     ]
    },
    {
     "name": "stderr",
     "output_type": "stream",
     "text": [
      "/home/student/anaconda3/lib/python3.6/site-packages/sklearn/neural_network/multilayer_perceptron.py:564: ConvergenceWarning: Stochastic Optimizer: Maximum iterations (200) reached and the optimization hasn't converged yet.\n",
      "  % self.max_iter, ConvergenceWarning)\n"
     ]
    },
    {
     "name": "stdout",
     "output_type": "stream",
     "text": [
      "MAE: 317.35260683741575\n",
      ":(((( Unqualified route:('7', '4962', '7639')\n",
      "'prepareAndTrain'  158425.86 ms\n",
      "Preparing data for 31_16l\n",
      "'dataPreparation'  1764.99 ms\n",
      "Skipping...\n",
      "Preparing data for 185_57l\n",
      "'dataPreparation'  2308.72 ms\n",
      "training data for ('185', '4420', '4167')\n"
     ]
    },
    {
     "name": "stderr",
     "output_type": "stream",
     "text": [
      "/home/student/anaconda3/lib/python3.6/site-packages/sklearn/neural_network/multilayer_perceptron.py:564: ConvergenceWarning: Stochastic Optimizer: Maximum iterations (200) reached and the optimization hasn't converged yet.\n",
      "  % self.max_iter, ConvergenceWarning)\n"
     ]
    },
    {
     "name": "stdout",
     "output_type": "stream",
     "text": [
      "MAE: 76.86354691055949\n",
      "'prepareAndTrain'  7626.50 ms\n",
      "Preparing data for 41_10l\n",
      "'dataPreparation'  1371.04 ms\n",
      "training data for ('41', '7347', '288')\n"
     ]
    },
    {
     "name": "stderr",
     "output_type": "stream",
     "text": [
      "/home/student/anaconda3/lib/python3.6/site-packages/sklearn/neural_network/multilayer_perceptron.py:564: ConvergenceWarning: Stochastic Optimizer: Maximum iterations (200) reached and the optimization hasn't converged yet.\n",
      "  % self.max_iter, ConvergenceWarning)\n"
     ]
    },
    {
     "name": "stdout",
     "output_type": "stream",
     "text": [
      "MAE: 121.85163884367476\n",
      "'prepareAndTrain'  3939.97 ms\n",
      "Preparing data for 41X_115l\n",
      "'dataPreparation'  1057.32 ms\n",
      "training data for ('41X', '4953', '4957')\n"
     ]
    },
    {
     "name": "stderr",
     "output_type": "stream",
     "text": [
      "/home/student/anaconda3/lib/python3.6/site-packages/sklearn/neural_network/multilayer_perceptron.py:564: ConvergenceWarning: Stochastic Optimizer: Maximum iterations (200) reached and the optimization hasn't converged yet.\n",
      "  % self.max_iter, ConvergenceWarning)\n"
     ]
    },
    {
     "name": "stdout",
     "output_type": "stream",
     "text": [
      "MAE: 736.613940214805\n",
      ":(((( Unqualified route:('41X', '4953', '4957')\n",
      "'prepareAndTrain'  3203.18 ms\n",
      "Preparing data for 40_24l\n",
      "'dataPreparation'  240724.90 ms\n",
      "Skipping...\n",
      "Preparing data for 33_40l\n",
      "'dataPreparation'  855.49 ms\n",
      "Skipping...\n",
      "Preparing data for 83_16l\n",
      "'dataPreparation'  150813.89 ms\n",
      "training data for ('83', '324', '2492')\n"
     ]
    },
    {
     "name": "stderr",
     "output_type": "stream",
     "text": [
      "/home/student/anaconda3/lib/python3.6/site-packages/sklearn/neural_network/multilayer_perceptron.py:564: ConvergenceWarning: Stochastic Optimizer: Maximum iterations (200) reached and the optimization hasn't converged yet.\n",
      "  % self.max_iter, ConvergenceWarning)\n"
     ]
    },
    {
     "name": "stdout",
     "output_type": "stream",
     "text": [
      "MAE: 238.52165320287918\n",
      "'prepareAndTrain'  933504.54 ms\n",
      "Preparing data for 33A_26l\n",
      "'dataPreparation'  3434.03 ms\n",
      "training data for ('33A', '7592', '3692')\n"
     ]
    },
    {
     "name": "stderr",
     "output_type": "stream",
     "text": [
      "/home/student/anaconda3/lib/python3.6/site-packages/sklearn/neural_network/multilayer_perceptron.py:564: ConvergenceWarning: Stochastic Optimizer: Maximum iterations (200) reached and the optimization hasn't converged yet.\n",
      "  % self.max_iter, ConvergenceWarning)\n"
     ]
    },
    {
     "name": "stdout",
     "output_type": "stream",
     "text": [
      "MAE: 203.7355636649583\n",
      "'prepareAndTrain'  5855.58 ms\n",
      "Preparing data for 9_5l\n",
      "'dataPreparation'  190738.41 ms\n",
      "training data for ('9', '7132', '4392')\n"
     ]
    },
    {
     "name": "stderr",
     "output_type": "stream",
     "text": [
      "/home/student/anaconda3/lib/python3.6/site-packages/sklearn/neural_network/multilayer_perceptron.py:564: ConvergenceWarning: Stochastic Optimizer: Maximum iterations (200) reached and the optimization hasn't converged yet.\n",
      "  % self.max_iter, ConvergenceWarning)\n"
     ]
    },
    {
     "name": "stdout",
     "output_type": "stream",
     "text": [
      "MAE: 187.42778541729447\n",
      "'prepareAndTrain'  926367.44 ms\n",
      "Preparing data for 69X_57l\n",
      "'dataPreparation'  802.56 ms\n",
      "Skipping...\n",
      "Preparing data for 45A_60l\n",
      "'dataPreparation'  426.17 ms\n",
      "Skipping...\n",
      "Preparing data for 41X_120l\n",
      "'dataPreparation'  979.21 ms\n",
      "training data for ('41X', '7654', '4953')\n"
     ]
    },
    {
     "name": "stderr",
     "output_type": "stream",
     "text": [
      "/home/student/anaconda3/lib/python3.6/site-packages/sklearn/neural_network/multilayer_perceptron.py:564: ConvergenceWarning: Stochastic Optimizer: Maximum iterations (200) reached and the optimization hasn't converged yet.\n",
      "  % self.max_iter, ConvergenceWarning)\n"
     ]
    },
    {
     "name": "stdout",
     "output_type": "stream",
     "text": [
      "MAE: 1588.5237174256044\n",
      ":(((( Unqualified route:('41X', '7654', '4953')\n",
      "'prepareAndTrain'  2004.46 ms\n",
      "Preparing data for 102_10l\n",
      "'dataPreparation'  5439.52 ms\n",
      "training data for ('102', '1073', '4381')\n"
     ]
    },
    {
     "name": "stderr",
     "output_type": "stream",
     "text": [
      "/home/student/anaconda3/lib/python3.6/site-packages/sklearn/neural_network/multilayer_perceptron.py:564: ConvergenceWarning: Stochastic Optimizer: Maximum iterations (200) reached and the optimization hasn't converged yet.\n",
      "  % self.max_iter, ConvergenceWarning)\n"
     ]
    },
    {
     "name": "stdout",
     "output_type": "stream",
     "text": [
      "MAE: 150.05681598978182\n",
      "'prepareAndTrain'  8927.59 ms\n",
      "Preparing data for 7_51l\n",
      "'dataPreparation'  67333.16 ms\n",
      "Skipping...\n",
      "Preparing data for 185_56l\n",
      "'dataPreparation'  111.49 ms\n",
      "Skipping...\n",
      "Preparing data for 114_6l\n",
      "'dataPreparation'  21618.81 ms\n",
      "training data for ('114', '3085', '6199')\n"
     ]
    },
    {
     "name": "stderr",
     "output_type": "stream",
     "text": [
      "/home/student/anaconda3/lib/python3.6/site-packages/sklearn/neural_network/multilayer_perceptron.py:564: ConvergenceWarning: Stochastic Optimizer: Maximum iterations (200) reached and the optimization hasn't converged yet.\n",
      "  % self.max_iter, ConvergenceWarning)\n"
     ]
    },
    {
     "name": "stdout",
     "output_type": "stream",
     "text": [
      "MAE: 128.096784923251\n",
      "'prepareAndTrain'  74027.64 ms\n",
      "Preparing data for 16_24l\n",
      "'dataPreparation'  255967.25 ms\n",
      "training data for ('16', '5171', '7347')\n"
     ]
    },
    {
     "name": "stderr",
     "output_type": "stream",
     "text": [
      "/home/student/anaconda3/lib/python3.6/site-packages/sklearn/neural_network/multilayer_perceptron.py:564: ConvergenceWarning: Stochastic Optimizer: Maximum iterations (200) reached and the optimization hasn't converged yet.\n",
      "  % self.max_iter, ConvergenceWarning)\n"
     ]
    },
    {
     "name": "stdout",
     "output_type": "stream",
     "text": [
      "MAE: 214.69333315984983\n",
      "'prepareAndTrain'  871771.31 ms\n",
      "Preparing data for 7A_88l\n",
      "'dataPreparation'  15544.09 ms\n",
      "training data for ('7A', '3222', '4')\n"
     ]
    },
    {
     "name": "stderr",
     "output_type": "stream",
     "text": [
      "/home/student/anaconda3/lib/python3.6/site-packages/sklearn/neural_network/multilayer_perceptron.py:564: ConvergenceWarning: Stochastic Optimizer: Maximum iterations (200) reached and the optimization hasn't converged yet.\n",
      "  % self.max_iter, ConvergenceWarning)\n"
     ]
    },
    {
     "name": "stdout",
     "output_type": "stream",
     "text": [
      "MAE: 159.3157006031733\n",
      "'prepareAndTrain'  65738.54 ms\n",
      "Preparing data for 220_10l\n",
      "'dataPreparation'  31959.01 ms\n",
      "training data for ('220', '4686', '1827')\n"
     ]
    },
    {
     "name": "stderr",
     "output_type": "stream",
     "text": [
      "/home/student/anaconda3/lib/python3.6/site-packages/sklearn/neural_network/multilayer_perceptron.py:564: ConvergenceWarning: Stochastic Optimizer: Maximum iterations (200) reached and the optimization hasn't converged yet.\n",
      "  % self.max_iter, ConvergenceWarning)\n"
     ]
    },
    {
     "name": "stdout",
     "output_type": "stream",
     "text": [
      "MAE: 153.6130589142712\n",
      "'prepareAndTrain'  126990.94 ms\n",
      "Preparing data for 75_8l\n",
      "'dataPreparation'  17210.84 ms\n",
      "training data for ('75', '4342', '2038')\n"
     ]
    },
    {
     "name": "stderr",
     "output_type": "stream",
     "text": [
      "/home/student/anaconda3/lib/python3.6/site-packages/sklearn/neural_network/multilayer_perceptron.py:564: ConvergenceWarning: Stochastic Optimizer: Maximum iterations (200) reached and the optimization hasn't converged yet.\n",
      "  % self.max_iter, ConvergenceWarning)\n"
     ]
    },
    {
     "name": "stdout",
     "output_type": "stream",
     "text": [
      "MAE: 263.9421221330187\n",
      "'prepareAndTrain'  69270.10 ms\n",
      "Preparing data for 76A_28l\n",
      "'dataPreparation'  4831.51 ms\n",
      "training data for ('76A', '7026', '4341')\n"
     ]
    },
    {
     "name": "stderr",
     "output_type": "stream",
     "text": [
      "/home/student/anaconda3/lib/python3.6/site-packages/sklearn/neural_network/multilayer_perceptron.py:564: ConvergenceWarning: Stochastic Optimizer: Maximum iterations (200) reached and the optimization hasn't converged yet.\n",
      "  % self.max_iter, ConvergenceWarning)\n"
     ]
    },
    {
     "name": "stdout",
     "output_type": "stream",
     "text": [
      "MAE: 377.04418634655906\n",
      ":(((( Unqualified route:('76A', '7026', '4341')\n",
      "'prepareAndTrain'  16130.60 ms\n",
      "Preparing data for 7D_112l\n",
      "'dataPreparation'  1771.22 ms\n",
      "training data for ('7D', '4962', '3057')\n"
     ]
    },
    {
     "name": "stderr",
     "output_type": "stream",
     "text": [
      "/home/student/anaconda3/lib/python3.6/site-packages/sklearn/neural_network/multilayer_perceptron.py:564: ConvergenceWarning: Stochastic Optimizer: Maximum iterations (200) reached and the optimization hasn't converged yet.\n",
      "  % self.max_iter, ConvergenceWarning)\n"
     ]
    },
    {
     "name": "stdout",
     "output_type": "stream",
     "text": [
      "MAE: 568.2327922173832\n",
      ":(((( Unqualified route:('7D', '4962', '3057')\n",
      "'prepareAndTrain'  3922.84 ms\n",
      "Preparing data for 150_7l\n",
      "'dataPreparation'  9793.33 ms\n",
      "Skipping...\n",
      "Preparing data for 31B_45l\n",
      "'dataPreparation'  4082.72 ms\n",
      "Skipping...\n",
      "Preparing data for 7B_92l\n",
      "'dataPreparation'  6666.96 ms\n",
      "training data for ('7B', '3544', '4962')\n"
     ]
    },
    {
     "name": "stderr",
     "output_type": "stream",
     "text": [
      "/home/student/anaconda3/lib/python3.6/site-packages/sklearn/neural_network/multilayer_perceptron.py:564: ConvergenceWarning: Stochastic Optimizer: Maximum iterations (200) reached and the optimization hasn't converged yet.\n",
      "  % self.max_iter, ConvergenceWarning)\n"
     ]
    },
    {
     "name": "stdout",
     "output_type": "stream",
     "text": [
      "MAE: 213.76663643530063\n",
      "'prepareAndTrain'  25661.56 ms\n",
      "Preparing data for 25A_270l\n",
      "'dataPreparation'  80443.17 ms\n",
      "training data for ('25A', '4620', '7390')\n"
     ]
    },
    {
     "name": "stderr",
     "output_type": "stream",
     "text": [
      "/home/student/anaconda3/lib/python3.6/site-packages/sklearn/neural_network/multilayer_perceptron.py:564: ConvergenceWarning: Stochastic Optimizer: Maximum iterations (200) reached and the optimization hasn't converged yet.\n",
      "  % self.max_iter, ConvergenceWarning)\n"
     ]
    },
    {
     "name": "stdout",
     "output_type": "stream",
     "text": [
      "MAE: 148.48364628898295\n",
      "'prepareAndTrain'  418758.10 ms\n",
      "Preparing data for 84_29l\n",
      "'dataPreparation'  2184.14 ms\n",
      "training data for ('84', '4168', '4956')\n"
     ]
    },
    {
     "name": "stderr",
     "output_type": "stream",
     "text": [
      "/home/student/anaconda3/lib/python3.6/site-packages/sklearn/neural_network/multilayer_perceptron.py:564: ConvergenceWarning: Stochastic Optimizer: Maximum iterations (200) reached and the optimization hasn't converged yet.\n",
      "  % self.max_iter, ConvergenceWarning)\n"
     ]
    },
    {
     "name": "stdout",
     "output_type": "stream",
     "text": [
      "MAE: 198.1878581974248\n",
      "'prepareAndTrain'  7338.01 ms\n",
      "Preparing data for 7_70l\n",
      "'dataPreparation'  29313.52 ms\n",
      "training data for ('7', '7639', '4962')\n"
     ]
    },
    {
     "name": "stderr",
     "output_type": "stream",
     "text": [
      "/home/student/anaconda3/lib/python3.6/site-packages/sklearn/neural_network/multilayer_perceptron.py:564: ConvergenceWarning: Stochastic Optimizer: Maximum iterations (200) reached and the optimization hasn't converged yet.\n",
      "  % self.max_iter, ConvergenceWarning)\n"
     ]
    },
    {
     "name": "stdout",
     "output_type": "stream",
     "text": [
      "MAE: 193.82007422052854\n",
      "'prepareAndTrain'  114065.63 ms\n",
      "Preparing data for 41A_22l\n",
      "'dataPreparation'  3822.94 ms\n",
      "training data for ('41A', '4843', '288')\n"
     ]
    },
    {
     "name": "stderr",
     "output_type": "stream",
     "text": [
      "/home/student/anaconda3/lib/python3.6/site-packages/sklearn/neural_network/multilayer_perceptron.py:564: ConvergenceWarning: Stochastic Optimizer: Maximum iterations (200) reached and the optimization hasn't converged yet.\n",
      "  % self.max_iter, ConvergenceWarning)\n"
     ]
    },
    {
     "name": "stdout",
     "output_type": "stream",
     "text": [
      "MAE: 150.18164205245805\n",
      "'prepareAndTrain'  12490.41 ms\n",
      "Preparing data for 27B_27l\n",
      "'dataPreparation'  2588.42 ms\n",
      "training data for ('27B', '300', '972')\n"
     ]
    },
    {
     "name": "stderr",
     "output_type": "stream",
     "text": [
      "/home/student/anaconda3/lib/python3.6/site-packages/sklearn/neural_network/multilayer_perceptron.py:564: ConvergenceWarning: Stochastic Optimizer: Maximum iterations (200) reached and the optimization hasn't converged yet.\n",
      "  % self.max_iter, ConvergenceWarning)\n"
     ]
    },
    {
     "name": "stdout",
     "output_type": "stream",
     "text": [
      "MAE: 149.79317361187458\n",
      "'prepareAndTrain'  7328.73 ms\n",
      "Preparing data for 33B_60l\n",
      "'dataPreparation'  947.95 ms\n",
      "training data for ('33B', '3732', '4330')\n"
     ]
    },
    {
     "name": "stderr",
     "output_type": "stream",
     "text": [
      "/home/student/anaconda3/lib/python3.6/site-packages/sklearn/neural_network/multilayer_perceptron.py:564: ConvergenceWarning: Stochastic Optimizer: Maximum iterations (200) reached and the optimization hasn't converged yet.\n",
      "  % self.max_iter, ConvergenceWarning)\n"
     ]
    },
    {
     "name": "stdout",
     "output_type": "stream",
     "text": [
      "MAE: 274.96367214640236\n",
      "'prepareAndTrain'  1382.79 ms\n",
      "Preparing data for 140_16l\n",
      "'dataPreparation'  34.36 ms\n",
      "Skipping...\n",
      "Preparing data for 40_28l\n",
      "'dataPreparation'  545.99 ms\n",
      "training data for ('40', '7132', '270')\n"
     ]
    },
    {
     "name": "stderr",
     "output_type": "stream",
     "text": [
      "/home/student/anaconda3/lib/python3.6/site-packages/sklearn/neural_network/multilayer_perceptron.py:564: ConvergenceWarning: Stochastic Optimizer: Maximum iterations (200) reached and the optimization hasn't converged yet.\n",
      "  % self.max_iter, ConvergenceWarning)\n"
     ]
    },
    {
     "name": "stdout",
     "output_type": "stream",
     "text": [
      "MAE: 498.0801042800725\n",
      ":(((( Unqualified route:('40', '7132', '270')\n",
      "'prepareAndTrain'  1078.49 ms\n",
      "Preparing data for 40_17l\n",
      "'dataPreparation'  230645.80 ms\n",
      "Skipping...\n",
      "Preparing data for 270_44l\n",
      "'dataPreparation'  15226.14 ms\n",
      "training data for ('270', '3333', '7026')\n"
     ]
    },
    {
     "name": "stderr",
     "output_type": "stream",
     "text": [
      "/home/student/anaconda3/lib/python3.6/site-packages/sklearn/neural_network/multilayer_perceptron.py:564: ConvergenceWarning: Stochastic Optimizer: Maximum iterations (200) reached and the optimization hasn't converged yet.\n",
      "  % self.max_iter, ConvergenceWarning)\n"
     ]
    },
    {
     "name": "stdout",
     "output_type": "stream",
     "text": [
      "MAE: 60.93769240151926\n",
      "'prepareAndTrain'  56601.19 ms\n",
      "Preparing data for 33B_56l\n",
      "'dataPreparation'  25888.97 ms\n",
      "training data for ('33B', '4330', '3732')\n",
      "MAE: 85.94549140369949\n",
      "'prepareAndTrain'  105603.80 ms\n",
      "Preparing data for 27B_34l\n",
      "'dataPreparation'  80374.40 ms\n",
      "training data for ('27B', '324', '303')\n"
     ]
    },
    {
     "name": "stderr",
     "output_type": "stream",
     "text": [
      "/home/student/anaconda3/lib/python3.6/site-packages/sklearn/neural_network/multilayer_perceptron.py:564: ConvergenceWarning: Stochastic Optimizer: Maximum iterations (200) reached and the optimization hasn't converged yet.\n",
      "  % self.max_iter, ConvergenceWarning)\n"
     ]
    },
    {
     "name": "stdout",
     "output_type": "stream",
     "text": [
      "MAE: 128.86907701696487\n",
      "'prepareAndTrain'  518917.00 ms\n",
      "Preparing data for 7_63l\n",
      "'dataPreparation'  7876.90 ms\n",
      "Skipping...\n",
      "Preparing data for 151_17l\n",
      "'dataPreparation'  107164.84 ms\n",
      "training data for ('151', '4606', '2278')\n"
     ]
    },
    {
     "name": "stderr",
     "output_type": "stream",
     "text": [
      "/home/student/anaconda3/lib/python3.6/site-packages/sklearn/neural_network/multilayer_perceptron.py:564: ConvergenceWarning: Stochastic Optimizer: Maximum iterations (200) reached and the optimization hasn't converged yet.\n",
      "  % self.max_iter, ConvergenceWarning)\n"
     ]
    },
    {
     "name": "stdout",
     "output_type": "stream",
     "text": [
      "MAE: 156.2929681093974\n",
      "'prepareAndTrain'  684911.22 ms\n",
      "Preparing data for 84_28l\n",
      "'dataPreparation'  148.47 ms\n",
      "Skipping...\n",
      "Preparing data for 13_71l\n",
      "'dataPreparation'  2835.73 ms\n",
      "training data for ('13', '7229', '281')\n"
     ]
    },
    {
     "name": "stderr",
     "output_type": "stream",
     "text": [
      "/home/student/anaconda3/lib/python3.6/site-packages/sklearn/neural_network/multilayer_perceptron.py:564: ConvergenceWarning: Stochastic Optimizer: Maximum iterations (200) reached and the optimization hasn't converged yet.\n",
      "  % self.max_iter, ConvergenceWarning)\n"
     ]
    },
    {
     "name": "stdout",
     "output_type": "stream",
     "text": [
      "MAE: 104.8484601726495\n",
      "'prepareAndTrain'  10603.54 ms\n",
      "Preparing data for 27A_4l\n",
      "'dataPreparation'  55087.32 ms\n",
      "training data for ('27A', '300', '7199')\n"
     ]
    },
    {
     "name": "stderr",
     "output_type": "stream",
     "text": [
      "/home/student/anaconda3/lib/python3.6/site-packages/sklearn/neural_network/multilayer_perceptron.py:564: ConvergenceWarning: Stochastic Optimizer: Maximum iterations (200) reached and the optimization hasn't converged yet.\n",
      "  % self.max_iter, ConvergenceWarning)\n"
     ]
    },
    {
     "name": "stdout",
     "output_type": "stream",
     "text": [
      "MAE: 106.22398744200548\n",
      "'prepareAndTrain'  261068.57 ms\n",
      "Preparing data for 39_22l\n",
      "'dataPreparation'  4228.83 ms\n",
      "training data for ('39', '767', '7162')\n"
     ]
    },
    {
     "name": "stderr",
     "output_type": "stream",
     "text": [
      "/home/student/anaconda3/lib/python3.6/site-packages/sklearn/neural_network/multilayer_perceptron.py:564: ConvergenceWarning: Stochastic Optimizer: Maximum iterations (200) reached and the optimization hasn't converged yet.\n",
      "  % self.max_iter, ConvergenceWarning)\n"
     ]
    },
    {
     "name": "stdout",
     "output_type": "stream",
     "text": [
      "MAE: 189.22948191617974\n",
      "'prepareAndTrain'  13776.00 ms\n",
      "Preparing data for 116_3l\n",
      "'dataPreparation'  2451.82 ms\n",
      "training data for ('116', '2955', '261')\n"
     ]
    },
    {
     "name": "stderr",
     "output_type": "stream",
     "text": [
      "/home/student/anaconda3/lib/python3.6/site-packages/sklearn/neural_network/multilayer_perceptron.py:564: ConvergenceWarning: Stochastic Optimizer: Maximum iterations (200) reached and the optimization hasn't converged yet.\n",
      "  % self.max_iter, ConvergenceWarning)\n"
     ]
    },
    {
     "name": "stdout",
     "output_type": "stream",
     "text": [
      "MAE: 562.3459040215291\n",
      ":(((( Unqualified route:('116', '2955', '261')\n",
      "'prepareAndTrain'  4794.59 ms\n",
      "Preparing data for 42D_50l\n",
      "'dataPreparation'  575.77 ms\n",
      "training data for ('42D', '7571', '4465')\n"
     ]
    },
    {
     "name": "stderr",
     "output_type": "stream",
     "text": [
      "/home/student/anaconda3/lib/python3.6/site-packages/sklearn/neural_network/multilayer_perceptron.py:564: ConvergenceWarning: Stochastic Optimizer: Maximum iterations (200) reached and the optimization hasn't converged yet.\n",
      "  % self.max_iter, ConvergenceWarning)\n"
     ]
    },
    {
     "name": "stdout",
     "output_type": "stream",
     "text": [
      "MAE: 1398.4371245084121\n",
      ":(((( Unqualified route:('42D', '7571', '4465')\n",
      "'prepareAndTrain'  1764.56 ms\n",
      "Preparing data for 25X_9l\n",
      "'dataPreparation'  1711.60 ms\n",
      "training data for ('25X', '3890', '4953')\n"
     ]
    },
    {
     "name": "stderr",
     "output_type": "stream",
     "text": [
      "/home/student/anaconda3/lib/python3.6/site-packages/sklearn/neural_network/multilayer_perceptron.py:564: ConvergenceWarning: Stochastic Optimizer: Maximum iterations (200) reached and the optimization hasn't converged yet.\n",
      "  % self.max_iter, ConvergenceWarning)\n"
     ]
    },
    {
     "name": "stdout",
     "output_type": "stream",
     "text": [
      "MAE: 2092.8128962681158\n",
      ":(((( Unqualified route:('25X', '3890', '4953')\n",
      "'prepareAndTrain'  1052.50 ms\n",
      "Preparing data for 13_68l\n",
      "'dataPreparation'  84728.61 ms\n",
      "training data for ('13', '7229', '332')\n"
     ]
    },
    {
     "name": "stderr",
     "output_type": "stream",
     "text": [
      "/home/student/anaconda3/lib/python3.6/site-packages/sklearn/neural_network/multilayer_perceptron.py:564: ConvergenceWarning: Stochastic Optimizer: Maximum iterations (200) reached and the optimization hasn't converged yet.\n",
      "  % self.max_iter, ConvergenceWarning)\n"
     ]
    },
    {
     "name": "stdout",
     "output_type": "stream",
     "text": [
      "MAE: 261.4700185578738\n",
      "'prepareAndTrain'  472537.23 ms\n",
      "Preparing data for 13_66l\n",
      "'dataPreparation'  17669.29 ms\n",
      "training data for ('13', '324', '7229')\n"
     ]
    },
    {
     "name": "stderr",
     "output_type": "stream",
     "text": [
      "/home/student/anaconda3/lib/python3.6/site-packages/sklearn/neural_network/multilayer_perceptron.py:564: ConvergenceWarning: Stochastic Optimizer: Maximum iterations (200) reached and the optimization hasn't converged yet.\n",
      "  % self.max_iter, ConvergenceWarning)\n"
     ]
    },
    {
     "name": "stdout",
     "output_type": "stream",
     "text": [
      "MAE: 248.44469695834454\n",
      "'prepareAndTrain'  63377.44 ms\n",
      "Preparing data for 84_30l\n",
      "'dataPreparation'  56481.65 ms\n",
      "training data for ('84', '4260', '7188')\n"
     ]
    },
    {
     "name": "stderr",
     "output_type": "stream",
     "text": [
      "/home/student/anaconda3/lib/python3.6/site-packages/sklearn/neural_network/multilayer_perceptron.py:564: ConvergenceWarning: Stochastic Optimizer: Maximum iterations (200) reached and the optimization hasn't converged yet.\n",
      "  % self.max_iter, ConvergenceWarning)\n"
     ]
    },
    {
     "name": "stdout",
     "output_type": "stream",
     "text": [
      "MAE: 172.6498729951718\n",
      "'prepareAndTrain'  252228.95 ms\n",
      "Preparing data for 63_20l\n",
      "'dataPreparation'  194.39 ms\n",
      "training data for ('63', '2024', '2039')\n"
     ]
    },
    {
     "name": "stderr",
     "output_type": "stream",
     "text": [
      "/home/student/anaconda3/lib/python3.6/site-packages/sklearn/neural_network/multilayer_perceptron.py:564: ConvergenceWarning: Stochastic Optimizer: Maximum iterations (200) reached and the optimization hasn't converged yet.\n",
      "  % self.max_iter, ConvergenceWarning)\n"
     ]
    },
    {
     "name": "stdout",
     "output_type": "stream",
     "text": [
      "MAE: 253.29215237660878\n",
      "'prepareAndTrain'  271.78 ms\n",
      "Preparing data for 150_5l\n",
      "'dataPreparation'  81286.18 ms\n",
      "Skipping...\n",
      "Preparing data for 51D_50l\n",
      "'dataPreparation'  3003.88 ms\n",
      "training data for ('51D', '7392', '1966')\n"
     ]
    },
    {
     "name": "stderr",
     "output_type": "stream",
     "text": [
      "/home/student/anaconda3/lib/python3.6/site-packages/sklearn/neural_network/multilayer_perceptron.py:564: ConvergenceWarning: Stochastic Optimizer: Maximum iterations (200) reached and the optimization hasn't converged yet.\n",
      "  % self.max_iter, ConvergenceWarning)\n"
     ]
    },
    {
     "name": "stdout",
     "output_type": "stream",
     "text": [
      "MAE: 163.69176877267432\n",
      "'prepareAndTrain'  11166.28 ms\n",
      "Preparing data for 185_63l\n",
      "'dataPreparation'  901.01 ms\n",
      "training data for ('185', '4108', '4131')\n"
     ]
    },
    {
     "name": "stderr",
     "output_type": "stream",
     "text": [
      "/home/student/anaconda3/lib/python3.6/site-packages/sklearn/neural_network/multilayer_perceptron.py:564: ConvergenceWarning: Stochastic Optimizer: Maximum iterations (200) reached and the optimization hasn't converged yet.\n",
      "  % self.max_iter, ConvergenceWarning)\n"
     ]
    },
    {
     "name": "stdout",
     "output_type": "stream",
     "text": [
      "MAE: 65.31380783577329\n",
      "'prepareAndTrain'  2956.80 ms\n",
      "Preparing data for 68_74l\n",
      "'dataPreparation'  10094.49 ms\n",
      "Skipping...\n",
      "Preparing data for 38_15l\n",
      "'dataPreparation'  8973.28 ms\n",
      "training data for ('38', '4745', '7339')\n"
     ]
    },
    {
     "name": "stderr",
     "output_type": "stream",
     "text": [
      "/home/student/anaconda3/lib/python3.6/site-packages/sklearn/neural_network/multilayer_perceptron.py:564: ConvergenceWarning: Stochastic Optimizer: Maximum iterations (200) reached and the optimization hasn't converged yet.\n",
      "  % self.max_iter, ConvergenceWarning)\n"
     ]
    },
    {
     "name": "stdout",
     "output_type": "stream",
     "text": [
      "MAE: 204.1256761839575\n",
      "'prepareAndTrain'  36792.17 ms\n",
      "Preparing data for 142_12l\n",
      "'dataPreparation'  7079.21 ms\n",
      "training data for ('142', '877', '3616')\n"
     ]
    },
    {
     "name": "stderr",
     "output_type": "stream",
     "text": [
      "/home/student/anaconda3/lib/python3.6/site-packages/sklearn/neural_network/multilayer_perceptron.py:564: ConvergenceWarning: Stochastic Optimizer: Maximum iterations (200) reached and the optimization hasn't converged yet.\n",
      "  % self.max_iter, ConvergenceWarning)\n"
     ]
    },
    {
     "name": "stdout",
     "output_type": "stream",
     "text": [
      "MAE: 282.9495468588952\n",
      "'prepareAndTrain'  25347.93 ms\n",
      "Preparing data for 46A_65l\n",
      "'dataPreparation'  682.08 ms\n",
      "training data for ('46A', '7491', '807')\n"
     ]
    },
    {
     "name": "stderr",
     "output_type": "stream",
     "text": [
      "/home/student/anaconda3/lib/python3.6/site-packages/sklearn/neural_network/multilayer_perceptron.py:564: ConvergenceWarning: Stochastic Optimizer: Maximum iterations (200) reached and the optimization hasn't converged yet.\n",
      "  % self.max_iter, ConvergenceWarning)\n"
     ]
    },
    {
     "name": "stdout",
     "output_type": "stream",
     "text": [
      "MAE: 235.98005543301272\n",
      "'prepareAndTrain'  1765.24 ms\n",
      "Preparing data for 31_15l\n",
      "'dataPreparation'  88554.54 ms\n",
      "training data for ('31', '621', '567')\n"
     ]
    },
    {
     "name": "stderr",
     "output_type": "stream",
     "text": [
      "/home/student/anaconda3/lib/python3.6/site-packages/sklearn/neural_network/multilayer_perceptron.py:564: ConvergenceWarning: Stochastic Optimizer: Maximum iterations (200) reached and the optimization hasn't converged yet.\n",
      "  % self.max_iter, ConvergenceWarning)\n"
     ]
    },
    {
     "name": "stdout",
     "output_type": "stream",
     "text": [
      "MAE: 178.74487253675062\n",
      "'prepareAndTrain'  361165.16 ms\n",
      "Preparing data for 33A_22l\n",
      "'dataPreparation'  16861.94 ms\n",
      "training data for ('33A', '3677', '7174')\n"
     ]
    },
    {
     "name": "stderr",
     "output_type": "stream",
     "text": [
      "/home/student/anaconda3/lib/python3.6/site-packages/sklearn/neural_network/multilayer_perceptron.py:564: ConvergenceWarning: Stochastic Optimizer: Maximum iterations (200) reached and the optimization hasn't converged yet.\n",
      "  % self.max_iter, ConvergenceWarning)\n"
     ]
    },
    {
     "name": "stdout",
     "output_type": "stream",
     "text": [
      "MAE: 136.12245274361229\n",
      "'prepareAndTrain'  70965.69 ms\n",
      "Preparing data for 69_42l\n",
      "'dataPreparation'  54134.24 ms\n",
      "Skipping...\n",
      "Preparing data for 66X_96l\n",
      "'dataPreparation'  5628.13 ms\n",
      "training data for ('66X', '3980', '4952')\n"
     ]
    },
    {
     "name": "stderr",
     "output_type": "stream",
     "text": [
      "/home/student/anaconda3/lib/python3.6/site-packages/sklearn/neural_network/multilayer_perceptron.py:564: ConvergenceWarning: Stochastic Optimizer: Maximum iterations (200) reached and the optimization hasn't converged yet.\n",
      "  % self.max_iter, ConvergenceWarning)\n"
     ]
    },
    {
     "name": "stdout",
     "output_type": "stream",
     "text": [
      "MAE: 255.1063198677808\n",
      "'prepareAndTrain'  18207.77 ms\n",
      "Preparing data for 25X_7l\n",
      "'dataPreparation'  3823.48 ms\n",
      "training data for ('25X', '4953', '3890')\n"
     ]
    },
    {
     "name": "stderr",
     "output_type": "stream",
     "text": [
      "/home/student/anaconda3/lib/python3.6/site-packages/sklearn/neural_network/multilayer_perceptron.py:564: ConvergenceWarning: Stochastic Optimizer: Maximum iterations (200) reached and the optimization hasn't converged yet.\n",
      "  % self.max_iter, ConvergenceWarning)\n"
     ]
    },
    {
     "name": "stdout",
     "output_type": "stream",
     "text": [
      "MAE: 273.01167604119473\n",
      "'prepareAndTrain'  13104.06 ms\n",
      "Preparing data for 122_16l\n",
      "'dataPreparation'  142190.63 ms\n",
      "training data for ('122', '1423', '4322')\n"
     ]
    },
    {
     "name": "stderr",
     "output_type": "stream",
     "text": [
      "/home/student/anaconda3/lib/python3.6/site-packages/sklearn/neural_network/multilayer_perceptron.py:564: ConvergenceWarning: Stochastic Optimizer: Maximum iterations (200) reached and the optimization hasn't converged yet.\n",
      "  % self.max_iter, ConvergenceWarning)\n"
     ]
    },
    {
     "name": "stdout",
     "output_type": "stream",
     "text": [
      "MAE: 178.012331083244\n",
      "'prepareAndTrain'  759281.16 ms\n",
      "Preparing data for 31A_25l\n",
      "'dataPreparation'  32726.80 ms\n",
      "training data for ('31A', '621', '686')\n"
     ]
    },
    {
     "name": "stderr",
     "output_type": "stream",
     "text": [
      "/home/student/anaconda3/lib/python3.6/site-packages/sklearn/neural_network/multilayer_perceptron.py:564: ConvergenceWarning: Stochastic Optimizer: Maximum iterations (200) reached and the optimization hasn't converged yet.\n",
      "  % self.max_iter, ConvergenceWarning)\n"
     ]
    },
    {
     "name": "stdout",
     "output_type": "stream",
     "text": [
      "MAE: 204.20930038320753\n",
      "'prepareAndTrain'  191149.42 ms\n",
      "Preparing data for 41X_119l\n",
      "'dataPreparation'  236.89 ms\n",
      "training data for ('41X', '7654', '4953')\n"
     ]
    },
    {
     "name": "stderr",
     "output_type": "stream",
     "text": [
      "/home/student/anaconda3/lib/python3.6/site-packages/sklearn/neural_network/multilayer_perceptron.py:564: ConvergenceWarning: Stochastic Optimizer: Maximum iterations (200) reached and the optimization hasn't converged yet.\n",
      "  % self.max_iter, ConvergenceWarning)\n"
     ]
    },
    {
     "name": "stdout",
     "output_type": "stream",
     "text": [
      "MAE: 2313.684370703371\n",
      ":(((( Unqualified route:('41X', '7654', '4953')\n",
      "'prepareAndTrain'  264.02 ms\n",
      "Preparing data for 122_15l\n",
      "'dataPreparation'  1286.01 ms\n",
      "training data for ('122', '4525', '263')\n"
     ]
    },
    {
     "name": "stderr",
     "output_type": "stream",
     "text": [
      "/home/student/anaconda3/lib/python3.6/site-packages/sklearn/neural_network/multilayer_perceptron.py:564: ConvergenceWarning: Stochastic Optimizer: Maximum iterations (200) reached and the optimization hasn't converged yet.\n",
      "  % self.max_iter, ConvergenceWarning)\n"
     ]
    },
    {
     "name": "stdout",
     "output_type": "stream",
     "text": [
      "MAE: 51.62422380436965\n",
      "'prepareAndTrain'  4489.34 ms\n",
      "Preparing data for 70_67l\n",
      "'dataPreparation'  49774.33 ms\n",
      "training data for ('70', '3333', '7339')\n"
     ]
    },
    {
     "name": "stderr",
     "output_type": "stream",
     "text": [
      "/home/student/anaconda3/lib/python3.6/site-packages/sklearn/neural_network/multilayer_perceptron.py:564: ConvergenceWarning: Stochastic Optimizer: Maximum iterations (200) reached and the optimization hasn't converged yet.\n",
      "  % self.max_iter, ConvergenceWarning)\n"
     ]
    },
    {
     "name": "stdout",
     "output_type": "stream",
     "text": [
      "MAE: 153.09547485951586\n",
      "'prepareAndTrain'  216471.19 ms\n",
      "Preparing data for 61_107l\n",
      "'dataPreparation'  4038.80 ms\n",
      "training data for ('61', '302', '2933')\n"
     ]
    },
    {
     "name": "stderr",
     "output_type": "stream",
     "text": [
      "/home/student/anaconda3/lib/python3.6/site-packages/sklearn/neural_network/multilayer_perceptron.py:564: ConvergenceWarning: Stochastic Optimizer: Maximum iterations (200) reached and the optimization hasn't converged yet.\n",
      "  % self.max_iter, ConvergenceWarning)\n"
     ]
    },
    {
     "name": "stdout",
     "output_type": "stream",
     "text": [
      "MAE: 349.4375380610267\n",
      ":(((( Unqualified route:('61', '302', '2933')\n",
      "'prepareAndTrain'  11936.13 ms\n",
      "Preparing data for 39A_40l\n",
      "'dataPreparation'  1586.20 ms\n",
      "Skipping...\n",
      "Preparing data for 40_31l\n",
      "'dataPreparation'  78997.50 ms\n",
      "training data for ('40', '4795', '6348')\n"
     ]
    },
    {
     "name": "stderr",
     "output_type": "stream",
     "text": [
      "/home/student/anaconda3/lib/python3.6/site-packages/sklearn/neural_network/multilayer_perceptron.py:564: ConvergenceWarning: Stochastic Optimizer: Maximum iterations (200) reached and the optimization hasn't converged yet.\n",
      "  % self.max_iter, ConvergenceWarning)\n"
     ]
    },
    {
     "name": "stdout",
     "output_type": "stream",
     "text": [
      "MAE: 245.38200506451753\n",
      "'prepareAndTrain'  550664.59 ms\n",
      "Preparing data for 111_9l\n",
      "'dataPreparation'  2611.87 ms\n",
      "training data for ('111', '3057', '7639')\n"
     ]
    },
    {
     "name": "stderr",
     "output_type": "stream",
     "text": [
      "/home/student/anaconda3/lib/python3.6/site-packages/sklearn/neural_network/multilayer_perceptron.py:564: ConvergenceWarning: Stochastic Optimizer: Maximum iterations (200) reached and the optimization hasn't converged yet.\n",
      "  % self.max_iter, ConvergenceWarning)\n"
     ]
    },
    {
     "name": "stdout",
     "output_type": "stream",
     "text": [
      "MAE: 135.42280044757217\n",
      "'prepareAndTrain'  9135.35 ms\n",
      "Preparing data for 84X_52l\n",
      "'dataPreparation'  7871.36 ms\n",
      "Skipping...\n",
      "Preparing data for 11_42l\n",
      "'dataPreparation'  132302.42 ms\n",
      "training data for ('11', '449', '6122')\n"
     ]
    },
    {
     "name": "stderr",
     "output_type": "stream",
     "text": [
      "/home/student/anaconda3/lib/python3.6/site-packages/sklearn/neural_network/multilayer_perceptron.py:564: ConvergenceWarning: Stochastic Optimizer: Maximum iterations (200) reached and the optimization hasn't converged yet.\n",
      "  % self.max_iter, ConvergenceWarning)\n"
     ]
    },
    {
     "name": "stdout",
     "output_type": "stream",
     "text": [
      "MAE: 218.56867777820273\n",
      "'prepareAndTrain'  507760.49 ms\n",
      "Preparing data for 66B_57l\n",
      "'dataPreparation'  35677.93 ms\n",
      "training data for ('66B', '4003', '7387')\n"
     ]
    },
    {
     "name": "stderr",
     "output_type": "stream",
     "text": [
      "/home/student/anaconda3/lib/python3.6/site-packages/sklearn/neural_network/multilayer_perceptron.py:564: ConvergenceWarning: Stochastic Optimizer: Maximum iterations (200) reached and the optimization hasn't converged yet.\n",
      "  % self.max_iter, ConvergenceWarning)\n"
     ]
    },
    {
     "name": "stdout",
     "output_type": "stream",
     "text": [
      "MAE: 137.05092431747264\n",
      "'prepareAndTrain'  216620.18 ms\n",
      "Preparing data for 41X_117l\n",
      "'dataPreparation'  594.57 ms\n",
      "training data for ('41X', '4953', '7654')\n"
     ]
    },
    {
     "name": "stderr",
     "output_type": "stream",
     "text": [
      "/home/student/anaconda3/lib/python3.6/site-packages/sklearn/neural_network/multilayer_perceptron.py:564: ConvergenceWarning: Stochastic Optimizer: Maximum iterations (200) reached and the optimization hasn't converged yet.\n",
      "  % self.max_iter, ConvergenceWarning)\n"
     ]
    },
    {
     "name": "stdout",
     "output_type": "stream",
     "text": [
      "MAE: 2014.2960721786897\n",
      ":(((( Unqualified route:('41X', '4953', '7654')\n",
      "'prepareAndTrain'  1634.60 ms\n",
      "Preparing data for 17A_16l\n",
      "'dataPreparation'  94.78 ms\n",
      "Skipping...\n",
      "Preparing data for 17A_11l\n",
      "'dataPreparation'  483.33 ms\n",
      "Skipping...\n",
      "Preparing data for 75_14l\n",
      "'dataPreparation'  2187.02 ms\n",
      "Skipping...\n",
      "Preparing data for 13_61l\n",
      "'dataPreparation'  767.91 ms\n",
      "Skipping...\n",
      "Preparing data for 41B_53l\n",
      "'dataPreparation'  9736.63 ms\n",
      "training data for ('41B', '7144', '288')\n"
     ]
    },
    {
     "name": "stderr",
     "output_type": "stream",
     "text": [
      "/home/student/anaconda3/lib/python3.6/site-packages/sklearn/neural_network/multilayer_perceptron.py:564: ConvergenceWarning: Stochastic Optimizer: Maximum iterations (200) reached and the optimization hasn't converged yet.\n",
      "  % self.max_iter, ConvergenceWarning)\n"
     ]
    },
    {
     "name": "stdout",
     "output_type": "stream",
     "text": [
      "MAE: 126.93820529627415\n",
      "'prepareAndTrain'  38724.10 ms\n",
      "Preparing data for 33_16l\n",
      "'dataPreparation'  63617.02 ms\n",
      "training data for ('33', '292', '7174')\n"
     ]
    },
    {
     "name": "stderr",
     "output_type": "stream",
     "text": [
      "/home/student/anaconda3/lib/python3.6/site-packages/sklearn/neural_network/multilayer_perceptron.py:564: ConvergenceWarning: Stochastic Optimizer: Maximum iterations (200) reached and the optimization hasn't converged yet.\n",
      "  % self.max_iter, ConvergenceWarning)\n"
     ]
    },
    {
     "name": "stdout",
     "output_type": "stream",
     "text": [
      "MAE: 471.72720495550703\n",
      ":(((( Unqualified route:('33', '292', '7174')\n",
      "'prepareAndTrain'  318491.66 ms\n",
      "Preparing data for 75_15l\n",
      "'dataPreparation'  3172.32 ms\n",
      "training data for ('75', '2038', '7181')\n"
     ]
    },
    {
     "name": "stderr",
     "output_type": "stream",
     "text": [
      "/home/student/anaconda3/lib/python3.6/site-packages/sklearn/neural_network/multilayer_perceptron.py:564: ConvergenceWarning: Stochastic Optimizer: Maximum iterations (200) reached and the optimization hasn't converged yet.\n",
      "  % self.max_iter, ConvergenceWarning)\n"
     ]
    },
    {
     "name": "stdout",
     "output_type": "stream",
     "text": [
      "MAE: 200.0280154027811\n",
      "'prepareAndTrain'  10784.28 ms\n",
      "Preparing data for 66X_97l\n",
      "'dataPreparation'  53.04 ms\n",
      "Skipping...\n",
      "Preparing data for 1_39l\n",
      "'dataPreparation'  1385.56 ms\n",
      "training data for ('1', '226', '271')\n"
     ]
    },
    {
     "name": "stderr",
     "output_type": "stream",
     "text": [
      "/home/student/anaconda3/lib/python3.6/site-packages/sklearn/neural_network/multilayer_perceptron.py:564: ConvergenceWarning: Stochastic Optimizer: Maximum iterations (200) reached and the optimization hasn't converged yet.\n",
      "  % self.max_iter, ConvergenceWarning)\n"
     ]
    },
    {
     "name": "stdout",
     "output_type": "stream",
     "text": [
      "MAE: 49.45563682551205\n",
      "'prepareAndTrain'  4674.73 ms\n",
      "Preparing data for 39A_43l\n",
      "'dataPreparation'  287134.75 ms\n",
      "training data for ('39A', '7158', '767')\n"
     ]
    },
    {
     "name": "stderr",
     "output_type": "stream",
     "text": [
      "/home/student/anaconda3/lib/python3.6/site-packages/sklearn/neural_network/multilayer_perceptron.py:564: ConvergenceWarning: Stochastic Optimizer: Maximum iterations (200) reached and the optimization hasn't converged yet.\n",
      "  % self.max_iter, ConvergenceWarning)\n"
     ]
    },
    {
     "name": "stdout",
     "output_type": "stream",
     "text": [
      "MAE: 187.7053562595707\n",
      "'prepareAndTrain'  1575475.37 ms\n",
      "Preparing data for 11_40l\n",
      "'dataPreparation'  117020.38 ms\n",
      "training data for ('11', '6122', '449')\n"
     ]
    },
    {
     "name": "stderr",
     "output_type": "stream",
     "text": [
      "/home/student/anaconda3/lib/python3.6/site-packages/sklearn/neural_network/multilayer_perceptron.py:564: ConvergenceWarning: Stochastic Optimizer: Maximum iterations (200) reached and the optimization hasn't converged yet.\n",
      "  % self.max_iter, ConvergenceWarning)\n"
     ]
    },
    {
     "name": "stdout",
     "output_type": "stream",
     "text": [
      "MAE: 235.12164340708608\n",
      "'prepareAndTrain'  640715.57 ms\n",
      "Preparing data for 83_24l\n",
      "'dataPreparation'  1714.26 ms\n",
      "training data for ('83', '2492', '319')\n"
     ]
    },
    {
     "name": "stderr",
     "output_type": "stream",
     "text": [
      "/home/student/anaconda3/lib/python3.6/site-packages/sklearn/neural_network/multilayer_perceptron.py:564: ConvergenceWarning: Stochastic Optimizer: Maximum iterations (200) reached and the optimization hasn't converged yet.\n",
      "  % self.max_iter, ConvergenceWarning)\n"
     ]
    },
    {
     "name": "stdout",
     "output_type": "stream",
     "text": [
      "MAE: 68.84894404866702\n",
      "'prepareAndTrain'  6031.83 ms\n",
      "Preparing data for 37_14l\n",
      "'dataPreparation'  137046.42 ms\n",
      "training data for ('37', '7340', '2959')\n"
     ]
    },
    {
     "name": "stderr",
     "output_type": "stream",
     "text": [
      "/home/student/anaconda3/lib/python3.6/site-packages/sklearn/neural_network/multilayer_perceptron.py:564: ConvergenceWarning: Stochastic Optimizer: Maximum iterations (200) reached and the optimization hasn't converged yet.\n",
      "  % self.max_iter, ConvergenceWarning)\n"
     ]
    },
    {
     "name": "stdout",
     "output_type": "stream",
     "text": [
      "MAE: 215.460771246402\n",
      "'prepareAndTrain'  648915.15 ms\n",
      "Preparing data for 33_18l\n",
      "'dataPreparation'  2547.91 ms\n",
      "training data for ('33', '292', '3802')\n"
     ]
    },
    {
     "name": "stderr",
     "output_type": "stream",
     "text": [
      "/home/student/anaconda3/lib/python3.6/site-packages/sklearn/neural_network/multilayer_perceptron.py:564: ConvergenceWarning: Stochastic Optimizer: Maximum iterations (200) reached and the optimization hasn't converged yet.\n",
      "  % self.max_iter, ConvergenceWarning)\n"
     ]
    },
    {
     "name": "stdout",
     "output_type": "stream",
     "text": [
      "MAE: 886.0788714213362\n",
      ":(((( Unqualified route:('33', '292', '3802')\n",
      "'prepareAndTrain'  4789.61 ms\n",
      "Preparing data for 15B_59l\n",
      "'dataPreparation'  1558.95 ms\n",
      "Skipping...\n",
      "Preparing data for 26_26l\n",
      "'dataPreparation'  29066.13 ms\n",
      "training data for ('26', '2210', '7387')\n"
     ]
    },
    {
     "name": "stderr",
     "output_type": "stream",
     "text": [
      "/home/student/anaconda3/lib/python3.6/site-packages/sklearn/neural_network/multilayer_perceptron.py:564: ConvergenceWarning: Stochastic Optimizer: Maximum iterations (200) reached and the optimization hasn't converged yet.\n",
      "  % self.max_iter, ConvergenceWarning)\n"
     ]
    },
    {
     "name": "stdout",
     "output_type": "stream",
     "text": [
      "MAE: 149.50020413804918\n",
      "'prepareAndTrain'  136633.23 ms\n",
      "Preparing data for 145_106l\n",
      "'dataPreparation'  6663.36 ms\n",
      "training data for ('145', '7574', '325')\n"
     ]
    },
    {
     "name": "stderr",
     "output_type": "stream",
     "text": [
      "/home/student/anaconda3/lib/python3.6/site-packages/sklearn/neural_network/multilayer_perceptron.py:564: ConvergenceWarning: Stochastic Optimizer: Maximum iterations (200) reached and the optimization hasn't converged yet.\n",
      "  % self.max_iter, ConvergenceWarning)\n"
     ]
    },
    {
     "name": "stdout",
     "output_type": "stream",
     "text": [
      "MAE: 110.05261097689997\n",
      "'prepareAndTrain'  27375.33 ms\n",
      "Preparing data for 239_26l\n",
      "'dataPreparation'  16175.57 ms\n",
      "training data for ('239', '7026', '4795')\n"
     ]
    },
    {
     "name": "stderr",
     "output_type": "stream",
     "text": [
      "/home/student/anaconda3/lib/python3.6/site-packages/sklearn/neural_network/multilayer_perceptron.py:564: ConvergenceWarning: Stochastic Optimizer: Maximum iterations (200) reached and the optimization hasn't converged yet.\n",
      "  % self.max_iter, ConvergenceWarning)\n"
     ]
    },
    {
     "name": "stdout",
     "output_type": "stream",
     "text": [
      "MAE: 170.13883467548328\n",
      "'prepareAndTrain'  64670.27 ms\n",
      "Preparing data for 118_3l\n",
      "'dataPreparation'  1761.57 ms\n",
      "Skipping...\n",
      "Preparing data for 239_28l\n",
      "'dataPreparation'  15984.39 ms\n",
      "training data for ('239', '4795', '7026')\n"
     ]
    },
    {
     "name": "stderr",
     "output_type": "stream",
     "text": [
      "/home/student/anaconda3/lib/python3.6/site-packages/sklearn/neural_network/multilayer_perceptron.py:564: ConvergenceWarning: Stochastic Optimizer: Maximum iterations (200) reached and the optimization hasn't converged yet.\n",
      "  % self.max_iter, ConvergenceWarning)\n"
     ]
    },
    {
     "name": "stdout",
     "output_type": "stream",
     "text": [
      "MAE: 204.94684657846926\n",
      "'prepareAndTrain'  64862.36 ms\n",
      "Preparing data for 63_19l\n",
      "'dataPreparation'  77.18 ms\n",
      "Skipping...\n",
      "Preparing data for 7A_85l\n",
      "'dataPreparation'  33125.86 ms\n",
      "training data for ('7A', '4962', '4982')\n"
     ]
    },
    {
     "name": "stderr",
     "output_type": "stream",
     "text": [
      "/home/student/anaconda3/lib/python3.6/site-packages/sklearn/neural_network/multilayer_perceptron.py:564: ConvergenceWarning: Stochastic Optimizer: Maximum iterations (200) reached and the optimization hasn't converged yet.\n",
      "  % self.max_iter, ConvergenceWarning)\n"
     ]
    },
    {
     "name": "stdout",
     "output_type": "stream",
     "text": [
      "MAE: 257.3386834138636\n",
      "'prepareAndTrain'  194541.11 ms\n",
      "Preparing data for 83_25l\n",
      "'dataPreparation'  11247.76 ms\n",
      "training data for ('83', '2492', '7131')\n"
     ]
    },
    {
     "name": "stderr",
     "output_type": "stream",
     "text": [
      "/home/student/anaconda3/lib/python3.6/site-packages/sklearn/neural_network/multilayer_perceptron.py:564: ConvergenceWarning: Stochastic Optimizer: Maximum iterations (200) reached and the optimization hasn't converged yet.\n",
      "  % self.max_iter, ConvergenceWarning)\n"
     ]
    },
    {
     "name": "stdout",
     "output_type": "stream",
     "text": [
      "MAE: 158.28035199172294\n",
      "'prepareAndTrain'  46018.11 ms\n",
      "Preparing data for 84X_59l\n",
      "'dataPreparation'  795.79 ms\n",
      "Skipping...\n",
      "Preparing data for 7_60l\n",
      "'dataPreparation'  30224.72 ms\n",
      "Skipping...\n",
      "Preparing data for 16C_29l\n",
      "'dataPreparation'  3362.04 ms\n",
      "training data for ('16C', '7347', '270')\n"
     ]
    },
    {
     "name": "stderr",
     "output_type": "stream",
     "text": [
      "/home/student/anaconda3/lib/python3.6/site-packages/sklearn/neural_network/multilayer_perceptron.py:564: ConvergenceWarning: Stochastic Optimizer: Maximum iterations (200) reached and the optimization hasn't converged yet.\n",
      "  % self.max_iter, ConvergenceWarning)\n"
     ]
    },
    {
     "name": "stdout",
     "output_type": "stream",
     "text": [
      "MAE: 75.47342806721808\n",
      "'prepareAndTrain'  12640.76 ms\n",
      "Preparing data for 15B_55l\n",
      "'dataPreparation'  109458.90 ms\n",
      "Skipping...\n",
      "Preparing data for 15B_58l\n",
      "'dataPreparation'  120745.99 ms\n",
      "Skipping...\n",
      "Preparing data for 44_36l\n",
      "'dataPreparation'  47762.69 ms\n",
      "training data for ('44', '4096', '7571')\n"
     ]
    },
    {
     "name": "stderr",
     "output_type": "stream",
     "text": [
      "/home/student/anaconda3/lib/python3.6/site-packages/sklearn/neural_network/multilayer_perceptron.py:564: ConvergenceWarning: Stochastic Optimizer: Maximum iterations (200) reached and the optimization hasn't converged yet.\n",
      "  % self.max_iter, ConvergenceWarning)\n"
     ]
    },
    {
     "name": "stdout",
     "output_type": "stream",
     "text": [
      "MAE: 205.30881012923464\n",
      "'prepareAndTrain'  297710.43 ms\n",
      "Preparing data for 41_21l\n",
      "'dataPreparation'  487.45 ms\n",
      "training data for ('41', '288', '4957')\n"
     ]
    },
    {
     "name": "stderr",
     "output_type": "stream",
     "text": [
      "/home/student/anaconda3/lib/python3.6/site-packages/sklearn/neural_network/multilayer_perceptron.py:564: ConvergenceWarning: Stochastic Optimizer: Maximum iterations (200) reached and the optimization hasn't converged yet.\n",
      "  % self.max_iter, ConvergenceWarning)\n"
     ]
    },
    {
     "name": "stdout",
     "output_type": "stream",
     "text": [
      "MAE: 839.0265953248506\n",
      ":(((( Unqualified route:('41', '288', '4957')\n",
      "'prepareAndTrain'  1557.40 ms\n",
      "Preparing data for 40_30l\n",
      "'dataPreparation'  463.63 ms\n",
      "training data for ('40', '7132', '4715')\n"
     ]
    },
    {
     "name": "stderr",
     "output_type": "stream",
     "text": [
      "/home/student/anaconda3/lib/python3.6/site-packages/sklearn/neural_network/multilayer_perceptron.py:564: ConvergenceWarning: Stochastic Optimizer: Maximum iterations (200) reached and the optimization hasn't converged yet.\n",
      "  % self.max_iter, ConvergenceWarning)\n"
     ]
    },
    {
     "name": "stdout",
     "output_type": "stream",
     "text": [
      "MAE: 1631.1868004713594\n",
      ":(((( Unqualified route:('40', '7132', '4715')\n",
      "'prepareAndTrain'  1237.11 ms\n",
      "Preparing data for 75_7l\n",
      "'dataPreparation'  763.53 ms\n",
      "Skipping...\n",
      "Preparing data for 46A_73l\n",
      "'dataPreparation'  949.10 ms\n",
      "training data for ('46A', '807', '334')\n"
     ]
    },
    {
     "name": "stderr",
     "output_type": "stream",
     "text": [
      "/home/student/anaconda3/lib/python3.6/site-packages/sklearn/neural_network/multilayer_perceptron.py:564: ConvergenceWarning: Stochastic Optimizer: Maximum iterations (200) reached and the optimization hasn't converged yet.\n",
      "  % self.max_iter, ConvergenceWarning)\n"
     ]
    },
    {
     "name": "stdout",
     "output_type": "stream",
     "text": [
      "MAE: 47.094694520988284\n",
      "'prepareAndTrain'  3221.11 ms\n",
      "Preparing data for 7B_93l\n",
      "'dataPreparation'  51.14 ms\n",
      "Skipping...\n",
      "Preparing data for 31B_46l\n",
      "'dataPreparation'  8721.56 ms\n",
      "Skipping...\n",
      "Preparing data for 56A_30l\n",
      "'dataPreparation'  41006.57 ms\n",
      "training data for ('56A', '4344', '354')\n"
     ]
    },
    {
     "name": "stderr",
     "output_type": "stream",
     "text": [
      "/home/student/anaconda3/lib/python3.6/site-packages/sklearn/neural_network/multilayer_perceptron.py:564: ConvergenceWarning: Stochastic Optimizer: Maximum iterations (200) reached and the optimization hasn't converged yet.\n",
      "  % self.max_iter, ConvergenceWarning)\n"
     ]
    },
    {
     "name": "stdout",
     "output_type": "stream",
     "text": [
      "MAE: 125.56869009890839\n",
      "'prepareAndTrain'  230762.43 ms\n",
      "Preparing data for 66_13l\n",
      "'dataPreparation'  88596.69 ms\n",
      "training data for ('66', '3980', '7387')\n"
     ]
    },
    {
     "name": "stderr",
     "output_type": "stream",
     "text": [
      "/home/student/anaconda3/lib/python3.6/site-packages/sklearn/neural_network/multilayer_perceptron.py:564: ConvergenceWarning: Stochastic Optimizer: Maximum iterations (200) reached and the optimization hasn't converged yet.\n",
      "  % self.max_iter, ConvergenceWarning)\n"
     ]
    },
    {
     "name": "stdout",
     "output_type": "stream",
     "text": [
      "MAE: 165.11075932054308\n",
      "'prepareAndTrain'  422732.62 ms\n",
      "Preparing data for 65B_65l\n",
      "'dataPreparation'  77415.26 ms\n",
      "training data for ('65B', '7564', '7459')\n"
     ]
    },
    {
     "name": "stderr",
     "output_type": "stream",
     "text": [
      "/home/student/anaconda3/lib/python3.6/site-packages/sklearn/neural_network/multilayer_perceptron.py:564: ConvergenceWarning: Stochastic Optimizer: Maximum iterations (200) reached and the optimization hasn't converged yet.\n",
      "  % self.max_iter, ConvergenceWarning)\n"
     ]
    },
    {
     "name": "stdout",
     "output_type": "stream",
     "text": [
      "MAE: 200.23415318297208\n",
      "'prepareAndTrain'  517130.39 ms\n",
      "Preparing data for 33_45l\n",
      "'dataPreparation'  1260.57 ms\n",
      "training data for ('33', '292', '3802')\n"
     ]
    },
    {
     "name": "stderr",
     "output_type": "stream",
     "text": [
      "/home/student/anaconda3/lib/python3.6/site-packages/sklearn/neural_network/multilayer_perceptron.py:564: ConvergenceWarning: Stochastic Optimizer: Maximum iterations (200) reached and the optimization hasn't converged yet.\n",
      "  % self.max_iter, ConvergenceWarning)\n"
     ]
    },
    {
     "name": "stdout",
     "output_type": "stream",
     "text": [
      "MAE: 773.5185808226998\n",
      ":(((( Unqualified route:('33', '292', '3802')\n",
      "'prepareAndTrain'  3638.07 ms\n",
      "Preparing data for 38_14l\n",
      "'dataPreparation'  529.48 ms\n",
      "Skipping...\n",
      "Preparing data for 145_86l\n",
      "'dataPreparation'  2330.79 ms\n",
      "training data for ('145', '768', '4320')\n"
     ]
    },
    {
     "name": "stderr",
     "output_type": "stream",
     "text": [
      "/home/student/anaconda3/lib/python3.6/site-packages/sklearn/neural_network/multilayer_perceptron.py:564: ConvergenceWarning: Stochastic Optimizer: Maximum iterations (200) reached and the optimization hasn't converged yet.\n",
      "  % self.max_iter, ConvergenceWarning)\n"
     ]
    },
    {
     "name": "stdout",
     "output_type": "stream",
     "text": [
      "MAE: 190.49084574675604\n",
      "'prepareAndTrain'  3737.18 ms\n",
      "Preparing data for 54A_12l\n",
      "'dataPreparation'  63246.82 ms\n",
      "training data for ('54A', '5161', '342')\n"
     ]
    },
    {
     "name": "stderr",
     "output_type": "stream",
     "text": [
      "/home/student/anaconda3/lib/python3.6/site-packages/sklearn/neural_network/multilayer_perceptron.py:564: ConvergenceWarning: Stochastic Optimizer: Maximum iterations (200) reached and the optimization hasn't converged yet.\n",
      "  % self.max_iter, ConvergenceWarning)\n"
     ]
    },
    {
     "name": "stdout",
     "output_type": "stream",
     "text": [
      "MAE: 140.87169596461464\n",
      "'prepareAndTrain'  342986.70 ms\n",
      "Preparing data for 13_67l\n",
      "'dataPreparation'  767.53 ms\n",
      "Skipping...\n",
      "Preparing data for 41C_79l\n",
      "'dataPreparation'  115315.22 ms\n",
      "training data for ('41C', '4843', '288')\n"
     ]
    },
    {
     "name": "stderr",
     "output_type": "stream",
     "text": [
      "/home/student/anaconda3/lib/python3.6/site-packages/sklearn/neural_network/multilayer_perceptron.py:564: ConvergenceWarning: Stochastic Optimizer: Maximum iterations (200) reached and the optimization hasn't converged yet.\n",
      "  % self.max_iter, ConvergenceWarning)\n"
     ]
    },
    {
     "name": "stdout",
     "output_type": "stream",
     "text": [
      "MAE: 136.8236545668974\n",
      "'prepareAndTrain'  462436.08 ms\n",
      "Preparing data for 63_29l\n",
      "'dataPreparation'  20.68 ms\n",
      "Skipping...\n",
      "Preparing data for 145_93l\n",
      "'dataPreparation'  2797.86 ms\n",
      "training data for ('145', '4533', '4320')\n"
     ]
    },
    {
     "name": "stderr",
     "output_type": "stream",
     "text": [
      "/home/student/anaconda3/lib/python3.6/site-packages/sklearn/neural_network/multilayer_perceptron.py:564: ConvergenceWarning: Stochastic Optimizer: Maximum iterations (200) reached and the optimization hasn't converged yet.\n",
      "  % self.max_iter, ConvergenceWarning)\n"
     ]
    },
    {
     "name": "stdout",
     "output_type": "stream",
     "text": [
      "MAE: 410.88481400097777\n",
      ":(((( Unqualified route:('145', '4533', '4320')\n",
      "'prepareAndTrain'  8017.89 ms\n",
      "Preparing data for 53_17l\n",
      "'dataPreparation'  11379.31 ms\n",
      "training data for ('53', '1184', '2270')\n"
     ]
    },
    {
     "name": "stderr",
     "output_type": "stream",
     "text": [
      "/home/student/anaconda3/lib/python3.6/site-packages/sklearn/neural_network/multilayer_perceptron.py:564: ConvergenceWarning: Stochastic Optimizer: Maximum iterations (200) reached and the optimization hasn't converged yet.\n",
      "  % self.max_iter, ConvergenceWarning)\n"
     ]
    },
    {
     "name": "stdout",
     "output_type": "stream",
     "text": [
      "MAE: 105.10600940527462\n",
      "'prepareAndTrain'  44276.51 ms\n",
      "Preparing data for 1_37l\n",
      "'dataPreparation'  74658.98 ms\n",
      "training data for ('1', '226', '380')\n"
     ]
    },
    {
     "name": "stderr",
     "output_type": "stream",
     "text": [
      "/home/student/anaconda3/lib/python3.6/site-packages/sklearn/neural_network/multilayer_perceptron.py:564: ConvergenceWarning: Stochastic Optimizer: Maximum iterations (200) reached and the optimization hasn't converged yet.\n",
      "  % self.max_iter, ConvergenceWarning)\n"
     ]
    },
    {
     "name": "stdout",
     "output_type": "stream",
     "text": [
      "MAE: 154.8433907020879\n",
      "'prepareAndTrain'  349370.47 ms\n",
      "Preparing data for 25D_277l\n",
      "'dataPreparation'  442.66 ms\n",
      "training data for ('25D', '7391', '6289')\n"
     ]
    },
    {
     "name": "stderr",
     "output_type": "stream",
     "text": [
      "/home/student/anaconda3/lib/python3.6/site-packages/sklearn/neural_network/multilayer_perceptron.py:564: ConvergenceWarning: Stochastic Optimizer: Maximum iterations (200) reached and the optimization hasn't converged yet.\n",
      "  % self.max_iter, ConvergenceWarning)\n"
     ]
    },
    {
     "name": "stdout",
     "output_type": "stream",
     "text": [
      "MAE: 1896.6068288889983\n",
      ":(((( Unqualified route:('25D', '7391', '6289')\n",
      "'prepareAndTrain'  1110.57 ms\n",
      "Preparing data for 68_66l\n",
      "'dataPreparation'  4440.18 ms\n",
      "training data for ('68', '3400', '1473')\n"
     ]
    },
    {
     "name": "stderr",
     "output_type": "stream",
     "text": [
      "/home/student/anaconda3/lib/python3.6/site-packages/sklearn/neural_network/multilayer_perceptron.py:564: ConvergenceWarning: Stochastic Optimizer: Maximum iterations (200) reached and the optimization hasn't converged yet.\n",
      "  % self.max_iter, ConvergenceWarning)\n"
     ]
    },
    {
     "name": "stdout",
     "output_type": "stream",
     "text": [
      "MAE: 59.749148928145324\n",
      "'prepareAndTrain'  16912.34 ms\n",
      "Preparing data for 13_70l\n",
      "'dataPreparation'  18478.81 ms\n",
      "training data for ('13', '7230', '332')\n"
     ]
    },
    {
     "name": "stderr",
     "output_type": "stream",
     "text": [
      "/home/student/anaconda3/lib/python3.6/site-packages/sklearn/neural_network/multilayer_perceptron.py:564: ConvergenceWarning: Stochastic Optimizer: Maximum iterations (200) reached and the optimization hasn't converged yet.\n",
      "  % self.max_iter, ConvergenceWarning)\n"
     ]
    },
    {
     "name": "stdout",
     "output_type": "stream",
     "text": [
      "MAE: 319.30307333358667\n",
      ":(((( Unqualified route:('13', '7230', '332')\n",
      "'prepareAndTrain'  78044.28 ms\n",
      "Preparing data for 184_29l\n",
      "'dataPreparation'  65393.20 ms\n",
      "training data for ('184', '4168', '4656')\n"
     ]
    },
    {
     "name": "stderr",
     "output_type": "stream",
     "text": [
      "/home/student/anaconda3/lib/python3.6/site-packages/sklearn/neural_network/multilayer_perceptron.py:564: ConvergenceWarning: Stochastic Optimizer: Maximum iterations (200) reached and the optimization hasn't converged yet.\n",
      "  % self.max_iter, ConvergenceWarning)\n"
     ]
    },
    {
     "name": "stdout",
     "output_type": "stream",
     "text": [
      "MAE: 121.81572092230263\n",
      "'prepareAndTrain'  270578.37 ms\n",
      "Preparing data for 142_10l\n",
      "'dataPreparation'  7640.09 ms\n",
      "training data for ('142', '3605', '877')\n"
     ]
    },
    {
     "name": "stderr",
     "output_type": "stream",
     "text": [
      "/home/student/anaconda3/lib/python3.6/site-packages/sklearn/neural_network/multilayer_perceptron.py:564: ConvergenceWarning: Stochastic Optimizer: Maximum iterations (200) reached and the optimization hasn't converged yet.\n",
      "  % self.max_iter, ConvergenceWarning)\n"
     ]
    },
    {
     "name": "stdout",
     "output_type": "stream",
     "text": [
      "MAE: 233.4274619463956\n",
      "'prepareAndTrain'  27836.79 ms\n",
      "Preparing data for 44_31l\n",
      "'dataPreparation'  2792.67 ms\n",
      "training data for ('44', '265', '4096')\n"
     ]
    },
    {
     "name": "stderr",
     "output_type": "stream",
     "text": [
      "/home/student/anaconda3/lib/python3.6/site-packages/sklearn/neural_network/multilayer_perceptron.py:564: ConvergenceWarning: Stochastic Optimizer: Maximum iterations (200) reached and the optimization hasn't converged yet.\n",
      "  % self.max_iter, ConvergenceWarning)\n"
     ]
    },
    {
     "name": "stdout",
     "output_type": "stream",
     "text": [
      "MAE: 261.91238611197\n",
      "'prepareAndTrain'  5784.90 ms\n",
      "Preparing data for 185_53l\n",
      "'dataPreparation'  8102.17 ms\n",
      "training data for ('185', '4167', '4108')\n"
     ]
    },
    {
     "name": "stderr",
     "output_type": "stream",
     "text": [
      "/home/student/anaconda3/lib/python3.6/site-packages/sklearn/neural_network/multilayer_perceptron.py:564: ConvergenceWarning: Stochastic Optimizer: Maximum iterations (200) reached and the optimization hasn't converged yet.\n",
      "  % self.max_iter, ConvergenceWarning)\n"
     ]
    },
    {
     "name": "stdout",
     "output_type": "stream",
     "text": [
      "MAE: 109.53029875873482\n",
      "'prepareAndTrain'  30203.51 ms\n",
      "Preparing data for 44_37l\n",
      "'dataPreparation'  49571.41 ms\n",
      "training data for ('44', '7571', '4096')\n"
     ]
    },
    {
     "name": "stderr",
     "output_type": "stream",
     "text": [
      "/home/student/anaconda3/lib/python3.6/site-packages/sklearn/neural_network/multilayer_perceptron.py:564: ConvergenceWarning: Stochastic Optimizer: Maximum iterations (200) reached and the optimization hasn't converged yet.\n",
      "  % self.max_iter, ConvergenceWarning)\n"
     ]
    },
    {
     "name": "stdout",
     "output_type": "stream",
     "text": [
      "MAE: 278.85377357235035\n",
      "'prepareAndTrain'  252730.41 ms\n",
      "Preparing data for 59_8l\n",
      "'dataPreparation'  28755.67 ms\n",
      "Skipping...\n",
      "Preparing data for 15A_82l\n",
      "'dataPreparation'  95386.18 ms\n",
      "Skipping...\n",
      "Preparing data for 75_20l\n",
      "'dataPreparation'  33.31 ms\n",
      "Skipping...\n",
      "Preparing data for 47_135l\n",
      "'dataPreparation'  9923.33 ms\n",
      "Skipping...\n",
      "Preparing data for 17A_18l\n",
      "'dataPreparation'  96.76 ms\n",
      "Skipping...\n",
      "Preparing data for 41_8l\n",
      "'dataPreparation'  114.37 ms\n",
      "Skipping...\n",
      "Preparing data for 142_9l\n",
      "'dataPreparation'  4040.87 ms\n",
      "training data for ('142', '877', '1072')\n"
     ]
    },
    {
     "name": "stderr",
     "output_type": "stream",
     "text": [
      "/home/student/anaconda3/lib/python3.6/site-packages/sklearn/neural_network/multilayer_perceptron.py:564: ConvergenceWarning: Stochastic Optimizer: Maximum iterations (200) reached and the optimization hasn't converged yet.\n",
      "  % self.max_iter, ConvergenceWarning)\n"
     ]
    },
    {
     "name": "stdout",
     "output_type": "stream",
     "text": [
      "MAE: 65.58701576206477\n",
      "'prepareAndTrain'  15293.39 ms\n",
      "Preparing data for 39_23l\n",
      "'dataPreparation'  6647.51 ms\n",
      "training data for ('39', '7158', '313')\n"
     ]
    },
    {
     "name": "stderr",
     "output_type": "stream",
     "text": [
      "/home/student/anaconda3/lib/python3.6/site-packages/sklearn/neural_network/multilayer_perceptron.py:564: ConvergenceWarning: Stochastic Optimizer: Maximum iterations (200) reached and the optimization hasn't converged yet.\n",
      "  % self.max_iter, ConvergenceWarning)\n"
     ]
    },
    {
     "name": "stdout",
     "output_type": "stream",
     "text": [
      "MAE: 98.94318756062427\n",
      "'prepareAndTrain'  26546.50 ms\n",
      "Preparing data for 25X_5l\n",
      "'dataPreparation'  2987.19 ms\n",
      "training data for ('25X', '3890', '4953')\n"
     ]
    },
    {
     "name": "stderr",
     "output_type": "stream",
     "text": [
      "/home/student/anaconda3/lib/python3.6/site-packages/sklearn/neural_network/multilayer_perceptron.py:564: ConvergenceWarning: Stochastic Optimizer: Maximum iterations (200) reached and the optimization hasn't converged yet.\n",
      "  % self.max_iter, ConvergenceWarning)\n"
     ]
    },
    {
     "name": "stdout",
     "output_type": "stream",
     "text": [
      "MAE: 790.5227551385786\n",
      ":(((( Unqualified route:('25X', '3890', '4953')\n",
      "'prepareAndTrain'  3198.68 ms\n",
      "Preparing data for 13_65l\n",
      "'dataPreparation'  20604.90 ms\n",
      "training data for ('13', '6235', '7229')\n"
     ]
    },
    {
     "name": "stderr",
     "output_type": "stream",
     "text": [
      "/home/student/anaconda3/lib/python3.6/site-packages/sklearn/neural_network/multilayer_perceptron.py:564: ConvergenceWarning: Stochastic Optimizer: Maximum iterations (200) reached and the optimization hasn't converged yet.\n",
      "  % self.max_iter, ConvergenceWarning)\n"
     ]
    },
    {
     "name": "stdout",
     "output_type": "stream",
     "text": [
      "MAE: 234.65317610171894\n",
      "'prepareAndTrain'  81156.28 ms\n",
      "Preparing data for 84X_57l\n",
      "'dataPreparation'  6949.31 ms\n",
      "Skipping...\n",
      "Preparing data for 220_12l\n",
      "'dataPreparation'  33475.07 ms\n",
      "training data for ('220', '1828', '4686')\n"
     ]
    },
    {
     "name": "stderr",
     "output_type": "stream",
     "text": [
      "/home/student/anaconda3/lib/python3.6/site-packages/sklearn/neural_network/multilayer_perceptron.py:564: ConvergenceWarning: Stochastic Optimizer: Maximum iterations (200) reached and the optimization hasn't converged yet.\n",
      "  % self.max_iter, ConvergenceWarning)\n"
     ]
    },
    {
     "name": "stdout",
     "output_type": "stream",
     "text": [
      "MAE: 182.2887524018871\n",
      "'prepareAndTrain'  143394.66 ms\n",
      "Preparing data for 83_22l\n",
      "'dataPreparation'  145628.25 ms\n",
      "training data for ('83', '2492', '332')\n"
     ]
    },
    {
     "name": "stderr",
     "output_type": "stream",
     "text": [
      "/home/student/anaconda3/lib/python3.6/site-packages/sklearn/neural_network/multilayer_perceptron.py:564: ConvergenceWarning: Stochastic Optimizer: Maximum iterations (200) reached and the optimization hasn't converged yet.\n",
      "  % self.max_iter, ConvergenceWarning)\n"
     ]
    },
    {
     "name": "stdout",
     "output_type": "stream",
     "text": [
      "MAE: 228.14188594763687\n",
      "'prepareAndTrain'  691270.49 ms\n",
      "Preparing data for 66_11l\n",
      "'dataPreparation'  98616.41 ms\n",
      "training data for ('66', '7391', '5114')\n"
     ]
    },
    {
     "name": "stderr",
     "output_type": "stream",
     "text": [
      "/home/student/anaconda3/lib/python3.6/site-packages/sklearn/neural_network/multilayer_perceptron.py:564: ConvergenceWarning: Stochastic Optimizer: Maximum iterations (200) reached and the optimization hasn't converged yet.\n",
      "  % self.max_iter, ConvergenceWarning)\n"
     ]
    },
    {
     "name": "stdout",
     "output_type": "stream",
     "text": [
      "MAE: 214.31574099852807\n",
      "'prepareAndTrain'  385570.71 ms\n",
      "Preparing data for 25_269l\n",
      "'dataPreparation'  33350.97 ms\n",
      "training data for ('25', '3890', '7390')\n"
     ]
    },
    {
     "name": "stderr",
     "output_type": "stream",
     "text": [
      "/home/student/anaconda3/lib/python3.6/site-packages/sklearn/neural_network/multilayer_perceptron.py:564: ConvergenceWarning: Stochastic Optimizer: Maximum iterations (200) reached and the optimization hasn't converged yet.\n",
      "  % self.max_iter, ConvergenceWarning)\n"
     ]
    },
    {
     "name": "stdout",
     "output_type": "stream",
     "text": [
      "MAE: 140.20901104009522\n",
      "'prepareAndTrain'  125115.97 ms\n",
      "Preparing data for 68_67l\n",
      "'dataPreparation'  10260.49 ms\n",
      "training data for ('68', '4495', '6184')\n"
     ]
    },
    {
     "name": "stderr",
     "output_type": "stream",
     "text": [
      "/home/student/anaconda3/lib/python3.6/site-packages/sklearn/neural_network/multilayer_perceptron.py:564: ConvergenceWarning: Stochastic Optimizer: Maximum iterations (200) reached and the optimization hasn't converged yet.\n",
      "  % self.max_iter, ConvergenceWarning)\n"
     ]
    },
    {
     "name": "stdout",
     "output_type": "stream",
     "text": [
      "MAE: 2312.2284918168693\n",
      ":(((( Unqualified route:('68', '4495', '6184')\n",
      "'prepareAndTrain'  494.31 ms\n",
      "Preparing data for 13_73l\n",
      "'dataPreparation'  78.59 ms\n",
      "Skipping...\n",
      "Preparing data for 15_17l\n",
      "'dataPreparation'  283837.01 ms\n",
      "training data for ('15', '6282', '6317')\n"
     ]
    },
    {
     "name": "stderr",
     "output_type": "stream",
     "text": [
      "/home/student/anaconda3/lib/python3.6/site-packages/sklearn/neural_network/multilayer_perceptron.py:564: ConvergenceWarning: Stochastic Optimizer: Maximum iterations (200) reached and the optimization hasn't converged yet.\n",
      "  % self.max_iter, ConvergenceWarning)\n"
     ]
    },
    {
     "name": "stdout",
     "output_type": "stream",
     "text": [
      "MAE: 225.99288709570538\n",
      "'prepareAndTrain'  1165242.32 ms\n",
      "Preparing data for 84X_58l\n",
      "'dataPreparation'  1102.86 ms\n",
      "training data for ('84X', '760', '4307')\n"
     ]
    },
    {
     "name": "stderr",
     "output_type": "stream",
     "text": [
      "/home/student/anaconda3/lib/python3.6/site-packages/sklearn/neural_network/multilayer_perceptron.py:564: ConvergenceWarning: Stochastic Optimizer: Maximum iterations (200) reached and the optimization hasn't converged yet.\n",
      "  % self.max_iter, ConvergenceWarning)\n"
     ]
    },
    {
     "name": "stdout",
     "output_type": "stream",
     "text": [
      "MAE: 704.9879884398755\n",
      ":(((( Unqualified route:('84X', '760', '4307')\n",
      "'prepareAndTrain'  3651.23 ms\n",
      "Preparing data for 27B_36l\n",
      "'dataPreparation'  6006.70 ms\n",
      "training data for ('27B', '7044', '303')\n"
     ]
    },
    {
     "name": "stderr",
     "output_type": "stream",
     "text": [
      "/home/student/anaconda3/lib/python3.6/site-packages/sklearn/neural_network/multilayer_perceptron.py:564: ConvergenceWarning: Stochastic Optimizer: Maximum iterations (200) reached and the optimization hasn't converged yet.\n",
      "  % self.max_iter, ConvergenceWarning)\n"
     ]
    },
    {
     "name": "stdout",
     "output_type": "stream",
     "text": [
      "MAE: 119.3337062083282\n",
      "'prepareAndTrain'  20536.11 ms\n",
      "Preparing data for 46A_64l\n",
      "'dataPreparation'  2663.34 ms\n",
      "training data for ('46A', '2060', '4962')\n"
     ]
    },
    {
     "name": "stderr",
     "output_type": "stream",
     "text": [
      "/home/student/anaconda3/lib/python3.6/site-packages/sklearn/neural_network/multilayer_perceptron.py:564: ConvergenceWarning: Stochastic Optimizer: Maximum iterations (200) reached and the optimization hasn't converged yet.\n",
      "  % self.max_iter, ConvergenceWarning)\n"
     ]
    },
    {
     "name": "stdout",
     "output_type": "stream",
     "text": [
      "MAE: 193.65712919845723\n",
      "'prepareAndTrain'  7575.48 ms\n",
      "Preparing data for 7_62l\n",
      "'dataPreparation'  34782.85 ms\n",
      "Skipping...\n",
      "Preparing data for 13_74l\n",
      "'dataPreparation'  3277.06 ms\n",
      "training data for ('13', '7230', '332')\n"
     ]
    },
    {
     "name": "stderr",
     "output_type": "stream",
     "text": [
      "/home/student/anaconda3/lib/python3.6/site-packages/sklearn/neural_network/multilayer_perceptron.py:564: ConvergenceWarning: Stochastic Optimizer: Maximum iterations (200) reached and the optimization hasn't converged yet.\n",
      "  % self.max_iter, ConvergenceWarning)\n"
     ]
    },
    {
     "name": "stdout",
     "output_type": "stream",
     "text": [
      "MAE: 232.7715005859269\n",
      "'prepareAndTrain'  12089.83 ms\n",
      "Preparing data for 61_106l\n",
      "'dataPreparation'  39298.35 ms\n",
      "training data for ('61', '302', '2955')\n"
     ]
    },
    {
     "name": "stderr",
     "output_type": "stream",
     "text": [
      "/home/student/anaconda3/lib/python3.6/site-packages/sklearn/neural_network/multilayer_perceptron.py:564: ConvergenceWarning: Stochastic Optimizer: Maximum iterations (200) reached and the optimization hasn't converged yet.\n",
      "  % self.max_iter, ConvergenceWarning)\n"
     ]
    },
    {
     "name": "stdout",
     "output_type": "stream",
     "text": [
      "MAE: 203.44919122393213\n",
      "'prepareAndTrain'  217075.06 ms\n",
      "Preparing data for 63_23l\n",
      "'dataPreparation'  298.98 ms\n",
      "Skipping...\n",
      "Preparing data for 13_69l\n",
      "'dataPreparation'  5860.27 ms\n",
      "training data for ('13', '7230', '6234')\n"
     ]
    },
    {
     "name": "stderr",
     "output_type": "stream",
     "text": [
      "/home/student/anaconda3/lib/python3.6/site-packages/sklearn/neural_network/multilayer_perceptron.py:564: ConvergenceWarning: Stochastic Optimizer: Maximum iterations (200) reached and the optimization hasn't converged yet.\n",
      "  % self.max_iter, ConvergenceWarning)\n"
     ]
    },
    {
     "name": "stdout",
     "output_type": "stream",
     "text": [
      "MAE: 234.06130125442857\n",
      "'prepareAndTrain'  21607.44 ms\n",
      "Preparing data for 9_8l\n",
      "'dataPreparation'  3413.19 ms\n",
      "training data for ('9', '4392', '4')\n"
     ]
    },
    {
     "name": "stderr",
     "output_type": "stream",
     "text": [
      "/home/student/anaconda3/lib/python3.6/site-packages/sklearn/neural_network/multilayer_perceptron.py:564: ConvergenceWarning: Stochastic Optimizer: Maximum iterations (200) reached and the optimization hasn't converged yet.\n",
      "  % self.max_iter, ConvergenceWarning)\n"
     ]
    },
    {
     "name": "stdout",
     "output_type": "stream",
     "text": [
      "MAE: 80.1047890001711\n",
      "'prepareAndTrain'  12931.59 ms\n",
      "Preparing data for 220_14l\n",
      "'dataPreparation'  70.98 ms\n",
      "Skipping...\n",
      "Preparing data for 145_89l\n",
      "'dataPreparation'  716.75 ms\n",
      "training data for ('145', '2060', '4320')\n"
     ]
    },
    {
     "name": "stderr",
     "output_type": "stream",
     "text": [
      "/home/student/anaconda3/lib/python3.6/site-packages/sklearn/neural_network/multilayer_perceptron.py:564: ConvergenceWarning: Stochastic Optimizer: Maximum iterations (200) reached and the optimization hasn't converged yet.\n",
      "  % self.max_iter, ConvergenceWarning)\n"
     ]
    },
    {
     "name": "stdout",
     "output_type": "stream",
     "text": [
      "MAE: 1188.3240974370676\n",
      ":(((( Unqualified route:('145', '2060', '4320')\n",
      "'prepareAndTrain'  817.69 ms\n",
      "Preparing data for 17_13l\n",
      "'dataPreparation'  4436.89 ms\n",
      "training data for ('17', '1380', '765')\n"
     ]
    },
    {
     "name": "stderr",
     "output_type": "stream",
     "text": [
      "/home/student/anaconda3/lib/python3.6/site-packages/sklearn/neural_network/multilayer_perceptron.py:564: ConvergenceWarning: Stochastic Optimizer: Maximum iterations (200) reached and the optimization hasn't converged yet.\n",
      "  % self.max_iter, ConvergenceWarning)\n"
     ]
    },
    {
     "name": "stdout",
     "output_type": "stream",
     "text": [
      "MAE: 130.04801889789687\n",
      "'prepareAndTrain'  16804.05 ms\n",
      "Preparing data for 66X_95l\n",
      "'dataPreparation'  1193.56 ms\n",
      "training data for ('66X', '4952', '3994')\n"
     ]
    },
    {
     "name": "stderr",
     "output_type": "stream",
     "text": [
      "/home/student/anaconda3/lib/python3.6/site-packages/sklearn/neural_network/multilayer_perceptron.py:564: ConvergenceWarning: Stochastic Optimizer: Maximum iterations (200) reached and the optimization hasn't converged yet.\n",
      "  % self.max_iter, ConvergenceWarning)\n"
     ]
    },
    {
     "name": "stdout",
     "output_type": "stream",
     "text": [
      "MAE: 967.5109089958107\n",
      ":(((( Unqualified route:('66X', '4952', '3994')\n",
      "'prepareAndTrain'  3013.98 ms\n",
      "Preparing data for 33A_27l\n",
      "'dataPreparation'  753.23 ms\n",
      "training data for ('33A', '6048', '7592')\n"
     ]
    },
    {
     "name": "stderr",
     "output_type": "stream",
     "text": [
      "/home/student/anaconda3/lib/python3.6/site-packages/sklearn/neural_network/multilayer_perceptron.py:564: ConvergenceWarning: Stochastic Optimizer: Maximum iterations (200) reached and the optimization hasn't converged yet.\n",
      "  % self.max_iter, ConvergenceWarning)\n"
     ]
    },
    {
     "name": "stdout",
     "output_type": "stream",
     "text": [
      "MAE: 38.343648087914346\n",
      "'prepareAndTrain'  1369.94 ms\n",
      "Preparing data for 185_50l\n",
      "'dataPreparation'  55.27 ms\n",
      "Skipping...\n",
      "Preparing data for 38A_20l\n",
      "'dataPreparation'  55885.15 ms\n",
      "training data for ('38A', '7333', '4745')\n"
     ]
    },
    {
     "name": "stderr",
     "output_type": "stream",
     "text": [
      "/home/student/anaconda3/lib/python3.6/site-packages/sklearn/neural_network/multilayer_perceptron.py:564: ConvergenceWarning: Stochastic Optimizer: Maximum iterations (200) reached and the optimization hasn't converged yet.\n",
      "  % self.max_iter, ConvergenceWarning)\n"
     ]
    },
    {
     "name": "stdout",
     "output_type": "stream",
     "text": [
      "MAE: 252.4845520519853\n",
      "'prepareAndTrain'  296596.81 ms\n",
      "Preparing data for 44_40l\n",
      "'dataPreparation'  27.30 ms\n",
      "Skipping...\n",
      "Preparing data for 27A_5l\n",
      "'dataPreparation'  59300.91 ms\n",
      "training data for ('27A', '1791', '7568')\n"
     ]
    },
    {
     "name": "stderr",
     "output_type": "stream",
     "text": [
      "/home/student/anaconda3/lib/python3.6/site-packages/sklearn/neural_network/multilayer_perceptron.py:564: ConvergenceWarning: Stochastic Optimizer: Maximum iterations (200) reached and the optimization hasn't converged yet.\n",
      "  % self.max_iter, ConvergenceWarning)\n"
     ]
    },
    {
     "name": "stdout",
     "output_type": "stream",
     "text": [
      "MAE: 87.7462473520427\n",
      "'prepareAndTrain'  312303.77 ms\n",
      "Preparing data for 83A_26l\n",
      "'dataPreparation'  6011.78 ms\n",
      "training data for ('83A', '2492', '7131')\n"
     ]
    },
    {
     "name": "stderr",
     "output_type": "stream",
     "text": [
      "/home/student/anaconda3/lib/python3.6/site-packages/sklearn/neural_network/multilayer_perceptron.py:564: ConvergenceWarning: Stochastic Optimizer: Maximum iterations (200) reached and the optimization hasn't converged yet.\n",
      "  % self.max_iter, ConvergenceWarning)\n"
     ]
    },
    {
     "name": "stdout",
     "output_type": "stream",
     "text": [
      "MAE: 163.67812507381458\n",
      "'prepareAndTrain'  24268.11 ms\n",
      "Preparing data for 25B_274l\n",
      "'dataPreparation'  75028.15 ms\n",
      "training data for ('25B', '7391', '6289')\n"
     ]
    },
    {
     "name": "stderr",
     "output_type": "stream",
     "text": [
      "/home/student/anaconda3/lib/python3.6/site-packages/sklearn/neural_network/multilayer_perceptron.py:564: ConvergenceWarning: Stochastic Optimizer: Maximum iterations (200) reached and the optimization hasn't converged yet.\n",
      "  % self.max_iter, ConvergenceWarning)\n"
     ]
    },
    {
     "name": "stdout",
     "output_type": "stream",
     "text": [
      "MAE: 193.90821686091698\n",
      "'prepareAndTrain'  367489.92 ms\n",
      "Preparing data for 40_20l\n",
      "'dataPreparation'  955.93 ms\n",
      "Skipping...\n",
      "Preparing data for 9_6l\n",
      "'dataPreparation'  1842.68 ms\n",
      "training data for ('9', '7132', '277')\n"
     ]
    },
    {
     "name": "stderr",
     "output_type": "stream",
     "text": [
      "/home/student/anaconda3/lib/python3.6/site-packages/sklearn/neural_network/multilayer_perceptron.py:564: ConvergenceWarning: Stochastic Optimizer: Maximum iterations (200) reached and the optimization hasn't converged yet.\n",
      "  % self.max_iter, ConvergenceWarning)\n"
     ]
    },
    {
     "name": "stdout",
     "output_type": "stream",
     "text": [
      "MAE: 56.351786690892595\n",
      "'prepareAndTrain'  6826.26 ms\n",
      "Preparing data for 13_62l\n",
      "'dataPreparation'  5150.47 ms\n",
      "training data for ('13', '6235', '7230')\n"
     ]
    },
    {
     "name": "stderr",
     "output_type": "stream",
     "text": [
      "/home/student/anaconda3/lib/python3.6/site-packages/sklearn/neural_network/multilayer_perceptron.py:564: ConvergenceWarning: Stochastic Optimizer: Maximum iterations (200) reached and the optimization hasn't converged yet.\n",
      "  % self.max_iter, ConvergenceWarning)\n"
     ]
    },
    {
     "name": "stdout",
     "output_type": "stream",
     "text": [
      "MAE: 339.6837026885533\n",
      ":(((( Unqualified route:('13', '6235', '7230')\n",
      "'prepareAndTrain'  18492.06 ms\n",
      "Preparing data for 151_19l\n",
      "'dataPreparation'  2295.08 ms\n",
      "training data for ('151', '4606', '297')\n"
     ]
    },
    {
     "name": "stderr",
     "output_type": "stream",
     "text": [
      "/home/student/anaconda3/lib/python3.6/site-packages/sklearn/neural_network/multilayer_perceptron.py:564: ConvergenceWarning: Stochastic Optimizer: Maximum iterations (200) reached and the optimization hasn't converged yet.\n",
      "  % self.max_iter, ConvergenceWarning)\n"
     ]
    },
    {
     "name": "stdout",
     "output_type": "stream",
     "text": [
      "MAE: 82.47058268519841\n",
      "'prepareAndTrain'  8525.49 ms\n",
      "Preparing data for 46A_70l\n",
      "'dataPreparation'  2563.61 ms\n",
      "training data for ('46A', '334', '2039')\n"
     ]
    },
    {
     "name": "stderr",
     "output_type": "stream",
     "text": [
      "/home/student/anaconda3/lib/python3.6/site-packages/sklearn/neural_network/multilayer_perceptron.py:564: ConvergenceWarning: Stochastic Optimizer: Maximum iterations (200) reached and the optimization hasn't converged yet.\n",
      "  % self.max_iter, ConvergenceWarning)\n"
     ]
    },
    {
     "name": "stdout",
     "output_type": "stream",
     "text": [
      "MAE: 234.66293327240328\n",
      "'prepareAndTrain'  7654.67 ms\n",
      "Preparing data for 11_41l\n",
      "'dataPreparation'  1266.66 ms\n",
      "training data for ('11', '6122', '271')\n"
     ]
    },
    {
     "name": "stderr",
     "output_type": "stream",
     "text": [
      "/home/student/anaconda3/lib/python3.6/site-packages/sklearn/neural_network/multilayer_perceptron.py:564: ConvergenceWarning: Stochastic Optimizer: Maximum iterations (200) reached and the optimization hasn't converged yet.\n",
      "  % self.max_iter, ConvergenceWarning)\n"
     ]
    },
    {
     "name": "stdout",
     "output_type": "stream",
     "text": [
      "MAE: 53.39111792790446\n",
      "'prepareAndTrain'  4380.66 ms\n",
      "Preparing data for 185_54l\n",
      "'dataPreparation'  52.08 ms\n",
      "Skipping...\n",
      "Preparing data for 17A_13l\n",
      "'dataPreparation'  218.12 ms\n",
      "Skipping...\n",
      "Preparing data for 7_53l\n",
      "'dataPreparation'  62519.18 ms\n",
      "Skipping...\n",
      "Preparing data for 14_15l\n",
      "'dataPreparation'  204839.72 ms\n",
      "training data for ('14', '248', '6044')\n"
     ]
    },
    {
     "name": "stderr",
     "output_type": "stream",
     "text": [
      "/home/student/anaconda3/lib/python3.6/site-packages/sklearn/neural_network/multilayer_perceptron.py:564: ConvergenceWarning: Stochastic Optimizer: Maximum iterations (200) reached and the optimization hasn't converged yet.\n",
      "  % self.max_iter, ConvergenceWarning)\n"
     ]
    },
    {
     "name": "stdout",
     "output_type": "stream",
     "text": [
      "MAE: 217.37116259509062\n",
      "'prepareAndTrain'  1025929.82 ms\n",
      "Preparing data for 39_21l\n",
      "'dataPreparation'  149741.78 ms\n",
      "training data for ('39', '7158', '7339')\n"
     ]
    },
    {
     "name": "stderr",
     "output_type": "stream",
     "text": [
      "/home/student/anaconda3/lib/python3.6/site-packages/sklearn/neural_network/multilayer_perceptron.py:564: ConvergenceWarning: Stochastic Optimizer: Maximum iterations (200) reached and the optimization hasn't converged yet.\n",
      "  % self.max_iter, ConvergenceWarning)\n"
     ]
    },
    {
     "name": "stdout",
     "output_type": "stream",
     "text": [
      "MAE: 170.50188709562943\n",
      "'prepareAndTrain'  591540.74 ms\n",
      "Preparing data for 38B_40l\n",
      "'dataPreparation'  9850.58 ms\n",
      "training data for ('38B', '7333', '4745')\n"
     ]
    },
    {
     "name": "stderr",
     "output_type": "stream",
     "text": [
      "/home/student/anaconda3/lib/python3.6/site-packages/sklearn/neural_network/multilayer_perceptron.py:564: ConvergenceWarning: Stochastic Optimizer: Maximum iterations (200) reached and the optimization hasn't converged yet.\n",
      "  % self.max_iter, ConvergenceWarning)\n"
     ]
    },
    {
     "name": "stdout",
     "output_type": "stream",
     "text": [
      "MAE: 158.87366759048135\n",
      "'prepareAndTrain'  33383.32 ms\n",
      "Preparing data for 41C_78l\n",
      "'dataPreparation'  130616.29 ms\n",
      "training data for ('41C', '288', '4957')\n"
     ]
    },
    {
     "name": "stderr",
     "output_type": "stream",
     "text": [
      "/home/student/anaconda3/lib/python3.6/site-packages/sklearn/neural_network/multilayer_perceptron.py:564: ConvergenceWarning: Stochastic Optimizer: Maximum iterations (200) reached and the optimization hasn't converged yet.\n",
      "  % self.max_iter, ConvergenceWarning)\n"
     ]
    },
    {
     "name": "stdout",
     "output_type": "stream",
     "text": [
      "MAE: 182.39524514358666\n",
      "'prepareAndTrain'  724184.74 ms\n",
      "Preparing data for 8_129l\n",
      "'dataPreparation'  1231.22 ms\n",
      "Skipping...\n",
      "Preparing data for 40D_103l\n",
      "'dataPreparation'  365.62 ms\n",
      "Skipping...\n",
      "Preparing data for 33_44l\n",
      "'dataPreparation'  1712.65 ms\n",
      "training data for ('33', '292', '7174')\n"
     ]
    },
    {
     "name": "stderr",
     "output_type": "stream",
     "text": [
      "/home/student/anaconda3/lib/python3.6/site-packages/sklearn/neural_network/multilayer_perceptron.py:564: ConvergenceWarning: Stochastic Optimizer: Maximum iterations (200) reached and the optimization hasn't converged yet.\n",
      "  % self.max_iter, ConvergenceWarning)\n"
     ]
    },
    {
     "name": "stdout",
     "output_type": "stream",
     "text": [
      "MAE: 581.3013402877826\n",
      ":(((( Unqualified route:('33', '292', '7174')\n",
      "'prepareAndTrain'  5468.83 ms\n",
      "Preparing data for 7D_120l\n",
      "'dataPreparation'  943.38 ms\n",
      "training data for ('7D', '4962', '3057')\n"
     ]
    },
    {
     "name": "stderr",
     "output_type": "stream",
     "text": [
      "/home/student/anaconda3/lib/python3.6/site-packages/sklearn/neural_network/multilayer_perceptron.py:564: ConvergenceWarning: Stochastic Optimizer: Maximum iterations (200) reached and the optimization hasn't converged yet.\n",
      "  % self.max_iter, ConvergenceWarning)\n"
     ]
    },
    {
     "name": "stdout",
     "output_type": "stream",
     "text": [
      "MAE: 1255.8278150178683\n",
      ":(((( Unqualified route:('7D', '4962', '3057')\n",
      "'prepareAndTrain'  2853.92 ms\n",
      "Preparing data for 13_76l\n",
      "'dataPreparation'  40.26 ms\n",
      "Skipping...\n",
      "Preparing data for 75_18l\n",
      "'dataPreparation'  26.59 ms\n",
      "Skipping...\n",
      "Preparing data for 68_68l\n",
      "'dataPreparation'  6534.75 ms\n",
      "Skipping...\n",
      "Preparing data for 27X_43l\n",
      "'dataPreparation'  3493.93 ms\n",
      "training data for ('27X', '4952', '4594')\n"
     ]
    },
    {
     "name": "stderr",
     "output_type": "stream",
     "text": [
      "/home/student/anaconda3/lib/python3.6/site-packages/sklearn/neural_network/multilayer_perceptron.py:564: ConvergenceWarning: Stochastic Optimizer: Maximum iterations (200) reached and the optimization hasn't converged yet.\n",
      "  % self.max_iter, ConvergenceWarning)\n"
     ]
    },
    {
     "name": "stdout",
     "output_type": "stream",
     "text": [
      "MAE: 285.12094008431524\n",
      "'prepareAndTrain'  12055.28 ms\n",
      "Preparing data for 27B_23l\n",
      "'dataPreparation'  93765.36 ms\n",
      "training data for ('27B', '300', '332')\n"
     ]
    },
    {
     "name": "stderr",
     "output_type": "stream",
     "text": [
      "/home/student/anaconda3/lib/python3.6/site-packages/sklearn/neural_network/multilayer_perceptron.py:564: ConvergenceWarning: Stochastic Optimizer: Maximum iterations (200) reached and the optimization hasn't converged yet.\n",
      "  % self.max_iter, ConvergenceWarning)\n"
     ]
    },
    {
     "name": "stdout",
     "output_type": "stream",
     "text": [
      "MAE: 126.58298150996305\n",
      "'prepareAndTrain'  268254.17 ms\n",
      "Preparing data for 33B_58l\n",
      "'dataPreparation'  233.14 ms\n",
      "Skipping...\n",
      "Preparing data for 44_30l\n",
      "'dataPreparation'  17404.23 ms\n",
      "Skipping...\n",
      "Preparing data for 54A_11l\n",
      "'dataPreparation'  63442.10 ms\n",
      "training data for ('54A', '342', '5024')\n"
     ]
    },
    {
     "name": "stderr",
     "output_type": "stream",
     "text": [
      "/home/student/anaconda3/lib/python3.6/site-packages/sklearn/neural_network/multilayer_perceptron.py:564: ConvergenceWarning: Stochastic Optimizer: Maximum iterations (200) reached and the optimization hasn't converged yet.\n",
      "  % self.max_iter, ConvergenceWarning)\n"
     ]
    },
    {
     "name": "stdout",
     "output_type": "stream",
     "text": [
      "MAE: 158.4094465132774\n",
      "'prepareAndTrain'  343894.98 ms\n",
      "Preparing data for 42_44l\n",
      "'dataPreparation'  112838.42 ms\n",
      "training data for ('42', '3605', '1184')\n"
     ]
    },
    {
     "name": "stderr",
     "output_type": "stream",
     "text": [
      "/home/student/anaconda3/lib/python3.6/site-packages/sklearn/neural_network/multilayer_perceptron.py:564: ConvergenceWarning: Stochastic Optimizer: Maximum iterations (200) reached and the optimization hasn't converged yet.\n",
      "  % self.max_iter, ConvergenceWarning)\n"
     ]
    },
    {
     "name": "stdout",
     "output_type": "stream",
     "text": [
      "MAE: 135.93171855159937\n",
      "'prepareAndTrain'  561108.15 ms\n",
      "Preparing data for 68X_77l\n",
      "'dataPreparation'  1076.44 ms\n",
      "Skipping...\n",
      "Preparing data for 38B_44l\n",
      "'dataPreparation'  11768.44 ms\n",
      "training data for ('38B', '4745', '7339')\n"
     ]
    },
    {
     "name": "stderr",
     "output_type": "stream",
     "text": [
      "/home/student/anaconda3/lib/python3.6/site-packages/sklearn/neural_network/multilayer_perceptron.py:564: ConvergenceWarning: Stochastic Optimizer: Maximum iterations (200) reached and the optimization hasn't converged yet.\n",
      "  % self.max_iter, ConvergenceWarning)\n"
     ]
    },
    {
     "name": "stdout",
     "output_type": "stream",
     "text": [
      "MAE: 205.6394965824713\n",
      "'prepareAndTrain'  48630.14 ms\n",
      "Preparing data for 145_102l\n",
      "'dataPreparation'  308648.59 ms\n",
      "training data for ('145', '4320', '7574')\n"
     ]
    },
    {
     "name": "stderr",
     "output_type": "stream",
     "text": [
      "/home/student/anaconda3/lib/python3.6/site-packages/sklearn/neural_network/multilayer_perceptron.py:564: ConvergenceWarning: Stochastic Optimizer: Maximum iterations (200) reached and the optimization hasn't converged yet.\n",
      "  % self.max_iter, ConvergenceWarning)\n"
     ]
    },
    {
     "name": "stdout",
     "output_type": "stream",
     "text": [
      "MAE: 248.9617731267733\n",
      "'prepareAndTrain'  2714246.95 ms\n",
      "Preparing data for 29A_15l\n",
      "'dataPreparation'  114171.20 ms\n",
      "training data for ('29A', '950', '291')\n"
     ]
    },
    {
     "name": "stderr",
     "output_type": "stream",
     "text": [
      "/home/student/anaconda3/lib/python3.6/site-packages/sklearn/neural_network/multilayer_perceptron.py:564: ConvergenceWarning: Stochastic Optimizer: Maximum iterations (200) reached and the optimization hasn't converged yet.\n",
      "  % self.max_iter, ConvergenceWarning)\n"
     ]
    },
    {
     "name": "stdout",
     "output_type": "stream",
     "text": [
      "MAE: 128.27132547025784\n",
      "'prepareAndTrain'  473397.08 ms\n",
      "Preparing data for 40_33l\n",
      "'dataPreparation'  504.28 ms\n",
      "training data for ('40', '279', '6348')\n"
     ]
    },
    {
     "name": "stderr",
     "output_type": "stream",
     "text": [
      "/home/student/anaconda3/lib/python3.6/site-packages/sklearn/neural_network/multilayer_perceptron.py:564: ConvergenceWarning: Stochastic Optimizer: Maximum iterations (200) reached and the optimization hasn't converged yet.\n",
      "  % self.max_iter, ConvergenceWarning)\n"
     ]
    },
    {
     "name": "stdout",
     "output_type": "stream",
     "text": [
      "MAE: 433.62708335981813\n",
      ":(((( Unqualified route:('40', '279', '6348')\n",
      "'prepareAndTrain'  1599.73 ms\n",
      "Preparing data for 7D_121l\n",
      "'dataPreparation'  931.50 ms\n",
      "training data for ('7D', '3057', '4962')\n"
     ]
    },
    {
     "name": "stderr",
     "output_type": "stream",
     "text": [
      "/home/student/anaconda3/lib/python3.6/site-packages/sklearn/neural_network/multilayer_perceptron.py:564: ConvergenceWarning: Stochastic Optimizer: Maximum iterations (200) reached and the optimization hasn't converged yet.\n",
      "  % self.max_iter, ConvergenceWarning)\n"
     ]
    },
    {
     "name": "stdout",
     "output_type": "stream",
     "text": [
      "MAE: 3157.9562920943763\n",
      ":(((( Unqualified route:('7D', '3057', '4962')\n",
      "'prepareAndTrain'  512.37 ms\n",
      "Preparing data for 17_19l\n",
      "'dataPreparation'  1609.89 ms\n",
      "training data for ('17', '2437', '3085')\n"
     ]
    },
    {
     "name": "stderr",
     "output_type": "stream",
     "text": [
      "/home/student/anaconda3/lib/python3.6/site-packages/sklearn/neural_network/multilayer_perceptron.py:564: ConvergenceWarning: Stochastic Optimizer: Maximum iterations (200) reached and the optimization hasn't converged yet.\n",
      "  % self.max_iter, ConvergenceWarning)\n"
     ]
    },
    {
     "name": "stdout",
     "output_type": "stream",
     "text": [
      "MAE: 1789.3838185828097\n",
      ":(((( Unqualified route:('17', '2437', '3085')\n",
      "'prepareAndTrain'  574.54 ms\n",
      "Preparing data for 40_27l\n",
      "'dataPreparation'  73738.66 ms\n",
      "training data for ('40', '7132', '4715')\n"
     ]
    },
    {
     "name": "stderr",
     "output_type": "stream",
     "text": [
      "/home/student/anaconda3/lib/python3.6/site-packages/sklearn/neural_network/multilayer_perceptron.py:564: ConvergenceWarning: Stochastic Optimizer: Maximum iterations (200) reached and the optimization hasn't converged yet.\n",
      "  % self.max_iter, ConvergenceWarning)\n"
     ]
    },
    {
     "name": "stdout",
     "output_type": "stream",
     "text": [
      "MAE: 282.44612636362723\n",
      "'prepareAndTrain'  299071.70 ms\n",
      "Preparing data for 49_28l\n",
      "'dataPreparation'  81199.85 ms\n",
      "training data for ('49', '4342', '342')\n"
     ]
    },
    {
     "name": "stderr",
     "output_type": "stream",
     "text": [
      "/home/student/anaconda3/lib/python3.6/site-packages/sklearn/neural_network/multilayer_perceptron.py:564: ConvergenceWarning: Stochastic Optimizer: Maximum iterations (200) reached and the optimization hasn't converged yet.\n",
      "  % self.max_iter, ConvergenceWarning)\n"
     ]
    },
    {
     "name": "stdout",
     "output_type": "stream",
     "text": [
      "MAE: 166.03618193713\n",
      "'prepareAndTrain'  473550.29 ms\n",
      "Preparing data for 83_27l\n",
      "'dataPreparation'  1692.05 ms\n",
      "training data for ('83', '319', '332')\n"
     ]
    },
    {
     "name": "stderr",
     "output_type": "stream",
     "text": [
      "/home/student/anaconda3/lib/python3.6/site-packages/sklearn/neural_network/multilayer_perceptron.py:564: ConvergenceWarning: Stochastic Optimizer: Maximum iterations (200) reached and the optimization hasn't converged yet.\n",
      "  % self.max_iter, ConvergenceWarning)\n"
     ]
    },
    {
     "name": "stdout",
     "output_type": "stream",
     "text": [
      "MAE: 125.58784430434918\n",
      "'prepareAndTrain'  5787.83 ms\n",
      "Preparing data for 140_19l\n",
      "'dataPreparation'  119434.43 ms\n",
      "training data for ('140', '7149', '895')\n"
     ]
    },
    {
     "name": "stderr",
     "output_type": "stream",
     "text": [
      "/home/student/anaconda3/lib/python3.6/site-packages/sklearn/neural_network/multilayer_perceptron.py:564: ConvergenceWarning: Stochastic Optimizer: Maximum iterations (200) reached and the optimization hasn't converged yet.\n",
      "  % self.max_iter, ConvergenceWarning)\n"
     ]
    },
    {
     "name": "stdout",
     "output_type": "stream",
     "text": [
      "MAE: 166.463587119155\n",
      "'prepareAndTrain'  652575.50 ms\n",
      "Preparing data for 41_3l\n",
      "'dataPreparation'  123233.56 ms\n",
      "training data for ('41', '288', '4957')\n"
     ]
    },
    {
     "name": "stderr",
     "output_type": "stream",
     "text": [
      "/home/student/anaconda3/lib/python3.6/site-packages/sklearn/neural_network/multilayer_perceptron.py:564: ConvergenceWarning: Stochastic Optimizer: Maximum iterations (200) reached and the optimization hasn't converged yet.\n",
      "  % self.max_iter, ConvergenceWarning)\n"
     ]
    },
    {
     "name": "stdout",
     "output_type": "stream",
     "text": [
      "MAE: 172.68863656244918\n",
      "'prepareAndTrain'  730416.20 ms\n",
      "Preparing data for 185_51l\n",
      "'dataPreparation'  83.85 ms\n",
      "Skipping...\n",
      "Preparing data for 41X_116l\n",
      "'dataPreparation'  3045.45 ms\n",
      "training data for ('41X', '4953', '4957')\n"
     ]
    },
    {
     "name": "stderr",
     "output_type": "stream",
     "text": [
      "/home/student/anaconda3/lib/python3.6/site-packages/sklearn/neural_network/multilayer_perceptron.py:564: ConvergenceWarning: Stochastic Optimizer: Maximum iterations (200) reached and the optimization hasn't converged yet.\n",
      "  % self.max_iter, ConvergenceWarning)\n"
     ]
    },
    {
     "name": "stdout",
     "output_type": "stream",
     "text": [
      "MAE: 589.4867046345831\n",
      ":(((( Unqualified route:('41X', '4953', '4957')\n",
      "'prepareAndTrain'  7022.88 ms\n",
      "Preparing data for 14C_17l\n",
      "'dataPreparation'  1806.77 ms\n",
      "training data for ('14C', '248', '336')\n"
     ]
    },
    {
     "name": "stderr",
     "output_type": "stream",
     "text": [
      "/home/student/anaconda3/lib/python3.6/site-packages/sklearn/neural_network/multilayer_perceptron.py:564: ConvergenceWarning: Stochastic Optimizer: Maximum iterations (200) reached and the optimization hasn't converged yet.\n",
      "  % self.max_iter, ConvergenceWarning)\n"
     ]
    },
    {
     "name": "stdout",
     "output_type": "stream",
     "text": [
      "MAE: 53.82172939203194\n",
      "'prepareAndTrain'  6579.52 ms\n",
      "Preparing data for 51D_47l\n",
      "'dataPreparation'  5686.20 ms\n",
      "training data for ('51D', '4664', '755')\n"
     ]
    },
    {
     "name": "stderr",
     "output_type": "stream",
     "text": [
      "/home/student/anaconda3/lib/python3.6/site-packages/sklearn/neural_network/multilayer_perceptron.py:564: ConvergenceWarning: Stochastic Optimizer: Maximum iterations (200) reached and the optimization hasn't converged yet.\n",
      "  % self.max_iter, ConvergenceWarning)\n"
     ]
    },
    {
     "name": "stdout",
     "output_type": "stream",
     "text": [
      "MAE: 144.88794389980575\n",
      "'prepareAndTrain'  20085.66 ms\n",
      "Preparing data for 123_35l\n",
      "'dataPreparation'  1694.81 ms\n",
      "training data for ('123', '6057', '274')\n"
     ]
    },
    {
     "name": "stderr",
     "output_type": "stream",
     "text": [
      "/home/student/anaconda3/lib/python3.6/site-packages/sklearn/neural_network/multilayer_perceptron.py:564: ConvergenceWarning: Stochastic Optimizer: Maximum iterations (200) reached and the optimization hasn't converged yet.\n",
      "  % self.max_iter, ConvergenceWarning)\n"
     ]
    },
    {
     "name": "stdout",
     "output_type": "stream",
     "text": [
      "MAE: 66.03254316794676\n",
      "'prepareAndTrain'  6168.33 ms\n",
      "Preparing data for 65_73l\n",
      "'dataPreparation'  6742.09 ms\n",
      "training data for ('65', '7564', '7270')\n"
     ]
    },
    {
     "name": "stderr",
     "output_type": "stream",
     "text": [
      "/home/student/anaconda3/lib/python3.6/site-packages/sklearn/neural_network/multilayer_perceptron.py:564: ConvergenceWarning: Stochastic Optimizer: Maximum iterations (200) reached and the optimization hasn't converged yet.\n",
      "  % self.max_iter, ConvergenceWarning)\n"
     ]
    },
    {
     "name": "stdout",
     "output_type": "stream",
     "text": [
      "MAE: 209.3393503765868\n",
      "'prepareAndTrain'  26027.50 ms\n",
      "Preparing data for 41_4l\n",
      "'dataPreparation'  50.17 ms\n",
      "Skipping...\n",
      "Preparing data for 31A_26l\n",
      "'dataPreparation'  33110.62 ms\n",
      "Skipping...\n",
      "Preparing data for 63_28l\n",
      "'dataPreparation'  54.79 ms\n",
      "Skipping...\n",
      "Preparing data for 33X_48l\n",
      "'dataPreparation'  2345.58 ms\n",
      "training data for ('33X', '407', '3802')\n"
     ]
    },
    {
     "name": "stderr",
     "output_type": "stream",
     "text": [
      "/home/student/anaconda3/lib/python3.6/site-packages/sklearn/neural_network/multilayer_perceptron.py:564: ConvergenceWarning: Stochastic Optimizer: Maximum iterations (200) reached and the optimization hasn't converged yet.\n",
      "  % self.max_iter, ConvergenceWarning)\n"
     ]
    },
    {
     "name": "stdout",
     "output_type": "stream",
     "text": [
      "MAE: 327.8822735301469\n",
      ":(((( Unqualified route:('33X', '407', '3802')\n",
      "'prepareAndTrain'  8657.17 ms\n",
      "Preparing data for 61_109l\n",
      "'dataPreparation'  6563.48 ms\n",
      "training data for ('61', '2934', '303')\n"
     ]
    },
    {
     "name": "stderr",
     "output_type": "stream",
     "text": [
      "/home/student/anaconda3/lib/python3.6/site-packages/sklearn/neural_network/multilayer_perceptron.py:564: ConvergenceWarning: Stochastic Optimizer: Maximum iterations (200) reached and the optimization hasn't converged yet.\n",
      "  % self.max_iter, ConvergenceWarning)\n"
     ]
    },
    {
     "name": "stdout",
     "output_type": "stream",
     "text": [
      "MAE: 240.79674254947759\n",
      "'prepareAndTrain'  24632.06 ms\n",
      "Preparing data for 43_85l\n",
      "'dataPreparation'  2017.83 ms\n",
      "training data for ('43', '1184', '4919')\n"
     ]
    },
    {
     "name": "stderr",
     "output_type": "stream",
     "text": [
      "/home/student/anaconda3/lib/python3.6/site-packages/sklearn/neural_network/multilayer_perceptron.py:564: ConvergenceWarning: Stochastic Optimizer: Maximum iterations (200) reached and the optimization hasn't converged yet.\n",
      "  % self.max_iter, ConvergenceWarning)\n"
     ]
    },
    {
     "name": "stdout",
     "output_type": "stream",
     "text": [
      "MAE: 177.08776588344142\n",
      "'prepareAndTrain'  6190.80 ms\n",
      "Preparing data for 46A_63l\n",
      "'dataPreparation'  1567.59 ms\n",
      "training data for ('46A', '2064', '807')\n"
     ]
    },
    {
     "name": "stderr",
     "output_type": "stream",
     "text": [
      "/home/student/anaconda3/lib/python3.6/site-packages/sklearn/neural_network/multilayer_perceptron.py:564: ConvergenceWarning: Stochastic Optimizer: Maximum iterations (200) reached and the optimization hasn't converged yet.\n",
      "  % self.max_iter, ConvergenceWarning)\n"
     ]
    },
    {
     "name": "stdout",
     "output_type": "stream",
     "text": [
      "MAE: 459.91519357224985\n",
      ":(((( Unqualified route:('46A', '2064', '807')\n",
      "'prepareAndTrain'  4332.01 ms\n",
      "Preparing data for 7A_86l\n",
      "'dataPreparation'  11085.47 ms\n",
      "training data for ('7A', '1174', '4982')\n"
     ]
    },
    {
     "name": "stderr",
     "output_type": "stream",
     "text": [
      "/home/student/anaconda3/lib/python3.6/site-packages/sklearn/neural_network/multilayer_perceptron.py:564: ConvergenceWarning: Stochastic Optimizer: Maximum iterations (200) reached and the optimization hasn't converged yet.\n",
      "  % self.max_iter, ConvergenceWarning)\n"
     ]
    },
    {
     "name": "stdout",
     "output_type": "stream",
     "text": [
      "MAE: 210.74096614481948\n",
      "'prepareAndTrain'  12342.39 ms\n",
      "Preparing data for 40B_63l\n",
      "'dataPreparation'  8844.98 ms\n",
      "training data for ('40B', '6004', '4316')\n"
     ]
    },
    {
     "name": "stderr",
     "output_type": "stream",
     "text": [
      "/home/student/anaconda3/lib/python3.6/site-packages/sklearn/neural_network/multilayer_perceptron.py:564: ConvergenceWarning: Stochastic Optimizer: Maximum iterations (200) reached and the optimization hasn't converged yet.\n",
      "  % self.max_iter, ConvergenceWarning)\n"
     ]
    },
    {
     "name": "stdout",
     "output_type": "stream",
     "text": [
      "MAE: 162.77546616695682\n",
      "'prepareAndTrain'  22988.22 ms\n",
      "Preparing data for 757_2l\n",
      "'dataPreparation'  7818.29 ms\n",
      "training data for ('757', '3665', '1074')\n"
     ]
    },
    {
     "name": "stderr",
     "output_type": "stream",
     "text": [
      "/home/student/anaconda3/lib/python3.6/site-packages/sklearn/neural_network/multilayer_perceptron.py:564: ConvergenceWarning: Stochastic Optimizer: Maximum iterations (200) reached and the optimization hasn't converged yet.\n",
      "  % self.max_iter, ConvergenceWarning)\n"
     ]
    },
    {
     "name": "stdout",
     "output_type": "stream",
     "text": [
      "MAE: 171.81324491511322\n",
      "'prepareAndTrain'  20626.73 ms\n",
      "Preparing data for 65B_66l\n",
      "'dataPreparation'  54995.76 ms\n",
      "training data for ('65B', '4713', '7564')\n"
     ]
    },
    {
     "name": "stderr",
     "output_type": "stream",
     "text": [
      "/home/student/anaconda3/lib/python3.6/site-packages/sklearn/neural_network/multilayer_perceptron.py:564: ConvergenceWarning: Stochastic Optimizer: Maximum iterations (200) reached and the optimization hasn't converged yet.\n",
      "  % self.max_iter, ConvergenceWarning)\n"
     ]
    },
    {
     "name": "stdout",
     "output_type": "stream",
     "text": [
      "MAE: 152.6349702141211\n",
      "'prepareAndTrain'  223457.19 ms\n",
      "Preparing data for 185_55l\n",
      "'dataPreparation'  58.65 ms\n",
      "Skipping...\n",
      "Preparing data for 15B_56l\n",
      "'dataPreparation'  10387.34 ms\n",
      "training data for ('15B', '395', '6280')\n"
     ]
    },
    {
     "name": "stderr",
     "output_type": "stream",
     "text": [
      "/home/student/anaconda3/lib/python3.6/site-packages/sklearn/neural_network/multilayer_perceptron.py:564: ConvergenceWarning: Stochastic Optimizer: Maximum iterations (200) reached and the optimization hasn't converged yet.\n",
      "  % self.max_iter, ConvergenceWarning)\n"
     ]
    },
    {
     "name": "stdout",
     "output_type": "stream",
     "text": [
      "MAE: 169.1001281935488\n",
      "'prepareAndTrain'  34941.87 ms\n",
      "Preparing data for 15A_80l\n",
      "'dataPreparation'  87194.21 ms\n",
      "Skipping...\n",
      "Preparing data for 47_138l\n",
      "'dataPreparation'  7685.49 ms\n",
      "Skipping...\n",
      "Preparing data for 102_9l\n",
      "'dataPreparation'  78431.87 ms\n",
      "training data for ('102', '7348', '4381')\n"
     ]
    },
    {
     "name": "stderr",
     "output_type": "stream",
     "text": [
      "/home/student/anaconda3/lib/python3.6/site-packages/sklearn/neural_network/multilayer_perceptron.py:564: ConvergenceWarning: Stochastic Optimizer: Maximum iterations (200) reached and the optimization hasn't converged yet.\n",
      "  % self.max_iter, ConvergenceWarning)\n"
     ]
    },
    {
     "name": "stdout",
     "output_type": "stream",
     "text": [
      "MAE: 156.14654475245464\n",
      "'prepareAndTrain'  412116.69 ms\n",
      "Preparing data for 40D_102l\n",
      "'dataPreparation'  374.74 ms\n",
      "Skipping...\n",
      "Preparing data for 53_19l\n",
      "'dataPreparation'  9032.14 ms\n",
      "training data for ('53', '2270', '4380')\n",
      "MAE: 88.62209696574014\n",
      "'prepareAndTrain'  30809.87 ms\n",
      "Preparing data for 8_126l\n",
      "'dataPreparation'  6437.06 ms\n",
      "Skipping...\n",
      "Preparing data for 185_60l\n",
      "'dataPreparation'  39.56 ms\n",
      "Skipping...\n",
      "Preparing data for 238_15l\n",
      "'dataPreparation'  16945.99 ms\n",
      "training data for ('238', '1828', '7072')\n"
     ]
    },
    {
     "name": "stderr",
     "output_type": "stream",
     "text": [
      "/home/student/anaconda3/lib/python3.6/site-packages/sklearn/neural_network/multilayer_perceptron.py:564: ConvergenceWarning: Stochastic Optimizer: Maximum iterations (200) reached and the optimization hasn't converged yet.\n",
      "  % self.max_iter, ConvergenceWarning)\n"
     ]
    },
    {
     "name": "stdout",
     "output_type": "stream",
     "text": [
      "MAE: 92.48495725548783\n",
      "'prepareAndTrain'  64690.16 ms\n",
      "Preparing data for 27B_24l\n",
      "'dataPreparation'  53.40 ms\n",
      "Skipping...\n",
      "Preparing data for 27B_40l\n",
      "'dataPreparation'  54.25 ms\n",
      "Skipping...\n",
      "Preparing data for 41B_51l\n",
      "'dataPreparation'  2414.37 ms\n",
      "training data for ('41B', '288', '3874')\n"
     ]
    },
    {
     "name": "stderr",
     "output_type": "stream",
     "text": [
      "/home/student/anaconda3/lib/python3.6/site-packages/sklearn/neural_network/multilayer_perceptron.py:564: ConvergenceWarning: Stochastic Optimizer: Maximum iterations (200) reached and the optimization hasn't converged yet.\n",
      "  % self.max_iter, ConvergenceWarning)\n"
     ]
    },
    {
     "name": "stdout",
     "output_type": "stream",
     "text": [
      "MAE: 139.83930538303528\n",
      "'prepareAndTrain'  5839.19 ms\n",
      "Preparing data for 63_18l\n",
      "'dataPreparation'  89.39 ms\n",
      "Skipping...\n",
      "Preparing data for 44B_61l\n",
      "'dataPreparation'  4878.20 ms\n",
      "training data for ('44B', '3514', '2825')\n"
     ]
    },
    {
     "name": "stderr",
     "output_type": "stream",
     "text": [
      "/home/student/anaconda3/lib/python3.6/site-packages/sklearn/neural_network/multilayer_perceptron.py:564: ConvergenceWarning: Stochastic Optimizer: Maximum iterations (200) reached and the optimization hasn't converged yet.\n",
      "  % self.max_iter, ConvergenceWarning)\n"
     ]
    },
    {
     "name": "stdout",
     "output_type": "stream",
     "text": [
      "MAE: 101.2391411498335\n",
      "'prepareAndTrain'  18209.78 ms\n",
      "Preparing data for 17_15l\n",
      "'dataPreparation'  79837.95 ms\n",
      "training data for ('17', '3085', '1367')\n"
     ]
    },
    {
     "name": "stderr",
     "output_type": "stream",
     "text": [
      "/home/student/anaconda3/lib/python3.6/site-packages/sklearn/neural_network/multilayer_perceptron.py:564: ConvergenceWarning: Stochastic Optimizer: Maximum iterations (200) reached and the optimization hasn't converged yet.\n",
      "  % self.max_iter, ConvergenceWarning)\n"
     ]
    },
    {
     "name": "stdout",
     "output_type": "stream",
     "text": [
      "MAE: 216.54417119169037\n",
      "'prepareAndTrain'  383650.32 ms\n",
      "Preparing data for 66X_100l\n",
      "'dataPreparation'  1699.56 ms\n",
      "training data for ('66X', '3994', '4952')\n"
     ]
    },
    {
     "name": "stderr",
     "output_type": "stream",
     "text": [
      "/home/student/anaconda3/lib/python3.6/site-packages/sklearn/neural_network/multilayer_perceptron.py:564: ConvergenceWarning: Stochastic Optimizer: Maximum iterations (200) reached and the optimization hasn't converged yet.\n",
      "  % self.max_iter, ConvergenceWarning)\n"
     ]
    },
    {
     "name": "stdout",
     "output_type": "stream",
     "text": [
      "MAE: 984.5799875866587\n",
      ":(((( Unqualified route:('66X', '3994', '4952')\n",
      "'prepareAndTrain'  3341.51 ms\n",
      "Preparing data for 56A_31l\n",
      "'dataPreparation'  42656.86 ms\n",
      "training data for ('56A', '395', '4340')\n"
     ]
    },
    {
     "name": "stderr",
     "output_type": "stream",
     "text": [
      "/home/student/anaconda3/lib/python3.6/site-packages/sklearn/neural_network/multilayer_perceptron.py:564: ConvergenceWarning: Stochastic Optimizer: Maximum iterations (200) reached and the optimization hasn't converged yet.\n",
      "  % self.max_iter, ConvergenceWarning)\n"
     ]
    },
    {
     "name": "stdout",
     "output_type": "stream",
     "text": [
      "MAE: 169.12976980217098\n",
      "'prepareAndTrain'  212778.14 ms\n",
      "Preparing data for 15_16l\n",
      "'dataPreparation'  296507.30 ms\n",
      "training data for ('15', '6318', '6282')\n"
     ]
    },
    {
     "name": "stderr",
     "output_type": "stream",
     "text": [
      "/home/student/anaconda3/lib/python3.6/site-packages/sklearn/neural_network/multilayer_perceptron.py:564: ConvergenceWarning: Stochastic Optimizer: Maximum iterations (200) reached and the optimization hasn't converged yet.\n",
      "  % self.max_iter, ConvergenceWarning)\n"
     ]
    },
    {
     "name": "stdout",
     "output_type": "stream",
     "text": [
      "MAE: 205.43786515133647\n",
      "'prepareAndTrain'  1208540.72 ms\n",
      "Preparing data for 145_107l\n",
      "'dataPreparation'  1087.62 ms\n",
      "training data for ('145', '334', '7574')\n"
     ]
    },
    {
     "name": "stderr",
     "output_type": "stream",
     "text": [
      "/home/student/anaconda3/lib/python3.6/site-packages/sklearn/neural_network/multilayer_perceptron.py:564: ConvergenceWarning: Stochastic Optimizer: Maximum iterations (200) reached and the optimization hasn't converged yet.\n",
      "  % self.max_iter, ConvergenceWarning)\n"
     ]
    },
    {
     "name": "stdout",
     "output_type": "stream",
     "text": [
      "MAE: 1109.4269468149346\n",
      ":(((( Unqualified route:('145', '334', '7574')\n",
      "'prepareAndTrain'  3138.17 ms\n",
      "Preparing data for 75_19l\n",
      "'dataPreparation'  82.30 ms\n",
      "Skipping...\n",
      "Preparing data for 27B_37l\n",
      "'dataPreparation'  1502.79 ms\n",
      "training data for ('27B', '1233', '303')\n"
     ]
    },
    {
     "name": "stderr",
     "output_type": "stream",
     "text": [
      "/home/student/anaconda3/lib/python3.6/site-packages/sklearn/neural_network/multilayer_perceptron.py:564: ConvergenceWarning: Stochastic Optimizer: Maximum iterations (200) reached and the optimization hasn't converged yet.\n",
      "  % self.max_iter, ConvergenceWarning)\n"
     ]
    },
    {
     "name": "stdout",
     "output_type": "stream",
     "text": [
      "MAE: 222.03658161210527\n",
      "'prepareAndTrain'  4747.45 ms\n",
      "Preparing data for 41X_108l\n",
      "'dataPreparation'  1278.54 ms\n",
      "training data for ('41X', '4843', '4953')\n"
     ]
    },
    {
     "name": "stderr",
     "output_type": "stream",
     "text": [
      "/home/student/anaconda3/lib/python3.6/site-packages/sklearn/neural_network/multilayer_perceptron.py:564: ConvergenceWarning: Stochastic Optimizer: Maximum iterations (200) reached and the optimization hasn't converged yet.\n",
      "  % self.max_iter, ConvergenceWarning)\n"
     ]
    },
    {
     "name": "stdout",
     "output_type": "stream",
     "text": [
      "MAE: 1252.1295436645712\n",
      ":(((( Unqualified route:('41X', '4843', '4953')\n",
      "'prepareAndTrain'  2709.20 ms\n",
      "Preparing data for 185_62l\n",
      "'dataPreparation'  38.99 ms\n",
      "Skipping...\n",
      "Preparing data for 84A_4l\n",
      "'dataPreparation'  3990.80 ms\n",
      "training data for ('84A', '4168', '478')\n"
     ]
    },
    {
     "name": "stderr",
     "output_type": "stream",
     "text": [
      "/home/student/anaconda3/lib/python3.6/site-packages/sklearn/neural_network/multilayer_perceptron.py:564: ConvergenceWarning: Stochastic Optimizer: Maximum iterations (200) reached and the optimization hasn't converged yet.\n",
      "  % self.max_iter, ConvergenceWarning)\n"
     ]
    },
    {
     "name": "stdout",
     "output_type": "stream",
     "text": [
      "MAE: 181.66997175294745\n",
      "'prepareAndTrain'  15270.72 ms\n",
      "Preparing data for 26_24l\n",
      "'dataPreparation'  33448.94 ms\n",
      "training data for ('26', '7391', '2210')\n"
     ]
    },
    {
     "name": "stderr",
     "output_type": "stream",
     "text": [
      "/home/student/anaconda3/lib/python3.6/site-packages/sklearn/neural_network/multilayer_perceptron.py:564: ConvergenceWarning: Stochastic Optimizer: Maximum iterations (200) reached and the optimization hasn't converged yet.\n",
      "  % self.max_iter, ConvergenceWarning)\n"
     ]
    },
    {
     "name": "stdout",
     "output_type": "stream",
     "text": [
      "MAE: 170.92090494094384\n",
      "'prepareAndTrain'  148024.52 ms\n",
      "Preparing data for 120_8l\n",
      "'dataPreparation'  4063.39 ms\n",
      "training data for ('120', '485', '276')\n"
     ]
    },
    {
     "name": "stderr",
     "output_type": "stream",
     "text": [
      "/home/student/anaconda3/lib/python3.6/site-packages/sklearn/neural_network/multilayer_perceptron.py:564: ConvergenceWarning: Stochastic Optimizer: Maximum iterations (200) reached and the optimization hasn't converged yet.\n",
      "  % self.max_iter, ConvergenceWarning)\n"
     ]
    },
    {
     "name": "stdout",
     "output_type": "stream",
     "text": [
      "MAE: 287.1141026639456\n",
      "'prepareAndTrain'  15196.60 ms\n",
      "Preparing data for 67_6l\n",
      "'dataPreparation'  114066.40 ms\n",
      "training data for ('67', '3917', '7385')\n"
     ]
    },
    {
     "name": "stderr",
     "output_type": "stream",
     "text": [
      "/home/student/anaconda3/lib/python3.6/site-packages/sklearn/neural_network/multilayer_perceptron.py:564: ConvergenceWarning: Stochastic Optimizer: Maximum iterations (200) reached and the optimization hasn't converged yet.\n",
      "  % self.max_iter, ConvergenceWarning)\n"
     ]
    },
    {
     "name": "stdout",
     "output_type": "stream",
     "text": [
      "MAE: 172.9863783701039\n",
      "'prepareAndTrain'  739481.05 ms\n",
      "Preparing data for 41_6l\n",
      "'dataPreparation'  46.86 ms\n",
      "Skipping...\n",
      "Preparing data for 61_108l\n",
      "'dataPreparation'  39605.87 ms\n",
      "training data for ('61', '7067', '303')\n"
     ]
    },
    {
     "name": "stderr",
     "output_type": "stream",
     "text": [
      "/home/student/anaconda3/lib/python3.6/site-packages/sklearn/neural_network/multilayer_perceptron.py:564: ConvergenceWarning: Stochastic Optimizer: Maximum iterations (200) reached and the optimization hasn't converged yet.\n",
      "  % self.max_iter, ConvergenceWarning)\n"
     ]
    },
    {
     "name": "stdout",
     "output_type": "stream",
     "text": [
      "MAE: 117.6463530552717\n",
      "'prepareAndTrain'  195574.94 ms\n",
      "Preparing data for 13_64l\n",
      "'dataPreparation'  1602.15 ms\n",
      "training data for ('13', '324', '270')\n"
     ]
    },
    {
     "name": "stderr",
     "output_type": "stream",
     "text": [
      "/home/student/anaconda3/lib/python3.6/site-packages/sklearn/neural_network/multilayer_perceptron.py:564: ConvergenceWarning: Stochastic Optimizer: Maximum iterations (200) reached and the optimization hasn't converged yet.\n",
      "  % self.max_iter, ConvergenceWarning)\n"
     ]
    },
    {
     "name": "stdout",
     "output_type": "stream",
     "text": [
      "MAE: 111.31771032055545\n",
      "'prepareAndTrain'  5460.55 ms\n",
      "Preparing data for 16C_27l\n",
      "'dataPreparation'  797.97 ms\n",
      "training data for ('16C', '215', '270')\n"
     ]
    },
    {
     "name": "stderr",
     "output_type": "stream",
     "text": [
      "/home/student/anaconda3/lib/python3.6/site-packages/sklearn/neural_network/multilayer_perceptron.py:564: ConvergenceWarning: Stochastic Optimizer: Maximum iterations (200) reached and the optimization hasn't converged yet.\n",
      "  % self.max_iter, ConvergenceWarning)\n"
     ]
    },
    {
     "name": "stdout",
     "output_type": "stream",
     "text": [
      "MAE: 377.1702923439945\n",
      ":(((( Unqualified route:('16C', '215', '270')\n",
      "'prepareAndTrain'  1779.43 ms\n",
      "Preparing data for 67_4l\n",
      "'dataPreparation'  117561.22 ms\n",
      "training data for ('67', '7391', '6089')\n"
     ]
    },
    {
     "name": "stderr",
     "output_type": "stream",
     "text": [
      "/home/student/anaconda3/lib/python3.6/site-packages/sklearn/neural_network/multilayer_perceptron.py:564: ConvergenceWarning: Stochastic Optimizer: Maximum iterations (200) reached and the optimization hasn't converged yet.\n",
      "  % self.max_iter, ConvergenceWarning)\n"
     ]
    },
    {
     "name": "stdout",
     "output_type": "stream",
     "text": [
      "MAE: 220.1972937048024\n",
      "'prepareAndTrain'  695760.91 ms\n",
      "Preparing data for 123_37l\n",
      "'dataPreparation'  1029.89 ms\n",
      "training data for ('123', '1491', '272')\n"
     ]
    },
    {
     "name": "stderr",
     "output_type": "stream",
     "text": [
      "/home/student/anaconda3/lib/python3.6/site-packages/sklearn/neural_network/multilayer_perceptron.py:564: ConvergenceWarning: Stochastic Optimizer: Maximum iterations (200) reached and the optimization hasn't converged yet.\n",
      "  % self.max_iter, ConvergenceWarning)\n"
     ]
    },
    {
     "name": "stdout",
     "output_type": "stream",
     "text": [
      "MAE: 42.180302872918304\n",
      "'prepareAndTrain'  3415.28 ms\n",
      "Preparing data for 11_43l\n",
      "'dataPreparation'  2377.18 ms\n",
      "Skipping...\n",
      "Preparing data for 70D_70l\n",
      "'dataPreparation'  594.07 ms\n",
      "training data for ('70D', '7571', '3333')\n"
     ]
    },
    {
     "name": "stderr",
     "output_type": "stream",
     "text": [
      "/home/student/anaconda3/lib/python3.6/site-packages/sklearn/neural_network/multilayer_perceptron.py:564: ConvergenceWarning: Stochastic Optimizer: Maximum iterations (200) reached and the optimization hasn't converged yet.\n",
      "  % self.max_iter, ConvergenceWarning)\n"
     ]
    },
    {
     "name": "stdout",
     "output_type": "stream",
     "text": [
      "MAE: 1475.9377294667502\n",
      ":(((( Unqualified route:('70D', '7571', '3333')\n",
      "'prepareAndTrain'  2007.45 ms\n",
      "Preparing data for 25_272l\n",
      "'dataPreparation'  31994.31 ms\n",
      "training data for ('25', '7391', '3890')\n"
     ]
    },
    {
     "name": "stderr",
     "output_type": "stream",
     "text": [
      "/home/student/anaconda3/lib/python3.6/site-packages/sklearn/neural_network/multilayer_perceptron.py:564: ConvergenceWarning: Stochastic Optimizer: Maximum iterations (200) reached and the optimization hasn't converged yet.\n",
      "  % self.max_iter, ConvergenceWarning)\n"
     ]
    },
    {
     "name": "stdout",
     "output_type": "stream",
     "text": [
      "MAE: 177.10531866640346\n",
      "'prepareAndTrain'  111758.76 ms\n",
      "Preparing data for 18_4l\n",
      "'dataPreparation'  114495.83 ms\n",
      "training data for ('18', '385', '4357')\n"
     ]
    },
    {
     "name": "stderr",
     "output_type": "stream",
     "text": [
      "/home/student/anaconda3/lib/python3.6/site-packages/sklearn/neural_network/multilayer_perceptron.py:564: ConvergenceWarning: Stochastic Optimizer: Maximum iterations (200) reached and the optimization hasn't converged yet.\n",
      "  % self.max_iter, ConvergenceWarning)\n"
     ]
    },
    {
     "name": "stdout",
     "output_type": "stream",
     "text": [
      "MAE: 208.85545121727662\n",
      "'prepareAndTrain'  396034.80 ms\n",
      "Preparing data for 33_70l\n",
      "'dataPreparation'  29.99 ms\n",
      "Skipping...\n",
      "Preparing data for 142_8l\n",
      "'dataPreparation'  4502.41 ms\n",
      "training data for ('142', '1016', '877')\n"
     ]
    },
    {
     "name": "stderr",
     "output_type": "stream",
     "text": [
      "/home/student/anaconda3/lib/python3.6/site-packages/sklearn/neural_network/multilayer_perceptron.py:564: ConvergenceWarning: Stochastic Optimizer: Maximum iterations (200) reached and the optimization hasn't converged yet.\n",
      "  % self.max_iter, ConvergenceWarning)\n"
     ]
    },
    {
     "name": "stdout",
     "output_type": "stream",
     "text": [
      "MAE: 54.70135252579435\n",
      "'prepareAndTrain'  13929.86 ms\n",
      "Preparing data for 27_17l\n",
      "'dataPreparation'  294500.19 ms\n",
      "training data for ('27', '2353', '4595')\n"
     ]
    },
    {
     "name": "stderr",
     "output_type": "stream",
     "text": [
      "/home/student/anaconda3/lib/python3.6/site-packages/sklearn/neural_network/multilayer_perceptron.py:564: ConvergenceWarning: Stochastic Optimizer: Maximum iterations (200) reached and the optimization hasn't converged yet.\n",
      "  % self.max_iter, ConvergenceWarning)\n"
     ]
    },
    {
     "name": "stdout",
     "output_type": "stream",
     "text": [
      "MAE: 239.1804594318609\n",
      "'prepareAndTrain'  1641818.54 ms\n",
      "Preparing data for 4_11l\n",
      "'dataPreparation'  2381.46 ms\n",
      "training data for ('4', '324', '4725')\n"
     ]
    },
    {
     "name": "stderr",
     "output_type": "stream",
     "text": [
      "/home/student/anaconda3/lib/python3.6/site-packages/sklearn/neural_network/multilayer_perceptron.py:564: ConvergenceWarning: Stochastic Optimizer: Maximum iterations (200) reached and the optimization hasn't converged yet.\n",
      "  % self.max_iter, ConvergenceWarning)\n"
     ]
    },
    {
     "name": "stdout",
     "output_type": "stream",
     "text": [
      "MAE: 71.68186937300807\n",
      "'prepareAndTrain'  8353.88 ms\n",
      "Preparing data for 7_52l\n",
      "'dataPreparation'  20187.37 ms\n",
      "Skipping...\n",
      "Preparing data for 46A_67l\n",
      "'dataPreparation'  332548.44 ms\n",
      "training data for ('46A', '2039', '807')\n"
     ]
    },
    {
     "name": "stderr",
     "output_type": "stream",
     "text": [
      "/home/student/anaconda3/lib/python3.6/site-packages/sklearn/neural_network/multilayer_perceptron.py:564: ConvergenceWarning: Stochastic Optimizer: Maximum iterations (200) reached and the optimization hasn't converged yet.\n",
      "  % self.max_iter, ConvergenceWarning)\n"
     ]
    },
    {
     "name": "stdout",
     "output_type": "stream",
     "text": [
      "MAE: 199.16872525450214\n",
      "'prepareAndTrain'  1546958.27 ms\n",
      "Preparing data for 31B_44l\n",
      "'dataPreparation'  7505.11 ms\n",
      "training data for ('31B', '621', '707')\n"
     ]
    },
    {
     "name": "stderr",
     "output_type": "stream",
     "text": [
      "/home/student/anaconda3/lib/python3.6/site-packages/sklearn/neural_network/multilayer_perceptron.py:564: ConvergenceWarning: Stochastic Optimizer: Maximum iterations (200) reached and the optimization hasn't converged yet.\n",
      "  % self.max_iter, ConvergenceWarning)\n"
     ]
    },
    {
     "name": "stdout",
     "output_type": "stream",
     "text": [
      "MAE: 262.91726247329876\n",
      "'prepareAndTrain'  30852.23 ms\n",
      "Preparing data for 4_12l\n",
      "'dataPreparation'  163057.05 ms\n",
      "training data for ('4', '7330', '332')\n"
     ]
    },
    {
     "name": "stderr",
     "output_type": "stream",
     "text": [
      "/home/student/anaconda3/lib/python3.6/site-packages/sklearn/neural_network/multilayer_perceptron.py:564: ConvergenceWarning: Stochastic Optimizer: Maximum iterations (200) reached and the optimization hasn't converged yet.\n",
      "  % self.max_iter, ConvergenceWarning)\n"
     ]
    },
    {
     "name": "stdout",
     "output_type": "stream",
     "text": [
      "MAE: 213.5785534247013\n",
      "'prepareAndTrain'  692634.81 ms\n",
      "Preparing data for 63_27l\n",
      "'dataPreparation'  29.00 ms\n",
      "Skipping...\n",
      "Preparing data for 67X_39l\n",
      "'dataPreparation'  5303.67 ms\n",
      "training data for ('67X', '4952', '6089')\n"
     ]
    },
    {
     "name": "stderr",
     "output_type": "stream",
     "text": [
      "/home/student/anaconda3/lib/python3.6/site-packages/sklearn/neural_network/multilayer_perceptron.py:564: ConvergenceWarning: Stochastic Optimizer: Maximum iterations (200) reached and the optimization hasn't converged yet.\n",
      "  % self.max_iter, ConvergenceWarning)\n"
     ]
    },
    {
     "name": "stdout",
     "output_type": "stream",
     "text": [
      "MAE: 376.4484637027326\n",
      ":(((( Unqualified route:('67X', '4952', '6089')\n",
      "'prepareAndTrain'  13947.07 ms\n",
      "Preparing data for 66_16l\n",
      "'dataPreparation'  957.51 ms\n",
      "training data for ('66', '346', '5114')\n"
     ]
    },
    {
     "name": "stderr",
     "output_type": "stream",
     "text": [
      "/home/student/anaconda3/lib/python3.6/site-packages/sklearn/neural_network/multilayer_perceptron.py:564: ConvergenceWarning: Stochastic Optimizer: Maximum iterations (200) reached and the optimization hasn't converged yet.\n",
      "  % self.max_iter, ConvergenceWarning)\n"
     ]
    },
    {
     "name": "stdout",
     "output_type": "stream",
     "text": [
      "MAE: 1265.7143379830231\n",
      ":(((( Unqualified route:('66', '346', '5114')\n",
      "'prepareAndTrain'  2845.08 ms\n",
      "Preparing data for 33B_57l\n",
      "'dataPreparation'  525.73 ms\n",
      "training data for ('33B', '3720', '3732')\n"
     ]
    },
    {
     "name": "stderr",
     "output_type": "stream",
     "text": [
      "/home/student/anaconda3/lib/python3.6/site-packages/sklearn/neural_network/multilayer_perceptron.py:564: ConvergenceWarning: Stochastic Optimizer: Maximum iterations (200) reached and the optimization hasn't converged yet.\n",
      "  % self.max_iter, ConvergenceWarning)\n"
     ]
    },
    {
     "name": "stdout",
     "output_type": "stream",
     "text": [
      "MAE: 292.83903640545935\n",
      "'prepareAndTrain'  1307.56 ms\n",
      "Preparing data for 32X_76l\n",
      "'dataPreparation'  237.41 ms\n",
      "training data for ('32X', '4952', '5082')\n"
     ]
    },
    {
     "name": "stderr",
     "output_type": "stream",
     "text": [
      "/home/student/anaconda3/lib/python3.6/site-packages/sklearn/neural_network/multilayer_perceptron.py:564: ConvergenceWarning: Stochastic Optimizer: Maximum iterations (200) reached and the optimization hasn't converged yet.\n",
      "  % self.max_iter, ConvergenceWarning)\n"
     ]
    },
    {
     "name": "stdout",
     "output_type": "stream",
     "text": [
      "MAE: 3321.532470335785\n",
      ":(((( Unqualified route:('32X', '4952', '5082')\n",
      "'prepareAndTrain'  471.74 ms\n",
      "Preparing data for 68A_75l\n",
      "'dataPreparation'  3998.02 ms\n",
      "Skipping...\n",
      "Preparing data for 40_19l\n",
      "'dataPreparation'  1270.57 ms\n",
      "Skipping...\n",
      "Preparing data for 39A_45l\n",
      "'dataPreparation'  290.12 ms\n",
      "training data for ('39A', '1858', '767')\n"
     ]
    },
    {
     "name": "stderr",
     "output_type": "stream",
     "text": [
      "/home/student/anaconda3/lib/python3.6/site-packages/sklearn/neural_network/multilayer_perceptron.py:564: ConvergenceWarning: Stochastic Optimizer: Maximum iterations (200) reached and the optimization hasn't converged yet.\n",
      "  % self.max_iter, ConvergenceWarning)\n"
     ]
    },
    {
     "name": "stdout",
     "output_type": "stream",
     "text": [
      "MAE: 2255.8018425437353\n",
      ":(((( Unqualified route:('39A', '1858', '767')\n",
      "'prepareAndTrain'  795.99 ms\n",
      "Preparing data for 46E_93l\n",
      "'dataPreparation'  3076.74 ms\n",
      "training data for ('46E', '3085', '4962')\n"
     ]
    },
    {
     "name": "stderr",
     "output_type": "stream",
     "text": [
      "/home/student/anaconda3/lib/python3.6/site-packages/sklearn/neural_network/multilayer_perceptron.py:564: ConvergenceWarning: Stochastic Optimizer: Maximum iterations (200) reached and the optimization hasn't converged yet.\n",
      "  % self.max_iter, ConvergenceWarning)\n"
     ]
    },
    {
     "name": "stdout",
     "output_type": "stream",
     "text": [
      "MAE: 265.4175964376701\n",
      "'prepareAndTrain'  10824.12 ms\n",
      "Preparing data for 41B_52l\n",
      "'dataPreparation'  153.12 ms\n",
      "Skipping...\n",
      "Preparing data for 38A_32l\n",
      "'dataPreparation'  48942.02 ms\n",
      "training data for ('38A', '4745', '7339')\n"
     ]
    },
    {
     "name": "stderr",
     "output_type": "stream",
     "text": [
      "/home/student/anaconda3/lib/python3.6/site-packages/sklearn/neural_network/multilayer_perceptron.py:564: ConvergenceWarning: Stochastic Optimizer: Maximum iterations (200) reached and the optimization hasn't converged yet.\n",
      "  % self.max_iter, ConvergenceWarning)\n"
     ]
    },
    {
     "name": "stdout",
     "output_type": "stream",
     "text": [
      "MAE: 147.56382867415707\n",
      "'prepareAndTrain'  239767.84 ms\n",
      "Preparing data for 65_74l\n",
      "'dataPreparation'  27333.15 ms\n",
      "training data for ('65', '7564', '4027')\n"
     ]
    },
    {
     "name": "stderr",
     "output_type": "stream",
     "text": [
      "/home/student/anaconda3/lib/python3.6/site-packages/sklearn/neural_network/multilayer_perceptron.py:564: ConvergenceWarning: Stochastic Optimizer: Maximum iterations (200) reached and the optimization hasn't converged yet.\n",
      "  % self.max_iter, ConvergenceWarning)\n"
     ]
    },
    {
     "name": "stdout",
     "output_type": "stream",
     "text": [
      "MAE: 284.9633794174388\n",
      "'prepareAndTrain'  113293.82 ms\n",
      "Preparing data for 40_18l\n",
      "'dataPreparation'  1581.24 ms\n",
      "Skipping...\n",
      "Preparing data for 84X_53l\n",
      "'dataPreparation'  6868.98 ms\n",
      "Skipping...\n",
      "Preparing data for 65_72l\n",
      "'dataPreparation'  20878.52 ms\n",
      "training data for ('65', '7564', '7289')\n"
     ]
    },
    {
     "name": "stderr",
     "output_type": "stream",
     "text": [
      "/home/student/anaconda3/lib/python3.6/site-packages/sklearn/neural_network/multilayer_perceptron.py:564: ConvergenceWarning: Stochastic Optimizer: Maximum iterations (200) reached and the optimization hasn't converged yet.\n",
      "  % self.max_iter, ConvergenceWarning)\n"
     ]
    },
    {
     "name": "stdout",
     "output_type": "stream",
     "text": [
      "MAE: 201.88376607785486\n",
      "'prepareAndTrain'  83577.51 ms\n",
      "Preparing data for 40D_105l\n",
      "'dataPreparation'  4921.95 ms\n",
      "Skipping...\n",
      "Preparing data for 13_28l\n",
      "'dataPreparation'  413.06 ms\n",
      "training data for ('13', '6235', '270')\n"
     ]
    },
    {
     "name": "stderr",
     "output_type": "stream",
     "text": [
      "/home/student/anaconda3/lib/python3.6/site-packages/sklearn/neural_network/multilayer_perceptron.py:564: ConvergenceWarning: Stochastic Optimizer: Maximum iterations (200) reached and the optimization hasn't converged yet.\n",
      "  % self.max_iter, ConvergenceWarning)\n"
     ]
    },
    {
     "name": "stdout",
     "output_type": "stream",
     "text": [
      "MAE: 504.1674057968378\n",
      ":(((( Unqualified route:('13', '6235', '270')\n",
      "'prepareAndTrain'  1049.20 ms\n",
      "Preparing data for 25D_275l\n",
      "'dataPreparation'  2525.49 ms\n",
      "training data for ('25D', '6290', '7390')\n"
     ]
    },
    {
     "name": "stderr",
     "output_type": "stream",
     "text": [
      "/home/student/anaconda3/lib/python3.6/site-packages/sklearn/neural_network/multilayer_perceptron.py:564: ConvergenceWarning: Stochastic Optimizer: Maximum iterations (200) reached and the optimization hasn't converged yet.\n",
      "  % self.max_iter, ConvergenceWarning)\n"
     ]
    },
    {
     "name": "stdout",
     "output_type": "stream",
     "text": [
      "MAE: 354.9216302129663\n",
      ":(((( Unqualified route:('25D', '6290', '7390')\n",
      "'prepareAndTrain'  4079.06 ms\n",
      "Preparing data for 122_14l\n",
      "'dataPreparation'  139331.87 ms\n",
      "training data for ('122', '4525', '6094')\n"
     ]
    },
    {
     "name": "stderr",
     "output_type": "stream",
     "text": [
      "/home/student/anaconda3/lib/python3.6/site-packages/sklearn/neural_network/multilayer_perceptron.py:564: ConvergenceWarning: Stochastic Optimizer: Maximum iterations (200) reached and the optimization hasn't converged yet.\n",
      "  % self.max_iter, ConvergenceWarning)\n"
     ]
    },
    {
     "name": "stdout",
     "output_type": "stream",
     "text": [
      "MAE: 206.65286174508702\n",
      "'prepareAndTrain'  624843.09 ms\n",
      "Preparing data for 29A_14l\n",
      "'dataPreparation'  103329.27 ms\n",
      "training data for ('29A', '289', '938')\n"
     ]
    },
    {
     "name": "stderr",
     "output_type": "stream",
     "text": [
      "/home/student/anaconda3/lib/python3.6/site-packages/sklearn/neural_network/multilayer_perceptron.py:564: ConvergenceWarning: Stochastic Optimizer: Maximum iterations (200) reached and the optimization hasn't converged yet.\n",
      "  % self.max_iter, ConvergenceWarning)\n"
     ]
    },
    {
     "name": "stdout",
     "output_type": "stream",
     "text": [
      "MAE: 134.6430110271851\n",
      "'prepareAndTrain'  483348.17 ms\n",
      "Preparing data for 63_31l\n",
      "'dataPreparation'  41.22 ms\n",
      "Skipping...\n",
      "Preparing data for 40D_106l\n",
      "'dataPreparation'  4756.85 ms\n",
      "Skipping...\n",
      "Preparing data for 27B_25l\n",
      "'dataPreparation'  50.93 ms\n",
      "Skipping...\n",
      "Preparing data for 145_88l\n",
      "'dataPreparation'  2165.91 ms\n",
      "training data for ('145', '4151', '4320')\n"
     ]
    },
    {
     "name": "stderr",
     "output_type": "stream",
     "text": [
      "/home/student/anaconda3/lib/python3.6/site-packages/sklearn/neural_network/multilayer_perceptron.py:564: ConvergenceWarning: Stochastic Optimizer: Maximum iterations (200) reached and the optimization hasn't converged yet.\n",
      "  % self.max_iter, ConvergenceWarning)\n"
     ]
    },
    {
     "name": "stdout",
     "output_type": "stream",
     "text": [
      "MAE: 487.6641862795951\n",
      ":(((( Unqualified route:('145', '4151', '4320')\n",
      "'prepareAndTrain'  4030.25 ms\n",
      "Preparing data for 31_17l\n",
      "'dataPreparation'  3818.17 ms\n",
      "training data for ('31', '621', '585')\n"
     ]
    },
    {
     "name": "stderr",
     "output_type": "stream",
     "text": [
      "/home/student/anaconda3/lib/python3.6/site-packages/sklearn/neural_network/multilayer_perceptron.py:564: ConvergenceWarning: Stochastic Optimizer: Maximum iterations (200) reached and the optimization hasn't converged yet.\n",
      "  % self.max_iter, ConvergenceWarning)\n"
     ]
    },
    {
     "name": "stdout",
     "output_type": "stream",
     "text": [
      "MAE: 143.4148493113706\n",
      "'prepareAndTrain'  14758.93 ms\n",
      "Preparing data for 15B_57l\n",
      "'dataPreparation'  3108.70 ms\n",
      "Skipping...\n",
      "Preparing data for 7_67l\n",
      "'dataPreparation'  10461.98 ms\n",
      "training data for ('7', '1174', '7639')\n"
     ]
    },
    {
     "name": "stderr",
     "output_type": "stream",
     "text": [
      "/home/student/anaconda3/lib/python3.6/site-packages/sklearn/neural_network/multilayer_perceptron.py:564: ConvergenceWarning: Stochastic Optimizer: Maximum iterations (200) reached and the optimization hasn't converged yet.\n",
      "  % self.max_iter, ConvergenceWarning)\n"
     ]
    },
    {
     "name": "stdout",
     "output_type": "stream",
     "text": [
      "MAE: 210.44928380001033\n",
      "'prepareAndTrain'  11382.80 ms\n",
      "Preparing data for 27B_38l\n",
      "'dataPreparation'  1115.73 ms\n",
      "training data for ('27B', '1176', '303')\n"
     ]
    },
    {
     "name": "stderr",
     "output_type": "stream",
     "text": [
      "/home/student/anaconda3/lib/python3.6/site-packages/sklearn/neural_network/multilayer_perceptron.py:564: ConvergenceWarning: Stochastic Optimizer: Maximum iterations (200) reached and the optimization hasn't converged yet.\n",
      "  % self.max_iter, ConvergenceWarning)\n"
     ]
    },
    {
     "name": "stdout",
     "output_type": "stream",
     "text": [
      "MAE: 239.71698971383677\n",
      "'prepareAndTrain'  3391.97 ms\n",
      "Preparing data for 150_6l\n",
      "'dataPreparation'  82271.94 ms\n",
      "Skipping...\n",
      "Preparing data for 41_9l\n",
      "'dataPreparation'  722.59 ms\n",
      "training data for ('41', '5044', '288')\n"
     ]
    },
    {
     "name": "stderr",
     "output_type": "stream",
     "text": [
      "/home/student/anaconda3/lib/python3.6/site-packages/sklearn/neural_network/multilayer_perceptron.py:564: ConvergenceWarning: Stochastic Optimizer: Maximum iterations (200) reached and the optimization hasn't converged yet.\n",
      "  % self.max_iter, ConvergenceWarning)\n"
     ]
    },
    {
     "name": "stdout",
     "output_type": "stream",
     "text": [
      "MAE: 453.9470512009765\n",
      ":(((( Unqualified route:('41', '5044', '288')\n",
      "'prepareAndTrain'  2275.37 ms\n",
      "Preparing data for 25A_273l\n",
      "'dataPreparation'  72982.34 ms\n",
      "training data for ('25A', '7391', '4616')\n"
     ]
    },
    {
     "name": "stderr",
     "output_type": "stream",
     "text": [
      "/home/student/anaconda3/lib/python3.6/site-packages/sklearn/neural_network/multilayer_perceptron.py:564: ConvergenceWarning: Stochastic Optimizer: Maximum iterations (200) reached and the optimization hasn't converged yet.\n",
      "  % self.max_iter, ConvergenceWarning)\n"
     ]
    },
    {
     "name": "stdout",
     "output_type": "stream",
     "text": [
      "MAE: 188.57639484689452\n",
      "'prepareAndTrain'  306065.88 ms\n",
      "Preparing data for 7D_115l\n",
      "'dataPreparation'  1405.96 ms\n",
      "training data for ('7D', '3057', '4962')\n"
     ]
    },
    {
     "name": "stderr",
     "output_type": "stream",
     "text": [
      "/home/student/anaconda3/lib/python3.6/site-packages/sklearn/neural_network/multilayer_perceptron.py:564: ConvergenceWarning: Stochastic Optimizer: Maximum iterations (200) reached and the optimization hasn't converged yet.\n",
      "  % self.max_iter, ConvergenceWarning)\n"
     ]
    },
    {
     "name": "stdout",
     "output_type": "stream",
     "text": [
      "MAE: 3084.660268211893\n",
      ":(((( Unqualified route:('7D', '3057', '4962')\n",
      "'prepareAndTrain'  787.23 ms\n",
      "Preparing data for 33X_47l\n",
      "'dataPreparation'  11036.43 ms\n",
      "Skipping...\n",
      "Preparing data for 27B_35l\n",
      "'dataPreparation'  211.90 ms\n",
      "Skipping...\n",
      "Preparing data for 67X_38l\n",
      "'dataPreparation'  8856.59 ms\n",
      "training data for ('67X', '4952', '6089')\n"
     ]
    },
    {
     "name": "stderr",
     "output_type": "stream",
     "text": [
      "/home/student/anaconda3/lib/python3.6/site-packages/sklearn/neural_network/multilayer_perceptron.py:564: ConvergenceWarning: Stochastic Optimizer: Maximum iterations (200) reached and the optimization hasn't converged yet.\n",
      "  % self.max_iter, ConvergenceWarning)\n"
     ]
    },
    {
     "name": "stdout",
     "output_type": "stream",
     "text": [
      "MAE: 293.6530790549937\n",
      "'prepareAndTrain'  24433.45 ms\n",
      "Preparing data for 70D_71l\n",
      "'dataPreparation'  667.97 ms\n",
      "training data for ('70D', '3333', '7571')\n"
     ]
    },
    {
     "name": "stderr",
     "output_type": "stream",
     "text": [
      "/home/student/anaconda3/lib/python3.6/site-packages/sklearn/neural_network/multilayer_perceptron.py:564: ConvergenceWarning: Stochastic Optimizer: Maximum iterations (200) reached and the optimization hasn't converged yet.\n",
      "  % self.max_iter, ConvergenceWarning)\n"
     ]
    },
    {
     "name": "stdout",
     "output_type": "stream",
     "text": [
      "MAE: 1416.4047055180865\n",
      ":(((( Unqualified route:('70D', '3333', '7571')\n",
      "'prepareAndTrain'  2252.77 ms\n",
      "Preparing data for 67X_41l\n",
      "'dataPreparation'  10472.25 ms\n",
      "training data for ('67X', '3921', '4952')\n"
     ]
    },
    {
     "name": "stderr",
     "output_type": "stream",
     "text": [
      "/home/student/anaconda3/lib/python3.6/site-packages/sklearn/neural_network/multilayer_perceptron.py:564: ConvergenceWarning: Stochastic Optimizer: Maximum iterations (200) reached and the optimization hasn't converged yet.\n",
      "  % self.max_iter, ConvergenceWarning)\n"
     ]
    },
    {
     "name": "stdout",
     "output_type": "stream",
     "text": [
      "MAE: 250.04653209373484\n",
      "'prepareAndTrain'  26489.38 ms\n",
      "Preparing data for 75_13l\n",
      "'dataPreparation'  767.46 ms\n",
      "Skipping...\n",
      "Preparing data for 116_1l\n",
      "'dataPreparation'  1382.07 ms\n",
      "training data for ('116', '848', '2955')\n"
     ]
    },
    {
     "name": "stderr",
     "output_type": "stream",
     "text": [
      "/home/student/anaconda3/lib/python3.6/site-packages/sklearn/neural_network/multilayer_perceptron.py:564: ConvergenceWarning: Stochastic Optimizer: Maximum iterations (200) reached and the optimization hasn't converged yet.\n",
      "  % self.max_iter, ConvergenceWarning)\n"
     ]
    },
    {
     "name": "stdout",
     "output_type": "stream",
     "text": [
      "MAE: 395.02334278474916\n",
      ":(((( Unqualified route:('116', '848', '2955')\n",
      "'prepareAndTrain'  3452.15 ms\n",
      "Preparing data for 145_104l\n",
      "'dataPreparation'  2178.68 ms\n",
      "training data for ('145', '760', '7574')\n"
     ]
    },
    {
     "name": "stderr",
     "output_type": "stream",
     "text": [
      "/home/student/anaconda3/lib/python3.6/site-packages/sklearn/neural_network/multilayer_perceptron.py:564: ConvergenceWarning: Stochastic Optimizer: Maximum iterations (200) reached and the optimization hasn't converged yet.\n",
      "  % self.max_iter, ConvergenceWarning)\n"
     ]
    },
    {
     "name": "stdout",
     "output_type": "stream",
     "text": [
      "MAE: 231.45670151982983\n",
      "'prepareAndTrain'  6453.49 ms\n",
      "Preparing data for 7D_116l\n",
      "'dataPreparation'  262.54 ms\n",
      "training data for ('7D', '3057', '4962')\n"
     ]
    },
    {
     "name": "stderr",
     "output_type": "stream",
     "text": [
      "/home/student/anaconda3/lib/python3.6/site-packages/sklearn/neural_network/multilayer_perceptron.py:564: ConvergenceWarning: Stochastic Optimizer: Maximum iterations (200) reached and the optimization hasn't converged yet.\n",
      "  % self.max_iter, ConvergenceWarning)\n"
     ]
    },
    {
     "name": "stdout",
     "output_type": "stream",
     "text": [
      "MAE: 3312.8449348244926\n",
      ":(((( Unqualified route:('7D', '3057', '4962')\n",
      "'prepareAndTrain'  300.31 ms\n",
      "Preparing data for 47_136l\n",
      "'dataPreparation'  38024.51 ms\n",
      "Skipping...\n",
      "Preparing data for 59_11l\n",
      "'dataPreparation'  8810.96 ms\n",
      "training data for ('59', '3099', '4983')\n"
     ]
    },
    {
     "name": "stderr",
     "output_type": "stream",
     "text": [
      "/home/student/anaconda3/lib/python3.6/site-packages/sklearn/neural_network/multilayer_perceptron.py:564: ConvergenceWarning: Stochastic Optimizer: Maximum iterations (200) reached and the optimization hasn't converged yet.\n",
      "  % self.max_iter, ConvergenceWarning)\n"
     ]
    },
    {
     "name": "stdout",
     "output_type": "stream",
     "text": [
      "MAE: 54.77857068757473\n",
      "'prepareAndTrain'  36042.26 ms\n",
      "Preparing data for 66X_94l\n",
      "'dataPreparation'  2889.01 ms\n",
      "training data for ('66X', '318', '5114')\n"
     ]
    },
    {
     "name": "stderr",
     "output_type": "stream",
     "text": [
      "/home/student/anaconda3/lib/python3.6/site-packages/sklearn/neural_network/multilayer_perceptron.py:564: ConvergenceWarning: Stochastic Optimizer: Maximum iterations (200) reached and the optimization hasn't converged yet.\n",
      "  % self.max_iter, ConvergenceWarning)\n"
     ]
    },
    {
     "name": "stdout",
     "output_type": "stream",
     "text": [
      "MAE: 236.00936521818178\n",
      "'prepareAndTrain'  10442.44 ms\n",
      "Preparing data for 39A_44l\n",
      "'dataPreparation'  632.09 ms\n",
      "training data for ('39A', '328', '7162')\n"
     ]
    },
    {
     "name": "stderr",
     "output_type": "stream",
     "text": [
      "/home/student/anaconda3/lib/python3.6/site-packages/sklearn/neural_network/multilayer_perceptron.py:564: ConvergenceWarning: Stochastic Optimizer: Maximum iterations (200) reached and the optimization hasn't converged yet.\n",
      "  % self.max_iter, ConvergenceWarning)\n"
     ]
    },
    {
     "name": "stdout",
     "output_type": "stream",
     "text": [
      "MAE: 1914.6984110506853\n",
      ":(((( Unqualified route:('39A', '328', '7162')\n",
      "'prepareAndTrain'  1799.66 ms\n",
      "Preparing data for 75_16l\n",
      "'dataPreparation'  99.40 ms\n",
      "Skipping...\n",
      "Preparing data for 31_18l\n",
      "'dataPreparation'  95047.98 ms\n",
      "Skipping...\n",
      "Preparing data for 140_22l\n",
      "'dataPreparation'  1166.70 ms\n",
      "training data for ('140', '896', '7491')\n"
     ]
    },
    {
     "name": "stderr",
     "output_type": "stream",
     "text": [
      "/home/student/anaconda3/lib/python3.6/site-packages/sklearn/neural_network/multilayer_perceptron.py:564: ConvergenceWarning: Stochastic Optimizer: Maximum iterations (200) reached and the optimization hasn't converged yet.\n",
      "  % self.max_iter, ConvergenceWarning)\n"
     ]
    },
    {
     "name": "stdout",
     "output_type": "stream",
     "text": [
      "MAE: 83.83924683560842\n",
      "'prepareAndTrain'  3877.93 ms\n",
      "Preparing data for 63_26l\n",
      "'dataPreparation'  259.83 ms\n",
      "Skipping...\n",
      "Preparing data for 27B_26l\n",
      "'dataPreparation'  2570.72 ms\n",
      "training data for ('27B', '300', '1233')\n"
     ]
    },
    {
     "name": "stderr",
     "output_type": "stream",
     "text": [
      "/home/student/anaconda3/lib/python3.6/site-packages/sklearn/neural_network/multilayer_perceptron.py:564: ConvergenceWarning: Stochastic Optimizer: Maximum iterations (200) reached and the optimization hasn't converged yet.\n",
      "  % self.max_iter, ConvergenceWarning)\n"
     ]
    },
    {
     "name": "stdout",
     "output_type": "stream",
     "text": [
      "MAE: 146.55344928147377\n",
      "'prepareAndTrain'  7303.25 ms\n",
      "Preparing data for 59_9l\n",
      "'dataPreparation'  28076.00 ms\n",
      "Skipping...\n",
      "Preparing data for 184_28l\n",
      "'dataPreparation'  66886.15 ms\n",
      "training data for ('184', '4657', '4168')\n"
     ]
    },
    {
     "name": "stderr",
     "output_type": "stream",
     "text": [
      "/home/student/anaconda3/lib/python3.6/site-packages/sklearn/neural_network/multilayer_perceptron.py:564: ConvergenceWarning: Stochastic Optimizer: Maximum iterations (200) reached and the optimization hasn't converged yet.\n",
      "  % self.max_iter, ConvergenceWarning)\n"
     ]
    },
    {
     "name": "stdout",
     "output_type": "stream",
     "text": [
      "MAE: 112.90938212121756\n",
      "'prepareAndTrain'  353970.80 ms\n",
      "Preparing data for 18_3l\n",
      "'dataPreparation'  127211.89 ms\n",
      "Skipping...\n",
      "Preparing data for 120_9l\n",
      "'dataPreparation'  60865.72 ms\n",
      "training data for ('120', '284', '6071')\n"
     ]
    },
    {
     "name": "stderr",
     "output_type": "stream",
     "text": [
      "/home/student/anaconda3/lib/python3.6/site-packages/sklearn/neural_network/multilayer_perceptron.py:564: ConvergenceWarning: Stochastic Optimizer: Maximum iterations (200) reached and the optimization hasn't converged yet.\n",
      "  % self.max_iter, ConvergenceWarning)\n"
     ]
    },
    {
     "name": "stdout",
     "output_type": "stream",
     "text": [
      "MAE: 89.48899272062854\n",
      "'prepareAndTrain'  313859.94 ms\n",
      "Preparing data for 41X_110l\n",
      "'dataPreparation'  2318.79 ms\n",
      "training data for ('41X', '4843', '4953')\n"
     ]
    },
    {
     "name": "stderr",
     "output_type": "stream",
     "text": [
      "/home/student/anaconda3/lib/python3.6/site-packages/sklearn/neural_network/multilayer_perceptron.py:564: ConvergenceWarning: Stochastic Optimizer: Maximum iterations (200) reached and the optimization hasn't converged yet.\n",
      "  % self.max_iter, ConvergenceWarning)\n"
     ]
    },
    {
     "name": "stdout",
     "output_type": "stream",
     "text": [
      "MAE: 317.411247562592\n",
      ":(((( Unqualified route:('41X', '4843', '4953')\n",
      "'prepareAndTrain'  6656.25 ms\n",
      "Preparing data for 37_13l\n",
      "'dataPreparation'  4447.77 ms\n",
      "training data for ('37', '4747', '313')\n"
     ]
    },
    {
     "name": "stderr",
     "output_type": "stream",
     "text": [
      "/home/student/anaconda3/lib/python3.6/site-packages/sklearn/neural_network/multilayer_perceptron.py:564: ConvergenceWarning: Stochastic Optimizer: Maximum iterations (200) reached and the optimization hasn't converged yet.\n",
      "  % self.max_iter, ConvergenceWarning)\n"
     ]
    },
    {
     "name": "stdout",
     "output_type": "stream",
     "text": [
      "MAE: 80.43306960009849\n",
      "'prepareAndTrain'  10994.28 ms\n",
      "Preparing data for 33_43l\n",
      "'dataPreparation'  3860.02 ms\n",
      "training data for ('33', '6048', '1174')\n"
     ]
    },
    {
     "name": "stderr",
     "output_type": "stream",
     "text": [
      "/home/student/anaconda3/lib/python3.6/site-packages/sklearn/neural_network/multilayer_perceptron.py:564: ConvergenceWarning: Stochastic Optimizer: Maximum iterations (200) reached and the optimization hasn't converged yet.\n",
      "  % self.max_iter, ConvergenceWarning)\n"
     ]
    },
    {
     "name": "stdout",
     "output_type": "stream",
     "text": [
      "MAE: 115.6694048957744\n",
      "'prepareAndTrain'  13629.02 ms\n",
      "Preparing data for 77X_61l\n",
      "'dataPreparation'  2540.77 ms\n",
      "training data for ('77X', '4713', '4952')\n"
     ]
    },
    {
     "name": "stderr",
     "output_type": "stream",
     "text": [
      "/home/student/anaconda3/lib/python3.6/site-packages/sklearn/neural_network/multilayer_perceptron.py:564: ConvergenceWarning: Stochastic Optimizer: Maximum iterations (200) reached and the optimization hasn't converged yet.\n",
      "  % self.max_iter, ConvergenceWarning)\n"
     ]
    },
    {
     "name": "stdout",
     "output_type": "stream",
     "text": [
      "MAE: 374.9601591204531\n",
      ":(((( Unqualified route:('77X', '4713', '4952')\n",
      "'prepareAndTrain'  8057.13 ms\n",
      "Preparing data for 27A_6l\n",
      "'dataPreparation'  80.96 ms\n",
      "Skipping...\n",
      "Preparing data for 41X_109l\n",
      "'dataPreparation'  3034.05 ms\n",
      "training data for ('41X', '3088', '4953')\n"
     ]
    },
    {
     "name": "stderr",
     "output_type": "stream",
     "text": [
      "/home/student/anaconda3/lib/python3.6/site-packages/sklearn/neural_network/multilayer_perceptron.py:564: ConvergenceWarning: Stochastic Optimizer: Maximum iterations (200) reached and the optimization hasn't converged yet.\n",
      "  % self.max_iter, ConvergenceWarning)\n"
     ]
    },
    {
     "name": "stdout",
     "output_type": "stream",
     "text": [
      "MAE: 322.32082448243403\n",
      ":(((( Unqualified route:('41X', '3088', '4953')\n",
      "'prepareAndTrain'  8352.23 ms\n",
      "Preparing data for 111_8l\n",
      "'dataPreparation'  99.67 ms\n",
      "Skipping...\n",
      "Preparing data for 66A_36l\n",
      "'dataPreparation'  35031.77 ms\n",
      "training data for ('66A', '3994', '7387')\n"
     ]
    },
    {
     "name": "stderr",
     "output_type": "stream",
     "text": [
      "/home/student/anaconda3/lib/python3.6/site-packages/sklearn/neural_network/multilayer_perceptron.py:564: ConvergenceWarning: Stochastic Optimizer: Maximum iterations (200) reached and the optimization hasn't converged yet.\n",
      "  % self.max_iter, ConvergenceWarning)\n"
     ]
    },
    {
     "name": "stdout",
     "output_type": "stream",
     "text": [
      "MAE: 132.9346626231997\n",
      "'prepareAndTrain'  160815.24 ms\n",
      "Preparing data for 66X_93l\n",
      "'dataPreparation'  1825.88 ms\n",
      "training data for ('66X', '4952', '4003')\n"
     ]
    },
    {
     "name": "stderr",
     "output_type": "stream",
     "text": [
      "/home/student/anaconda3/lib/python3.6/site-packages/sklearn/neural_network/multilayer_perceptron.py:564: ConvergenceWarning: Stochastic Optimizer: Maximum iterations (200) reached and the optimization hasn't converged yet.\n",
      "  % self.max_iter, ConvergenceWarning)\n"
     ]
    },
    {
     "name": "stdout",
     "output_type": "stream",
     "text": [
      "MAE: 509.80073477165257\n",
      ":(((( Unqualified route:('66X', '4952', '4003')\n",
      "'prepareAndTrain'  5833.75 ms\n",
      "Preparing data for 33_72l\n",
      "'dataPreparation'  1241.00 ms\n",
      "training data for ('33', '7592', '292')\n"
     ]
    },
    {
     "name": "stderr",
     "output_type": "stream",
     "text": [
      "/home/student/anaconda3/lib/python3.6/site-packages/sklearn/neural_network/multilayer_perceptron.py:564: ConvergenceWarning: Stochastic Optimizer: Maximum iterations (200) reached and the optimization hasn't converged yet.\n",
      "  % self.max_iter, ConvergenceWarning)\n"
     ]
    },
    {
     "name": "stdout",
     "output_type": "stream",
     "text": [
      "MAE: 424.664200282662\n",
      ":(((( Unqualified route:('33', '7592', '292')\n",
      "'prepareAndTrain'  3981.60 ms\n",
      "Preparing data for 67X_40l\n",
      "'dataPreparation'  2870.19 ms\n",
      "training data for ('67X', '318', '6089')\n"
     ]
    },
    {
     "name": "stderr",
     "output_type": "stream",
     "text": [
      "/home/student/anaconda3/lib/python3.6/site-packages/sklearn/neural_network/multilayer_perceptron.py:564: ConvergenceWarning: Stochastic Optimizer: Maximum iterations (200) reached and the optimization hasn't converged yet.\n",
      "  % self.max_iter, ConvergenceWarning)\n"
     ]
    },
    {
     "name": "stdout",
     "output_type": "stream",
     "text": [
      "MAE: 264.97988716577527\n",
      "'prepareAndTrain'  10847.91 ms\n",
      "Preparing data for 17_14l\n",
      "'dataPreparation'  1346.72 ms\n",
      "training data for ('17', '1380', '2086')\n"
     ]
    },
    {
     "name": "stderr",
     "output_type": "stream",
     "text": [
      "/home/student/anaconda3/lib/python3.6/site-packages/sklearn/neural_network/multilayer_perceptron.py:564: ConvergenceWarning: Stochastic Optimizer: Maximum iterations (200) reached and the optimization hasn't converged yet.\n",
      "  % self.max_iter, ConvergenceWarning)\n"
     ]
    },
    {
     "name": "stdout",
     "output_type": "stream",
     "text": [
      "MAE: 195.68528176370995\n",
      "'prepareAndTrain'  4664.53 ms\n",
      "Preparing data for 7_54l\n",
      "'dataPreparation'  16051.81 ms\n",
      "Skipping...\n",
      "Preparing data for 40_29l\n",
      "'dataPreparation'  1356.58 ms\n",
      "training data for ('40', '7132', '270')\n"
     ]
    },
    {
     "name": "stderr",
     "output_type": "stream",
     "text": [
      "/home/student/anaconda3/lib/python3.6/site-packages/sklearn/neural_network/multilayer_perceptron.py:564: ConvergenceWarning: Stochastic Optimizer: Maximum iterations (200) reached and the optimization hasn't converged yet.\n",
      "  % self.max_iter, ConvergenceWarning)\n"
     ]
    },
    {
     "name": "stdout",
     "output_type": "stream",
     "text": [
      "MAE: 283.9871635036289\n",
      "'prepareAndTrain'  2329.44 ms\n",
      "Preparing data for 185_61l\n",
      "'dataPreparation'  18.80 ms\n",
      "Skipping...\n",
      "Preparing data for 38_9l\n",
      "'dataPreparation'  69408.78 ms\n",
      "training data for ('38', '7333', '4745')\n"
     ]
    },
    {
     "name": "stderr",
     "output_type": "stream",
     "text": [
      "/home/student/anaconda3/lib/python3.6/site-packages/sklearn/neural_network/multilayer_perceptron.py:564: ConvergenceWarning: Stochastic Optimizer: Maximum iterations (200) reached and the optimization hasn't converged yet.\n",
      "  % self.max_iter, ConvergenceWarning)\n"
     ]
    },
    {
     "name": "stdout",
     "output_type": "stream",
     "text": [
      "MAE: 246.79829098234316\n",
      "'prepareAndTrain'  357502.63 ms\n",
      "Preparing data for 161_50l\n",
      "'dataPreparation'  4167.56 ms\n",
      "training data for ('161', '2825', '2933')\n"
     ]
    },
    {
     "name": "stderr",
     "output_type": "stream",
     "text": [
      "/home/student/anaconda3/lib/python3.6/site-packages/sklearn/neural_network/multilayer_perceptron.py:564: ConvergenceWarning: Stochastic Optimizer: Maximum iterations (200) reached and the optimization hasn't converged yet.\n",
      "  % self.max_iter, ConvergenceWarning)\n"
     ]
    },
    {
     "name": "stdout",
     "output_type": "stream",
     "text": [
      "MAE: 126.99129528769141\n",
      "'prepareAndTrain'  15399.84 ms\n",
      "Preparing data for 15_18l\n",
      "'dataPreparation'  3970.44 ms\n",
      "training data for ('15', '6282', '299')\n"
     ]
    },
    {
     "name": "stderr",
     "output_type": "stream",
     "text": [
      "/home/student/anaconda3/lib/python3.6/site-packages/sklearn/neural_network/multilayer_perceptron.py:564: ConvergenceWarning: Stochastic Optimizer: Maximum iterations (200) reached and the optimization hasn't converged yet.\n",
      "  % self.max_iter, ConvergenceWarning)\n"
     ]
    },
    {
     "name": "stdout",
     "output_type": "stream",
     "text": [
      "MAE: 103.95362287894089\n",
      "'prepareAndTrain'  14771.94 ms\n",
      "Preparing data for 84X_56l\n",
      "'dataPreparation'  3689.39 ms\n",
      "Skipping...\n",
      "Preparing data for 145_95l\n",
      "'dataPreparation'  2896.31 ms\n",
      "training data for ('145', '4320', '763')\n"
     ]
    },
    {
     "name": "stderr",
     "output_type": "stream",
     "text": [
      "/home/student/anaconda3/lib/python3.6/site-packages/sklearn/neural_network/multilayer_perceptron.py:564: ConvergenceWarning: Stochastic Optimizer: Maximum iterations (200) reached and the optimization hasn't converged yet.\n",
      "  % self.max_iter, ConvergenceWarning)\n"
     ]
    },
    {
     "name": "stdout",
     "output_type": "stream",
     "text": [
      "MAE: 272.4687393290588\n",
      "'prepareAndTrain'  10271.75 ms\n",
      "Preparing data for 84_31l\n",
      "'dataPreparation'  143.84 ms\n",
      "Skipping...\n",
      "Preparing data for 17_12l\n",
      "'dataPreparation'  646.83 ms\n",
      "training data for ('17', '765', '3085')\n"
     ]
    },
    {
     "name": "stderr",
     "output_type": "stream",
     "text": [
      "/home/student/anaconda3/lib/python3.6/site-packages/sklearn/neural_network/multilayer_perceptron.py:564: ConvergenceWarning: Stochastic Optimizer: Maximum iterations (200) reached and the optimization hasn't converged yet.\n",
      "  % self.max_iter, ConvergenceWarning)\n"
     ]
    },
    {
     "name": "stdout",
     "output_type": "stream",
     "text": [
      "MAE: 112.74952272651618\n",
      "'prepareAndTrain'  2104.88 ms\n",
      "Preparing data for 59_10l\n",
      "'dataPreparation'  8485.53 ms\n",
      "training data for ('59', '2037', '7652')\n"
     ]
    },
    {
     "name": "stderr",
     "output_type": "stream",
     "text": [
      "/home/student/anaconda3/lib/python3.6/site-packages/sklearn/neural_network/multilayer_perceptron.py:564: ConvergenceWarning: Stochastic Optimizer: Maximum iterations (200) reached and the optimization hasn't converged yet.\n",
      "  % self.max_iter, ConvergenceWarning)\n"
     ]
    },
    {
     "name": "stdout",
     "output_type": "stream",
     "text": [
      "MAE: 73.55867139271766\n",
      "'prepareAndTrain'  32973.71 ms\n",
      "Preparing data for 44_33l\n",
      "'dataPreparation'  2009.85 ms\n",
      "training data for ('44', '4096', '2892')\n"
     ]
    },
    {
     "name": "stderr",
     "output_type": "stream",
     "text": [
      "/home/student/anaconda3/lib/python3.6/site-packages/sklearn/neural_network/multilayer_perceptron.py:564: ConvergenceWarning: Stochastic Optimizer: Maximum iterations (200) reached and the optimization hasn't converged yet.\n",
      "  % self.max_iter, ConvergenceWarning)\n"
     ]
    },
    {
     "name": "stdout",
     "output_type": "stream",
     "text": [
      "MAE: 53.45491478892423\n",
      "'prepareAndTrain'  7282.90 ms\n",
      "Preparing data for 111_3l\n",
      "'dataPreparation'  2241.01 ms\n",
      "Skipping...\n",
      "Preparing data for 77A_28l\n",
      "'dataPreparation'  180829.93 ms\n",
      "training data for ('77A', '4713', '354')\n"
     ]
    },
    {
     "name": "stderr",
     "output_type": "stream",
     "text": [
      "/home/student/anaconda3/lib/python3.6/site-packages/sklearn/neural_network/multilayer_perceptron.py:564: ConvergenceWarning: Stochastic Optimizer: Maximum iterations (200) reached and the optimization hasn't converged yet.\n",
      "  % self.max_iter, ConvergenceWarning)\n"
     ]
    },
    {
     "name": "stdout",
     "output_type": "stream",
     "text": [
      "MAE: 182.1392910230364\n",
      "'prepareAndTrain'  735569.25 ms\n",
      "Preparing data for 17_16l\n",
      "'dataPreparation'  57.42 ms\n",
      "Skipping...\n",
      "Preparing data for 16_23l\n",
      "'dataPreparation'  8873.13 ms\n",
      "training data for ('16', '215', '2975')\n"
     ]
    },
    {
     "name": "stderr",
     "output_type": "stream",
     "text": [
      "/home/student/anaconda3/lib/python3.6/site-packages/sklearn/neural_network/multilayer_perceptron.py:564: ConvergenceWarning: Stochastic Optimizer: Maximum iterations (200) reached and the optimization hasn't converged yet.\n",
      "  % self.max_iter, ConvergenceWarning)\n"
     ]
    },
    {
     "name": "stdout",
     "output_type": "stream",
     "text": [
      "MAE: 263.4632588275229\n",
      "'prepareAndTrain'  23816.07 ms\n",
      "Preparing data for 45A_70l\n",
      "'dataPreparation'  208.37 ms\n",
      "Skipping...\n",
      "Preparing data for 68A_76l\n",
      "'dataPreparation'  3904.58 ms\n",
      "Skipping...\n",
      "Preparing data for 38_10l\n",
      "'dataPreparation'  131.49 ms\n",
      "Skipping...\n",
      "Preparing data for 63_30l\n",
      "'dataPreparation'  122.85 ms\n",
      "Skipping...\n",
      "Preparing data for 41_5l\n",
      "'dataPreparation'  1580.07 ms\n",
      "training data for ('41', '288', '7189')\n"
     ]
    },
    {
     "name": "stderr",
     "output_type": "stream",
     "text": [
      "/home/student/anaconda3/lib/python3.6/site-packages/sklearn/neural_network/multilayer_perceptron.py:564: ConvergenceWarning: Stochastic Optimizer: Maximum iterations (200) reached and the optimization hasn't converged yet.\n",
      "  % self.max_iter, ConvergenceWarning)\n"
     ]
    },
    {
     "name": "stdout",
     "output_type": "stream",
     "text": [
      "MAE: 188.81339487239796\n",
      "'prepareAndTrain'  5770.46 ms\n",
      "Preparing data for 66_14l\n",
      "'dataPreparation'  1616.73 ms\n",
      "training data for ('66', '3985', '7387')\n"
     ]
    },
    {
     "name": "stderr",
     "output_type": "stream",
     "text": [
      "/home/student/anaconda3/lib/python3.6/site-packages/sklearn/neural_network/multilayer_perceptron.py:564: ConvergenceWarning: Stochastic Optimizer: Maximum iterations (200) reached and the optimization hasn't converged yet.\n",
      "  % self.max_iter, ConvergenceWarning)\n"
     ]
    },
    {
     "name": "stdout",
     "output_type": "stream",
     "text": [
      "MAE: 724.3834225637404\n",
      ":(((( Unqualified route:('66', '3985', '7387')\n",
      "'prepareAndTrain'  1810.53 ms\n",
      "Preparing data for 44B_60l\n",
      "'dataPreparation'  5964.61 ms\n",
      "training data for ('44B', '2825', '3514')\n"
     ]
    },
    {
     "name": "stderr",
     "output_type": "stream",
     "text": [
      "/home/student/anaconda3/lib/python3.6/site-packages/sklearn/neural_network/multilayer_perceptron.py:564: ConvergenceWarning: Stochastic Optimizer: Maximum iterations (200) reached and the optimization hasn't converged yet.\n",
      "  % self.max_iter, ConvergenceWarning)\n"
     ]
    },
    {
     "name": "stdout",
     "output_type": "stream",
     "text": [
      "MAE: 111.21174188486022\n",
      "'prepareAndTrain'  23690.61 ms\n",
      "Preparing data for 111_7l\n",
      "'dataPreparation'  56610.09 ms\n",
      "training data for ('79', '326', '2908')\n"
     ]
    },
    {
     "name": "stderr",
     "output_type": "stream",
     "text": [
      "/home/student/anaconda3/lib/python3.6/site-packages/sklearn/neural_network/multilayer_perceptron.py:564: ConvergenceWarning: Stochastic Optimizer: Maximum iterations (200) reached and the optimization hasn't converged yet.\n",
      "  % self.max_iter, ConvergenceWarning)\n"
     ]
    },
    {
     "name": "stdout",
     "output_type": "stream",
     "text": [
      "MAE: 125.11422926223221\n",
      "'prepareAndTrain'  298142.13 ms\n",
      "Preparing data for 68_71l\n",
      "'dataPreparation'  3480.58 ms\n",
      "Skipping...\n",
      "Preparing data for 104_15l\n",
      "'dataPreparation'  19566.87 ms\n",
      "training data for ('104', '1730', '7571')\n"
     ]
    },
    {
     "name": "stderr",
     "output_type": "stream",
     "text": [
      "/home/student/anaconda3/lib/python3.6/site-packages/sklearn/neural_network/multilayer_perceptron.py:564: ConvergenceWarning: Stochastic Optimizer: Maximum iterations (200) reached and the optimization hasn't converged yet.\n",
      "  % self.max_iter, ConvergenceWarning)\n"
     ]
    },
    {
     "name": "stdout",
     "output_type": "stream",
     "text": [
      "MAE: 114.29071982740774\n",
      "'prepareAndTrain'  70655.25 ms\n",
      "Preparing data for 63_22l\n",
      "'dataPreparation'  30.41 ms\n",
      "Skipping...\n",
      "Preparing data for 17_17l\n",
      "'dataPreparation'  4650.94 ms\n",
      "training data for ('17', '4391', '1367')\n"
     ]
    },
    {
     "name": "stderr",
     "output_type": "stream",
     "text": [
      "/home/student/anaconda3/lib/python3.6/site-packages/sklearn/neural_network/multilayer_perceptron.py:564: ConvergenceWarning: Stochastic Optimizer: Maximum iterations (200) reached and the optimization hasn't converged yet.\n",
      "  % self.max_iter, ConvergenceWarning)\n"
     ]
    },
    {
     "name": "stdout",
     "output_type": "stream",
     "text": [
      "MAE: 125.62234967206776\n",
      "'prepareAndTrain'  14474.94 ms\n",
      "Preparing data for 33_42l\n",
      "'dataPreparation'  49370.89 ms\n",
      "training data for ('33', '7592', '292')\n"
     ]
    },
    {
     "name": "stderr",
     "output_type": "stream",
     "text": [
      "/home/student/anaconda3/lib/python3.6/site-packages/sklearn/neural_network/multilayer_perceptron.py:564: ConvergenceWarning: Stochastic Optimizer: Maximum iterations (200) reached and the optimization hasn't converged yet.\n",
      "  % self.max_iter, ConvergenceWarning)\n"
     ]
    },
    {
     "name": "stdout",
     "output_type": "stream",
     "text": [
      "MAE: 178.1006047924281\n",
      "'prepareAndTrain'  198947.95 ms\n",
      "Preparing data for 69_30l\n",
      "'dataPreparation'  3037.87 ms\n",
      "training data for ('69', '4564', '1473')\n"
     ]
    },
    {
     "name": "stderr",
     "output_type": "stream",
     "text": [
      "/home/student/anaconda3/lib/python3.6/site-packages/sklearn/neural_network/multilayer_perceptron.py:564: ConvergenceWarning: Stochastic Optimizer: Maximum iterations (200) reached and the optimization hasn't converged yet.\n",
      "  % self.max_iter, ConvergenceWarning)\n"
     ]
    },
    {
     "name": "stdout",
     "output_type": "stream",
     "text": [
      "MAE: 70.92337284019456\n",
      "'prepareAndTrain'  11588.36 ms\n",
      "Preparing data for 27_20l\n",
      "'dataPreparation'  3734.65 ms\n",
      "training data for ('27', '4595', '302')\n"
     ]
    },
    {
     "name": "stderr",
     "output_type": "stream",
     "text": [
      "/home/student/anaconda3/lib/python3.6/site-packages/sklearn/neural_network/multilayer_perceptron.py:564: ConvergenceWarning: Stochastic Optimizer: Maximum iterations (200) reached and the optimization hasn't converged yet.\n",
      "  % self.max_iter, ConvergenceWarning)\n"
     ]
    },
    {
     "name": "stdout",
     "output_type": "stream",
     "text": [
      "MAE: 79.4274197893334\n",
      "'prepareAndTrain'  14093.01 ms\n",
      "Preparing data for 38D_68l\n",
      "'dataPreparation'  1447.30 ms\n",
      "training data for ('38D', '7333', '4745')\n"
     ]
    },
    {
     "name": "stderr",
     "output_type": "stream",
     "text": [
      "/home/student/anaconda3/lib/python3.6/site-packages/sklearn/neural_network/multilayer_perceptron.py:564: ConvergenceWarning: Stochastic Optimizer: Maximum iterations (200) reached and the optimization hasn't converged yet.\n",
      "  % self.max_iter, ConvergenceWarning)\n"
     ]
    },
    {
     "name": "stdout",
     "output_type": "stream",
     "text": [
      "MAE: 436.3440242708087\n",
      ":(((( Unqualified route:('38D', '7333', '4745')\n",
      "'prepareAndTrain'  4349.15 ms\n",
      "Preparing data for 17_18l\n",
      "'dataPreparation'  22.90 ms\n",
      "Skipping...\n",
      "Preparing data for 32_58l\n",
      "'dataPreparation'  66552.88 ms\n",
      "Skipping...\n",
      "Preparing data for 79_11l\n",
      "'dataPreparation'  52632.11 ms\n",
      "training data for ('79', '2670', '326')\n"
     ]
    },
    {
     "name": "stderr",
     "output_type": "stream",
     "text": [
      "/home/student/anaconda3/lib/python3.6/site-packages/sklearn/neural_network/multilayer_perceptron.py:564: ConvergenceWarning: Stochastic Optimizer: Maximum iterations (200) reached and the optimization hasn't converged yet.\n",
      "  % self.max_iter, ConvergenceWarning)\n"
     ]
    },
    {
     "name": "stdout",
     "output_type": "stream",
     "text": [
      "MAE: 101.80898989193003\n",
      "'prepareAndTrain'  201479.26 ms\n",
      "Preparing data for 9_7l\n",
      "'dataPreparation'  204454.20 ms\n",
      "training data for ('9', '4392', '7131')\n"
     ]
    },
    {
     "name": "stderr",
     "output_type": "stream",
     "text": [
      "/home/student/anaconda3/lib/python3.6/site-packages/sklearn/neural_network/multilayer_perceptron.py:564: ConvergenceWarning: Stochastic Optimizer: Maximum iterations (200) reached and the optimization hasn't converged yet.\n",
      "  % self.max_iter, ConvergenceWarning)\n"
     ]
    },
    {
     "name": "stdout",
     "output_type": "stream",
     "text": [
      "MAE: 205.4942081544882\n",
      "'prepareAndTrain'  841061.00 ms\n",
      "Preparing data for 18_5l\n",
      "'dataPreparation'  5673.10 ms\n",
      "training data for ('18', '849', '4357')\n"
     ]
    },
    {
     "name": "stderr",
     "output_type": "stream",
     "text": [
      "/home/student/anaconda3/lib/python3.6/site-packages/sklearn/neural_network/multilayer_perceptron.py:564: ConvergenceWarning: Stochastic Optimizer: Maximum iterations (200) reached and the optimization hasn't converged yet.\n",
      "  % self.max_iter, ConvergenceWarning)\n"
     ]
    },
    {
     "name": "stdout",
     "output_type": "stream",
     "text": [
      "MAE: 108.61570159024004\n",
      "'prepareAndTrain'  21614.33 ms\n",
      "Preparing data for 236_9l\n",
      "'dataPreparation'  2627.60 ms\n",
      "training data for ('236', '4747', '4745')\n"
     ]
    },
    {
     "name": "stderr",
     "output_type": "stream",
     "text": [
      "/home/student/anaconda3/lib/python3.6/site-packages/sklearn/neural_network/multilayer_perceptron.py:564: ConvergenceWarning: Stochastic Optimizer: Maximum iterations (200) reached and the optimization hasn't converged yet.\n",
      "  % self.max_iter, ConvergenceWarning)\n"
     ]
    },
    {
     "name": "stdout",
     "output_type": "stream",
     "text": [
      "MAE: 106.72996150209802\n",
      "'prepareAndTrain'  9056.75 ms\n",
      "Preparing data for 104_16l\n",
      "'dataPreparation'  20574.40 ms\n",
      "training data for ('104', '7571', '1749')\n"
     ]
    },
    {
     "name": "stderr",
     "output_type": "stream",
     "text": [
      "/home/student/anaconda3/lib/python3.6/site-packages/sklearn/neural_network/multilayer_perceptron.py:564: ConvergenceWarning: Stochastic Optimizer: Maximum iterations (200) reached and the optimization hasn't converged yet.\n",
      "  % self.max_iter, ConvergenceWarning)\n"
     ]
    },
    {
     "name": "stdout",
     "output_type": "stream",
     "text": [
      "MAE: 131.0578364635207\n",
      "'prepareAndTrain'  94000.00 ms\n",
      "Preparing data for 1_38l\n",
      "'dataPreparation'  8665.22 ms\n",
      "training data for ('1', '265', '380')\n"
     ]
    },
    {
     "name": "stderr",
     "output_type": "stream",
     "text": [
      "/home/student/anaconda3/lib/python3.6/site-packages/sklearn/neural_network/multilayer_perceptron.py:564: ConvergenceWarning: Stochastic Optimizer: Maximum iterations (200) reached and the optimization hasn't converged yet.\n",
      "  % self.max_iter, ConvergenceWarning)\n"
     ]
    },
    {
     "name": "stdout",
     "output_type": "stream",
     "text": [
      "MAE: 113.98208255716894\n",
      "'prepareAndTrain'  33295.20 ms\n",
      "Preparing data for 236_10l\n",
      "'dataPreparation'  2492.62 ms\n",
      "training data for ('236', '4745', '7026')\n"
     ]
    },
    {
     "name": "stderr",
     "output_type": "stream",
     "text": [
      "/home/student/anaconda3/lib/python3.6/site-packages/sklearn/neural_network/multilayer_perceptron.py:564: ConvergenceWarning: Stochastic Optimizer: Maximum iterations (200) reached and the optimization hasn't converged yet.\n",
      "  % self.max_iter, ConvergenceWarning)\n"
     ]
    },
    {
     "name": "stdout",
     "output_type": "stream",
     "text": [
      "MAE: 157.9640950955958\n",
      "'prepareAndTrain'  7201.40 ms\n",
      "Preparing data for 84_32l\n",
      "'dataPreparation'  4271.82 ms\n",
      "training data for ('84', '4260', '4168')\n"
     ]
    },
    {
     "name": "stderr",
     "output_type": "stream",
     "text": [
      "/home/student/anaconda3/lib/python3.6/site-packages/sklearn/neural_network/multilayer_perceptron.py:564: ConvergenceWarning: Stochastic Optimizer: Maximum iterations (200) reached and the optimization hasn't converged yet.\n",
      "  % self.max_iter, ConvergenceWarning)\n"
     ]
    },
    {
     "name": "stdout",
     "output_type": "stream",
     "text": [
      "MAE: 86.15081615271211\n",
      "'prepareAndTrain'  16515.08 ms\n",
      "Preparing data for 27_9l\n",
      "'dataPreparation'  8939.63 ms\n",
      "training data for ('27', '2353', '298')\n"
     ]
    },
    {
     "name": "stderr",
     "output_type": "stream",
     "text": [
      "/home/student/anaconda3/lib/python3.6/site-packages/sklearn/neural_network/multilayer_perceptron.py:564: ConvergenceWarning: Stochastic Optimizer: Maximum iterations (200) reached and the optimization hasn't converged yet.\n",
      "  % self.max_iter, ConvergenceWarning)\n"
     ]
    },
    {
     "name": "stdout",
     "output_type": "stream",
     "text": [
      "MAE: 81.81271805707806\n",
      "'prepareAndTrain'  35203.86 ms\n",
      "Preparing data for 43_84l\n",
      "'dataPreparation'  58624.97 ms\n",
      "training data for ('43', '1184', '7189')\n"
     ]
    },
    {
     "name": "stderr",
     "output_type": "stream",
     "text": [
      "/home/student/anaconda3/lib/python3.6/site-packages/sklearn/neural_network/multilayer_perceptron.py:564: ConvergenceWarning: Stochastic Optimizer: Maximum iterations (200) reached and the optimization hasn't converged yet.\n",
      "  % self.max_iter, ConvergenceWarning)\n"
     ]
    },
    {
     "name": "stdout",
     "output_type": "stream",
     "text": [
      "MAE: 151.91341957219828\n",
      "'prepareAndTrain'  339906.53 ms\n",
      "Preparing data for 8_128l\n",
      "'dataPreparation'  9080.87 ms\n",
      "Skipping...\n",
      "Preparing data for 140_21l\n",
      "'dataPreparation'  116997.42 ms\n",
      "training data for ('140', '896', '7149')\n"
     ]
    },
    {
     "name": "stderr",
     "output_type": "stream",
     "text": [
      "/home/student/anaconda3/lib/python3.6/site-packages/sklearn/neural_network/multilayer_perceptron.py:564: ConvergenceWarning: Stochastic Optimizer: Maximum iterations (200) reached and the optimization hasn't converged yet.\n",
      "  % self.max_iter, ConvergenceWarning)\n"
     ]
    },
    {
     "name": "stdout",
     "output_type": "stream",
     "text": [
      "MAE: 204.5162898225351\n",
      "'prepareAndTrain'  445351.42 ms\n",
      "Preparing data for 16_22l\n",
      "'dataPreparation'  2506.22 ms\n",
      "training data for ('16', '208', '2975')\n"
     ]
    },
    {
     "name": "stderr",
     "output_type": "stream",
     "text": [
      "/home/student/anaconda3/lib/python3.6/site-packages/sklearn/neural_network/multilayer_perceptron.py:564: ConvergenceWarning: Stochastic Optimizer: Maximum iterations (200) reached and the optimization hasn't converged yet.\n",
      "  % self.max_iter, ConvergenceWarning)\n"
     ]
    },
    {
     "name": "stdout",
     "output_type": "stream",
     "text": [
      "MAE: 451.71393273514565\n",
      ":(((( Unqualified route:('16', '208', '2975')\n",
      "'prepareAndTrain'  8750.11 ms\n",
      "Preparing data for 38_13l\n",
      "'dataPreparation'  3066.51 ms\n",
      "training data for ('38', '4745', '265')\n"
     ]
    },
    {
     "name": "stderr",
     "output_type": "stream",
     "text": [
      "/home/student/anaconda3/lib/python3.6/site-packages/sklearn/neural_network/multilayer_perceptron.py:564: ConvergenceWarning: Stochastic Optimizer: Maximum iterations (200) reached and the optimization hasn't converged yet.\n",
      "  % self.max_iter, ConvergenceWarning)\n"
     ]
    },
    {
     "name": "stdout",
     "output_type": "stream",
     "text": [
      "MAE: 80.31472726511652\n",
      "'prepareAndTrain'  11225.29 ms\n",
      "Preparing data for 68_72l\n",
      "'dataPreparation'  31095.31 ms\n",
      "Skipping...\n",
      "Preparing data for 185_59l\n",
      "'dataPreparation'  52.85 ms\n",
      "Skipping...\n",
      "Preparing data for 44_35l\n",
      "'dataPreparation'  15559.93 ms\n",
      "Skipping...\n",
      "Preparing data for 15_10l\n",
      "'dataPreparation'  1989.69 ms\n",
      "training data for ('15', '6318', '5190')\n"
     ]
    },
    {
     "name": "stderr",
     "output_type": "stream",
     "text": [
      "/home/student/anaconda3/lib/python3.6/site-packages/sklearn/neural_network/multilayer_perceptron.py:564: ConvergenceWarning: Stochastic Optimizer: Maximum iterations (200) reached and the optimization hasn't converged yet.\n",
      "  % self.max_iter, ConvergenceWarning)\n"
     ]
    },
    {
     "name": "stdout",
     "output_type": "stream",
     "text": [
      "MAE: 75.37924310051343\n",
      "'prepareAndTrain'  7331.92 ms\n",
      "Preparing data for 68_69l\n",
      "'dataPreparation'  10595.80 ms\n",
      "Skipping...\n",
      "Preparing data for 7D_122l\n",
      "'dataPreparation'  196.39 ms\n",
      "training data for ('7D', '3057', '4962')\n"
     ]
    },
    {
     "name": "stderr",
     "output_type": "stream",
     "text": [
      "/home/student/anaconda3/lib/python3.6/site-packages/sklearn/neural_network/multilayer_perceptron.py:564: ConvergenceWarning: Stochastic Optimizer: Maximum iterations (200) reached and the optimization hasn't converged yet.\n",
      "  % self.max_iter, ConvergenceWarning)\n"
     ]
    },
    {
     "name": "stdout",
     "output_type": "stream",
     "text": [
      "MAE: 3363.746381256284\n",
      ":(((( Unqualified route:('7D', '3057', '4962')\n",
      "'prepareAndTrain'  236.98 ms\n",
      "Preparing data for 83_21l\n",
      "'dataPreparation'  395.34 ms\n",
      "training data for ('83', '7132', '336')\n"
     ]
    },
    {
     "name": "stderr",
     "output_type": "stream",
     "text": [
      "/home/student/anaconda3/lib/python3.6/site-packages/sklearn/neural_network/multilayer_perceptron.py:564: ConvergenceWarning: Stochastic Optimizer: Maximum iterations (200) reached and the optimization hasn't converged yet.\n",
      "  % self.max_iter, ConvergenceWarning)\n"
     ]
    },
    {
     "name": "stdout",
     "output_type": "stream",
     "text": [
      "MAE: 463.39683718808305\n",
      ":(((( Unqualified route:('83', '7132', '336')\n",
      "'prepareAndTrain'  1209.24 ms\n",
      "Preparing data for 7_61l\n",
      "'dataPreparation'  4958.34 ms\n",
      "Skipping...\n",
      "Preparing data for 33_71l\n",
      "'dataPreparation'  29.78 ms\n",
      "Skipping...\n",
      "Preparing data for 238_12l\n",
      "'dataPreparation'  884.67 ms\n",
      "training data for ('238', '7073', '7026')\n"
     ]
    },
    {
     "name": "stderr",
     "output_type": "stream",
     "text": [
      "/home/student/anaconda3/lib/python3.6/site-packages/sklearn/neural_network/multilayer_perceptron.py:564: ConvergenceWarning: Stochastic Optimizer: Maximum iterations (200) reached and the optimization hasn't converged yet.\n",
      "  % self.max_iter, ConvergenceWarning)\n"
     ]
    },
    {
     "name": "stdout",
     "output_type": "stream",
     "text": [
      "MAE: 159.76050715248735\n",
      "'prepareAndTrain'  2265.55 ms\n",
      "Preparing data for 42_42l\n",
      "'dataPreparation'  102857.44 ms\n",
      "training data for ('42', '1184', '3616')\n"
     ]
    },
    {
     "name": "stderr",
     "output_type": "stream",
     "text": [
      "/home/student/anaconda3/lib/python3.6/site-packages/sklearn/neural_network/multilayer_perceptron.py:564: ConvergenceWarning: Stochastic Optimizer: Maximum iterations (200) reached and the optimization hasn't converged yet.\n",
      "  % self.max_iter, ConvergenceWarning)\n"
     ]
    },
    {
     "name": "stdout",
     "output_type": "stream",
     "text": [
      "MAE: 164.65184108595614\n",
      "'prepareAndTrain'  561538.50 ms\n",
      "Preparing data for 67X_42l\n",
      "'dataPreparation'  79.37 ms\n",
      "Skipping...\n",
      "Preparing data for 38A_23l\n",
      "'dataPreparation'  2433.03 ms\n",
      "training data for ('38A', '4745', '265')\n"
     ]
    },
    {
     "name": "stderr",
     "output_type": "stream",
     "text": [
      "/home/student/anaconda3/lib/python3.6/site-packages/sklearn/neural_network/multilayer_perceptron.py:564: ConvergenceWarning: Stochastic Optimizer: Maximum iterations (200) reached and the optimization hasn't converged yet.\n",
      "  % self.max_iter, ConvergenceWarning)\n"
     ]
    },
    {
     "name": "stdout",
     "output_type": "stream",
     "text": [
      "MAE: 89.48945975086153\n",
      "'prepareAndTrain'  8834.00 ms\n",
      "Preparing data for 145_99l\n",
      "'dataPreparation'  6595.62 ms\n",
      "training data for ('145', '767', '6000')\n"
     ]
    },
    {
     "name": "stderr",
     "output_type": "stream",
     "text": [
      "/home/student/anaconda3/lib/python3.6/site-packages/sklearn/neural_network/multilayer_perceptron.py:564: ConvergenceWarning: Stochastic Optimizer: Maximum iterations (200) reached and the optimization hasn't converged yet.\n",
      "  % self.max_iter, ConvergenceWarning)\n"
     ]
    },
    {
     "name": "stdout",
     "output_type": "stream",
     "text": [
      "MAE: 181.43011749655017\n",
      "'prepareAndTrain'  26386.21 ms\n",
      "Preparing data for 68_73l\n",
      "'dataPreparation'  9433.30 ms\n",
      "Skipping...\n",
      "Preparing data for 13_63l\n",
      "'dataPreparation'  23766.94 ms\n",
      "training data for ('13', '324', '7230')\n"
     ]
    },
    {
     "name": "stderr",
     "output_type": "stream",
     "text": [
      "/home/student/anaconda3/lib/python3.6/site-packages/sklearn/neural_network/multilayer_perceptron.py:564: ConvergenceWarning: Stochastic Optimizer: Maximum iterations (200) reached and the optimization hasn't converged yet.\n",
      "  % self.max_iter, ConvergenceWarning)\n"
     ]
    },
    {
     "name": "stdout",
     "output_type": "stream",
     "text": [
      "MAE: 287.7936879226833\n",
      "'prepareAndTrain'  111597.44 ms\n",
      "Preparing data for 45A_67l\n",
      "'dataPreparation'  857.25 ms\n",
      "Skipping...\n",
      "Preparing data for 70_69l\n",
      "'dataPreparation'  2975.59 ms\n",
      "training data for ('70', '3333', '313')\n"
     ]
    },
    {
     "name": "stderr",
     "output_type": "stream",
     "text": [
      "/home/student/anaconda3/lib/python3.6/site-packages/sklearn/neural_network/multilayer_perceptron.py:564: ConvergenceWarning: Stochastic Optimizer: Maximum iterations (200) reached and the optimization hasn't converged yet.\n",
      "  % self.max_iter, ConvergenceWarning)\n"
     ]
    },
    {
     "name": "stdout",
     "output_type": "stream",
     "text": [
      "MAE: 176.21462143600527\n",
      "'prepareAndTrain'  6165.81 ms\n",
      "Preparing data for 83A_23l\n",
      "'dataPreparation'  50314.89 ms\n",
      "training data for ('83A', '2492', '332')\n"
     ]
    },
    {
     "name": "stderr",
     "output_type": "stream",
     "text": [
      "/home/student/anaconda3/lib/python3.6/site-packages/sklearn/neural_network/multilayer_perceptron.py:564: ConvergenceWarning: Stochastic Optimizer: Maximum iterations (200) reached and the optimization hasn't converged yet.\n",
      "  % self.max_iter, ConvergenceWarning)\n"
     ]
    },
    {
     "name": "stdout",
     "output_type": "stream",
     "text": [
      "MAE: 200.98626831356017\n",
      "'prepareAndTrain'  246862.27 ms\n",
      "Preparing data for 123_36l\n",
      "'dataPreparation'  181842.52 ms\n",
      "training data for ('123', '1491', '6056')\n"
     ]
    },
    {
     "name": "stderr",
     "output_type": "stream",
     "text": [
      "/home/student/anaconda3/lib/python3.6/site-packages/sklearn/neural_network/multilayer_perceptron.py:564: ConvergenceWarning: Stochastic Optimizer: Maximum iterations (200) reached and the optimization hasn't converged yet.\n",
      "  % self.max_iter, ConvergenceWarning)\n"
     ]
    },
    {
     "name": "stdout",
     "output_type": "stream",
     "text": [
      "MAE: 193.214803548119\n",
      "'prepareAndTrain'  757018.08 ms\n",
      "Preparing data for 38A_33l\n",
      "'dataPreparation'  192.55 ms\n",
      "Skipping...\n",
      "Preparing data for 65_77l\n",
      "'dataPreparation'  30081.72 ms\n",
      "training data for ('65', '5111', '7564')\n"
     ]
    },
    {
     "name": "stderr",
     "output_type": "stream",
     "text": [
      "/home/student/anaconda3/lib/python3.6/site-packages/sklearn/neural_network/multilayer_perceptron.py:564: ConvergenceWarning: Stochastic Optimizer: Maximum iterations (200) reached and the optimization hasn't converged yet.\n",
      "  % self.max_iter, ConvergenceWarning)\n"
     ]
    },
    {
     "name": "stdout",
     "output_type": "stream",
     "text": [
      "MAE: 135.76606532677746\n",
      "'prepareAndTrain'  152020.66 ms\n",
      "Preparing data for 130_11l\n",
      "'dataPreparation'  151804.26 ms\n",
      "training data for ('130', '1772', '293')\n"
     ]
    },
    {
     "name": "stderr",
     "output_type": "stream",
     "text": [
      "/home/student/anaconda3/lib/python3.6/site-packages/sklearn/neural_network/multilayer_perceptron.py:564: ConvergenceWarning: Stochastic Optimizer: Maximum iterations (200) reached and the optimization hasn't converged yet.\n",
      "  % self.max_iter, ConvergenceWarning)\n"
     ]
    },
    {
     "name": "stdout",
     "output_type": "stream",
     "text": [
      "MAE: 105.56857755077212\n",
      "'prepareAndTrain'  550372.33 ms\n",
      "Preparing data for 145_94l\n",
      "'dataPreparation'  1315.71 ms\n",
      "training data for ('145', '4320', '4132')\n"
     ]
    },
    {
     "name": "stderr",
     "output_type": "stream",
     "text": [
      "/home/student/anaconda3/lib/python3.6/site-packages/sklearn/neural_network/multilayer_perceptron.py:564: ConvergenceWarning: Stochastic Optimizer: Maximum iterations (200) reached and the optimization hasn't converged yet.\n",
      "  % self.max_iter, ConvergenceWarning)\n"
     ]
    },
    {
     "name": "stdout",
     "output_type": "stream",
     "text": [
      "MAE: 552.3511710051889\n",
      ":(((( Unqualified route:('145', '4320', '4132')\n",
      "'prepareAndTrain'  3305.15 ms\n",
      "Preparing data for 47_139l\n",
      "'dataPreparation'  39133.97 ms\n",
      "Skipping...\n",
      "Preparing data for 27B_39l\n",
      "'dataPreparation'  47.03 ms\n",
      "Skipping...\n",
      "Preparing data for 38B_45l\n",
      "'dataPreparation'  617.82 ms\n",
      "training data for ('38B', '4745', '6059')\n"
     ]
    },
    {
     "name": "stderr",
     "output_type": "stream",
     "text": [
      "/home/student/anaconda3/lib/python3.6/site-packages/sklearn/neural_network/multilayer_perceptron.py:564: ConvergenceWarning: Stochastic Optimizer: Maximum iterations (200) reached and the optimization hasn't converged yet.\n",
      "  % self.max_iter, ConvergenceWarning)\n"
     ]
    },
    {
     "name": "stdout",
     "output_type": "stream",
     "text": [
      "MAE: 659.5760026953722\n",
      ":(((( Unqualified route:('38B', '4745', '6059')\n",
      "'prepareAndTrain'  1649.86 ms\n",
      "Preparing data for 83_19l\n",
      "'dataPreparation'  13527.06 ms\n",
      "training data for ('83', '7132', '2492')\n"
     ]
    },
    {
     "name": "stderr",
     "output_type": "stream",
     "text": [
      "/home/student/anaconda3/lib/python3.6/site-packages/sklearn/neural_network/multilayer_perceptron.py:564: ConvergenceWarning: Stochastic Optimizer: Maximum iterations (200) reached and the optimization hasn't converged yet.\n",
      "  % self.max_iter, ConvergenceWarning)\n"
     ]
    },
    {
     "name": "stdout",
     "output_type": "stream",
     "text": [
      "MAE: 191.42842602086475\n",
      "'prepareAndTrain'  53337.19 ms\n",
      "Preparing data for 40_25l\n",
      "'dataPreparation'  3545.10 ms\n",
      "Skipping...\n",
      "Preparing data for 70_60l\n",
      "'dataPreparation'  50814.23 ms\n",
      "training data for ('70', '7333', '3333')\n"
     ]
    },
    {
     "name": "stderr",
     "output_type": "stream",
     "text": [
      "/home/student/anaconda3/lib/python3.6/site-packages/sklearn/neural_network/multilayer_perceptron.py:564: ConvergenceWarning: Stochastic Optimizer: Maximum iterations (200) reached and the optimization hasn't converged yet.\n",
      "  % self.max_iter, ConvergenceWarning)\n"
     ]
    },
    {
     "name": "stdout",
     "output_type": "stream",
     "text": [
      "MAE: 218.77905366592265\n",
      "'prepareAndTrain'  238173.08 ms\n",
      "Preparing data for 220_15l\n",
      "'dataPreparation'  57.11 ms\n",
      "Skipping...\n",
      "Preparing data for 17A_12l\n",
      "'dataPreparation'  44.26 ms\n",
      "Skipping...\n",
      "Preparing data for 238_11l\n",
      "'dataPreparation'  14753.78 ms\n",
      "training data for ('238', '7073', '1827')\n"
     ]
    },
    {
     "name": "stderr",
     "output_type": "stream",
     "text": [
      "/home/student/anaconda3/lib/python3.6/site-packages/sklearn/neural_network/multilayer_perceptron.py:564: ConvergenceWarning: Stochastic Optimizer: Maximum iterations (200) reached and the optimization hasn't converged yet.\n",
      "  % self.max_iter, ConvergenceWarning)\n"
     ]
    },
    {
     "name": "stdout",
     "output_type": "stream",
     "text": [
      "MAE: 89.75022515904521\n",
      "'prepareAndTrain'  61397.10 ms\n",
      "Preparing data for 46A_77l\n",
      "'dataPreparation'  1646.97 ms\n",
      "training data for ('46A', '2060', '807')\n"
     ]
    },
    {
     "name": "stderr",
     "output_type": "stream",
     "text": [
      "/home/student/anaconda3/lib/python3.6/site-packages/sklearn/neural_network/multilayer_perceptron.py:564: ConvergenceWarning: Stochastic Optimizer: Maximum iterations (200) reached and the optimization hasn't converged yet.\n",
      "  % self.max_iter, ConvergenceWarning)\n"
     ]
    },
    {
     "name": "stdout",
     "output_type": "stream",
     "text": [
      "MAE: 408.12226794280787\n",
      ":(((( Unqualified route:('46A', '2060', '807')\n",
      "'prepareAndTrain'  5037.95 ms\n",
      "Preparing data for 120_10l\n",
      "'dataPreparation'  3997.24 ms\n",
      "training data for ('120', '284', '415')\n"
     ]
    },
    {
     "name": "stderr",
     "output_type": "stream",
     "text": [
      "/home/student/anaconda3/lib/python3.6/site-packages/sklearn/neural_network/multilayer_perceptron.py:564: ConvergenceWarning: Stochastic Optimizer: Maximum iterations (200) reached and the optimization hasn't converged yet.\n",
      "  % self.max_iter, ConvergenceWarning)\n"
     ]
    },
    {
     "name": "stdout",
     "output_type": "stream",
     "text": [
      "MAE: 213.67702995579333\n",
      "'prepareAndTrain'  14588.62 ms\n",
      "Preparing data for 40B_64l\n",
      "'dataPreparation'  1223.63 ms\n",
      "training data for ('40B', '4592', '4316')\n"
     ]
    },
    {
     "name": "stderr",
     "output_type": "stream",
     "text": [
      "/home/student/anaconda3/lib/python3.6/site-packages/sklearn/neural_network/multilayer_perceptron.py:564: ConvergenceWarning: Stochastic Optimizer: Maximum iterations (200) reached and the optimization hasn't converged yet.\n",
      "  % self.max_iter, ConvergenceWarning)\n"
     ]
    },
    {
     "name": "stdout",
     "output_type": "stream",
     "text": [
      "MAE: 77.01786167399395\n",
      "'prepareAndTrain'  3950.15 ms\n",
      "Preparing data for 83A_20l\n",
      "'dataPreparation'  6664.53 ms\n",
      "training data for ('83A', '7132', '2492')\n"
     ]
    },
    {
     "name": "stderr",
     "output_type": "stream",
     "text": [
      "/home/student/anaconda3/lib/python3.6/site-packages/sklearn/neural_network/multilayer_perceptron.py:564: ConvergenceWarning: Stochastic Optimizer: Maximum iterations (200) reached and the optimization hasn't converged yet.\n",
      "  % self.max_iter, ConvergenceWarning)\n"
     ]
    },
    {
     "name": "stdout",
     "output_type": "stream",
     "text": [
      "MAE: 198.5347300145638\n",
      "'prepareAndTrain'  24880.03 ms\n",
      "Preparing data for 75_17l\n",
      "'dataPreparation'  72.93 ms\n",
      "Skipping...\n",
      "Preparing data for 14_12l\n",
      "'dataPreparation'  1493.98 ms\n",
      "training data for ('14', '297', '248')\n"
     ]
    },
    {
     "name": "stderr",
     "output_type": "stream",
     "text": [
      "/home/student/anaconda3/lib/python3.6/site-packages/sklearn/neural_network/multilayer_perceptron.py:564: ConvergenceWarning: Stochastic Optimizer: Maximum iterations (200) reached and the optimization hasn't converged yet.\n",
      "  % self.max_iter, ConvergenceWarning)\n"
     ]
    },
    {
     "name": "stdout",
     "output_type": "stream",
     "text": [
      "MAE: 72.08042263044828\n",
      "'prepareAndTrain'  5182.39 ms\n",
      "Preparing data for 151_18l\n",
      "'dataPreparation'  135.64 ms\n",
      "Skipping...\n",
      "Preparing data for 151_15l\n",
      "'dataPreparation'  580.94 ms\n",
      "Skipping...\n",
      "Preparing data for 41X_118l\n",
      "'dataPreparation'  642.29 ms\n",
      "training data for ('41X', '4953', '7654')\n"
     ]
    },
    {
     "name": "stderr",
     "output_type": "stream",
     "text": [
      "/home/student/anaconda3/lib/python3.6/site-packages/sklearn/neural_network/multilayer_perceptron.py:564: ConvergenceWarning: Stochastic Optimizer: Maximum iterations (200) reached and the optimization hasn't converged yet.\n",
      "  % self.max_iter, ConvergenceWarning)\n"
     ]
    },
    {
     "name": "stdout",
     "output_type": "stream",
     "text": [
      "MAE: 2808.354422276363\n",
      ":(((( Unqualified route:('41X', '4953', '7654')\n",
      "'prepareAndTrain'  961.69 ms\n",
      "Preparing data for 27_18l\n",
      "'dataPreparation'  2644.13 ms\n",
      "training data for ('27', '298', '4595')\n"
     ]
    },
    {
     "name": "stderr",
     "output_type": "stream",
     "text": [
      "/home/student/anaconda3/lib/python3.6/site-packages/sklearn/neural_network/multilayer_perceptron.py:564: ConvergenceWarning: Stochastic Optimizer: Maximum iterations (200) reached and the optimization hasn't converged yet.\n",
      "  % self.max_iter, ConvergenceWarning)\n"
     ]
    },
    {
     "name": "stdout",
     "output_type": "stream",
     "text": [
      "MAE: 87.62774860422647\n",
      "'prepareAndTrain'  8981.09 ms\n",
      "Preparing data for 4_10l\n",
      "'dataPreparation'  153341.64 ms\n",
      "training data for ('4', '324', '7226')\n"
     ]
    },
    {
     "name": "stderr",
     "output_type": "stream",
     "text": [
      "/home/student/anaconda3/lib/python3.6/site-packages/sklearn/neural_network/multilayer_perceptron.py:564: ConvergenceWarning: Stochastic Optimizer: Maximum iterations (200) reached and the optimization hasn't converged yet.\n",
      "  % self.max_iter, ConvergenceWarning)\n"
     ]
    },
    {
     "name": "stdout",
     "output_type": "stream",
     "text": [
      "MAE: 202.1153906258846\n",
      "'prepareAndTrain'  715920.09 ms\n",
      "Preparing data for 14_16l\n",
      "'dataPreparation'  196453.96 ms\n",
      "training data for ('14', '6041', '248')\n"
     ]
    },
    {
     "name": "stderr",
     "output_type": "stream",
     "text": [
      "/home/student/anaconda3/lib/python3.6/site-packages/sklearn/neural_network/multilayer_perceptron.py:564: ConvergenceWarning: Stochastic Optimizer: Maximum iterations (200) reached and the optimization hasn't converged yet.\n",
      "  % self.max_iter, ConvergenceWarning)\n"
     ]
    },
    {
     "name": "stdout",
     "output_type": "stream",
     "text": [
      "MAE: 197.44013406631433\n",
      "'prepareAndTrain'  940707.62 ms\n",
      "Preparing data for 84A_2l\n",
      "'dataPreparation'  1821.97 ms\n",
      "training data for ('84A', '422', '4168')\n",
      "MAE: 730.2624087628749\n",
      ":(((( Unqualified route:('84A', '422', '4168')\n",
      "'prepareAndTrain'  6075.03 ms\n"
     ]
    },
    {
     "name": "stderr",
     "output_type": "stream",
     "text": [
      "/home/student/anaconda3/lib/python3.6/site-packages/sklearn/neural_network/multilayer_perceptron.py:564: ConvergenceWarning: Stochastic Optimizer: Maximum iterations (200) reached and the optimization hasn't converged yet.\n",
      "  % self.max_iter, ConvergenceWarning)\n"
     ]
    }
   ],
   "source": [
    "for file in os.listdir('Test/leavetimes/'):\n",
    "    if file.endswith('l'):\n",
    "        print('Preparing data for',file)\n",
    "        result = dataPreparation('Test/leavetimes/'+ file)\n",
    "        if result:\n",
    "            df, id = result[0],result[1]\n",
    "\n",
    "            print('training data for',id)\n",
    "            prepareAndTrain(df,id)\n",
    "        else:\n",
    "            print('Skipping...')"
   ]
  },
  {
   "cell_type": "code",
   "execution_count": 80,
   "metadata": {},
   "outputs": [],
   "source": [
    "#Reminds for myself:\n",
    "# Do a text parse above to get mean MAE for all routes and how many routes disqualified.\n",
    "# rerun model for 27_4595_2355, I think is the 27_19l\n",
    "#check skipping routes, seems like there're duplicates there.\n",
    "#threshold of rainfall volume. \n",
    "#bus stop on different routes taken care. \n",
    "#real life checking, compare with Google map prediction\n"
   ]
  },
  {
   "cell_type": "code",
   "execution_count": 81,
   "metadata": {
    "scrolled": true
   },
   "outputs": [
    {
     "data": {
      "text/plain": [
       "{1: 767,\n",
       " 2: 768,\n",
       " 3: 769,\n",
       " 4: 770,\n",
       " 5: 771,\n",
       " 6: 772,\n",
       " 7: 773,\n",
       " 8: 774,\n",
       " 9: 775,\n",
       " 10: 776,\n",
       " 11: 777,\n",
       " 12: 779,\n",
       " 13: 780,\n",
       " 14: 781,\n",
       " 15: 782,\n",
       " 16: 783,\n",
       " 17: 784,\n",
       " 18: 785,\n",
       " 19: 786,\n",
       " 20: 793,\n",
       " 21: 7576,\n",
       " 22: 7586,\n",
       " 23: 7587,\n",
       " 24: 7588,\n",
       " 25: 328,\n",
       " 26: 1443,\n",
       " 27: 1444,\n",
       " 28: 1445,\n",
       " 29: 1647,\n",
       " 30: 1648,\n",
       " 31: 1649,\n",
       " 32: 1911,\n",
       " 33: 1913,\n",
       " 34: 1914,\n",
       " 35: 1805,\n",
       " 36: 1806,\n",
       " 37: 1660,\n",
       " 38: 1661,\n",
       " 39: 1662,\n",
       " 40: 1664,\n",
       " 41: 1665,\n",
       " 42: 1666,\n",
       " 43: 1807,\n",
       " 44: 7167,\n",
       " 45: 1808,\n",
       " 46: 7389,\n",
       " 47: 7025,\n",
       " 48: 4464,\n",
       " 49: 1869,\n",
       " 50: 1870,\n",
       " 51: 1871,\n",
       " 52: 1872,\n",
       " 53: 1873,\n",
       " 54: 1874,\n",
       " 55: 1875,\n",
       " 56: 1876,\n",
       " 57: 1877,\n",
       " 58: 1878,\n",
       " 59: 1879,\n",
       " 60: 1899,\n",
       " 61: 6107,\n",
       " 62: 6108,\n",
       " 63: 6109,\n",
       " 64: 6110,\n",
       " 65: 7020,\n",
       " 66: 7029,\n",
       " 67: 7038,\n",
       " 68: 7011,\n",
       " 69: 2171,\n",
       " 70: 7160,\n",
       " 71: 7047,\n",
       " 72: 7161,\n",
       " 73: 7162}"
      ]
     },
     "execution_count": 81,
     "metadata": {},
     "output_type": "execute_result"
    }
   ],
   "source": [
    "routeDict = load_obj('routeDict')\n",
    "routeDict"
   ]
  },
  {
   "cell_type": "code",
   "execution_count": 87,
   "metadata": {},
   "outputs": [],
   "source": [
    "import os\n",
    "for file in os.listdir('Test/leavetimes/'):\n",
    "    if file.endswith('l'):\n",
    "        df = pd.read_csv('Test/leavetimes/'+file, names=['dayofservice','tripid','progrnumber','stopid','plannedtime',\n",
    "                                                         'actual_arr', 'actual_dep'])\n",
    "        df = df.drop(['dayofservice','tripid','plannedtime','actual_arr','actual_dep'],1)\n",
    "        l=[]\n",
    "        for i in sorted(df.progrnumber.unique()):\n",
    "            l.append(df.loc[df.progrnumber == i, 'stopid'].values[0])\n",
    "        save_obj(l,'stopLists/'+str(file.split('_')[0])+'_'+str(l[0])+'_'+str(l[-1]))"
   ]
  },
  {
   "cell_type": "code",
   "execution_count": 84,
   "metadata": {},
   "outputs": [
    {
     "name": "stdout",
     "output_type": "stream",
     "text": [
      "[767, 768, 769, 770, 771, 772, 773, 774, 775, 776, 777, 779, 780, 781, 782, 783, 784, 785, 786, 793, 7576, 7586, 7587, 7588, 328, 1443, 1444, 1445, 1647, 1648, 1649, 1911, 1913, 1914, 1805, 1806, 1660, 1661, 1662, 1664, 1665, 1666, 1807, 7167, 1808, 7389, 7025, 4464, 1869, 1870, 1871, 1872, 1873, 1874, 1875, 1876, 1877, 1878, 1879, 1899, 6107, 6108, 6109, 6110, 7020, 7029, 7038, 7011, 2171, 7160, 7047, 7161, 7162]\n"
     ]
    }
   ],
   "source": [
    "df = pd.read_csv('Test/leavetimes/39A_40l', names=['dayofservice','tripid','progrnumber','stopid','plannedtime','actual_arr','actual_dep'])\n",
    "df = df.drop(['dayofservice','tripid','plannedtime','actual_arr','actual_dep'],1)\n",
    "l=[]\n",
    "for i in sorted(df.progrnumber.unique()):\n",
    "    l.append(df.loc[df.progrnumber == i, 'stopid'].values[0])\n",
    "print(l)"
   ]
  },
  {
   "cell_type": "code",
   "execution_count": null,
   "metadata": {},
   "outputs": [],
   "source": []
  }
 ],
 "metadata": {
  "kernelspec": {
   "display_name": "Python 3",
   "language": "python",
   "name": "python3"
  },
  "language_info": {
   "codemirror_mode": {
    "name": "ipython",
    "version": 3
   },
   "file_extension": ".py",
   "mimetype": "text/x-python",
   "name": "python",
   "nbconvert_exporter": "python",
   "pygments_lexer": "ipython3",
   "version": "3.6.5"
  }
 },
 "nbformat": 4,
 "nbformat_minor": 2
}
